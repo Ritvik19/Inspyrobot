{
 "cells": [
  {
   "cell_type": "markdown",
   "metadata": {},
   "source": [
    "# Libraries"
   ]
  },
  {
   "cell_type": "code",
   "execution_count": 1,
   "metadata": {
    "ExecuteTime": {
     "end_time": "2019-09-23T17:24:05.571775Z",
     "start_time": "2019-09-23T17:24:04.387746Z"
    }
   },
   "outputs": [],
   "source": [
    "import numpy as np\n",
    "import pandas as pd"
   ]
  },
  {
   "cell_type": "code",
   "execution_count": 2,
   "metadata": {
    "ExecuteTime": {
     "end_time": "2019-09-23T17:24:06.952263Z",
     "start_time": "2019-09-23T17:24:05.575913Z"
    }
   },
   "outputs": [],
   "source": [
    "import re\n",
    "from nltk import ngrams\n",
    "from collections import defaultdict"
   ]
  },
  {
   "cell_type": "code",
   "execution_count": 3,
   "metadata": {
    "ExecuteTime": {
     "end_time": "2019-09-23T17:24:06.960229Z",
     "start_time": "2019-09-23T17:24:06.956262Z"
    }
   },
   "outputs": [],
   "source": [
    "import random\n",
    "import json\n",
    "import os"
   ]
  },
  {
   "cell_type": "code",
   "execution_count": 4,
   "metadata": {
    "ExecuteTime": {
     "end_time": "2019-09-23T17:24:07.133462Z",
     "start_time": "2019-09-23T17:24:06.964217Z"
    }
   },
   "outputs": [],
   "source": [
    "pd.options.display.max_colwidth = -1"
   ]
  },
  {
   "cell_type": "markdown",
   "metadata": {},
   "source": [
    "# Data"
   ]
  },
  {
   "cell_type": "code",
   "execution_count": 5,
   "metadata": {
    "ExecuteTime": {
     "end_time": "2019-09-23T17:24:08.353873Z",
     "start_time": "2019-09-23T17:24:07.138792Z"
    }
   },
   "outputs": [
    {
     "name": "stdout",
     "output_type": "stream",
     "text": [
      "92970\n"
     ]
    }
   ],
   "source": [
    "data = pd.DataFrame(columns=['Quote'])\n",
    "for folderName, subfolders, filenames in os.walk('E:/Scrapped-Data/Quotes-Goodreads/'):\n",
    "    for filename in filenames:\n",
    "        data = pd.concat([pd.read_csv('E:/Scrapped-Data/Quotes-Goodreads/'+filename), data], axis=0)\n",
    "print(len(data))"
   ]
  },
  {
   "cell_type": "code",
   "execution_count": 6,
   "metadata": {
    "ExecuteTime": {
     "end_time": "2019-09-23T17:24:08.396271Z",
     "start_time": "2019-09-23T17:24:08.356864Z"
    }
   },
   "outputs": [
    {
     "data": {
      "text/html": [
       "<div>\n",
       "<style scoped>\n",
       "    .dataframe tbody tr th:only-of-type {\n",
       "        vertical-align: middle;\n",
       "    }\n",
       "\n",
       "    .dataframe tbody tr th {\n",
       "        vertical-align: top;\n",
       "    }\n",
       "\n",
       "    .dataframe thead th {\n",
       "        text-align: right;\n",
       "    }\n",
       "</style>\n",
       "<table border=\"1\" class=\"dataframe\">\n",
       "  <thead>\n",
       "    <tr style=\"text-align: right;\">\n",
       "      <th></th>\n",
       "      <th>Quote</th>\n",
       "    </tr>\n",
       "  </thead>\n",
       "  <tbody>\n",
       "    <tr>\n",
       "      <td>0</td>\n",
       "      <td>“I love deadlines. I love the whooshing noise they make as they go by.” ― Douglas Adams, The Salmon of Doubt //</td>\n",
       "    </tr>\n",
       "    <tr>\n",
       "      <td>1</td>\n",
       "      <td>“There is no greater agony than bearing an untold story inside you.” ― Maya Angelou, I Know Why the Caged Bird Sings //</td>\n",
       "    </tr>\n",
       "    <tr>\n",
       "      <td>2</td>\n",
       "      <td>“What really knocks me out is a book that, when you're all done reading it, you wish the author that wrote it was a terrific friend of yours and you could call him up on the phone whenever you felt like it. That doesn't happen much, though.” ― J.D. Salinger, The Catcher in the Rye //</td>\n",
       "    </tr>\n",
       "    <tr>\n",
       "      <td>3</td>\n",
       "      <td>“If there's a book that you want to read, but it hasn't been written yet, then you must write it.” ― Toni Morrison</td>\n",
       "    </tr>\n",
       "    <tr>\n",
       "      <td>4</td>\n",
       "      <td>“There is nothing to writing. All you do is sit down at a typewriter and bleed.” ― Ernest Hemingway</td>\n",
       "    </tr>\n",
       "  </tbody>\n",
       "</table>\n",
       "</div>"
      ],
      "text/plain": [
       "                                                                                                                                                                                                                                                                                          Quote\n",
       "0  “I love deadlines. I love the whooshing noise they make as they go by.” ― Douglas Adams, The Salmon of Doubt //                                                                                                                                                                             \n",
       "1  “There is no greater agony than bearing an untold story inside you.” ― Maya Angelou, I Know Why the Caged Bird Sings //                                                                                                                                                                     \n",
       "2  “What really knocks me out is a book that, when you're all done reading it, you wish the author that wrote it was a terrific friend of yours and you could call him up on the phone whenever you felt like it. That doesn't happen much, though.” ― J.D. Salinger, The Catcher in the Rye //\n",
       "3  “If there's a book that you want to read, but it hasn't been written yet, then you must write it.” ― Toni Morrison                                                                                                                                                                          \n",
       "4  “There is nothing to writing. All you do is sit down at a typewriter and bleed.” ― Ernest Hemingway                                                                                                                                                                                         "
      ]
     },
     "execution_count": 6,
     "metadata": {},
     "output_type": "execute_result"
    }
   ],
   "source": [
    "data.head()"
   ]
  },
  {
   "cell_type": "markdown",
   "metadata": {},
   "source": [
    "**Cleaning**"
   ]
  },
  {
   "cell_type": "code",
   "execution_count": 7,
   "metadata": {
    "ExecuteTime": {
     "end_time": "2019-09-23T17:24:08.537448Z",
     "start_time": "2019-09-23T17:24:08.399264Z"
    }
   },
   "outputs": [],
   "source": [
    "def clean1(x):\n",
    "    x = x.split('―')[0]\n",
    "    x = x[1:-2]\n",
    "    return x"
   ]
  },
  {
   "cell_type": "code",
   "execution_count": 8,
   "metadata": {
    "ExecuteTime": {
     "end_time": "2019-09-23T17:24:09.081766Z",
     "start_time": "2019-09-23T17:24:08.550502Z"
    }
   },
   "outputs": [
    {
     "name": "stdout",
     "output_type": "stream",
     "text": [
      "73624\n"
     ]
    }
   ],
   "source": [
    "data['Quote'] = data['Quote'].apply(clean1)\n",
    "data.drop_duplicates(inplace=True)\n",
    "data.reset_index(drop=True, inplace=True)\n",
    "print(len(data))"
   ]
  },
  {
   "cell_type": "code",
   "execution_count": 9,
   "metadata": {
    "ExecuteTime": {
     "end_time": "2019-09-23T17:24:09.096759Z",
     "start_time": "2019-09-23T17:24:09.085724Z"
    }
   },
   "outputs": [
    {
     "data": {
      "text/html": [
       "<div>\n",
       "<style scoped>\n",
       "    .dataframe tbody tr th:only-of-type {\n",
       "        vertical-align: middle;\n",
       "    }\n",
       "\n",
       "    .dataframe tbody tr th {\n",
       "        vertical-align: top;\n",
       "    }\n",
       "\n",
       "    .dataframe thead th {\n",
       "        text-align: right;\n",
       "    }\n",
       "</style>\n",
       "<table border=\"1\" class=\"dataframe\">\n",
       "  <thead>\n",
       "    <tr style=\"text-align: right;\">\n",
       "      <th></th>\n",
       "      <th>Quote</th>\n",
       "    </tr>\n",
       "  </thead>\n",
       "  <tbody>\n",
       "    <tr>\n",
       "      <td>0</td>\n",
       "      <td>I love deadlines. I love the whooshing noise they make as they go by.</td>\n",
       "    </tr>\n",
       "    <tr>\n",
       "      <td>1</td>\n",
       "      <td>There is no greater agony than bearing an untold story inside you.</td>\n",
       "    </tr>\n",
       "    <tr>\n",
       "      <td>2</td>\n",
       "      <td>What really knocks me out is a book that, when you're all done reading it, you wish the author that wrote it was a terrific friend of yours and you could call him up on the phone whenever you felt like it. That doesn't happen much, though.</td>\n",
       "    </tr>\n",
       "    <tr>\n",
       "      <td>3</td>\n",
       "      <td>If there's a book that you want to read, but it hasn't been written yet, then you must write it.</td>\n",
       "    </tr>\n",
       "    <tr>\n",
       "      <td>4</td>\n",
       "      <td>There is nothing to writing. All you do is sit down at a typewriter and bleed.</td>\n",
       "    </tr>\n",
       "  </tbody>\n",
       "</table>\n",
       "</div>"
      ],
      "text/plain": [
       "                                                                                                                                                                                                                                             Quote\n",
       "0  I love deadlines. I love the whooshing noise they make as they go by.                                                                                                                                                                          \n",
       "1  There is no greater agony than bearing an untold story inside you.                                                                                                                                                                             \n",
       "2  What really knocks me out is a book that, when you're all done reading it, you wish the author that wrote it was a terrific friend of yours and you could call him up on the phone whenever you felt like it. That doesn't happen much, though.\n",
       "3  If there's a book that you want to read, but it hasn't been written yet, then you must write it.                                                                                                                                               \n",
       "4  There is nothing to writing. All you do is sit down at a typewriter and bleed.                                                                                                                                                                 "
      ]
     },
     "execution_count": 9,
     "metadata": {},
     "output_type": "execute_result"
    }
   ],
   "source": [
    "data.head()"
   ]
  },
  {
   "cell_type": "markdown",
   "metadata": {},
   "source": [
    "# More Data"
   ]
  },
  {
   "cell_type": "code",
   "execution_count": 10,
   "metadata": {
    "ExecuteTime": {
     "end_time": "2019-09-23T17:24:09.368549Z",
     "start_time": "2019-09-23T17:24:09.100209Z"
    }
   },
   "outputs": [
    {
     "name": "stdout",
     "output_type": "stream",
     "text": [
      "82204\n"
     ]
    }
   ],
   "source": [
    "for folderName, subfolders, filenames in os.walk('E:/Scrapped-Data/BrainyQuote/'):\n",
    "    for filename in filenames:\n",
    "        data = pd.concat([pd.read_csv('E:/Scrapped-Data/BrainyQuote/'+filename), data], axis=0)\n",
    "print(len(data))"
   ]
  },
  {
   "cell_type": "code",
   "execution_count": 11,
   "metadata": {
    "ExecuteTime": {
     "end_time": "2019-09-23T17:24:09.505657Z",
     "start_time": "2019-09-23T17:24:09.371570Z"
    }
   },
   "outputs": [
    {
     "name": "stdout",
     "output_type": "stream",
     "text": [
      "81722\n"
     ]
    }
   ],
   "source": [
    "data.drop_duplicates(inplace=True)\n",
    "data.reset_index(drop=True, inplace=True)\n",
    "print(len(data))"
   ]
  },
  {
   "cell_type": "markdown",
   "metadata": {},
   "source": [
    "# Some More Data"
   ]
  },
  {
   "cell_type": "code",
   "execution_count": 12,
   "metadata": {
    "ExecuteTime": {
     "end_time": "2019-09-23T17:24:09.559875Z",
     "start_time": "2019-09-23T17:24:09.507655Z"
    }
   },
   "outputs": [],
   "source": [
    "data_ = pd.read_csv('E:/Scrapped-Data/KeepInspiringMe.csv')"
   ]
  },
  {
   "cell_type": "code",
   "execution_count": 13,
   "metadata": {
    "ExecuteTime": {
     "end_time": "2019-09-23T17:24:09.660035Z",
     "start_time": "2019-09-23T17:24:09.562505Z"
    }
   },
   "outputs": [],
   "source": [
    "def clean2(x):\n",
    "    x = str(x).split('–')[0]\n",
    "    x = x[1:-2]\n",
    "    return x"
   ]
  },
  {
   "cell_type": "code",
   "execution_count": 14,
   "metadata": {
    "ExecuteTime": {
     "end_time": "2019-09-23T17:24:09.826640Z",
     "start_time": "2019-09-23T17:24:09.665720Z"
    }
   },
   "outputs": [],
   "source": [
    "data_['Quote'] = data_['Quote'].apply(clean2)"
   ]
  },
  {
   "cell_type": "code",
   "execution_count": 15,
   "metadata": {
    "ExecuteTime": {
     "end_time": "2019-09-23T17:24:09.936552Z",
     "start_time": "2019-09-23T17:24:09.832537Z"
    }
   },
   "outputs": [],
   "source": [
    "data = pd.concat([data_, data], axis=0)"
   ]
  },
  {
   "cell_type": "markdown",
   "metadata": {},
   "source": [
    "**Preprocess**"
   ]
  },
  {
   "cell_type": "code",
   "execution_count": 16,
   "metadata": {
    "ExecuteTime": {
     "end_time": "2019-09-23T17:24:11.628894Z",
     "start_time": "2019-09-23T17:24:09.942503Z"
    }
   },
   "outputs": [],
   "source": [
    "data['Quote'] = data['Quote'].apply(lambda x: re.sub(r'[^\\w\\s]|_', '', x))\n",
    "data['Quote'] = data['Quote'].apply(lambda x : x + ' endquote')"
   ]
  },
  {
   "cell_type": "code",
   "execution_count": 17,
   "metadata": {
    "ExecuteTime": {
     "end_time": "2019-09-23T17:24:11.766935Z",
     "start_time": "2019-09-23T17:24:11.630853Z"
    }
   },
   "outputs": [
    {
     "name": "stdout",
     "output_type": "stream",
     "text": [
      "87188\n"
     ]
    }
   ],
   "source": [
    "data.drop_duplicates(inplace=True)\n",
    "data.reset_index(drop=True, inplace=True)\n",
    "print(len(data))"
   ]
  },
  {
   "cell_type": "markdown",
   "metadata": {},
   "source": [
    "# Training"
   ]
  },
  {
   "cell_type": "code",
   "execution_count": 18,
   "metadata": {
    "ExecuteTime": {
     "end_time": "2019-09-23T17:24:12.234332Z",
     "start_time": "2019-09-23T17:24:11.771918Z"
    }
   },
   "outputs": [],
   "source": [
    "vocab = data['Quote'].apply(lambda x: x.split()[0]).values.tolist()"
   ]
  },
  {
   "cell_type": "code",
   "execution_count": 19,
   "metadata": {
    "ExecuteTime": {
     "end_time": "2019-09-23T17:24:37.235206Z",
     "start_time": "2019-09-23T17:24:12.237230Z"
    }
   },
   "outputs": [],
   "source": [
    "n = 4\n",
    "model = defaultdict(lambda: defaultdict(lambda: 0))\n",
    "word_grams = []\n",
    "for i in range(len(data)):\n",
    "    word_grams += list(ngrams(data['Quote'][i].lower().split(), n+1, \n",
    "                              pad_left=True, pad_right=True,  left_pad_symbol='', right_pad_symbol=''))\n",
    "for w in word_grams:\n",
    "    model[w[:-1]][w[-1]] += 1\n",
    "for w1 in model:\n",
    "    total_count = float(sum(model[w1].values()))\n",
    "    for w2 in model[w1]:\n",
    "        model[w1][w2] /= total_count\n",
    "model = dict(model)        "
   ]
  },
  {
   "cell_type": "code",
   "execution_count": 20,
   "metadata": {
    "ExecuteTime": {
     "end_time": "2019-09-23T17:24:37.249137Z",
     "start_time": "2019-09-23T17:24:37.238223Z"
    }
   },
   "outputs": [],
   "source": [
    "q = lambda x : list(ngrams(x.lower().split(), n, pad_left=True, pad_right=False,  left_pad_symbol=''))[-1]"
   ]
  },
  {
   "cell_type": "code",
   "execution_count": 21,
   "metadata": {
    "ExecuteTime": {
     "end_time": "2019-09-23T17:24:37.436737Z",
     "start_time": "2019-09-23T17:24:37.253385Z"
    }
   },
   "outputs": [
    {
     "name": "stdout",
     "output_type": "stream",
     "text": [
      "Me: The\n",
      "('', '', '', 'the')\n",
      "{'real': 0.0072252327358621644, 'trick': 0.0011115742670557178, 'root': 0.0005557871335278589, 'more': 0.021119911074058636, 'deepest': 0.000972627483673753, 'thankful': 0.00013894678338196472, 'unthankful': 0.00013894678338196472, 'world': 0.02209253855773239, 'way': 0.00972627483673753, 'purpose': 0.0072252327358621644, 'public': 0.000972627483673753, 'thing': 0.0070862859524802, 'painter': 0.00013894678338196472, 'painting': 0.00013894678338196472, 'only': 0.03959983326385994, 'earth': 0.0029178824510212586, 'artists': 0.00027789356676392944, 'artist': 0.0016673614005835765, 'modern': 0.0005557871335278589, 'great': 0.006113658468806447, 'greater': 0.0018063081839655411, 'role': 0.0008336807002917883, 'job': 0.0012505210504376823, 'true': 0.0068083923857162705, 'day': 0.005835764902042517, 'difference': 0.0063915520355703765, 'chief': 0.0011115742670557178, 'pathway': 0.00027789356676392944, 'quieter': 0.00013894678338196472, 'object': 0.0011115742670557178, 'fundamental': 0.000972627483673753, 'doer': 0.00013894678338196472, 'authority': 0.00013894678338196472, 'human': 0.004446297068222871, 'future': 0.004307350284840906, 'greatest': 0.017507294706127552, 'best': 0.027372516326247046, 'exploration': 0.00027789356676392944, 'scenery': 0.00013894678338196472, 'cosmos': 0.0005557871335278589, 'function': 0.0013894678338196471, 'most': 0.023759899958315966, 'memories': 0.00027789356676392944, 'homemaker': 0.00027789356676392944, 'family': 0.0005557871335278589, 'famil': 0.00013894678338196472, 'strength': 0.0012505210504376823, 'things': 0.0023620953174934, 'ones': 0.0006947339169098236, 'spirit': 0.0022231485341114355, 'master': 0.0006947339169098236, 'gospel': 0.00041684035014589413, 'essence': 0.0030568292344032235, 'man': 0.008197860219535918, 'winds': 0.0005557871335278589, 'diversity': 0.00027789356676392944, 'magic': 0.0005557871335278589, 'land': 0.00027789356676392944, 'fact': 0.0047241906349868, 'constitution': 0.0006947339169098236, 'summer': 0.0005557871335278589, 'quality': 0.0016673614005835765, 'bond': 0.00041684035014589413, 'loss': 0.00027789356676392944, 'act': 0.0011115742670557178, 'harder': 0.0012505210504376823, 'amount': 0.00013894678338196472, 'list': 0.00013894678338196472, 'beauty': 0.001945254967347506, 'joy': 0.0011115742670557178, 'heart': 0.005002084201750729, 'saddest': 0.0016673614005835765, 'opposite': 0.0016673614005835765, 'truth': 0.0188967625399472, 'heights': 0.00013894678338196472, 'three': 0.0013894678338196471, 'goal': 0.0015284146172016117, 'reasons': 0.00027789356676392944, 'time': 0.0026399888842573295, 'beginning': 0.0011115742670557178, 'inability': 0.00013894678338196472, 'lord': 0.005141030985132695, 'key': 0.005279977768514659, 'biggest': 0.004168403501458941, 'paintings': 0.00013894678338196472, 'mind': 0.004446297068222871, 'ideals': 0.00013894678338196472, 'notion': 0.0011115742670557178, 'reason': 0.006113658468806447, 'reasonable': 0.00013894678338196472, 'pessimist': 0.00041684035014589413, 'word': 0.0027789356676392943, 'longer': 0.001945254967347506, 'largest': 0.00013894678338196472, 'secret': 0.0094483812699736, 'search': 0.0011115742670557178, 'foolish': 0.0006947339169098236, 'happiness': 0.0015284146172016117, 'average': 0.0012505210504376823, 'surest': 0.0008336807002917883, 'digital': 0.00013894678338196472, 'cure': 0.00041684035014589413, 'duty': 0.0005557871335278589, 'first': 0.011949423370848965, 'two': 0.0030568292344032235, 'simple': 0.0015284146172016117, 'avoidance': 0.00013894678338196472, 'safe': 0.00013894678338196472, 'road': 0.0030568292344032235, 'less': 0.0012505210504376823, 'trouble': 0.003751563151313047, 'early': 0.00027789356676392944, 'friend': 0.0006947339169098236, 'glory': 0.0013894678338196471, 'rules': 0.00041684035014589413, 'meaning': 0.0012505210504376823, 'question': 0.0031957760177851883, 'beautiful': 0.0011115742670557178, 'distance': 0.0012505210504376823, 'successful': 0.0005557871335278589, 'whole': 0.006947339169098236, 'work': 0.0008336807002917883, 'starting': 0.00041684035014589413, 'number': 0.0012505210504376823, 'individual': 0.000972627483673753, '3': 0.00013894678338196472, 'advantage': 0.0005557871335278589, 'highest': 0.0027789356676392943, 'important': 0.0016673614005835765, 'liars': 0.00013894678338196472, 'measure': 0.0011115742670557178, 'problem': 0.007781019869390024, 'reward': 0.00041684035014589413, 'glow': 0.00013894678338196472, 'least': 0.0005557871335278589, 'purest': 0.00041684035014589413, 'roots': 0.00027789356676392944, 'teacher': 0.0012505210504376823, 'thoughtful': 0.00013894678338196472, 'perfecting': 0.00013894678338196472, 'gem': 0.00027789356676392944, 'people': 0.0036126163679310822, 'cautious': 0.00027789356676392944, 'superior': 0.00041684035014589413, 'scholar': 0.00013894678338196472, 'faults': 0.00013894678338196472, 'firm': 0.00013894678338196472, 'wheel': 0.00027789356676392944, 'father': 0.0008336807002917883, 'parents': 0.00027789356676392944, 'will': 0.0013894678338196471, 'truths': 0.0005557871335278589, 'facts': 0.00013894678338196472, 'battle': 0.0005557871335278589, 'choice': 0.0005557871335278589, 'defence': 0.00013894678338196472, 'larger': 0.00041684035014589413, 'womans': 0.00013894678338196472, 'alternate': 0.00013894678338196472, 'basis': 0.0005557871335278589, 'tumultuous': 0.00013894678338196472, 'establishment': 0.00027789356676392944, 'hand': 0.00013894678338196472, 'foundations': 0.00013894678338196472, 'preservation': 0.00027789356676392944, 'value': 0.0016673614005835765, 'army': 0.00013894678338196472, 'foundation': 0.0011115742670557178, 'liberty': 0.00027789356676392944, 'propitious': 0.00013894678338196472, 'government': 0.00027789356676392944, 'consciousness': 0.00027789356676392944, 'turning': 0.00027789356676392944, 'founders': 0.00013894678338196472, 'wit': 0.00027789356676392944, 'worship': 0.00041684035014589413, 'art': 0.003334722801167153, 'ancients': 0.00027789356676392944, 'eye': 0.0006947339169098236, 'good': 0.003473669584549118, 'no': 0.00013894678338196472, 'big': 0.0005557871335278589, 'person': 0.003473669584549118, 'journey': 0.0023620953174934, 'dream': 0.0011115742670557178, 'power': 0.0036126163679310822, 'game': 0.000972627483673753, 'basketball': 0.00013894678338196472, 'minute': 0.000972627483673753, 'care': 0.00013894678338196472, 'tree': 0.0006947339169098236, 'dead': 0.0029178824510212586, 'laws': 0.0008336807002917883, 'happiest': 0.0005557871335278589, 'policy': 0.00013894678338196472, 'holiest': 0.00027789356676392944, 'white': 0.00041684035014589413, 'price': 0.0023620953174934, 'negro': 0.00013894678338196472, 'medias': 0.00013894678338196472, 'black': 0.00027789356676392944, 'english': 0.0006947339169098236, 'problems': 0.0005557871335278589, 'farther': 0.00013894678338196472, 'inherent': 0.00013894678338196472, 'empires': 0.00013894678338196472, 'body': 0.000972627483673753, 'hottest': 0.00013894678338196472, 'end': 0.000972627483673753, 'comic': 0.00013894678338196472, 'unexamined': 0.00027789356676392944, 'nearest': 0.00013894678338196472, 'envious': 0.00013894678338196472, 'fewer': 0.00013894678338196472, 'hour': 0.00027789356676392944, 'shortest': 0.00041684035014589413, 'children': 0.0005557871335278589, 'years': 0.0011115742670557178, 'easiest': 0.0012505210504376823, 'seed': 0.00027789356676392944, 'same': 0.0016673614005835765, 'possession': 0.00027789356676392944, 'moment': 0.0036126163679310822, 'doubters': 0.00013894678338196472, 'stillness': 0.00027789356676392944, 'athlete': 0.00013894678338196472, 'knowledge': 0.0036126163679310822, 'secondhand': 0.00013894678338196472, 'objective': 0.00027789356676392944, 'leader': 0.00027789356676392944, 'demon': 0.00027789356676392944, 'one': 0.005696818118660553, 'united': 0.00013894678338196472, 'ballot': 0.00013894678338196472, 'love': 0.003334722801167153, 'lorax': 0.00013894678338196472, 'principal': 0.00041684035014589413, 'worst': 0.005418924551896623, 'magi': 0.00013894678338196472, 'supreme': 0.0005557871335278589, 'outdoor': 0.00013894678338196472, 'era': 0.00027789356676392944, 'pilgrims': 0.00013894678338196472, 'thanksgiving': 0.00013894678338196472, 'funny': 0.0025010421008753647, 'next': 0.0011115742670557178, 'past': 0.005279977768514659, 'tongue': 0.00041684035014589413, 'words': 0.0018063081839655411, 'path': 0.0015284146172016117, 'limitation': 0.00013894678338196472, 'ultimate': 0.003334722801167153, 'softminded': 0.00013894678338196472, 'hope': 0.00013894678338196472, 'moral': 0.00041684035014589413, 'principle': 0.0008336807002917883, 'god': 0.0013894678338196471, 'evidence': 0.0006947339169098236, 'third': 0.0005557871335278589, 'extraordinary': 0.00013894678338196472, 'imprint': 0.00013894678338196472, 'trust': 0.00027789356676392944, 'devil': 0.0013894678338196471, 'greatness': 0.0006947339169098236, 'bravest': 0.0005557871335278589, 'snake': 0.00013894678338196472, 'philosophers': 0.0006947339169098236, 'really': 0.0011115742670557178, 'habit': 0.0008336807002917883, 'appearance': 0.00013894678338196472, 'ability': 0.0020842017507294707, 'gods': 0.0020842017507294707, 'light': 0.0018063081839655411, 'tragedy': 0.0011115742670557178, 'call': 0.00027789356676392944, 'bitterest': 0.00013894678338196472, 'boughs': 0.00013894678338196472, 'younger': 0.00013894678338196472, 'highlight': 0.00013894678338196472, 'quickest': 0.000972627483673753, 'searchingout': 0.00013894678338196472, 'well': 0.00027789356676392944, 'final': 0.0006947339169098236, 'creative': 0.0008336807002917883, 'difficulty': 0.00027789356676392944, 'stone': 0.00041684035014589413, 'weak': 0.0005557871335278589, 'last': 0.0020842017507294707, 'depth': 0.0008336807002917883, 'resistance': 0.00013894678338196472, 'size': 0.0006947339169098236, 'principles': 0.0006947339169098236, 'meeting': 0.00041684035014589413, 'extent': 0.00027789356676392944, 'relationship': 0.0008336807002917883, 'intense': 0.00013894678338196472, 'emotion': 0.00013894678338196472, 'mediocre': 0.00013894678338196472, 'funniest': 0.00013894678338196472, 'task': 0.0011115742670557178, 'fitness': 0.00013894678338196472, 'main': 0.0026399888842573295, 'ideal': 0.000972627483673753, 'duties': 0.00013894678338196472, 'gates': 0.00013894678338196472, 'smarter': 0.00013894678338196472, 'teachers': 0.00027789356676392944, 'five': 0.00027789356676392944, 'doctrine': 0.00027789356676392944, 'drawing': 0.00013894678338196472, 'sunday': 0.00013894678338196472, 'building': 0.00027789356676392944, 'american': 0.00027789356676392944, 'turner': 0.00013894678338196472, 'processes': 0.00013894678338196472, 'single': 0.0008336807002917883, 'chinese': 0.00027789356676392944, 'medium': 0.00013894678338196472, 'primary': 0.0006947339169098236, 'contrasts': 0.00013894678338196472, 'impending': 0.00013894678338196472, 'drama': 0.00027789356676392944, 'flower': 0.000972627483673753, 'catch': 0.00013894678338196472, 'numberone': 0.00013894678338196472, 'smile': 0.00027789356676392944, 'very': 0.0030568292344032235, 'viennese': 0.00013894678338196472, 'appreciative': 0.00013894678338196472, 'company': 0.00013894678338196472, 'bat': 0.00013894678338196472, 'parthenon': 0.00013894678338196472, 'oscars': 0.00013894678338196472, 'spotlight': 0.00013894678338196472, 'pilgrim': 0.00013894678338196472, 'irish': 0.00013894678338196472, 'nba': 0.00013894678338196472, 'weaker': 0.00013894678338196472, 'coolest': 0.00013894678338196472, 'sad': 0.0047241906349868, 'rose': 0.00013894678338196472, 'walls': 0.00041684035014589413, 'keenest': 0.00013894678338196472, 'history': 0.0012505210504376823, 'president': 0.00041684035014589413, '80s': 0.00013894678338196472, 'old': 0.001945254967347506, 'closing': 0.00013894678338196472, 'south': 0.00027789356676392944, 'excursion': 0.00013894678338196472, 'beatles': 0.00013894678338196472, 'indian': 0.00013894678338196472, 'holy': 0.0008336807002917883, 'display': 0.00013894678338196472, 'monarchy': 0.00013894678338196472, 'move': 0.00013894678338196472, 'music': 0.0011115742670557178, 'new': 0.000972627483673753, 'junction': 0.00013894678338196472, 'second': 0.000972627483673753, 'story': 0.0022231485341114355, 'assassination': 0.00013894678338196472, 'hardest': 0.001945254967347506, 'christian': 0.0018063081839655411, 'attacks': 0.00013894678338196472, 'working': 0.00027789356676392944, 'fault': 0.00027789356676392944, 'british': 0.00027789356676392944, 'hate': 0.00027789356676392944, 'universal': 0.0005557871335278589, 'internet': 0.0006947339169098236, 'travel': 0.00013894678338196472, 'gift': 0.0008336807002917883, 'content': 0.00013894678338196472, 'climate': 0.00013894678338196472, 'ferment': 0.00013894678338196472, 'learner': 0.00013894678338196472, 'science': 0.0016673614005835765, 'upside': 0.00013894678338196472, 'positive': 0.0005557871335278589, 'stereoscopic': 0.00013894678338196472, 'games': 0.00013894678338196472, 'places': 0.00013894678338196472, 'overall': 0.00027789356676392944, 'commonwealth': 0.00013894678338196472, 'influence': 0.00013894678338196472, 'rain': 0.0008336807002917883, 'subtlety': 0.00013894678338196472, 'moon': 0.0022231485341114355, 'right': 0.0023620953174934, 'sky': 0.001945254967347506, 'woods': 0.00013894678338196472, 'butterfly': 0.00041684035014589413, 'garden': 0.00041684035014589413, 'clearest': 0.00027789356676392944, 'amen': 0.00013894678338196472, 'ground': 0.00013894678338196472, 'peacock': 0.00013894678338196472, 'fairest': 0.00013894678338196472, 'sacred': 0.0005557871335278589, 'sun': 0.0027789356676392943, 'natural': 0.00027789356676392944, 'sea': 0.000972627483673753, 'landscape': 0.00027789356676392944, 'mountains': 0.0005557871335278589, 'physical': 0.0005557871335278589, 'rainbow': 0.00027789356676392944, 'air': 0.00027789356676392944, 'insufferable': 0.00013894678338196472, 'lake': 0.00013894678338196472, 'animal': 0.00027789356676392944, 'soul': 0.004307350284840906, 'law': 0.0011115742670557178, 'year': 0.00027789356676392944, 'mystic': 0.0006947339169098236, 'breaking': 0.00013894678338196472, 'trees': 0.00013894678338196472, 'temple': 0.00027789356676392944, 'gross': 0.00013894678338196472, 'skull': 0.00013894678338196472, 'possibility': 0.00041684035014589413, 'psychical': 0.00013894678338196472, 'kingdom': 0.0008336807002917883, 'stars': 0.0013894678338196471, 'universe': 0.006669445602334306, 'japanese': 0.00013894678338196472, 'mistake': 0.00041684035014589413, 'bluebird': 0.00013894678338196472, 'violets': 0.00013894678338196472, 'deviation': 0.00013894678338196472, 'poetry': 0.00027789356676392944, 'willow': 0.00013894678338196472, 'ocean': 0.00027789356676392944, 'idea': 0.003334722801167153, 'salary': 0.00013894678338196472, 'missing': 0.00013894678338196472, 'majority': 0.0006947339169098236, 'cool': 0.00013894678338196472, 'counterfeit': 0.00013894678338196472, 'simplest': 0.00027789356676392944, 'savior': 0.00013894678338196472, 'courage': 0.000972627483673753, 'analytical': 0.00013894678338196472, 'nature': 0.0012505210504376823, 'diagnosis': 0.00013894678338196472, 'rehabilitation': 0.00013894678338196472, 'view': 0.0005557871335278589, 'groves': 0.00013894678338196472, 'fulness': 0.00013894678338196472, 'musician': 0.00013894678338196472, 'little': 0.0005557871335278589, 'snow': 0.00027789356676392944, 'fall': 0.0005557871335278589, 'hardships': 0.00013894678338196472, 'gunnar': 0.00013894678338196472, 'wise': 0.0022231485341114355, 'weeds': 0.00013894678338196472, 'dog': 0.00027789356676392944, 'fear': 0.0016673614005835765, 'bird': 0.0006947339169098236, 'boundaries': 0.00027789356676392944, 'expectations': 0.00027789356676392944, 'energy': 0.0005557871335278589, 'struggle': 0.00041684035014589413, 'advance': 0.00027789356676392944, 'life': 0.0031957760177851883, 'higher': 0.0018063081839655411, 'method': 0.00027789356676392944, 'challenge': 0.000972627483673753, 'essential': 0.00041684035014589413, 'sole': 0.0005557871335278589, 'aim': 0.0018063081839655411, 'message': 0.00027789356676392944, 'privilege': 0.00013894678338196472, 'shoe': 0.00013894678338196472, 'monotony': 0.00013894678338196472, 'golden': 0.0005557871335278589, 'basic': 0.0011115742670557178, 'personal': 0.00027789356676392944, 'wine': 0.00013894678338196472, 'dearest': 0.00013894678338196472, 'indispensable': 0.00013894678338196472, 'books': 0.0030568292344032235, 'limits': 0.00013894678338196472, 'wright': 0.00013894678338196472, 'undertaking': 0.00013894678338196472, 'authentic': 0.00013894678338196472, 'handicap': 0.00013894678338196472, 'leaders': 0.00041684035014589413, 'dezeens': 0.00013894678338196472, 'hymn': 0.00013894678338196472, 'mtc': 0.00013894678338196472, 'flow': 0.00041684035014589413, 'follow': 0.00013894678338196472, 'reports': 0.00027789356676392944, 'boys': 0.00013894678338196472, 'midwest': 0.00013894678338196472, 'avantgarde': 0.00013894678338196472, 'superfluous': 0.00013894678338196472, 'billionaire': 0.00013894678338196472, 'four': 0.0006947339169098236, 'men': 0.00027789356676392944, 'irs': 0.00013894678338196472, 'middle': 0.00027789356676392944, 'democratic': 0.00013894678338196472, 'townspeople': 0.00027789356676392944, 'musicals': 0.00013894678338196472, 'audience': 0.00013894678338196472, 'prospects': 0.00013894678338196472, 'fascination': 0.00027789356676392944, 'tax': 0.00013894678338196472, 'remarkable': 0.00013894678338196472, 'purely': 0.00027789356676392944, 'attitude': 0.001945254967347506, 'winners': 0.00013894678338196472, 'abcs': 0.00013894678338196472, 'special': 0.00041684035014589413, 'reactionary': 0.00013894678338196472, 'accounting': 0.00027789356676392944, 'prevailing': 0.00027789356676392944, 'compulsion': 0.00013894678338196472, 'normal': 0.00013894678338196472, 'political': 0.00013894678338196472, 'traditional': 0.00013894678338196472, 'olympic': 0.00013894678338196472, 'senator': 0.00013894678338196472, 'enemies': 0.00027789356676392944, 'novelist': 0.00013894678338196472, 'okayillgiveitatrybutidontthinkitwillwork': 0.00013894678338196472, 'pilot': 0.00013894678338196472, 'client': 0.00013894678338196472, 'republican': 0.00013894678338196472, 'pool': 0.00013894678338196472, 'money': 0.00027789356676392944, 'jokes': 0.00013894678338196472, 'dignity': 0.00027789356676392944, 'fictionally': 0.00013894678338196472, 'theatre': 0.00013894678338196472, 'place': 0.0012505210504376823, 'scariest': 0.00041684035014589413, 'hard': 0.00027789356676392944, 'pages': 0.00027789356676392944, 'nutritionist': 0.00013894678338196472, 'writing': 0.00027789356676392944, 'kafka': 0.00013894678338196472, 'desire': 0.000972627483673753, 'pen': 0.00041684035014589413, 'decision': 0.00041684035014589413, 'book': 0.0022231485341114355, 'professor': 0.00013894678338196472, 'thoughts': 0.00027789356676392944, 'shame': 0.00027789356676392944, 'imagination': 0.00041684035014589413, 'poet': 0.001945254967347506, 'author': 0.0005557871335278589, 'other': 0.0016673614005835765, 'beach': 0.00027789356676392944, 'test': 0.0005557871335278589, 'writers': 0.000972627483673753, 'proper': 0.0008336807002917883, 'recipe': 0.00027789356676392944, 'writer': 0.0020842017507294707, 'intensityin': 0.00013894678338196472, 'society': 0.00027789356676392944, 'generalizing': 0.00013894678338196472, 'truest': 0.0005557871335278589, 'irritating': 0.00013894678338196472, 'gotta': 0.00013894678338196472, 'rewrites': 0.00013894678338196472, 'prophets': 0.00013894678338196472, 'text': 0.00013894678338196472, 'fun': 0.00013894678338196472, 'novelists': 0.00013894678338196472, 'discipline': 0.00013894678338196472, 'rest': 0.0006947339169098236, 'statement': 0.00013894678338196472, 'success': 0.0008336807002917883, 'scholarsbald': 0.00013894678338196472, 'better': 0.00041684035014589413, 'theater': 0.00013894678338196472, 'denial': 0.00013894678338196472, 'novel': 0.0006947339169098236, 'experimental': 0.00013894678338196472, 'stadiumhave': 0.00013894678338196472, 'politicianif': 0.00013894678338196472, 'twentieth': 0.00013894678338196472, 'ear': 0.00013894678338196472, 'bricoleur': 0.00013894678338196472, 'process': 0.0015284146172016117, 'crazy': 0.00013894678338196472, 'famed': 0.00027789356676392944, 'impulse': 0.00013894678338196472, 'pint': 0.00013894678338196472, 'paper': 0.00041684035014589413, 'finder': 0.00013894678338196472, 'scientist': 0.0005557871335278589, 'inkstand': 0.00013894678338196472, 'voice': 0.000972627483673753, 'orator': 0.00013894678338196472, 'isolated': 0.00027789356676392944, 'subject': 0.00013894678338196472, 'standard': 0.00027789356676392944, 'written': 0.00027789356676392944, 'reality': 0.0006947339169098236, 'stream': 0.00027789356676392944, 'vocation': 0.00013894678338196472, 'emotional': 0.00013894678338196472, 'pale': 0.00013894678338196472, 'making': 0.00013894678338196472, 'hospital': 0.00013894678338196472, 'materials': 0.00013894678338196472, 'mysterious': 0.00013894678338196472, 'experience': 0.00013894678338196472, 'throes': 0.00013894678338196472, 'childhood': 0.00013894678338196472, 'awful': 0.00041684035014589413, 'fiction': 0.00013894678338196472, 'realistic': 0.00013894678338196472, 'scene': 0.00013894678338196472, 'fool': 0.00027789356676392944, 'older': 0.0006947339169098236, 'lotus': 0.00013894678338196472, 'stupid': 0.00013894678338196472, 'small': 0.00013894678338196472, 'wisest': 0.00013894678338196472, 'invariable': 0.00013894678338196472, 'sense': 0.00041684035014589413, 'nail': 0.00013894678338196472, 'worlds': 0.0008336807002917883, 'revolution': 0.00027789356676392944, 'rule': 0.00041684035014589413, 'barrier': 0.00013894678338196472, 'immature': 0.00013894678338196472, 'lessons': 0.00013894678338196472, 'image': 0.00013894678338196472, 'noble': 0.00027789356676392944, 'operation': 0.00013894678338196472, 'ordinary': 0.00027789356676392944, 'mermaid': 0.00013894678338196472, 'fates': 0.00013894678338196472, 'pleasures': 0.00013894678338196472, 'use': 0.00013894678338196472, 'source': 0.0005557871335278589, 'topic': 0.00013894678338196472, 'tests': 0.00013894678338196472, 'youth': 0.00013894678338196472, 'wives': 0.00013894678338196472, 'ethos': 0.00027789356676392944, 'brightest': 0.00027789356676392944, 'closer': 0.0005557871335278589, 'failure': 0.00027789356676392944, 'compassionate': 0.00013894678338196472, 'fox': 0.00027789356676392944, 'shaod': 0.00013894678338196472, 'maid': 0.00013894678338196472, 'intelligent': 0.00013894678338196472, 'slave': 0.00027789356676392944, 'night': 0.0015284146172016117, 'smaller': 0.00013894678338196472, 'brillant': 0.00013894678338196472, 'line': 0.0006947339169098236, 'intriguing': 0.00013894678338196472, 'perfection': 0.00013894678338196472, 'grass': 0.00027789356676392944, 'rights': 0.00027789356676392944, 'knowing': 0.00013894678338196472, 'delight': 0.00013894678338196472, 'scepticism': 0.00013894678338196472, 'confidence': 0.00027789356676392944, 'absolute': 0.00013894678338196472, 'vaunted': 0.00013894678338196472, 'ending': 0.00013894678338196472, 'results': 0.00013894678338196472, 'wisdom': 0.000972627483673753, 'waters': 0.00013894678338196472, 'testimony': 0.00013894678338196472, 'theist': 0.00013894678338196472, 'messaging': 0.00013894678338196472, 'ramayanas': 0.00013894678338196472, 'authenticity': 0.00027789356676392944, 'intellect': 0.00013894678338196472, 'ashes': 0.00013894678338196472, 'proof': 0.0006947339169098236, 'sanskrit': 0.00013894678338196472, 'poets': 0.0005557871335278589, 'wilderness': 0.00013894678338196472, 'socalled': 0.0005557871335278589, 'opiumeater': 0.00013894678338196472, 'emptiness': 0.00013894678338196472, 'faster': 0.00027789356676392944, 'start': 0.00027789356676392944, 'hearts': 0.00027789356676392944, 'milieu': 0.00027789356676392944, 'possibilities': 0.00013894678338196472, 'woodcutters': 0.00013894678338196472, 'mercy': 0.00013894678338196472, 'instruments': 0.00013894678338196472, 'sponge': 0.00013894678338196472, 'bible': 0.0015284146172016117, 'forceps': 0.00013894678338196472, 'highminded': 0.00013894678338196472, 'tyrant': 0.00013894678338196472, 'color': 0.00013894678338196472, 'irony': 0.0006947339169098236, 'presocratic': 0.00027789356676392944, 'unqualified': 0.00041684035014589413, 'conflict': 0.00041684035014589413, 'significance': 0.00013894678338196472, 'contemporary': 0.00013894678338196472, 'treacherous': 0.00013894678338196472, 'seeker': 0.00027789356676392944, 'happening': 0.00013894678338196472, 'laughter': 0.00027789356676392944, 'wounded': 0.00013894678338196472, 'naked': 0.00013894678338196472, 'bittersweet': 0.00013894678338196472, 'devils': 0.00041684035014589413, 'hidden': 0.00027789356676392944, 'perfect': 0.0008336807002917883, 'struggles': 0.00013894678338196472, 'ego': 0.0006947339169098236, 'church': 0.0013894678338196471, 'stories': 0.00041684035014589413, 'child': 0.00041684035014589413, 'free': 0.00027789356676392944, 'point': 0.0016673614005835765, 'fruit': 0.00013894678338196472, 'dimwits': 0.00013894678338196472, 'squeeky': 0.00013894678338196472, 'friendship': 0.00013894678338196472, 'contract': 0.00013894678338196472, 'terrible': 0.00041684035014589413, 'toxic': 0.00013894678338196472, 'memory': 0.00041684035014589413, 'scientific': 0.0005557871335278589, 'nasty': 0.00013894678338196472, 'language': 0.0011115742670557178, 'buddha': 0.00027789356676392944, 'planet': 0.00041684035014589413, 'business': 0.0006947339169098236, 'blame': 0.00013894678338196472, 'plain': 0.00027789356676392944, 'answers': 0.00013894678338196472, 'clash': 0.00013894678338196472, 'cruelest': 0.00027789356676392944, 'poor': 0.0008336807002917883, 'thirst': 0.00013894678338196472, 'joke': 0.00013894678338196472, 'mediastenographers': 0.00013894678338196472, 'religious': 0.0005557871335278589, 'selfcongratulatory': 0.00013894678338196472, 'darkest': 0.00041684035014589413, 'dreams': 0.0005557871335278589, 'strong': 0.00041684035014589413, 'theistic': 0.00013894678338196472, 'media': 0.00041684035014589413, 'cold': 0.00027789356676392944, 'illusion': 0.00027789356676392944, 'whispering': 0.00013894678338196472, 'nostalgia': 0.00013894678338196472, 'liturgy': 0.00013894678338196472, 'capacity': 0.0005557871335278589, 'striving': 0.00013894678338196472, 'agreement': 0.00013894678338196472, 'amorous': 0.00027789356676392944, 'fishhook': 0.00013894678338196472, 'trial': 0.00013894678338196472, 'mistakes': 0.00027789356676392944, 'flimsy': 0.00013894678338196472, 'timeless': 0.00013894678338196472, 'strongest': 0.0006947339169098236, 'cost': 0.0006947339169098236, 'moving': 0.00013894678338196472, 'tired': 0.00013894678338196472, 'lyf': 0.00013894678338196472, 'common': 0.0006947339169098236, 'frailty': 0.00013894678338196472, 'finished': 0.00013894678338196472, 'busiest': 0.00013894678338196472, 'strangeness': 0.00013894678338196472, 'degree': 0.0005557871335278589, 'part': 0.00013894678338196472, 'clock': 0.0006947339169098236, 'car': 0.00013894678338196472, 'youthful': 0.00013894678338196472, 'concept': 0.0005557871335278589, 'lives': 0.00013894678338196472, 'hours': 0.00027789356676392944, 'humans': 0.00013894678338196472, 'days': 0.0006947339169098236, 'river': 0.00041684035014589413, 'physician': 0.00013894678338196472, 'thought': 0.0012505210504376823, 'huge': 0.00013894678338196472, 'woman': 0.0006947339169098236, 'telephonewhen': 0.00013894678338196472, 'calendar': 0.00027789356676392944, 'candle': 0.00013894678338196472, 'hopi': 0.00013894678338196472, 'steward': 0.00013894678338196472, 'feeling': 0.0006947339169098236, 'full': 0.00027789356676392944, 'unreality': 0.00013894678338196472, 'sand': 0.00013894678338196472, 'passage': 0.00041684035014589413, 'tiny': 0.00013894678338196472, 'unchangingsunswept': 0.00013894678338196472, 'creation': 0.00041684035014589413, 'tremendous': 0.00013894678338196472, 'passing': 0.00027789356676392944, 'city': 0.00041684035014589413, 'inertia': 0.00013894678338196472, 'smoke': 0.00013894678338196472, 'present': 0.0011115742670557178, 'gnomonss': 0.00013894678338196472, 'guide': 0.00027789356676392944, 'schoolroom': 0.00013894678338196472, 'diaries': 0.00013894678338196472, 'dusty': 0.00013894678338196472, 'treasure': 0.00013894678338196472, 'prison': 0.00013894678338196472, 'smart': 0.00013894678338196472, 'elementary': 0.00013894678338196472, 'moments': 0.00027789356676392944, 'atoms': 0.00041684035014589413, 'major': 0.0005557871335278589, 'phenomenon': 0.00027789356676392944, 'arrow': 0.00027789356676392944, 'perspective': 0.00013894678338196472, 'offender': 0.00013894678338196472, 'wave': 0.00013894678338196472, 'alchemy': 0.00013894678338196472, 'minotaur': 0.00027789356676392944, 'courthouse': 0.00013894678338196472, 'entropy': 0.00013894678338196472, 'tuning': 0.00013894678338196472, 'pleasure': 0.0006947339169098236, 'dreamer': 0.00013894678338196472, 'giftbe': 0.00013894678338196472, 'phone': 0.00013894678338196472, 'formula': 0.00041684035014589413, 'rhythms': 0.00013894678338196472, 'iced': 0.00013894678338196472, 'certainty': 0.00041684035014589413, 'wind': 0.00041684035014589413, 'realization': 0.00027789356676392944, 'manner': 0.00013894678338196472, 'objection': 0.00013894678338196472, 'photos': 0.00013894678338196472, 'pursuit': 0.0015284146172016117, 'tuesday': 0.00013894678338196472, 'speed': 0.00041684035014589413, 'scarcest': 0.00013894678338196472, 'oceans': 0.00013894678338196472, 'instant': 0.00013894678338196472, 'historian': 0.00013894678338196472, 'latin': 0.00027789356676392944, 'strata': 0.00013894678338196472, 'vibrant': 0.00013894678338196472, 'stainedglass': 0.00013894678338196472, 'monster': 0.00027789356676392944, 'fate': 0.00041684035014589413, 'distinction': 0.00013894678338196472, 'calling': 0.00027789356676392944, 'sports': 0.00013894678338196472, 'prove': 0.00013894678338196472, 'potential': 0.00041684035014589413, 'thermometer': 0.00013894678338196472, 'level': 0.00041684035014589413, 'victim': 0.00013894678338196472, 'merit': 0.00013894678338196472, 'roughest': 0.00013894678338196472, 'bottom': 0.00041684035014589413, 'backbone': 0.00013894678338196472, 'comfort': 0.00041684035014589413, 'empowered': 0.00013894678338196472, 'french': 0.00027789356676392944, 'logic': 0.00027789356676392944, 'elegance': 0.00027789356676392944, 'condition': 0.00013894678338196472, 'fishing': 0.00013894678338196472, 'disempowered': 0.00013894678338196472, 'grandest': 0.00013894678338196472, 'nobleminded': 0.00013894678338196472, 'futility': 0.00013894678338196472, 'concern': 0.00027789356676392944, 'thrust': 0.00013894678338196472, 'lesson': 0.0006947339169098236, 'ladder': 0.00013894678338196472, 'sure': 0.00013894678338196472, 'tower': 0.00013894678338196472, 'presence': 0.0008336807002917883, 'prince': 0.0005557871335278589, 'quest': 0.00013894678338196472, 'sprint': 0.00013894678338196472, 'library': 0.0016673614005835765, 'downfall': 0.00027789356676392944, 'operetta': 0.00013894678338196472, 'self': 0.00041684035014589413, 'timelessness': 0.00013894678338196472, 'phrase': 0.0005557871335278589, 'obstacle': 0.00013894678338196472, 'blessings': 0.00027789356676392944, 'popular': 0.00013894678338196472, 'change': 0.00027789356676392944, 'darkness': 0.0008336807002917883, 'environment': 0.00027789356676392944, 'measuring': 0.00013894678338196472, 'emptiest': 0.00013894678338196472, 'questions': 0.00041684035014589413, 'curtain': 0.00013894678338196472, 'celebration': 0.00013894678338196472, 'fourth': 0.00013894678338196472, 'fifth': 0.00013894678338196472, 'hit': 0.00013894678338196472, 'haters': 0.00013894678338196472, 'top': 0.00027789356676392944, 'taste': 0.0005557871335278589, 'sweet': 0.00013894678338196472, 'requisite': 0.00013894678338196472, 'mirrors': 0.00013894678338196472, 'record': 0.00013894678338196472, 'adherent': 0.00013894678338196472, 'skill': 0.00013894678338196472, 'definition': 0.00041684035014589413, 'dosomethings': 0.00013894678338196472, 'overlooked': 0.00013894678338196472, 'deeper': 0.00041684035014589413, 'honor': 0.00013894678338196472, 'priviledges': 0.00013894678338196472, 'resting': 0.00013894678338196472, 'spiritual': 0.0011115742670557178, 'spiritualization': 0.00013894678338196472, 'soil': 0.00041684035014589413, 'dripping': 0.00013894678338196472, 'symbol': 0.00013894678338196472, 'queen': 0.00013894678338196472, 'death': 0.0011115742670557178, 'material': 0.00027789356676392944, 'danger': 0.00027789356676392944, 'gut': 0.00013894678338196472, 'christians': 0.00013894678338196472, 'saviour': 0.00013894678338196472, 'faith': 0.0005557871335278589, 'tao': 0.00013894678338196472, 'practice': 0.0005557871335278589, 'constant': 0.00027789356676392944, 'egocentric': 0.00013894678338196472, 'freshness': 0.00013894678338196472, 'prophet': 0.00013894678338196472, 'position': 0.00027789356676392944, 'views': 0.00013894678338196472, 'force': 0.00013894678338196472, 'tantric': 0.00013894678338196472, 'incarnation': 0.00013894678338196472, 'powerful': 0.00041684035014589413, 'guru': 0.00027789356676392944, 'willingness': 0.00027789356676392944, 'images': 0.00013894678338196472, 'verbal': 0.00013894678338196472, 'effort': 0.00027789356676392944, 'unique': 0.00013894678338196472, 'physique': 0.00013894678338196472, 'aspirant': 0.00013894678338196472, 'reflection': 0.00013894678338196472, 'speculative': 0.00013894678338196472, 'argument': 0.00027789356676392944, 'gaps': 0.00013894678338196472, 'brain': 0.00041684035014589413, 'mozart': 0.00013894678338196472, 'geographical': 0.00013894678338196472, 'fundamentalists': 0.00013894678338196472, 'disciples': 0.00013894678338196472, 'connection': 0.00013894678338196472, 'oneness': 0.00013894678338196472, 'culture': 0.00027789356676392944, 'forms': 0.00013894678338196472, 'crucified': 0.00013894678338196472, 'saints': 0.00027789356676392944, 'echo': 0.00013894678338196472, 'ears': 0.00013894678338196472, 'monk': 0.00013894678338196472, 'krishna': 0.00013894678338196472, 'highway': 0.00027789356676392944, 'mother': 0.00013894678338196472, 'peace': 0.0005557871335278589, 'enemy': 0.0006947339169098236, 'signs': 0.00027789356676392944, 'bad': 0.00041684035014589413, 'parallel': 0.00013894678338196472, 'messenger': 0.00013894678338196472, 'tenacious': 0.00013894678338196472, 'paramount': 0.00013894678338196472, 'enemys': 0.00013894678338196472, 'solution': 0.00027789356676392944, 'seeds': 0.00013894678338196472, 'birth': 0.00027789356676392944, 'conventional': 0.00027789356676392944, 'metal': 0.00013894678338196472, 'eyes': 0.0008336807002917883, 'abyss': 0.00013894678338196472, 'truly': 0.00041684035014589413, 'initial': 0.00013894678338196472, 'male': 0.00027789356676392944, 'cup': 0.00027789356676392944, 'completion': 0.00013894678338196472, 'unification': 0.00013894678338196472, 'verge': 0.00013894678338196472, 'false': 0.00027789356676392944, 'operative': 0.00013894678338196472, 'enlightened': 0.00013894678338196472, 'meanest': 0.00013894678338196472, 'division': 0.00013894678338196472, 'chronic': 0.00013894678338196472, 'monks': 0.00013894678338196472, 'divinity': 0.00027789356676392944, 'intimate': 0.00013894678338196472, 'wayto': 0.00013894678338196472, 'mirror': 0.00013894678338196472, 'cosmic': 0.00013894678338196472, 'ether': 0.00013894678338196472, 'psychotherapists': 0.00013894678338196472, 'intensity': 0.00013894678338196472, 'castles': 0.00013894678338196472, 'societal': 0.00013894678338196472, 'knower': 0.00013894678338196472, 'understanding': 0.00013894678338196472, 'seven': 0.00013894678338196472, 'total': 0.00013894678338196472, 'bounties': 0.00013894678338196472, 'downside': 0.00013894678338196472, 'invisible': 0.00013894678338196472, 'bright': 0.00013894678338196472, 'following': 0.00027789356676392944, 'copenhagen': 0.00013894678338196472, 'presidential': 0.00013894678338196472, 'known': 0.00027789356676392944, 'labours': 0.00013894678338196472, 'mentally': 0.00013894678338196472, 'theory': 0.00027789356676392944, 'reappearance': 0.00013894678338196472, 'fossil': 0.00013894678338196472, 'curious': 0.00013894678338196472, 'split': 0.00013894678338196472, 'alternative': 0.00013894678338196472, 'significant': 0.00013894678338196472, 'european': 0.00013894678338196472, 'assumption': 0.00027789356676392944, 'ufo': 0.00013894678338196472, 'tendency': 0.00027789356676392944, 'apollo': 0.00013894678338196472, 'maxims': 0.00013894678338196472, 'stubborn': 0.00013894678338196472, 'study': 0.0005557871335278589, 'sheer': 0.00013894678338196472, 'ideas': 0.00041684035014589413, 'apex': 0.00013894678338196472, 'prediction': 0.00013894678338196472, 'conclusion': 0.00013894678338196472, 'surpluses': 0.00013894678338196472, 'neural': 0.00013894678338196472, 'tv': 0.00013894678338196472, 'laboratory': 0.00013894678338196472, 'ongoing': 0.00013894678338196472, 'plural': 0.00013894678338196472, 'traumatized': 0.00013894678338196472, 'landed': 0.00013894678338196472, 'lifetime': 0.00013894678338196472, 'command': 0.00013894678338196472, 'humble': 0.00041684035014589413, 'controversy': 0.00013894678338196472, 'near': 0.00013894678338196472, 'wellbeing': 0.00013894678338196472, 'aspirations': 0.00013894678338196472, 'creator': 0.0005557871335278589, 'ideology': 0.00013894678338196472, 'element': 0.00041684035014589413, 'steam': 0.00013894678338196472, 'himalayas': 0.00013894678338196472, 'myth': 0.00027789356676392944, 'denier': 0.00013894678338196472, 'void': 0.00013894678338196472, 'propensity': 0.00013894678338196472, 'features': 0.00013894678338196472, 'complexity': 0.00027789356676392944, 'information': 0.00041684035014589413, 'limit': 0.00027789356676392944, 'crime': 0.00013894678338196472, 'paranormal': 0.00013894678338196472, 'phaenomena': 0.00013894678338196472, 'definitive': 0.00013894678338196472, 'increase': 0.00013894678338196472, 'others': 0.00027789356676392944, 'formal': 0.00013894678338196472, 'classification': 0.00013894678338196472, 'belief': 0.0011115742670557178, 'ruinous': 0.00013894678338196472, 'positivists': 0.00013894678338196472, 'tape': 0.00013894678338196472, 'population': 0.00013894678338196472, 'turmoil': 0.00013894678338196472, 'salient': 0.00013894678338196472, 'sciences': 0.00013894678338196472, 'exaltation': 0.00027789356676392944, 'mere': 0.00013894678338196472, 'mission': 0.00027789356676392944, 'bogdanov': 0.00013894678338196472, 'heroes': 0.00027789356676392944, 'absence': 0.000972627483673753, 'biologically': 0.00013894678338196472, 'w': 0.00013894678338196472, 'quran': 0.00041684035014589413, 'answer': 0.00041684035014589413, 'underlying': 0.00013894678338196472, 'algorithms': 0.00013894678338196472, 'fourteen': 0.00013894678338196472, 'counsel': 0.00013894678338196472, 'need': 0.00027789356676392944, 'cultural': 0.00013894678338196472, 'shorter': 0.00013894678338196472, 'munduruku': 0.00013894678338196472, 'owner': 0.00013894678338196472, 'progressive': 0.00013894678338196472, 'chain': 0.00027789356676392944, 'sign': 0.00027789356676392944, 'optimist': 0.00013894678338196472, 'classic': 0.00013894678338196472, 'deep': 0.00027789356676392944, 'cerebral': 0.00013894678338196472, 'hanbalite': 0.00013894678338196472, 'proponents': 0.00013894678338196472, 'genetic': 0.00013894678338196472, 'historical': 0.00013894678338196472, 'geometry': 0.00027789356676392944, 'insane': 0.00013894678338196472, 'prohibition': 0.00013894678338196472, 'promises': 0.00013894678338196472, 'soviets': 0.00013894678338196472, 'dqn': 0.00013894678338196472, 'exact': 0.00013894678338196472, 'omegas': 0.00013894678338196472, 'tapestry': 0.00013894678338196472, 'elements': 0.00013894678338196472, 'aliensthey': 0.00013894678338196472, 'octopuses': 0.00013894678338196472, 'matter': 0.00013894678338196472, 'intention': 0.00041684035014589413, 'scientists': 0.00013894678338196472, 'software': 0.00013894678338196472, 'smartest': 0.00027789356676392944, 'letter': 0.00027789356676392944, 'door': 0.0006947339169098236, 'tune': 0.00013894678338196472, 'cord': 0.00013894678338196472, 'entire': 0.0011115742670557178, 'want': 0.00013894678338196472, 'fuse': 0.00013894678338196472, 'engine': 0.00013894678338196472, 'battered': 0.00013894678338196472, 'morning': 0.000972627483673753, 'guy': 0.00013894678338196472, 'seeking': 0.00013894678338196472, 'paradox': 0.0005557871335278589, 'rom': 0.00013894678338196472, 'unhappiest': 0.00027789356676392944, 'cycle': 0.00013894678338196472, 'weakness': 0.00013894678338196472, 'insanity': 0.00013894678338196472, 'curves': 0.00013894678338196472, 'divorce': 0.00013894678338196472, 'unexpected': 0.00013894678338196472, 'momentwhen': 0.00013894678338196472, 'sweatshirt': 0.00013894678338196472, 'multicolored': 0.00013894678338196472, 'northern': 0.00013894678338196472, 'workings': 0.00013894678338196472, 'busy': 0.00013894678338196472, 'house': 0.0006947339169098236, 'course': 0.0005557871335278589, 'vampire': 0.00027789356676392944, 'slowest': 0.00013894678338196472, 'blood': 0.00041684035014589413, 'scent': 0.00013894678338196472, 'howard': 0.00013894678338196472, 'reader': 0.00013894678338196472, 'motel': 0.00013894678338196472, 'school': 0.00013894678338196472, 'spring': 0.00013894678338196472, 'wish': 0.00027789356676392944, 'san': 0.00013894678338196472, 'easy': 0.00027789356676392944, 'legitimate': 0.00013894678338196472, 'philosophy': 0.000972627483673753, 'merest': 0.00013894678338196472, 'capitalist': 0.00013894678338196472, 'savage': 0.00013894678338196472, 'takehome': 0.00013894678338196472, 'catholic': 0.00027789356676392944, 'figures': 0.00013894678338196472, 'religion': 0.00013894678338196472, 'scriptures': 0.00013894678338196472, 'unknown': 0.00027789356676392944, 'rabbit': 0.00013894678338196472, 'doctrinal': 0.00013894678338196472, 'tempter': 0.00013894678338196472, 'scripture': 0.00027789356676392944, 'anatomy': 0.00013894678338196472, 'yen': 0.00013894678338196472, 'maker': 0.00013894678338196472, 'believer': 0.00013894678338196472, 'destiny': 0.00027789356676392944, 'divine': 0.0008336807002917883, 'hindus': 0.00013894678338196472, 'reformer': 0.00013894678338196472, 'healing': 0.00041684035014589413, 'princes': 0.00013894678338196472, 'doctors': 0.00013894678338196472, 'rash': 0.00013894678338196472, 'imported': 0.00013894678338196472, 'typical': 0.00013894678338196472, 'parent': 0.00013894678338196472, 'priests': 0.00013894678338196472, 'westboro': 0.00013894678338196472, 'atheism': 0.00013894678338196472, 'living': 0.0005557871335278589, 'tezuman': 0.00013894678338196472, 'australian': 0.00013894678338196472, 'ancestors': 0.00013894678338196472, 'official': 0.00013894678338196472, 'existence': 0.00013894678338196472, 'lies': 0.00013894678338196472, 'pope': 0.00027789356676392944, 'mathematicians': 0.00013894678338196472, 'melancholy': 0.00013894678338196472, 'religionist': 0.00013894678338196472, 'supernatural': 0.00013894678338196472, 'shadowmaker': 0.00013894678338196472, 'agony': 0.00013894678338196472, 'country': 0.00041684035014589413, 'oldtimereligion': 0.00013894678338196472, 'haggadah': 0.00013894678338196472, 'religionists': 0.00013894678338196472, 'fremen': 0.00013894678338196472, 'teachings': 0.00027789356676392944, 'baby': 0.00027789356676392944, 'wicked': 0.00027789356676392944, 'disobedience': 0.00013894678338196472, 'reformation': 0.00013894678338196472, 'realm': 0.00013894678338196472, 'servant': 0.00013894678338196472, 'abiding': 0.00013894678338196472, 'sight': 0.00013894678338196472, 'orgasm': 0.00013894678338196472, 'ruin': 0.00013894678338196472, 'quintessential': 0.00013894678338196472, 'neocons': 0.00013894678338196472, 'fervor': 0.00013894678338196472, 'institutions': 0.00027789356676392944, 'sound': 0.00027789356676392944, 'prayer': 0.00013894678338196472, 'padres': 0.00013894678338196472, 'clothes': 0.00027789356676392944, 'september': 0.00013894678338196472, 'extreme': 0.00013894678338196472, 'assumptions': 0.00013894678338196472, 'maxim': 0.00013894678338196472, 'needle': 0.00013894678338196472, 'masses': 0.00027789356676392944, 'mystical': 0.00013894678338196472, 'outer': 0.00027789356676392944, 'contrast': 0.00027789356676392944, 'religions': 0.00013894678338196472, 'purity': 0.00027789356676392944, 'bank': 0.00013894678338196472, 'girl': 0.00027789356676392944, 'weather': 0.00013894678338196472, 'snag': 0.00013894678338196472, 'aching': 0.00013894678338196472, 'manlier': 0.00013894678338196472, 'protagonist': 0.00013894678338196472, 'fights': 0.00013894678338196472, 'vast': 0.00027789356676392944, 'girls': 0.00013894678338196472, 'betty': 0.00013894678338196472, 'clerk': 0.00013894678338196472, 'women': 0.00041684035014589413, 'teaching': 0.00027789356676392944, 'kiss': 0.00041684035014589413, 'engineers': 0.00013894678338196472, 'audenkallman': 0.00013894678338196472, 'red': 0.00013894678338196472, 'lamb': 0.00027789356676392944, 'pieces': 0.00013894678338196472, 'gender': 0.00013894678338196472, 'partition': 0.00013894678338196472, 'name': 0.00027789356676392944, 'romantic': 0.00013894678338196472, 'virgins': 0.00013894678338196472, 'covert': 0.00013894678338196472, 'week': 0.00013894678338196472, 'daily': 0.00041684035014589413, 'computer': 0.00041684035014589413, 'relationships': 0.00013894678338196472, 'sooner': 0.00027789356676392944, 'surface': 0.00013894678338196472, 'connections': 0.00041684035014589413, 'space': 0.00013894678338196472, '2': 0.00027789356676392944, 'smell': 0.00027789356676392944, 'fallout': 0.00013894678338196472, 'circle': 0.00027789356676392944, 'paradoxical': 0.00013894678338196472, 'marks': 0.00027789356676392944, 'statistics': 0.00013894678338196472, 'boy': 0.0005557871335278589, 'loneliest': 0.00013894678338196472, 'wound': 0.00013894678338196472, 'nicest': 0.00013894678338196472, 'town': 0.00013894678338196472, 'silence': 0.0005557871335278589, 'meek': 0.00013894678338196472, 'darker': 0.00027789356676392944, 'unreal': 0.00013894678338196472, 'helpful': 0.00013894678338196472, 'ships': 0.00013894678338196472, 'spell': 0.00013894678338196472, 'scar': 0.00013894678338196472, 'brick': 0.00013894678338196472, 'creatures': 0.00027789356676392944, 'nitrogen': 0.00013894678338196472, 'finest': 0.00041684035014589413, 'unfed': 0.00013894678338196472, 'impossible': 0.00027789356676392944, 'mark': 0.00027789356676392944, 'sunlight': 0.00013894678338196472, 'grand': 0.00027789356676392944, 'voicethere': 0.00013894678338196472, 'bhagavad': 0.00013894678338196472, 'journeyone': 0.00013894678338196472, 'tides': 0.00013894678338196472, 'breezes': 0.00013894678338196472, 'uses': 0.00013894678338196472, 'bridge': 0.00013894678338196472, 'typeeveryone': 0.00013894678338196472, 'quiet': 0.00013894678338196472, 'layersi': 0.00013894678338196472, 'abandoned': 0.00013894678338196472, 'rainy': 0.00013894678338196472, 'goodmorrowi': 0.00013894678338196472, 'many': 0.00013894678338196472, 'young': 0.000972627483673753, 'worstthing': 0.00013894678338196472, 'season': 0.00013894678338196472, 'silent': 0.0008336807002917883, 'war': 0.00013894678338196472, 'ridera': 0.00013894678338196472, 'profoundest': 0.00013894678338196472, 'childrens': 0.00013894678338196472, 'coming': 0.00013894678338196472, 'inmost': 0.00013894678338196472, 'bustle': 0.00013894678338196472, 'ambitions': 0.00013894678338196472, 'jewelthere': 0.00013894678338196472, 'characters': 0.00041684035014589413, 'listenersis': 0.00013894678338196472, 'phantom': 0.00013894678338196472, 'quitterwhen': 0.00013894678338196472, 'eyeit': 0.00013894678338196472, 'exceeding': 0.00013894678338196472, 'fountains': 0.00013894678338196472, 'poem': 0.0006947339169098236, 'press': 0.00013894678338196472, 'budstands': 0.00013894678338196472, 'horses': 0.00013894678338196472, 'song': 0.00013894678338196472, 'flames': 0.00013894678338196472, 'busybody': 0.00013894678338196472, 'assignment': 0.00013894678338196472, 'prettiest': 0.00027789356676392944, 'apache': 0.00013894678338196472, 'ogre': 0.00013894678338196472, 'pekes': 0.00013894678338196472, 'pure': 0.00041684035014589413, 'moonand': 0.00013894678338196472, 'awakeningi': 0.00013894678338196472, 'graves': 0.00013894678338196472, 'wet': 0.00013894678338196472, 'dreamfencekittens': 0.00013894678338196472, 'masters': 0.00013894678338196472, 'poetis': 0.00013894678338196472, 'campus': 0.00013894678338196472, 'muffled': 0.00013894678338196472, 'kind': 0.0005557871335278589, 'vagabondgive': 0.00013894678338196472, 'ballpoint': 0.00013894678338196472, 'southwind': 0.00013894678338196472, 'princessjumped': 0.00013894678338196472, 'gentle': 0.00013894678338196472, 'onewho': 0.00013894678338196472, 'flightlook': 0.00013894678338196472, 'fury': 0.00013894678338196472, 'bed': 0.00013894678338196472, 'taxiwhen': 0.00013894678338196472, 'mimicry': 0.00013894678338196472, 'collective': 0.00013894678338196472, 'fishermans': 0.00013894678338196472, 'yard': 0.00013894678338196472, 'forest': 0.00013894678338196472, 'dark': 0.00041684035014589413, 'storms': 0.00013894678338196472, 'waves': 0.00013894678338196472, 'long': 0.00041684035014589413, 'skies': 0.00013894678338196472, 'touch': 0.00027789356676392944, 'surge': 0.00013894678338196472, 'sweetness': 0.00013894678338196472, 'triflerdeaths': 0.00013894678338196472, 'everlasting': 0.00013894678338196472, 'subtleties': 0.00013894678338196472, 'talked': 0.00013894678338196472, 'worm': 0.00013894678338196472, 'plot': 0.00013894678338196472, 'pressuremaybe': 0.00013894678338196472, 'artistic': 0.00013894678338196472, 'mercythe': 0.00013894678338196472, 'smallest': 0.00041684035014589413, 'flame': 0.00013894678338196472, 'menu': 0.00013894678338196472, 'evil': 0.0005557871335278589, 'pianokeys': 0.00013894678338196472, 'state': 0.00041684035014589413, 'inner': 0.0005557871335278589, 'wealth': 0.00013894678338196472, 'philosopher': 0.00041684035014589413, 'longing': 0.00013894678338196472, 'map': 0.00013894678338196472, 'rarest': 0.00013894678338196472, 'premise': 0.00013894678338196472, 'discovery': 0.00027789356676392944, 'wild': 0.00013894678338196472, 'square': 0.00013894678338196472, 'stronger': 0.00027789356676392944, 'creed': 0.00013894678338196472, 'serpent': 0.00013894678338196472, 'student': 0.00013894678338196472, 'symbolism': 0.00013894678338196472, 'illness': 0.00013894678338196472, 'rider': 0.00013894678338196472, 'perfectly': 0.00013894678338196472, 'stalker': 0.00013894678338196472, 'supply': 0.00013894678338196472, 'logical': 0.00013894678338196472, 'ruling': 0.00013894678338196472, 'debate': 0.00013894678338196472, 'realworld': 0.00013894678338196472, 'complexities': 0.00027789356676392944, 'priest': 0.00013894678338196472, 'rich': 0.00013894678338196472, 'necessity': 0.00013894678338196472, 'intellectual': 0.00013894678338196472, 'safest': 0.00041684035014589413, 'zipper': 0.00013894678338196472, 'disease': 0.00013894678338196472, 'spectacle': 0.00013894678338196472, 'mythology': 0.00013894678338196472, 'ways': 0.00027789356676392944, 'tombstone': 0.00013894678338196472, 'spread': 0.00027789356676392944, 'exclusive': 0.00013894678338196472, 'cinema': 0.00013894678338196472, 'warrior': 0.0005557871335278589, 'vivid': 0.00013894678338196472, 'ramdomness': 0.00013894678338196472, 'satyr': 0.00013894678338196472, 'maturity': 0.00013894678338196472, 'progress': 0.00027789356676392944, 'theological': 0.00013894678338196472, 'slope': 0.00013894678338196472, 'encyclopediathe': 0.00013894678338196472, 'summers': 0.00013894678338196472, 'western': 0.00027789356676392944, 'pity': 0.00013894678338196472, 'actuality': 0.00013894678338196472, 'philosophic': 0.00027789356676392944, 'development': 0.00013894678338196472, 'freedom': 0.00027789356676392944, 'selfish': 0.00027789356676392944, 'fundament': 0.00013894678338196472, 'cause': 0.00027789356676392944, 'cynic': 0.00013894678338196472, 'evolution': 0.00013894678338196472, 'darkening': 0.00013894678338196472, 'unity': 0.00013894678338196472, 'primitive': 0.00013894678338196472, 'negotiations': 0.00013894678338196472, 'sweetly': 0.00013894678338196472, 'fruth': 0.00013894678338196472, 'boundary': 0.00013894678338196472, 'narrowest': 0.00013894678338196472, 'duration': 0.00013894678338196472, 'oligarchs': 0.00013894678338196472, 'economic': 0.00013894678338196472, 'crowns': 0.00013894678338196472, 'thunderground': 0.00013894678338196472, 'discontent': 0.00013894678338196472, 'here': 0.00013894678338196472, 'lust': 0.00027789356676392944, 'realisation': 0.00013894678338196472, 'face': 0.0006947339169098236, 'madder': 0.00013894678338196472, 'gratitude': 0.00013894678338196472, 'jedi': 0.00013894678338196472, 'sundial': 0.00013894678338196472, 'victory': 0.00013894678338196472, 'slogans': 0.00013894678338196472, 'subjects': 0.00013894678338196472, 'lion': 0.00013894678338196472, 'desires': 0.00013894678338196472, 'international': 0.00013894678338196472, 'inescapable': 0.00013894678338196472, 'perspection': 0.00013894678338196472, 'efforts': 0.00027789356676392944, 'wealthiest': 0.00013894678338196472, 'commonality': 0.00013894678338196472, 'blocks': 0.00013894678338196472, 'reoccurring': 0.00013894678338196472, 'glitter': 0.00027789356676392944, 'newness': 0.00013894678338196472, 'lower': 0.00027789356676392944, 'emotions': 0.00027789356676392944, 'motto': 0.00013894678338196472, 'smooth': 0.00013894678338196472, 'statue': 0.00013894678338196472, 'trail': 0.00013894678338196472, '40': 0.00013894678338196472, 'decisionmaking': 0.00027789356676392944, 'quote': 0.00013894678338196472, 'moth': 0.00013894678338196472, 'reformers': 0.00013894678338196472, 'dots': 0.00013894678338196472, 'ripple': 0.00027789356676392944, 'side': 0.00013894678338196472, 'lick': 0.00013894678338196472, 'imperfection': 0.00013894678338196472, 'quotes': 0.00013894678338196472, 'moonlight': 0.00013894678338196472, 'skin': 0.00013894678338196472, 'teamaster': 0.00013894678338196472, 'colors': 0.00013894678338196472, 'coast': 0.00013894678338196472, 'mourning': 0.00013894678338196472, 'soft': 0.00013894678338196472, 'disadvantage': 0.00013894678338196472, 'scottish': 0.00013894678338196472, 'distant': 0.00013894678338196472, 'deer': 0.00013894678338196472, 'letters': 0.00013894678338196472, 'above': 0.00013894678338196472, 'currency': 0.00041684035014589413, 'sunrise': 0.00013894678338196472, 'opinions': 0.00013894678338196472, 'toughest': 0.00013894678338196472, 'blooming': 0.00013894678338196472, 'painbreached': 0.00013894678338196472, 'noise': 0.00013894678338196472, 'promise': 0.0006947339169098236, 'spiking': 0.00013894678338196472, 'currents': 0.00013894678338196472, 'honeymoon': 0.00013894678338196472, 'lilac': 0.00013894678338196472, 'different': 0.00013894678338196472, 'psychology': 0.00013894678338196472, 'demons': 0.00013894678338196472, 'biology': 0.00013894678338196472, 'effectof': 0.00013894678338196472, 'mystifying': 0.00013894678338196472, 'fleeting': 0.00013894678338196472, 'unwavering': 0.00027789356676392944, 'evolutionary': 0.00013894678338196472, 'train': 0.00027789356676392944, 'differencebetween': 0.00013894678338196472, 'warmth': 0.00013894678338196472, 'wood': 0.00013894678338196472, 'oldest': 0.00041684035014589413, 'superpower': 0.00013894678338196472, 'longest': 0.00013894678338196472, 'prepared': 0.00013894678338196472, 'pain': 0.00041684035014589413, 'sweetest': 0.00027789356676392944, 'ugliest': 0.00013894678338196472, 'situation': 0.00013894678338196472, 'stranger': 0.00013894678338196472, 'i': 0.00041684035014589413, 'pillow': 0.00013894678338196472, 'volume': 0.00013894678338196472, 'aroma': 0.00013894678338196472, 'damage': 0.00013894678338196472, 'tattoo': 0.00013894678338196472, 'queens': 0.00013894678338196472, 'court': 0.00013894678338196472, 'acceptance': 0.00013894678338196472, 'center': 0.00027789356676392944, 'fiercest': 0.00013894678338196472, 'eskimo': 0.00013894678338196472, 'room': 0.0005557871335278589, 'faculty': 0.00027789356676392944, 'strategic': 0.00013894678338196472, 'ink': 0.00013894678338196472, 'suns': 0.00013894678338196472, 'anticipation': 0.00013894678338196472, 'mass': 0.00027789356676392944, 'laughing': 0.00013894678338196472, 'camera': 0.00013894678338196472, 'choices': 0.0005557871335278589, 'buddhists': 0.00013894678338196472, 'behavior': 0.00013894678338196472, 'cradle': 0.00013894678338196472, 'friends': 0.00013894678338196472, 'shortness': 0.00013894678338196472, 'times': 0.0005557871335278589, 'ties': 0.00013894678338196472, 'span': 0.00013894678338196472, 'clear': 0.00013894678338196472, 'wakingi': 0.00013894678338196472, 'continuous': 0.00013894678338196472, 'overmanwho': 0.00013894678338196472, 'strongminded': 0.00013894678338196472, 'splendid': 0.00013894678338196472, 'scary': 0.00013894678338196472, 'wishbone': 0.00013894678338196472, 'christmas': 0.00041684035014589413, 'crack': 0.00013894678338196472, 'worker': 0.00013894678338196472, 'uncertainties': 0.00013894678338196472, 'circumstances': 0.00013894678338196472, 'details': 0.00013894678338196472, '4': 0.00013894678338196472, 'intuitive': 0.00013894678338196472, 'harmony': 0.00013894678338196472, 'importance': 0.00027789356676392944, 'arteries': 0.00013894678338196472, 'physics': 0.00013894678338196472, 'abandoneddid': 0.00013894678338196472, 'spoken': 0.00013894678338196472, 'system': 0.00027789356676392944, 'symptoms': 0.00013894678338196472, 'issues': 0.00013894678338196472, 'gaiety': 0.00013894678338196472, 'goodness': 0.00013894678338196472, 'dealing': 0.00013894678338196472, 'rancid': 0.00013894678338196472, 'advancement': 0.00013894678338196472, 'relation': 0.00027789356676392944, 'acquisition': 0.00041684035014589413, 'booksthe': 0.00013894678338196472, 'dilemma': 0.00013894678338196472, 'sum': 0.00027789356676392944, 'offer': 0.00013894678338196472, 'compartmentalization': 0.00013894678338196472, 'excitable': 0.00013894678338196472, 'range': 0.00013894678338196472, 'genius': 0.00027789356676392944, 'meditative': 0.00013894678338196472, 'doorstep': 0.00013894678338196472, 'obvious': 0.00041684035014589413, 'useful': 0.00013894678338196472, 'selfrevealing': 0.00013894678338196472, 'motive': 0.00027789356676392944, 'postgrad': 0.00013894678338196472, 'spaces': 0.00013894678338196472, 'distinctive': 0.00013894678338196472, 'worn': 0.00013894678338196472, 'insatiable': 0.00013894678338196472, 'ordering': 0.00013894678338196472, 'noah': 0.00013894678338196472, 'tens': 0.00013894678338196472, 'industrial': 0.00013894678338196472, '3cs': 0.00013894678338196472, 'relevant': 0.00013894678338196472, 'pressures': 0.00027789356676392944, 'vedanta': 0.00013894678338196472, 'learned': 0.00013894678338196472, 'instruction': 0.00041684035014589413, 'perfume': 0.00013894678338196472, 'dignities': 0.00013894678338196472, 'narrow': 0.00013894678338196472, 'architecture': 0.00013894678338196472, 'arrogant': 0.00013894678338196472, 'utopia': 0.00013894678338196472, 'autonomy': 0.00013894678338196472, 'horror': 0.00013894678338196472, 'status': 0.00013894678338196472, 'ninety': 0.00013894678338196472, 'worldly': 0.00013894678338196472, 'hallmarks': 0.00013894678338196472, 'sin': 0.00013894678338196472, 'freman': 0.00013894678338196472, 'period': 0.00013894678338196472, 'group': 0.00013894678338196472, 'individuals': 0.00013894678338196472, 'oppressor': 0.00013894678338196472, 'architect': 0.00027789356676392944, 'lawmakers': 0.00013894678338196472, 'afflicted': 0.00013894678338196472, 'rejection': 0.00013894678338196472, 'instability': 0.00013894678338196472, 'difficulties': 0.00013894678338196472, 'actions': 0.00013894678338196472, 'widespread': 0.00013894678338196472, 'peoples': 0.00013894678338196472, 'commencement': 0.00013894678338196472, 'methodical': 0.00013894678338196472, 'earlier': 0.00013894678338196472, 'winning': 0.00013894678338196472, 'clearer': 0.00013894678338196472, 'sodomy': 0.00013894678338196472, 'creature': 0.00013894678338196472, 'storm': 0.00041684035014589413, 'jump': 0.00013894678338196472, 'coward': 0.00013894678338196472, 'elimination': 0.00013894678338196472, 'conception': 0.00013894678338196472, 'penalty': 0.00013894678338196472, 'wide': 0.00013894678338196472, 'tricky': 0.00013894678338196472, 'tide': 0.00013894678338196472, 'yorubas': 0.00013894678338196472, 'mandarins': 0.00013894678338196472, 'roads': 0.00013894678338196472, 'whirlwind': 0.00013894678338196472, 'anguish': 0.00013894678338196472, 'focal': 0.00013894678338196472, '7': 0.00027789356676392944, 'radiance': 0.00013894678338196472, 'starry': 0.00013894678338196472, 'sick': 0.00013894678338196472, 'now': 0.00013894678338196472, 'energetic': 0.00013894678338196472, 'blind': 0.00013894678338196472, 'wings': 0.00013894678338196472, 'redemption': 0.00013894678338196472, 'fishermen': 0.00013894678338196472, 'tears': 0.00027789356676392944, 'arc': 0.00013894678338196472, 'further': 0.00027789356676392944, 'deeds': 0.00013894678338196472, 'caged': 0.00013894678338196472, 'adventure': 0.00013894678338196472, 'seas': 0.00013894678338196472, 'amazing': 0.00027789356676392944, 'opinion': 0.00013894678338196472, 'nights': 0.00027789356676392944, 'graveyard': 0.00013894678338196472, 'fallen': 0.00013894678338196472, 'shell': 0.00013894678338196472, 'ugly': 0.00013894678338196472, 'decisions': 0.00013894678338196472, 'atheist': 0.00013894678338196472, 'dictionary': 0.00013894678338196472, 'summit': 0.00013894678338196472, 'nourishment': 0.00013894678338196472, 'home': 0.0005557871335278589, 'race': 0.00013894678338196472, 'grounds': 0.00013894678338196472, 'whales': 0.00013894678338196472, 'advice': 0.00013894678338196472, 'probability': 0.00013894678338196472, 'firmest': 0.00013894678338196472, 'muse': 0.00013894678338196472, 'systematic': 0.00013894678338196472, 'restless': 0.00013894678338196472, 'tension': 0.00013894678338196472, 'greenest': 0.00013894678338196472, 'ball': 0.00013894678338196472, 'brave': 0.00013894678338196472, 'excitement': 0.00013894678338196472, 'king': 0.00013894678338196472, 'satisfactionsof': 0.00013894678338196472, 'urge': 0.00013894678338196472, 'short': 0.00013894678338196472, 'stationary': 0.00013894678338196472, 'philosophies': 0.00013894678338196472, 'effects': 0.00027789356676392944, 'erruption': 0.00013894678338196472, 'mist': 0.00013894678338196472, 'horizon': 0.00013894678338196472, 'movie': 0.00013894678338196472, 'nobel': 0.00013894678338196472, 'legend': 0.00013894678338196472, 'resistant': 0.00013894678338196472, 'inclination': 0.00013894678338196472, 'stunning': 0.00013894678338196472, 'shipwrecked': 0.00013894678338196472, 'philosophical': 0.00013894678338196472, 'cultures': 0.00013894678338196472, 'you': 0.00027789356676392944, 'vision': 0.00013894678338196472, 'keeper': 0.00013894678338196472, 'insecurity': 0.00013894678338196472, 'narrower': 0.00013894678338196472, 'destruction': 0.00013894678338196472, 'evilness': 0.00013894678338196472, 'widest': 0.00013894678338196472, 'omnidoxy': 0.00013894678338196472, 'colonel': 0.00013894678338196472, 'covers': 0.00013894678338196472, 'council': 0.00013894678338196472, 'caterpillar': 0.00013894678338196472, 'nuclear': 0.00027789356676392944, 'play': 0.00013894678338196472, 'coat': 0.00013894678338196472, 'staircase': 0.00013894678338196472, 'hitchhikers': 0.00013894678338196472, 'nice': 0.00013894678338196472, 'miracle': 0.00013894678338196472, 'leading': 0.00013894678338196472, 'lack': 0.00027789356676392944, 'attempt': 0.00013894678338196472, 'magician': 0.00013894678338196472, 'length': 0.00013894678338196472, 'shts': 0.00013894678338196472, 'princess': 0.00013894678338196472, 'food': 0.00013894678338196472, 'swiss': 0.00013894678338196472, 'idealist': 0.00013894678338196472, 'integrity': 0.00013894678338196472, 'hitch': 0.00013894678338196472, 'inhabitants': 0.00013894678338196472, 'lampshade': 0.00013894678338196472, 'champagne': 0.00013894678338196472, 'powers': 0.00013894678338196472, 'illinformed': 0.00013894678338196472, 'wolf': 0.00013894678338196472, 'lustful': 0.00013894678338196472, 'feelings': 0.00013894678338196472, 'fourteenth': 0.00013894678338196472, 'monstrous': 0.00013894678338196472, 'gifts': 0.00013894678338196472, 'voyagerwe': 0.00013894678338196472, 'stranded': 0.00013894678338196472, 'victorian': 0.00013894678338196472, 'visions': 0.00013894678338196472, 'lovers': 0.00013894678338196472, 'cake': 0.00013894678338196472, 'lyrics': 0.00027789356676392944, 'blacker': 0.00013894678338196472, 'thinnest': 0.00027789356676392944, 'incremental': 0.00013894678338196472, 'gardenif': 0.00013894678338196472, 'maskwe': 0.00013894678338196472, 'suffering': 0.00027789356676392944, 'posterstheyre': 0.00013894678338196472, 'breath': 0.00013894678338196472, 'evangelium': 0.00013894678338196472, 'cross': 0.00041684035014589413, 'monument': 0.00013894678338196472, 'freed': 0.00013894678338196472, 'arch': 0.00027789356676392944, 'blue': 0.00013894678338196472, 'grocery': 0.00027789356676392944, 'crucial': 0.00027789356676392944, 'grace': 0.00041684035014589413, 'azath': 0.00013894678338196472, 'pretty': 0.00013894678338196472, 'crowning': 0.00013894678338196472, 'smartphone': 0.00013894678338196472, 'negation': 0.00013894678338196472, 'bitterness': 0.00013894678338196472, 'midsummer': 0.00013894678338196472, 'us': 0.00013894678338196472, 'green': 0.00013894678338196472, 'happy': 0.00027789356676392944, 'puritans': 0.00013894678338196472, 'amusements': 0.00013894678338196472, 'subsistence': 0.00013894678338196472, 'sage': 0.00013894678338196472, 'materialistic': 0.00013894678338196472, 'lived': 0.00013894678338196472, 'accomplishments': 0.00013894678338196472, 'fullness': 0.00013894678338196472, 'peak': 0.00013894678338196472, 't': 0.00013894678338196472, 'ethereal': 0.00013894678338196472, 'opportunity': 0.00027789356676392944, 'generally': 0.00013894678338196472, 'jollity': 0.00013894678338196472, 'pupil': 0.00013894678338196472, 'proud': 0.00013894678338196472, 'event': 0.00013894678338196472, 'nurse': 0.00013894678338196472, 'wizard': 0.00013894678338196472, 'sorrow': 0.00027789356676392944, 'worse': 0.00013894678338196472, 'vibrations': 0.00013894678338196472, 'sorrows': 0.00013894678338196472, 'hypothesis': 0.00013894678338196472, 'unconditional': 0.00013894678338196472, 'reasoning': 0.00013894678338196472, 'commandment': 0.00013894678338196472, 'fragility': 0.00013894678338196472, 'tenure': 0.00013894678338196472, 'faithful': 0.00013894678338196472, 'id': 0.00013894678338196472, 'nativity': 0.00013894678338196472, 'character': 0.00013894678338196472, 'steadfast': 0.00013894678338196472, 'generality': 0.00013894678338196472, 'shield': 0.00013894678338196472, 'boss': 0.00013894678338196472, 'being': 0.00013894678338196472, 'perplexity': 0.00013894678338196472, 'forgiveness': 0.00027789356676392944, 'grandeur': 0.00013894678338196472, 'matters': 0.00013894678338196472, 'crisis': 0.00013894678338196472, 'promised': 0.00013894678338196472, 'organist': 0.00013894678338196472, 'portraits': 0.00013894678338196472, 'core': 0.00013894678338196472, 'yogi': 0.00013894678338196472, 'finger': 0.00013894678338196472, 'substance': 0.00013894678338196472, 'neanderthals': 0.00013894678338196472, 'mighty': 0.00013894678338196472, 'visionless': 0.00013894678338196472, 'ithere': 0.00013894678338196472, 'simplicity': 0.00013894678338196472, 'loosh': 0.00027789356676392944, 'ancient': 0.00013894678338196472, 'heavenly': 0.00013894678338196472, 'miracles': 0.00013894678338196472, 'meme': 0.00013894678338196472, 'insistence': 0.00013894678338196472, 'doing': 0.00013894678338196472, 'vermin': 0.00013894678338196472, 'response': 0.00013894678338196472, 'conflicting': 0.00013894678338196472, 'risk': 0.00013894678338196472, 'back': 0.00013894678338196472, 'conservative': 0.00013894678338196472, 'complement': 0.00013894678338196472, 'historians': 0.00013894678338196472, 'righteousness': 0.00013894678338196472, 'destructive': 0.00013894678338196472, 'approval': 0.00013894678338196472, 'eternity': 0.00013894678338196472, 'sovereign': 0.00013894678338196472, 'questioning': 0.00013894678338196472, 'sincerity': 0.00013894678338196472, 'lines': 0.00013894678338196472, 'high': 0.00013894678338196472, 'guitarist': 0.00013894678338196472, 'righteous': 0.00013894678338196472, 'pit': 0.00013894678338196472, 'brevity': 0.00013894678338196472, 'origin': 0.00013894678338196472, 'sins': 0.00013894678338196472, 'turbulent': 0.00013894678338196472, 'limitations': 0.00013894678338196472, 'holly': 0.00013894678338196472, 'educated': 0.00041684035014589413, 'extremists': 0.00013894678338196472, 'advantages': 0.00013894678338196472, 'learning': 0.00013894678338196472, 'education': 0.00041684035014589413, 'direction': 0.00013894678338196472, 'gardener': 0.00013894678338196472, 'rearing': 0.00013894678338196472, 'humanities': 0.00013894678338196472, 'village': 0.00013894678338196472, 'nation': 0.00013894678338196472, 'bullet': 0.00013894678338196472, 'sophists': 0.00013894678338196472, 'eagle': 0.00013894678338196472, 'educational': 0.00041684035014589413, 'generational': 0.00013894678338196472, 'analysis': 0.00013894678338196472, 'combined': 0.00013894678338196472, 'forward': 0.00013894678338196472, 'values': 0.00013894678338196472, 'gi': 0.00013894678338196472, 'industrialized': 0.00013894678338196472, 'poorly': 0.00013894678338196472, 'educators': 0.00013894678338196472, 'aspects': 0.00013894678338196472, 'grain': 0.00013894678338196472, 'craving': 0.00013894678338196472, 'authorities': 0.00013894678338196472, 'secretary': 0.00013894678338196472, 'framers': 0.00013894678338196472, 'topics': 0.00013894678338196472, 'starvation': 0.00013894678338196472, 'murder': 0.00013894678338196472, 'biological': 0.00013894678338196472, 'agenda': 0.00013894678338196472, 'open': 0.00013894678338196472, 'probable': 0.00013894678338196472, 'students': 0.00013894678338196472, 'radical': 0.00013894678338196472, 'actual': 0.00013894678338196472, 'responsive': 0.00013894678338196472, 'acquiring': 0.00013894678338196472, 'worth': 0.00027789356676392944, 'burden': 0.00013894678338196472, 'heaviness': 0.00013894678338196472, 'phoenix': 0.00013894678338196472, 'cries': 0.00013894678338196472, 'theology': 0.00013894678338196472, 'rapt': 0.00013894678338196472, 'flesh': 0.00027789356676392944, 'cemetery': 0.00013894678338196472, 'worms': 0.00013894678338196472, 'dying': 0.00013894678338196472, 'fish': 0.00013894678338196472, 'steel': 0.00013894678338196472, 'wages': 0.00013894678338196472, 'bombs': 0.00013894678338196472, 'trigger': 0.00013894678338196472, 'sensation': 0.00013894678338196472, 'diseased': 0.00013894678338196472, 'field': 0.00013894678338196472, 'bulletproof': 0.00013894678338196472, 'chorus': 0.00013894678338196472, 'angel': 0.00027789356676392944, 'lucky': 0.00013894678338196472, 'calla': 0.00013894678338196472, 'thin': 0.00013894678338196472, 'guillotine': 0.00027789356676392944, 'painful': 0.00013894678338196472, 'fame': 0.00013894678338196472, 'reaper': 0.00013894678338196472, 'sharp': 0.00013894678338196472, 'overweight': 0.00013894678338196472, 'grave': 0.00013894678338196472, 'scribbled': 0.00013894678338196472, 'conversation': 0.00013894678338196472, 'lapse': 0.00013894678338196472, 'menopause': 0.00013894678338196472, 'planets': 0.00013894678338196472, 'morgue': 0.00013894678338196472, 'bodys': 0.00013894678338196472, 'crickets': 0.00013894678338196472, 'ferocity': 0.00013894678338196472, 'type': 0.00013894678338196472, 'chanting': 0.00013894678338196472, 'misfortune': 0.00013894678338196472, 'plane': 0.00013894678338196472, 'barrow': 0.00013894678338196472, 'deaths': 0.00013894678338196472, 'desert': 0.00013894678338196472, 'odd': 0.00013894678338196472, 'reading': 0.00027789356676392944, 'classroom': 0.00013894678338196472, 'stupidity': 0.00013894678338196472, 'unread': 0.00013894678338196472, 'paperback': 0.00013894678338196472, 'shelf': 0.00013894678338196472, 'buying': 0.00013894678338196472, 'prefect': 0.00013894678338196472, 'contents': 0.00013894678338196472, 'bookshop': 0.00013894678338196472, 'feel': 0.00013894678338196472, 'dirtiest': 0.00013894678338196472, 'imaginary': 0.00013894678338196472, 'wonderful': 0.00013894678338196472, 'airport': 0.00013894678338196472, 'perception': 0.00013894678338196472, 'servants': 0.00013894678338196472, 'feet': 0.00013894678338196472, 'venerable': 0.00013894678338196472, 'spirits': 0.00013894678338196472, 'waltz': 0.00013894678338196472, 'potion': 0.00013894678338196472, 'evils': 0.00013894678338196472, 'ereading': 0.00013894678338196472, 'flickering': 0.00013894678338196472, 'allatians': 0.00013894678338196472, 'thrill': 0.00013894678338196472, 'approach': 0.00013894678338196472, 'title': 0.00013894678338196472, 'result': 0.00013894678338196472, 'frontiers': 0.00013894678338196472}\n"
     ]
    }
   ],
   "source": [
    "text = str(random.choice(vocab))\n",
    "print('Me:', text)\n",
    "query = q(text)\n",
    "print(query)\n",
    "print(dict(model[query]))"
   ]
  },
  {
   "cell_type": "code",
   "execution_count": 22,
   "metadata": {
    "ExecuteTime": {
     "end_time": "2019-09-23T17:24:37.595022Z",
     "start_time": "2019-09-23T17:24:37.446717Z"
    }
   },
   "outputs": [
    {
     "name": "stdout",
     "output_type": "stream",
     "text": [
      "Me: Wherever\n",
      "Inspyrobot: Wherever you are be there totally if you find youre here and now intolerable and it makes you unhappy you have three options remove yourself from the situation change it or accept it totally if you want to be\n"
     ]
    }
   ],
   "source": [
    "text = str(random.choice(vocab))\n",
    "print('Me:', text)\n",
    "sentence_finished = False\n",
    " \n",
    "while not sentence_finished:\n",
    "    r = random.random()\n",
    "    accumulator = .0\n",
    "    if model[q(text)].keys() is None or (len(model[q(text)].keys()) == 1 and list(model[q(text)].keys())[0] == ''):\n",
    "        break\n",
    "    for word in model[q(text)].keys():\n",
    "        accumulator = model[q(text)][word]\n",
    "        if word != 'endquote' and accumulator >= r:\n",
    "            text += ' '+word\n",
    "            break\n",
    "        if word == 'endquote':\n",
    "            sentence_finished = True\n",
    "print('Inspyrobot:', end = ' ')      \n",
    "print(' '.join([t for t in text.split() if t]))"
   ]
  },
  {
   "cell_type": "markdown",
   "metadata": {},
   "source": [
    "# Pickling"
   ]
  },
  {
   "cell_type": "code",
   "execution_count": 23,
   "metadata": {
    "ExecuteTime": {
     "end_time": "2019-09-23T17:24:37.717721Z",
     "start_time": "2019-09-23T17:24:37.601206Z"
    }
   },
   "outputs": [],
   "source": [
    "DIR = 'E:/Models/Inspyrobot-Probabilistic-v3'\n",
    "os.mkdir(DIR)"
   ]
  },
  {
   "cell_type": "code",
   "execution_count": 24,
   "metadata": {
    "ExecuteTime": {
     "end_time": "2019-09-23T17:25:00.919639Z",
     "start_time": "2019-09-23T17:24:37.723933Z"
    }
   },
   "outputs": [],
   "source": [
    "with open(f'{DIR}/model.json', 'w') as f:\n",
    "    k = model.keys() \n",
    "    v = model.values() \n",
    "    k1 = [str(i) for i in k]\n",
    "    json.dump(json.dumps(dict(zip(*[k1,v]))),f)     "
   ]
  },
  {
   "cell_type": "code",
   "execution_count": 25,
   "metadata": {
    "ExecuteTime": {
     "end_time": "2019-09-23T17:26:08.972261Z",
     "start_time": "2019-09-23T17:25:00.922599Z"
    }
   },
   "outputs": [],
   "source": [
    "with open(f'{DIR}/model.json', 'r') as f:\n",
    "    data = json.load(f)\n",
    "    dic = json.loads(data)\n",
    "    k = dic.keys() \n",
    "    v = dic.values() \n",
    "    k1 = [eval(i) for i in k] \n",
    "    model =  dict(zip(*[k1,v]))"
   ]
  },
  {
   "cell_type": "code",
   "execution_count": 26,
   "metadata": {
    "ExecuteTime": {
     "end_time": "2019-09-23T17:26:09.219210Z",
     "start_time": "2019-09-23T17:26:08.978314Z"
    }
   },
   "outputs": [],
   "source": [
    "with open(f'{DIR}/vocab.json', 'w') as f:\n",
    "    json.dump(json.dumps(vocab),f)  "
   ]
  },
  {
   "cell_type": "code",
   "execution_count": 27,
   "metadata": {
    "ExecuteTime": {
     "end_time": "2019-09-23T17:26:09.354842Z",
     "start_time": "2019-09-23T17:26:09.228102Z"
    }
   },
   "outputs": [],
   "source": [
    "with open(f'{DIR}/vocab.json', 'r') as f:\n",
    "    vocab = json.loads(json.load(f))"
   ]
  },
  {
   "cell_type": "code",
   "execution_count": 28,
   "metadata": {
    "ExecuteTime": {
     "end_time": "2019-09-23T17:26:09.395263Z",
     "start_time": "2019-09-23T17:26:09.357751Z"
    }
   },
   "outputs": [
    {
     "name": "stdout",
     "output_type": "stream",
     "text": [
      "Me: Hazel\n",
      "Inspyrobot: Hazel always used to say dont raise your voice improve your argument good sense does not always lie with the loudest shouters nor can we say that a large unruly crowd is always the best teacher\n"
     ]
    }
   ],
   "source": [
    "text = str(random.choice(vocab))\n",
    "print('Me:', text)\n",
    "sentence_finished = False\n",
    " \n",
    "while not sentence_finished:\n",
    "    r = random.random()\n",
    "    accumulator = .0\n",
    "    if model[q(text)].keys() is None or (len(model[q(text)].keys()) == 1 and list(model[q(text)].keys())[0] == ''):\n",
    "        break\n",
    "    for word in model[q(text)].keys():\n",
    "        accumulator = model[q(text)][word]\n",
    "        if word != 'endquote' and accumulator >= r:\n",
    "            text += ' '+word\n",
    "            break\n",
    "        if word == 'endquote':\n",
    "            sentence_finished = True\n",
    "print('Inspyrobot:', end = ' ')      \n",
    "print(' '.join([t for t in text.split() if t]))"
   ]
  },
  {
   "cell_type": "markdown",
   "metadata": {},
   "source": [
    "# Wrapper Functions"
   ]
  },
  {
   "cell_type": "code",
   "execution_count": 29,
   "metadata": {
    "ExecuteTime": {
     "end_time": "2019-09-23T17:26:09.644420Z",
     "start_time": "2019-09-23T17:26:09.400251Z"
    }
   },
   "outputs": [],
   "source": [
    "import json, random\n",
    "from nltk import ngrams\n",
    "\n",
    "DIR = 'E:/Models/Inspyrobot-Probabilistic-v3'\n",
    "n = 4\n",
    "q = lambda x : list(ngrams(x.lower().split(), n, pad_left=True, pad_right=False,  left_pad_symbol=''))[-1]\n",
    "\n",
    "def inspyre(text=''):\n",
    "    with open(f'{DIR}/model.json', 'r') as f:\n",
    "        data = json.load(f)\n",
    "        dic = json.loads(data)\n",
    "        k = dic.keys() \n",
    "        v = dic.values() \n",
    "        k1 = [eval(i) for i in k] \n",
    "        model =  dict(zip(*[k1,v]))\n",
    "    if text == '':\n",
    "        with open(f'{DIR}/vocab.json', 'r') as f:\n",
    "            vocab = json.loads(json.load(f))\n",
    "        text = str(random.choice(vocab))\n",
    "    sentence_finished = False\n",
    "    while not sentence_finished:\n",
    "        r = random.random()\n",
    "        accumulator = .0\n",
    "        if model[q(text)].keys() is None or (len(model[q(text)].keys()) == 1 and list(model[q(text)].keys())[0] == ''):\n",
    "            break\n",
    "        for word in model[q(text)].keys():\n",
    "            accumulator = model[q(text)][word]\n",
    "            if word != 'endquote' and accumulator >= r:\n",
    "                text += ' '+word\n",
    "                break\n",
    "            if word == 'endquote':\n",
    "                sentence_finished = True\n",
    "    print('Inspyrobot:', end = ' ')      \n",
    "    print(' '.join([t for t in text.split() if t]))"
   ]
  },
  {
   "cell_type": "code",
   "execution_count": 30,
   "metadata": {
    "ExecuteTime": {
     "end_time": "2019-09-23T17:27:20.401773Z",
     "start_time": "2019-09-23T17:26:09.646304Z"
    }
   },
   "outputs": [
    {
     "name": "stdout",
     "output_type": "stream",
     "text": [
      "Inspyrobot: A good book is an event in my life\n"
     ]
    }
   ],
   "source": [
    "inspyre()"
   ]
  },
  {
   "cell_type": "code",
   "execution_count": null,
   "metadata": {},
   "outputs": [],
   "source": []
  }
 ],
 "metadata": {
  "kernelspec": {
   "display_name": "Python 3",
   "language": "python",
   "name": "python3"
  },
  "language_info": {
   "codemirror_mode": {
    "name": "ipython",
    "version": 3
   },
   "file_extension": ".py",
   "mimetype": "text/x-python",
   "name": "python",
   "nbconvert_exporter": "python",
   "pygments_lexer": "ipython3",
   "version": "3.7.3"
  },
  "toc": {
   "base_numbering": 1,
   "nav_menu": {},
   "number_sections": true,
   "sideBar": true,
   "skip_h1_title": false,
   "title_cell": "Table of Contents",
   "title_sidebar": "Contents",
   "toc_cell": false,
   "toc_position": {},
   "toc_section_display": true,
   "toc_window_display": false
  },
  "varInspector": {
   "cols": {
    "lenName": 16,
    "lenType": 16,
    "lenVar": 40
   },
   "kernels_config": {
    "python": {
     "delete_cmd_postfix": "",
     "delete_cmd_prefix": "del ",
     "library": "var_list.py",
     "varRefreshCmd": "print(var_dic_list())"
    },
    "r": {
     "delete_cmd_postfix": ") ",
     "delete_cmd_prefix": "rm(",
     "library": "var_list.r",
     "varRefreshCmd": "cat(var_dic_list()) "
    }
   },
   "types_to_exclude": [
    "module",
    "function",
    "builtin_function_or_method",
    "instance",
    "_Feature"
   ],
   "window_display": false
  }
 },
 "nbformat": 4,
 "nbformat_minor": 2
}
