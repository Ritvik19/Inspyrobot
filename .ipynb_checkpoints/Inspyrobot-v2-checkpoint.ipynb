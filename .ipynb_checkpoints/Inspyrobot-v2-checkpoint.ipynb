{
 "cells": [
  {
   "cell_type": "markdown",
   "metadata": {},
   "source": [
    "# Libraries"
   ]
  },
  {
   "cell_type": "code",
   "execution_count": 1,
   "metadata": {
    "ExecuteTime": {
     "end_time": "2019-09-23T17:38:19.318658Z",
     "start_time": "2019-09-23T17:38:01.316140Z"
    }
   },
   "outputs": [],
   "source": [
    "import numpy as np\n",
    "import pandas as pd"
   ]
  },
  {
   "cell_type": "code",
   "execution_count": 2,
   "metadata": {
    "ExecuteTime": {
     "end_time": "2019-09-23T17:38:48.935603Z",
     "start_time": "2019-09-23T17:38:19.321561Z"
    }
   },
   "outputs": [],
   "source": [
    "import re\n",
    "from nltk import ngrams\n",
    "from collections import defaultdict"
   ]
  },
  {
   "cell_type": "code",
   "execution_count": 3,
   "metadata": {
    "ExecuteTime": {
     "end_time": "2019-09-23T17:38:48.947571Z",
     "start_time": "2019-09-23T17:38:48.940590Z"
    }
   },
   "outputs": [],
   "source": [
    "import random\n",
    "import json\n",
    "import os"
   ]
  },
  {
   "cell_type": "code",
   "execution_count": 4,
   "metadata": {
    "ExecuteTime": {
     "end_time": "2019-09-23T17:38:49.264276Z",
     "start_time": "2019-09-23T17:38:48.952559Z"
    }
   },
   "outputs": [],
   "source": [
    "pd.options.display.max_colwidth = -1"
   ]
  },
  {
   "cell_type": "markdown",
   "metadata": {},
   "source": [
    "# Data"
   ]
  },
  {
   "cell_type": "code",
   "execution_count": 5,
   "metadata": {
    "ExecuteTime": {
     "end_time": "2019-09-23T17:38:59.487603Z",
     "start_time": "2019-09-23T17:38:49.266244Z"
    }
   },
   "outputs": [
    {
     "name": "stdout",
     "output_type": "stream",
     "text": [
      "92970\n"
     ]
    }
   ],
   "source": [
    "data = pd.DataFrame(columns=['Quote'])\n",
    "for folderName, subfolders, filenames in os.walk('E:/Scrapped-Data/Quotes-Goodreads/'):\n",
    "    for filename in filenames:\n",
    "        data = pd.concat([pd.read_csv('E:/Scrapped-Data/Quotes-Goodreads/'+filename), data], axis=0)\n",
    "print(len(data))"
   ]
  },
  {
   "cell_type": "code",
   "execution_count": 6,
   "metadata": {
    "ExecuteTime": {
     "end_time": "2019-09-23T17:38:59.795467Z",
     "start_time": "2019-09-23T17:38:59.493586Z"
    }
   },
   "outputs": [
    {
     "data": {
      "text/html": [
       "<div>\n",
       "<style scoped>\n",
       "    .dataframe tbody tr th:only-of-type {\n",
       "        vertical-align: middle;\n",
       "    }\n",
       "\n",
       "    .dataframe tbody tr th {\n",
       "        vertical-align: top;\n",
       "    }\n",
       "\n",
       "    .dataframe thead th {\n",
       "        text-align: right;\n",
       "    }\n",
       "</style>\n",
       "<table border=\"1\" class=\"dataframe\">\n",
       "  <thead>\n",
       "    <tr style=\"text-align: right;\">\n",
       "      <th></th>\n",
       "      <th>Quote</th>\n",
       "    </tr>\n",
       "  </thead>\n",
       "  <tbody>\n",
       "    <tr>\n",
       "      <td>0</td>\n",
       "      <td>“I love deadlines. I love the whooshing noise they make as they go by.” ― Douglas Adams, The Salmon of Doubt //</td>\n",
       "    </tr>\n",
       "    <tr>\n",
       "      <td>1</td>\n",
       "      <td>“There is no greater agony than bearing an untold story inside you.” ― Maya Angelou, I Know Why the Caged Bird Sings //</td>\n",
       "    </tr>\n",
       "    <tr>\n",
       "      <td>2</td>\n",
       "      <td>“What really knocks me out is a book that, when you're all done reading it, you wish the author that wrote it was a terrific friend of yours and you could call him up on the phone whenever you felt like it. That doesn't happen much, though.” ― J.D. Salinger, The Catcher in the Rye //</td>\n",
       "    </tr>\n",
       "    <tr>\n",
       "      <td>3</td>\n",
       "      <td>“If there's a book that you want to read, but it hasn't been written yet, then you must write it.” ― Toni Morrison</td>\n",
       "    </tr>\n",
       "    <tr>\n",
       "      <td>4</td>\n",
       "      <td>“There is nothing to writing. All you do is sit down at a typewriter and bleed.” ― Ernest Hemingway</td>\n",
       "    </tr>\n",
       "  </tbody>\n",
       "</table>\n",
       "</div>"
      ],
      "text/plain": [
       "                                                                                                                                                                                                                                                                                          Quote\n",
       "0  “I love deadlines. I love the whooshing noise they make as they go by.” ― Douglas Adams, The Salmon of Doubt //                                                                                                                                                                             \n",
       "1  “There is no greater agony than bearing an untold story inside you.” ― Maya Angelou, I Know Why the Caged Bird Sings //                                                                                                                                                                     \n",
       "2  “What really knocks me out is a book that, when you're all done reading it, you wish the author that wrote it was a terrific friend of yours and you could call him up on the phone whenever you felt like it. That doesn't happen much, though.” ― J.D. Salinger, The Catcher in the Rye //\n",
       "3  “If there's a book that you want to read, but it hasn't been written yet, then you must write it.” ― Toni Morrison                                                                                                                                                                          \n",
       "4  “There is nothing to writing. All you do is sit down at a typewriter and bleed.” ― Ernest Hemingway                                                                                                                                                                                         "
      ]
     },
     "execution_count": 6,
     "metadata": {},
     "output_type": "execute_result"
    }
   ],
   "source": [
    "data.head()"
   ]
  },
  {
   "cell_type": "markdown",
   "metadata": {},
   "source": [
    "**Cleaning**"
   ]
  },
  {
   "cell_type": "code",
   "execution_count": 7,
   "metadata": {
    "ExecuteTime": {
     "end_time": "2019-09-23T17:39:00.276009Z",
     "start_time": "2019-09-23T17:38:59.798461Z"
    }
   },
   "outputs": [],
   "source": [
    "def clean(x):\n",
    "    x = x.split('―')[0]\n",
    "    x = x[1:-2]\n",
    "    return x"
   ]
  },
  {
   "cell_type": "code",
   "execution_count": 8,
   "metadata": {
    "ExecuteTime": {
     "end_time": "2019-09-23T17:39:01.322408Z",
     "start_time": "2019-09-23T17:39:00.298907Z"
    }
   },
   "outputs": [
    {
     "name": "stdout",
     "output_type": "stream",
     "text": [
      "73624\n"
     ]
    }
   ],
   "source": [
    "data['Quote'] = data['Quote'].apply(clean)\n",
    "data.drop_duplicates(inplace=True)\n",
    "data.reset_index(drop=True, inplace=True)\n",
    "print(len(data))"
   ]
  },
  {
   "cell_type": "code",
   "execution_count": 9,
   "metadata": {
    "ExecuteTime": {
     "end_time": "2019-09-23T17:39:01.337335Z",
     "start_time": "2019-09-23T17:39:01.326361Z"
    }
   },
   "outputs": [
    {
     "data": {
      "text/html": [
       "<div>\n",
       "<style scoped>\n",
       "    .dataframe tbody tr th:only-of-type {\n",
       "        vertical-align: middle;\n",
       "    }\n",
       "\n",
       "    .dataframe tbody tr th {\n",
       "        vertical-align: top;\n",
       "    }\n",
       "\n",
       "    .dataframe thead th {\n",
       "        text-align: right;\n",
       "    }\n",
       "</style>\n",
       "<table border=\"1\" class=\"dataframe\">\n",
       "  <thead>\n",
       "    <tr style=\"text-align: right;\">\n",
       "      <th></th>\n",
       "      <th>Quote</th>\n",
       "    </tr>\n",
       "  </thead>\n",
       "  <tbody>\n",
       "    <tr>\n",
       "      <td>0</td>\n",
       "      <td>I love deadlines. I love the whooshing noise they make as they go by.</td>\n",
       "    </tr>\n",
       "    <tr>\n",
       "      <td>1</td>\n",
       "      <td>There is no greater agony than bearing an untold story inside you.</td>\n",
       "    </tr>\n",
       "    <tr>\n",
       "      <td>2</td>\n",
       "      <td>What really knocks me out is a book that, when you're all done reading it, you wish the author that wrote it was a terrific friend of yours and you could call him up on the phone whenever you felt like it. That doesn't happen much, though.</td>\n",
       "    </tr>\n",
       "    <tr>\n",
       "      <td>3</td>\n",
       "      <td>If there's a book that you want to read, but it hasn't been written yet, then you must write it.</td>\n",
       "    </tr>\n",
       "    <tr>\n",
       "      <td>4</td>\n",
       "      <td>There is nothing to writing. All you do is sit down at a typewriter and bleed.</td>\n",
       "    </tr>\n",
       "  </tbody>\n",
       "</table>\n",
       "</div>"
      ],
      "text/plain": [
       "                                                                                                                                                                                                                                             Quote\n",
       "0  I love deadlines. I love the whooshing noise they make as they go by.                                                                                                                                                                          \n",
       "1  There is no greater agony than bearing an untold story inside you.                                                                                                                                                                             \n",
       "2  What really knocks me out is a book that, when you're all done reading it, you wish the author that wrote it was a terrific friend of yours and you could call him up on the phone whenever you felt like it. That doesn't happen much, though.\n",
       "3  If there's a book that you want to read, but it hasn't been written yet, then you must write it.                                                                                                                                               \n",
       "4  There is nothing to writing. All you do is sit down at a typewriter and bleed.                                                                                                                                                                 "
      ]
     },
     "execution_count": 9,
     "metadata": {},
     "output_type": "execute_result"
    }
   ],
   "source": [
    "data.head()"
   ]
  },
  {
   "cell_type": "markdown",
   "metadata": {},
   "source": [
    "# More Data"
   ]
  },
  {
   "cell_type": "code",
   "execution_count": 10,
   "metadata": {
    "ExecuteTime": {
     "end_time": "2019-09-23T17:39:03.330746Z",
     "start_time": "2019-09-23T17:39:01.340324Z"
    }
   },
   "outputs": [
    {
     "name": "stdout",
     "output_type": "stream",
     "text": [
      "82204\n"
     ]
    }
   ],
   "source": [
    "for folderName, subfolders, filenames in os.walk('E:/Scrapped-Data/BrainyQuote/'):\n",
    "    for filename in filenames:\n",
    "        data = pd.concat([pd.read_csv('E:/Scrapped-Data/BrainyQuote/'+filename), data], axis=0)\n",
    "print(len(data))"
   ]
  },
  {
   "cell_type": "code",
   "execution_count": 11,
   "metadata": {
    "ExecuteTime": {
     "end_time": "2019-09-23T17:39:03.439450Z",
     "start_time": "2019-09-23T17:39:03.336726Z"
    }
   },
   "outputs": [
    {
     "name": "stdout",
     "output_type": "stream",
     "text": [
      "81722\n"
     ]
    }
   ],
   "source": [
    "data.drop_duplicates(inplace=True)\n",
    "data.reset_index(drop=True, inplace=True)\n",
    "print(len(data))"
   ]
  },
  {
   "cell_type": "markdown",
   "metadata": {},
   "source": [
    "**Preprocess**"
   ]
  },
  {
   "cell_type": "code",
   "execution_count": 12,
   "metadata": {
    "ExecuteTime": {
     "end_time": "2019-09-23T17:39:04.565839Z",
     "start_time": "2019-09-23T17:39:03.441470Z"
    }
   },
   "outputs": [],
   "source": [
    "data['Quote'] = data['Quote'].apply(lambda x: re.sub(r'[^\\w\\s]|_', '', x))\n",
    "data['Quote'] = data['Quote'].apply(lambda x : x + ' endquote')"
   ]
  },
  {
   "cell_type": "code",
   "execution_count": 13,
   "metadata": {
    "ExecuteTime": {
     "end_time": "2019-09-23T17:39:04.664551Z",
     "start_time": "2019-09-23T17:39:04.567806Z"
    }
   },
   "outputs": [
    {
     "name": "stdout",
     "output_type": "stream",
     "text": [
      "81577\n"
     ]
    }
   ],
   "source": [
    "data.drop_duplicates(inplace=True)\n",
    "data.reset_index(drop=True, inplace=True)\n",
    "print(len(data))"
   ]
  },
  {
   "cell_type": "markdown",
   "metadata": {},
   "source": [
    "# Training"
   ]
  },
  {
   "cell_type": "code",
   "execution_count": 14,
   "metadata": {
    "ExecuteTime": {
     "end_time": "2019-09-23T17:39:05.902204Z",
     "start_time": "2019-09-23T17:39:04.668538Z"
    }
   },
   "outputs": [],
   "source": [
    "vocab = data['Quote'].apply(lambda x: x.split()[0]).values.tolist()"
   ]
  },
  {
   "cell_type": "code",
   "execution_count": 15,
   "metadata": {
    "ExecuteTime": {
     "end_time": "2019-09-23T17:39:34.705077Z",
     "start_time": "2019-09-23T17:39:05.904202Z"
    }
   },
   "outputs": [],
   "source": [
    "n = 4\n",
    "model = defaultdict(lambda: defaultdict(lambda: 0))\n",
    "word_grams = []\n",
    "for i in range(len(data)):\n",
    "    word_grams += list(ngrams(data['Quote'][i].lower().split(), n+1, \n",
    "                              pad_left=True, pad_right=True,  left_pad_symbol='', right_pad_symbol=''))\n",
    "for w in word_grams:\n",
    "    model[w[:-1]][w[-1]] += 1\n",
    "for w1 in model:\n",
    "    total_count = float(sum(model[w1].values()))\n",
    "    for w2 in model[w1]:\n",
    "        model[w1][w2] /= total_count\n",
    "model = dict(model)        "
   ]
  },
  {
   "cell_type": "code",
   "execution_count": 16,
   "metadata": {
    "ExecuteTime": {
     "end_time": "2019-09-23T17:39:34.720010Z",
     "start_time": "2019-09-23T17:39:34.707043Z"
    }
   },
   "outputs": [],
   "source": [
    "q = lambda x : list(ngrams(x.lower().split(), n, pad_left=True, pad_right=False,  left_pad_symbol=''))[-1]"
   ]
  },
  {
   "cell_type": "code",
   "execution_count": 17,
   "metadata": {
    "ExecuteTime": {
     "end_time": "2019-09-23T17:39:34.983944Z",
     "start_time": "2019-09-23T17:39:34.724001Z"
    }
   },
   "outputs": [
    {
     "name": "stdout",
     "output_type": "stream",
     "text": [
      "Me: Love\n",
      "('', '', '', 'love')\n",
      "{'is': 0.44835680751173707, 'yourself': 0.015258215962441314, 'who': 0.005868544600938967, 'friendship': 0.0011737089201877935, 'and': 0.02699530516431925, 'the': 0.015258215962441314, 'hurtsthink': 0.0011737089201877935, 'of': 0.0011737089201877935, 'only': 0.002347417840375587, 'begets': 0.002347417840375587, 'taught': 0.0011737089201877935, 'between': 0.0011737089201877935, 'consists': 0.004694835680751174, 'as': 0.009389671361502348, 'will': 0.009389671361502348, 'keeps': 0.0011737089201877935, 'can': 0.011737089201877934, 'isnt': 0.009389671361502348, 'begins': 0.002347417840375587, 'truth': 0.0011737089201877935, 'doesnt': 0.018779342723004695, 'speaks': 0.0011737089201877935, 'without': 0.005868544600938967, 'does': 0.011737089201877934, 'wasnt': 0.002347417840375587, 'cost': 0.0011737089201877935, 'he': 0.002347417840375587, 'life': 0.002347417840375587, 'goes': 0.0035211267605633804, 'time': 0.0011737089201877935, 'comes': 0.0035211267605633804, 'with': 0.0011737089201877935, 'makes': 0.01056338028169014, 'spiritually': 0.0011737089201877935, 'one': 0.004694835680751174, 'mercy': 0.0011737089201877935, 'transforms': 0.0011737089201877935, 'demands': 0.0035211267605633804, 'manifests': 0.0011737089201877935, 'gives': 0.0035211267605633804, 'strengthens': 0.0011737089201877935, 'burnt': 0.0011737089201877935, 'cannot': 0.009389671361502348, 'guides': 0.0011737089201877935, 'illuminates': 0.0011737089201877935, 'verily': 0.0011737089201877935, 'from': 0.0035211267605633804, 'first': 0.0011737089201877935, 'in': 0.008215962441314555, 'fire': 0.0011737089201877935, 'like': 0.007042253521126761, 'expands': 0.0011737089201877935, 'never': 0.008215962441314555, 'me': 0.01995305164319249, 'fades': 0.002347417840375587, 'enters': 0.0011737089201877935, 'should': 0.007042253521126761, 'starts': 0.0011737089201877935, 'outweighs': 0.0011737089201877935, 'darren': 0.0011737089201877935, 'was': 0.009389671361502348, 'means': 0.002347417840375587, 'my': 0.002347417840375587, 'lasts': 0.0011737089201877935, 'has': 0.01995305164319249, 'falls': 0.0011737089201877935, 'grows': 0.002347417840375587, 'tames': 0.0011737089201877935, 'affairs': 0.0011737089201877935, 'melove': 0.0011737089201877935, 'alone': 0.0035211267605633804, 'request': 0.0011737089201877935, 'which': 0.0011737089201877935, 'may': 0.007042253521126761, 'out': 0.0011737089201877935, 'imposes': 0.0011737089201877935, 'all': 0.002347417840375587, 'looks': 0.0011737089201877935, 'conquers': 0.002347417840375587, 'it': 0.004694835680751174, 'after': 0.0011737089201877935, 'sorrowlove': 0.0011737089201877935, 'what': 0.002347417840375587, 'her': 0.002347417840375587, 'shall': 0.0011737089201877935, 'our': 0.0011737089201877935, 'riddeni': 0.0011737089201877935, 'songhow': 0.0011737089201877935, 'wounds': 0.0011737089201877935, 'could': 0.002347417840375587, 'waslove': 0.0011737089201877935, 'i': 0.0035211267605633804, 'make': 0.0011737089201877935, 'itself': 0.0011737089201877935, 'delayed': 0.0011737089201877935, 'finds': 0.0035211267605633804, 'being': 0.002347417840375587, 'too': 0.002347417840375587, 'knows': 0.002347417840375587, 'blends': 0.0011737089201877935, 'abounds': 0.0011737089201877935, 'god': 0.0035211267605633804, 'everyone': 0.002347417840375587, 'someone': 0.002347417840375587, 'drips': 0.0011737089201877935, 'deep': 0.0011737089201877935, 'passion': 0.0011737089201877935, 'leaves': 0.002347417840375587, 'shapes': 0.0011737089201877935, 'generates': 0.0011737089201877935, 'meas': 0.0011737089201877935, 'needs': 0.0011737089201877935, 'sees': 0.002347417840375587, 'at': 0.0035211267605633804, 'feels': 0.002347417840375587, 'foremost': 0.0011737089201877935, 'much': 0.0011737089201877935, 'lost': 0.0011737089201877935, 'to': 0.0011737089201877935, 'until': 0.0011737089201877935, 'oozes': 0.0011737089201877935, 'people': 0.007042253521126761, 'heals': 0.0035211267605633804, 'transcends': 0.0011737089201877935, 'thinkslove': 0.0011737089201877935, 'wont': 0.0011737089201877935, 'earns': 0.0011737089201877935, 'defies': 0.0011737089201877935, 'no': 0.0011737089201877935, 'even': 0.0011737089201877935, 'lights': 0.0011737089201877935, 'enhances': 0.0011737089201877935, 'look': 0.0011737089201877935, 'iswalking': 0.0011737089201877935, 'encompasses': 0.0011737089201877935, 'knits': 0.0011737089201877935, 'says': 0.0011737089201877935, 'she': 0.0011737089201877935, 'withers': 0.0011737089201877935, 'dont': 0.0011737089201877935, 'oils': 0.002347417840375587, 'blesses': 0.002347417840375587, 'tastes': 0.0011737089201877935, 'thats': 0.002347417840375587, 'must': 0.002347417840375587, 'now': 0.0011737089201877935, 'still': 0.0011737089201877935, 'equals': 0.0011737089201877935, 'a': 0.002347417840375587, 'purifies': 0.0011737089201877935, 'rules': 0.0011737089201877935, 'teaches': 0.0011737089201877935, 'binds': 0.0011737089201877935, 'nothing': 0.0011737089201877935, 'your': 0.004694835680751174, 'on': 0.0011737089201877935, 'neighborslove': 0.0011737089201877935, 'overcomes': 0.0011737089201877935, 'those': 0.0035211267605633804, 'reached': 0.0011737089201877935, 'gabriela': 0.0011737089201877935, 'so': 0.0011737089201877935, 'weathers': 0.0011737089201877935, 'ive': 0.0011737089201877935, 'n': 0.0011737089201877935, 'sucks': 0.0011737089201877935, 'recognizes': 0.0011737089201877935, 'jo': 0.0011737089201877935, 'meant': 0.002347417840375587, 'wins': 0.002347417840375587, 'when': 0.002347417840375587, 'simply': 0.0011737089201877935, 'isa': 0.0011737089201877935, 'whether': 0.0011737089201877935, 'takes': 0.002347417840375587, 'blurs': 0.0011737089201877935, 'love': 0.0011737089201877935, 'comforteth': 0.0011737089201877935, 'didnt': 0.0011737089201877935, 'entered': 0.0011737089201877935, 'chooses': 0.0011737089201877935, 'that': 0.0011737089201877935, 'moderately': 0.0011737089201877935, 'brings': 0.0011737089201877935, 'sought': 0.0011737089201877935, 'hard': 0.0011737089201877935, 'changes': 0.002347417840375587, 'everyonetrust': 0.0011737089201877935, 'thy': 0.002347417840375587, 'isin': 0.002347417840375587, 'you': 0.0011737089201877935, 'breathes': 0.0011737089201877935, 'devotion': 0.0011737089201877935, 'for': 0.0011737089201877935, 'yourselffor': 0.0011737089201877935, 'fall': 0.0011737089201877935, 'art': 0.0011737089201877935, 'cures': 0.0011737089201877935, 'stories': 0.0011737089201877935, 'cultivates': 0.0011737089201877935, 'bus': 0.0011737089201877935, 'came': 0.0011737089201877935, 'learn': 0.0011737089201877935, 'loves': 0.0011737089201877935, 'brought': 0.0011737089201877935, 'inspirational': 0.0011737089201877935}\n"
     ]
    }
   ],
   "source": [
    "text = str(random.choice(vocab))\n",
    "print('Me:', text)\n",
    "query = q(text)\n",
    "print(query)\n",
    "print(dict(model[query]))"
   ]
  },
  {
   "cell_type": "code",
   "execution_count": 18,
   "metadata": {
    "ExecuteTime": {
     "end_time": "2019-09-23T17:39:35.175431Z",
     "start_time": "2019-09-23T17:39:34.986964Z"
    }
   },
   "outputs": [
    {
     "name": "stdout",
     "output_type": "stream",
     "text": [
      "Me: I\n",
      "Inspyrobot: I am a teacher and i think when you make mistakes and you recover from them and you treat them as valuable learning experiences then youve got something to share\n"
     ]
    }
   ],
   "source": [
    "text = str(random.choice(vocab))\n",
    "print('Me:', text)\n",
    "sentence_finished = False\n",
    " \n",
    "while not sentence_finished:\n",
    "    r = random.random()\n",
    "    accumulator = .0\n",
    "    if model[q(text)].keys() is None or (len(model[q(text)].keys()) == 1 and list(model[q(text)].keys())[0] == ''):\n",
    "        break\n",
    "    for word in model[q(text)].keys():\n",
    "        accumulator = model[q(text)][word]\n",
    "        if word != 'endquote' and accumulator >= r:\n",
    "            text += ' '+word\n",
    "            break\n",
    "        if word == 'endquote':\n",
    "            sentence_finished = True\n",
    "print('Inspyrobot:', end = ' ')      \n",
    "print(' '.join([t for t in text.split() if t]))"
   ]
  },
  {
   "cell_type": "markdown",
   "metadata": {},
   "source": [
    "# Pickling"
   ]
  },
  {
   "cell_type": "code",
   "execution_count": 19,
   "metadata": {
    "ExecuteTime": {
     "end_time": "2019-09-23T17:39:35.422622Z",
     "start_time": "2019-09-23T17:39:35.180418Z"
    }
   },
   "outputs": [],
   "source": [
    "DIR = 'E:/Models/Inspyrobot-Probabilistic-v2'\n",
    "os.mkdir(DIR)"
   ]
  },
  {
   "cell_type": "code",
   "execution_count": 20,
   "metadata": {
    "ExecuteTime": {
     "end_time": "2019-09-23T17:40:00.135495Z",
     "start_time": "2019-09-23T17:39:35.426613Z"
    }
   },
   "outputs": [],
   "source": [
    "with open(f'{DIR}/model.json', 'w') as f:\n",
    "    k = model.keys() \n",
    "    v = model.values() \n",
    "    k1 = [str(i) for i in k]\n",
    "    json.dump(json.dumps(dict(zip(*[k1,v]))),f)     "
   ]
  },
  {
   "cell_type": "code",
   "execution_count": 21,
   "metadata": {
    "ExecuteTime": {
     "end_time": "2019-09-23T17:41:05.718426Z",
     "start_time": "2019-09-23T17:40:00.138486Z"
    }
   },
   "outputs": [],
   "source": [
    "with open(f'{DIR}/model.json', 'r') as f:\n",
    "    data = json.load(f)\n",
    "    dic = json.loads(data)\n",
    "    k = dic.keys() \n",
    "    v = dic.values() \n",
    "    k1 = [eval(i) for i in k] \n",
    "    model =  dict(zip(*[k1,v]))"
   ]
  },
  {
   "cell_type": "code",
   "execution_count": 22,
   "metadata": {
    "ExecuteTime": {
     "end_time": "2019-09-23T17:41:06.094674Z",
     "start_time": "2019-09-23T17:41:05.722414Z"
    }
   },
   "outputs": [],
   "source": [
    "with open(f'{DIR}/vocab.json', 'w') as f:\n",
    "    json.dump(json.dumps(vocab),f)  "
   ]
  },
  {
   "cell_type": "code",
   "execution_count": 23,
   "metadata": {
    "ExecuteTime": {
     "end_time": "2019-09-23T17:41:06.215350Z",
     "start_time": "2019-09-23T17:41:06.106642Z"
    }
   },
   "outputs": [],
   "source": [
    "with open(f'{DIR}/vocab.json', 'r') as f:\n",
    "    vocab = json.loads(json.load(f))"
   ]
  },
  {
   "cell_type": "code",
   "execution_count": 24,
   "metadata": {
    "ExecuteTime": {
     "end_time": "2019-09-23T17:41:06.444742Z",
     "start_time": "2019-09-23T17:41:06.223329Z"
    }
   },
   "outputs": [
    {
     "name": "stdout",
     "output_type": "stream",
     "text": [
      "Me: Yesterday\n",
      "Inspyrobot: Yesterday is not ours to recover but tomorrow is ours to win or lose\n"
     ]
    }
   ],
   "source": [
    "text = str(random.choice(vocab))\n",
    "print('Me:', text)\n",
    "sentence_finished = False\n",
    " \n",
    "while not sentence_finished:\n",
    "    r = random.random()\n",
    "    accumulator = .0\n",
    "    if model[q(text)].keys() is None or (len(model[q(text)].keys()) == 1 and list(model[q(text)].keys())[0] == ''):\n",
    "        break\n",
    "    for word in model[q(text)].keys():\n",
    "        accumulator = model[q(text)][word]\n",
    "        if word != 'endquote' and accumulator >= r:\n",
    "            text += ' '+word\n",
    "            break\n",
    "        if word == 'endquote':\n",
    "            sentence_finished = True\n",
    "print('Inspyrobot:', end = ' ')      \n",
    "print(' '.join([t for t in text.split() if t]))"
   ]
  },
  {
   "cell_type": "markdown",
   "metadata": {},
   "source": [
    "# Wrapper Functions"
   ]
  },
  {
   "cell_type": "code",
   "execution_count": 25,
   "metadata": {
    "ExecuteTime": {
     "end_time": "2019-09-23T17:41:06.659168Z",
     "start_time": "2019-09-23T17:41:06.447734Z"
    }
   },
   "outputs": [],
   "source": [
    "import json, random\n",
    "from nltk import ngrams\n",
    "\n",
    "DIR = 'E:/Models/Inspyrobot-Probabilistic-v2'\n",
    "n = 4\n",
    "q = lambda x : list(ngrams(x.lower().split(), n, pad_left=True, pad_right=False,  left_pad_symbol=''))[-1]\n",
    "\n",
    "def inspyre(text=''):\n",
    "    with open(f'{DIR}/model.json', 'r') as f:\n",
    "        data = json.load(f)\n",
    "        dic = json.loads(data)\n",
    "        k = dic.keys() \n",
    "        v = dic.values() \n",
    "        k1 = [eval(i) for i in k] \n",
    "        model =  dict(zip(*[k1,v]))\n",
    "    if text == '':\n",
    "        with open(f'{DIR}/vocab.json', 'r') as f:\n",
    "            vocab = json.loads(json.load(f))\n",
    "        text = str(random.choice(vocab))\n",
    "    sentence_finished = False\n",
    "    while not sentence_finished:\n",
    "        r = random.random()\n",
    "        accumulator = .0\n",
    "        if model[q(text)].keys() is None or (len(model[q(text)].keys()) == 1 and list(model[q(text)].keys())[0] == ''):\n",
    "            break\n",
    "        for word in model[q(text)].keys():\n",
    "            accumulator = model[q(text)][word]\n",
    "            if word != 'endquote' and accumulator >= r:\n",
    "                text += ' '+word\n",
    "                break\n",
    "            if word == 'endquote':\n",
    "                sentence_finished = True\n",
    "    print('Inspyrobot:', end = ' ')      \n",
    "    print(' '.join([t for t in text.split() if t]))"
   ]
  },
  {
   "cell_type": "code",
   "execution_count": 26,
   "metadata": {
    "ExecuteTime": {
     "end_time": "2019-09-23T17:42:07.379124Z",
     "start_time": "2019-09-23T17:41:06.662160Z"
    }
   },
   "outputs": [
    {
     "name": "stdout",
     "output_type": "stream",
     "text": [
      "Inspyrobot: Do not wait the time will never be just right start where you stand and work with whatever tools you may have at your command and better tools will be found as you go along\n"
     ]
    }
   ],
   "source": [
    "inspyre()"
   ]
  },
  {
   "cell_type": "code",
   "execution_count": null,
   "metadata": {},
   "outputs": [],
   "source": []
  }
 ],
 "metadata": {
  "kernelspec": {
   "display_name": "Python 3",
   "language": "python",
   "name": "python3"
  },
  "language_info": {
   "codemirror_mode": {
    "name": "ipython",
    "version": 3
   },
   "file_extension": ".py",
   "mimetype": "text/x-python",
   "name": "python",
   "nbconvert_exporter": "python",
   "pygments_lexer": "ipython3",
   "version": "3.7.3"
  },
  "toc": {
   "base_numbering": 1,
   "nav_menu": {},
   "number_sections": true,
   "sideBar": true,
   "skip_h1_title": false,
   "title_cell": "Table of Contents",
   "title_sidebar": "Contents",
   "toc_cell": false,
   "toc_position": {},
   "toc_section_display": true,
   "toc_window_display": false
  },
  "varInspector": {
   "cols": {
    "lenName": 16,
    "lenType": 16,
    "lenVar": 40
   },
   "kernels_config": {
    "python": {
     "delete_cmd_postfix": "",
     "delete_cmd_prefix": "del ",
     "library": "var_list.py",
     "varRefreshCmd": "print(var_dic_list())"
    },
    "r": {
     "delete_cmd_postfix": ") ",
     "delete_cmd_prefix": "rm(",
     "library": "var_list.r",
     "varRefreshCmd": "cat(var_dic_list()) "
    }
   },
   "types_to_exclude": [
    "module",
    "function",
    "builtin_function_or_method",
    "instance",
    "_Feature"
   ],
   "window_display": false
  }
 },
 "nbformat": 4,
 "nbformat_minor": 2
}
