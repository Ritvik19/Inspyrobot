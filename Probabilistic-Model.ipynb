{
 "cells": [
  {
   "cell_type": "markdown",
   "metadata": {},
   "source": [
    "# Libraries"
   ]
  },
  {
   "cell_type": "code",
   "execution_count": 1,
   "metadata": {
    "ExecuteTime": {
     "end_time": "2020-06-17T10:51:28.031317Z",
     "start_time": "2020-06-17T10:51:06.889506Z"
    }
   },
   "outputs": [],
   "source": [
    "import numpy as np\n",
    "import pandas as pd\n",
    "import matplotlib.pyplot as plt"
   ]
  },
  {
   "cell_type": "code",
   "execution_count": 2,
   "metadata": {
    "ExecuteTime": {
     "end_time": "2020-06-17T10:51:53.913000Z",
     "start_time": "2020-06-17T10:51:28.034218Z"
    }
   },
   "outputs": [],
   "source": [
    "import re\n",
    "from nltk import ngrams\n",
    "from collections import defaultdict"
   ]
  },
  {
   "cell_type": "code",
   "execution_count": 3,
   "metadata": {
    "ExecuteTime": {
     "end_time": "2020-06-17T10:51:53.922883Z",
     "start_time": "2020-06-17T10:51:53.916900Z"
    }
   },
   "outputs": [],
   "source": [
    "import random, json, os"
   ]
  },
  {
   "cell_type": "code",
   "execution_count": 4,
   "metadata": {
    "ExecuteTime": {
     "end_time": "2020-06-17T10:51:54.176648Z",
     "start_time": "2020-06-17T10:51:53.927870Z"
    }
   },
   "outputs": [],
   "source": [
    "pd.options.display.max_colwidth = None"
   ]
  },
  {
   "cell_type": "markdown",
   "metadata": {},
   "source": [
    "# Data"
   ]
  },
  {
   "cell_type": "code",
   "execution_count": 5,
   "metadata": {
    "ExecuteTime": {
     "end_time": "2020-06-17T10:51:58.522849Z",
     "start_time": "2020-06-17T10:51:54.178561Z"
    }
   },
   "outputs": [
    {
     "name": "stdout",
     "output_type": "stream",
     "text": [
      "92970\n"
     ]
    }
   ],
   "source": [
    "data = pd.DataFrame(columns=['Quote'])\n",
    "for folderName, subfolders, filenames in os.walk('E:/Scrapped-Data/Quotes-Goodreads/'):\n",
    "    for filename in filenames:\n",
    "        data = pd.concat([pd.read_csv('E:/Scrapped-Data/Quotes-Goodreads/'+filename), data], axis=0)\n",
    "print(len(data))"
   ]
  },
  {
   "cell_type": "code",
   "execution_count": 6,
   "metadata": {
    "ExecuteTime": {
     "end_time": "2020-06-17T10:51:58.757864Z",
     "start_time": "2020-06-17T10:51:58.525842Z"
    }
   },
   "outputs": [
    {
     "data": {
      "text/html": [
       "<div>\n",
       "<style scoped>\n",
       "    .dataframe tbody tr th:only-of-type {\n",
       "        vertical-align: middle;\n",
       "    }\n",
       "\n",
       "    .dataframe tbody tr th {\n",
       "        vertical-align: top;\n",
       "    }\n",
       "\n",
       "    .dataframe thead th {\n",
       "        text-align: right;\n",
       "    }\n",
       "</style>\n",
       "<table border=\"1\" class=\"dataframe\">\n",
       "  <thead>\n",
       "    <tr style=\"text-align: right;\">\n",
       "      <th></th>\n",
       "      <th>Quote</th>\n",
       "    </tr>\n",
       "  </thead>\n",
       "  <tbody>\n",
       "    <tr>\n",
       "      <th>0</th>\n",
       "      <td>“I love deadlines. I love the whooshing noise they make as they go by.” ― Douglas Adams, The Salmon of Doubt //</td>\n",
       "    </tr>\n",
       "    <tr>\n",
       "      <th>1</th>\n",
       "      <td>“There is no greater agony than bearing an untold story inside you.” ― Maya Angelou, I Know Why the Caged Bird Sings //</td>\n",
       "    </tr>\n",
       "    <tr>\n",
       "      <th>2</th>\n",
       "      <td>“What really knocks me out is a book that, when you're all done reading it, you wish the author that wrote it was a terrific friend of yours and you could call him up on the phone whenever you felt like it. That doesn't happen much, though.” ― J.D. Salinger, The Catcher in the Rye //</td>\n",
       "    </tr>\n",
       "    <tr>\n",
       "      <th>3</th>\n",
       "      <td>“If there's a book that you want to read, but it hasn't been written yet, then you must write it.” ― Toni Morrison</td>\n",
       "    </tr>\n",
       "    <tr>\n",
       "      <th>4</th>\n",
       "      <td>“There is nothing to writing. All you do is sit down at a typewriter and bleed.” ― Ernest Hemingway</td>\n",
       "    </tr>\n",
       "  </tbody>\n",
       "</table>\n",
       "</div>"
      ],
      "text/plain": [
       "                                                                                                                                                                                                                                                                                          Quote\n",
       "0                                                                                                                                                                               “I love deadlines. I love the whooshing noise they make as they go by.” ― Douglas Adams, The Salmon of Doubt //\n",
       "1                                                                                                                                                                       “There is no greater agony than bearing an untold story inside you.” ― Maya Angelou, I Know Why the Caged Bird Sings //\n",
       "2  “What really knocks me out is a book that, when you're all done reading it, you wish the author that wrote it was a terrific friend of yours and you could call him up on the phone whenever you felt like it. That doesn't happen much, though.” ― J.D. Salinger, The Catcher in the Rye //\n",
       "3                                                                                                                                                                            “If there's a book that you want to read, but it hasn't been written yet, then you must write it.” ― Toni Morrison\n",
       "4                                                                                                                                                                                           “There is nothing to writing. All you do is sit down at a typewriter and bleed.” ― Ernest Hemingway"
      ]
     },
     "execution_count": 6,
     "metadata": {},
     "output_type": "execute_result"
    }
   ],
   "source": [
    "data.head()"
   ]
  },
  {
   "cell_type": "markdown",
   "metadata": {},
   "source": [
    "**Cleaning**"
   ]
  },
  {
   "cell_type": "code",
   "execution_count": 7,
   "metadata": {
    "ExecuteTime": {
     "end_time": "2020-06-17T10:51:58.925804Z",
     "start_time": "2020-06-17T10:51:58.760855Z"
    }
   },
   "outputs": [],
   "source": [
    "def clean1(x):\n",
    "    x = x.split('―')[0].strip()\n",
    "    return x"
   ]
  },
  {
   "cell_type": "code",
   "execution_count": 8,
   "metadata": {
    "ExecuteTime": {
     "end_time": "2020-06-17T10:51:59.915434Z",
     "start_time": "2020-06-17T10:51:58.930792Z"
    }
   },
   "outputs": [
    {
     "name": "stdout",
     "output_type": "stream",
     "text": [
      "73625\n"
     ]
    }
   ],
   "source": [
    "data['Quote'] = data['Quote'].apply(clean1)\n",
    "data.drop_duplicates(inplace=True)\n",
    "data.reset_index(drop=True, inplace=True)\n",
    "print(len(data))"
   ]
  },
  {
   "cell_type": "code",
   "execution_count": 9,
   "metadata": {
    "ExecuteTime": {
     "end_time": "2020-06-17T10:51:59.945353Z",
     "start_time": "2020-06-17T10:51:59.923411Z"
    }
   },
   "outputs": [
    {
     "data": {
      "text/html": [
       "<div>\n",
       "<style scoped>\n",
       "    .dataframe tbody tr th:only-of-type {\n",
       "        vertical-align: middle;\n",
       "    }\n",
       "\n",
       "    .dataframe tbody tr th {\n",
       "        vertical-align: top;\n",
       "    }\n",
       "\n",
       "    .dataframe thead th {\n",
       "        text-align: right;\n",
       "    }\n",
       "</style>\n",
       "<table border=\"1\" class=\"dataframe\">\n",
       "  <thead>\n",
       "    <tr style=\"text-align: right;\">\n",
       "      <th></th>\n",
       "      <th>Quote</th>\n",
       "    </tr>\n",
       "  </thead>\n",
       "  <tbody>\n",
       "    <tr>\n",
       "      <th>0</th>\n",
       "      <td>“I love deadlines. I love the whooshing noise they make as they go by.”</td>\n",
       "    </tr>\n",
       "    <tr>\n",
       "      <th>1</th>\n",
       "      <td>“There is no greater agony than bearing an untold story inside you.”</td>\n",
       "    </tr>\n",
       "    <tr>\n",
       "      <th>2</th>\n",
       "      <td>“What really knocks me out is a book that, when you're all done reading it, you wish the author that wrote it was a terrific friend of yours and you could call him up on the phone whenever you felt like it. That doesn't happen much, though.”</td>\n",
       "    </tr>\n",
       "    <tr>\n",
       "      <th>3</th>\n",
       "      <td>“If there's a book that you want to read, but it hasn't been written yet, then you must write it.”</td>\n",
       "    </tr>\n",
       "    <tr>\n",
       "      <th>4</th>\n",
       "      <td>“There is nothing to writing. All you do is sit down at a typewriter and bleed.”</td>\n",
       "    </tr>\n",
       "  </tbody>\n",
       "</table>\n",
       "</div>"
      ],
      "text/plain": [
       "                                                                                                                                                                                                                                               Quote\n",
       "0                                                                                                                                                                            “I love deadlines. I love the whooshing noise they make as they go by.”\n",
       "1                                                                                                                                                                               “There is no greater agony than bearing an untold story inside you.”\n",
       "2  “What really knocks me out is a book that, when you're all done reading it, you wish the author that wrote it was a terrific friend of yours and you could call him up on the phone whenever you felt like it. That doesn't happen much, though.”\n",
       "3                                                                                                                                                 “If there's a book that you want to read, but it hasn't been written yet, then you must write it.”\n",
       "4                                                                                                                                                                   “There is nothing to writing. All you do is sit down at a typewriter and bleed.”"
      ]
     },
     "execution_count": 9,
     "metadata": {},
     "output_type": "execute_result"
    }
   ],
   "source": [
    "data.head()"
   ]
  },
  {
   "cell_type": "markdown",
   "metadata": {},
   "source": [
    "# More Data"
   ]
  },
  {
   "cell_type": "code",
   "execution_count": 10,
   "metadata": {
    "ExecuteTime": {
     "end_time": "2020-06-17T10:52:01.082010Z",
     "start_time": "2020-06-17T10:51:59.954328Z"
    }
   },
   "outputs": [
    {
     "name": "stdout",
     "output_type": "stream",
     "text": [
      "82205\n"
     ]
    }
   ],
   "source": [
    "for folderName, subfolders, filenames in os.walk('E:/Scrapped-Data/BrainyQuote/'):\n",
    "    for filename in filenames:\n",
    "        data = pd.concat([pd.read_csv('E:/Scrapped-Data/BrainyQuote/'+filename), data], axis=0)\n",
    "print(len(data))"
   ]
  },
  {
   "cell_type": "code",
   "execution_count": 11,
   "metadata": {
    "ExecuteTime": {
     "end_time": "2020-06-17T10:52:01.201663Z",
     "start_time": "2020-06-17T10:52:01.085972Z"
    }
   },
   "outputs": [
    {
     "name": "stdout",
     "output_type": "stream",
     "text": [
      "81924\n"
     ]
    }
   ],
   "source": [
    "data.drop_duplicates(inplace=True)\n",
    "data.reset_index(drop=True, inplace=True)\n",
    "print(len(data))"
   ]
  },
  {
   "cell_type": "markdown",
   "metadata": {},
   "source": [
    "# Some More Data"
   ]
  },
  {
   "cell_type": "code",
   "execution_count": 12,
   "metadata": {
    "ExecuteTime": {
     "end_time": "2020-06-17T10:52:01.605773Z",
     "start_time": "2020-06-17T10:52:01.204656Z"
    }
   },
   "outputs": [],
   "source": [
    "data_ = pd.read_csv('E:/Scrapped-Data/KeepInspiringMe.csv')"
   ]
  },
  {
   "cell_type": "code",
   "execution_count": 13,
   "metadata": {
    "ExecuteTime": {
     "end_time": "2020-06-17T10:52:01.837018Z",
     "start_time": "2020-06-17T10:52:01.608686Z"
    }
   },
   "outputs": [],
   "source": [
    "def clean2(x):\n",
    "    x = str(x).split('–')[0].strip()\n",
    "    return x"
   ]
  },
  {
   "cell_type": "code",
   "execution_count": 14,
   "metadata": {
    "ExecuteTime": {
     "end_time": "2020-06-17T10:52:02.114693Z",
     "start_time": "2020-06-17T10:52:01.840996Z"
    }
   },
   "outputs": [],
   "source": [
    "data_['Quote'] = data_['Quote'].apply(clean2)"
   ]
  },
  {
   "cell_type": "code",
   "execution_count": 15,
   "metadata": {
    "ExecuteTime": {
     "end_time": "2020-06-17T10:52:02.437552Z",
     "start_time": "2020-06-17T10:52:02.116601Z"
    }
   },
   "outputs": [],
   "source": [
    "data = pd.concat([data_, data], axis=0)"
   ]
  },
  {
   "cell_type": "markdown",
   "metadata": {},
   "source": [
    "**Preprocess**"
   ]
  },
  {
   "cell_type": "code",
   "execution_count": 16,
   "metadata": {
    "ExecuteTime": {
     "end_time": "2020-06-17T10:52:08.787130Z",
     "start_time": "2020-06-17T10:52:02.440545Z"
    }
   },
   "outputs": [],
   "source": [
    "data['Quote'] = data['Quote'].apply(lambda x: re.sub(r'\\.+', ' ', x))\n",
    "data['Quote'] = data['Quote'].apply(lambda x: re.sub(r'[^\\w\\s]|_', '', x))\n",
    "data['Quote'] = data['Quote'].apply(lambda x: re.sub(r'\\s+', ' ', x))\n",
    "data['Quote'] = data['Quote'].apply(lambda x: re.sub(r\"(e)?valezwritetag(\\d+)keepinspiringme(\\w+)(\\d+)ezslot(\\d+)\", ' ', x))\n",
    "data['Quote'] = data['Quote'].apply(lambda x: x.strip())\n",
    "data['Quote'] = data['Quote'].apply(lambda x: x.lower())\n",
    "data['Quote'] = data['Quote'].apply(lambda x : x + ' endquote')"
   ]
  },
  {
   "cell_type": "code",
   "execution_count": 17,
   "metadata": {
    "ExecuteTime": {
     "end_time": "2020-06-17T10:52:08.900809Z",
     "start_time": "2020-06-17T10:52:08.790105Z"
    }
   },
   "outputs": [
    {
     "name": "stdout",
     "output_type": "stream",
     "text": [
      "86982\n"
     ]
    }
   ],
   "source": [
    "data.drop_duplicates(inplace=True)\n",
    "data.reset_index(drop=True, inplace=True)\n",
    "print(len(data))"
   ]
  },
  {
   "cell_type": "code",
   "execution_count": 18,
   "metadata": {
    "ExecuteTime": {
     "end_time": "2020-06-17T10:52:09.145464Z",
     "start_time": "2020-06-17T10:52:08.902802Z"
    }
   },
   "outputs": [
    {
     "data": {
      "text/html": [
       "<div>\n",
       "<style scoped>\n",
       "    .dataframe tbody tr th:only-of-type {\n",
       "        vertical-align: middle;\n",
       "    }\n",
       "\n",
       "    .dataframe tbody tr th {\n",
       "        vertical-align: top;\n",
       "    }\n",
       "\n",
       "    .dataframe thead th {\n",
       "        text-align: right;\n",
       "    }\n",
       "</style>\n",
       "<table border=\"1\" class=\"dataframe\">\n",
       "  <thead>\n",
       "    <tr style=\"text-align: right;\">\n",
       "      <th></th>\n",
       "      <th>Quote</th>\n",
       "    </tr>\n",
       "  </thead>\n",
       "  <tbody>\n",
       "    <tr>\n",
       "      <th>77668</th>\n",
       "      <td>but god does give us responsibility and it takes biblical faith to do those things in dependence on god endquote</td>\n",
       "    </tr>\n",
       "    <tr>\n",
       "      <th>82974</th>\n",
       "      <td>everyone you have ever loved in your life becomes a part of your soul they never leave theyre always inside you and you can bring them out whenever you want endquote</td>\n",
       "    </tr>\n",
       "    <tr>\n",
       "      <th>55358</th>\n",
       "      <td>do you care about my lonely heart tonight the stars still shining bright only you can save my heart can save my love endquote</td>\n",
       "    </tr>\n",
       "    <tr>\n",
       "      <th>67931</th>\n",
       "      <td>read books care about things get excited try not to be too down on youself enjoy the ever present game of knowing endquote</td>\n",
       "    </tr>\n",
       "    <tr>\n",
       "      <th>38288</th>\n",
       "      <td>i think the attempt to defend belief can unsettle it in fact because there is always an inadequacy in argument about ultimate things endquote</td>\n",
       "    </tr>\n",
       "  </tbody>\n",
       "</table>\n",
       "</div>"
      ],
      "text/plain": [
       "                                                                                                                                                                       Quote\n",
       "77668                                                       but god does give us responsibility and it takes biblical faith to do those things in dependence on god endquote\n",
       "82974  everyone you have ever loved in your life becomes a part of your soul they never leave theyre always inside you and you can bring them out whenever you want endquote\n",
       "55358                                          do you care about my lonely heart tonight the stars still shining bright only you can save my heart can save my love endquote\n",
       "67931                                             read books care about things get excited try not to be too down on youself enjoy the ever present game of knowing endquote\n",
       "38288                          i think the attempt to defend belief can unsettle it in fact because there is always an inadequacy in argument about ultimate things endquote"
      ]
     },
     "execution_count": 18,
     "metadata": {},
     "output_type": "execute_result"
    }
   ],
   "source": [
    "data.sample(5)"
   ]
  },
  {
   "cell_type": "markdown",
   "metadata": {},
   "source": [
    "**Noise Removal**"
   ]
  },
  {
   "cell_type": "code",
   "execution_count": 19,
   "metadata": {
    "ExecuteTime": {
     "end_time": "2020-06-17T10:52:09.730550Z",
     "start_time": "2020-06-17T10:52:09.153443Z"
    }
   },
   "outputs": [],
   "source": [
    "data['Noise'] = data['Quote'].apply(lambda x: bool(not re.fullmatch(r'[A-Z a-z 0-9]*', x)))"
   ]
  },
  {
   "cell_type": "code",
   "execution_count": 20,
   "metadata": {
    "ExecuteTime": {
     "end_time": "2020-06-17T10:52:09.767100Z",
     "start_time": "2020-06-17T10:52:09.732545Z"
    }
   },
   "outputs": [],
   "source": [
    "data = data[data['Noise'] == False]"
   ]
  },
  {
   "cell_type": "code",
   "execution_count": 21,
   "metadata": {
    "ExecuteTime": {
     "end_time": "2020-06-17T10:52:10.342852Z",
     "start_time": "2020-06-17T10:52:09.769100Z"
    }
   },
   "outputs": [
    {
     "name": "stdout",
     "output_type": "stream",
     "text": [
      "84815\n"
     ]
    }
   ],
   "source": [
    "data.drop_duplicates(inplace=True)\n",
    "data.reset_index(drop=True, inplace=True)\n",
    "print(len(data))"
   ]
  },
  {
   "cell_type": "code",
   "execution_count": 22,
   "metadata": {
    "ExecuteTime": {
     "end_time": "2020-06-17T10:52:10.365823Z",
     "start_time": "2020-06-17T10:52:10.345846Z"
    }
   },
   "outputs": [
    {
     "data": {
      "text/html": [
       "<div>\n",
       "<style scoped>\n",
       "    .dataframe tbody tr th:only-of-type {\n",
       "        vertical-align: middle;\n",
       "    }\n",
       "\n",
       "    .dataframe tbody tr th {\n",
       "        vertical-align: top;\n",
       "    }\n",
       "\n",
       "    .dataframe thead th {\n",
       "        text-align: right;\n",
       "    }\n",
       "</style>\n",
       "<table border=\"1\" class=\"dataframe\">\n",
       "  <thead>\n",
       "    <tr style=\"text-align: right;\">\n",
       "      <th></th>\n",
       "      <th>Quote</th>\n",
       "      <th>Noise</th>\n",
       "    </tr>\n",
       "  </thead>\n",
       "  <tbody>\n",
       "    <tr>\n",
       "      <th>74430</th>\n",
       "      <td>for it isnt just moments of happiness which is all i thought we got its happiness that spreads endquote</td>\n",
       "      <td>False</td>\n",
       "    </tr>\n",
       "    <tr>\n",
       "      <th>47128</th>\n",
       "      <td>laughter is the hand of god on the shoulder of a troubled world endquote</td>\n",
       "      <td>False</td>\n",
       "    </tr>\n",
       "    <tr>\n",
       "      <th>71437</th>\n",
       "      <td>i could smack her punch her in the face but then i see what she cant hide from me ive seen it beforethe desperation the agony the need to find a reason to go on and the inability to find it endquote</td>\n",
       "      <td>False</td>\n",
       "    </tr>\n",
       "    <tr>\n",
       "      <th>25260</th>\n",
       "      <td>time sometimes becomes very merciless heartless it switches off the brightness of the eyes that you once loved endquote</td>\n",
       "      <td>False</td>\n",
       "    </tr>\n",
       "    <tr>\n",
       "      <th>73709</th>\n",
       "      <td>money cant buy love but it improves your bargaining position endquote</td>\n",
       "      <td>False</td>\n",
       "    </tr>\n",
       "  </tbody>\n",
       "</table>\n",
       "</div>"
      ],
      "text/plain": [
       "                                                                                                                                                                                                        Quote  \\\n",
       "74430                                                                                                 for it isnt just moments of happiness which is all i thought we got its happiness that spreads endquote   \n",
       "47128                                                                                                                                laughter is the hand of god on the shoulder of a troubled world endquote   \n",
       "71437  i could smack her punch her in the face but then i see what she cant hide from me ive seen it beforethe desperation the agony the need to find a reason to go on and the inability to find it endquote   \n",
       "25260                                                                                 time sometimes becomes very merciless heartless it switches off the brightness of the eyes that you once loved endquote   \n",
       "73709                                                                                                                                   money cant buy love but it improves your bargaining position endquote   \n",
       "\n",
       "       Noise  \n",
       "74430  False  \n",
       "47128  False  \n",
       "71437  False  \n",
       "25260  False  \n",
       "73709  False  "
      ]
     },
     "execution_count": 22,
     "metadata": {},
     "output_type": "execute_result"
    }
   ],
   "source": [
    "data.sample(5)"
   ]
  },
  {
   "cell_type": "code",
   "execution_count": 23,
   "metadata": {
    "ExecuteTime": {
     "end_time": "2020-06-17T10:52:11.455279Z",
     "start_time": "2020-06-17T10:52:10.375765Z"
    }
   },
   "outputs": [],
   "source": [
    "data['Max word len'] = data['Quote'].apply(lambda x: max(list(map(len, x.split()))))"
   ]
  },
  {
   "cell_type": "code",
   "execution_count": 24,
   "metadata": {
    "ExecuteTime": {
     "end_time": "2020-06-17T10:52:11.503392Z",
     "start_time": "2020-06-17T10:52:11.462198Z"
    }
   },
   "outputs": [],
   "source": [
    "data = data[data['Max word len'] <= 25]"
   ]
  },
  {
   "cell_type": "code",
   "execution_count": 25,
   "metadata": {
    "ExecuteTime": {
     "end_time": "2020-06-17T10:52:11.955753Z",
     "start_time": "2020-06-17T10:52:11.505376Z"
    }
   },
   "outputs": [
    {
     "name": "stdout",
     "output_type": "stream",
     "text": [
      "84755\n"
     ]
    }
   ],
   "source": [
    "data.drop_duplicates(inplace=True)\n",
    "data.reset_index(drop=True, inplace=True)\n",
    "print(len(data))"
   ]
  },
  {
   "cell_type": "code",
   "execution_count": 26,
   "metadata": {
    "ExecuteTime": {
     "end_time": "2020-06-17T10:52:12.162704Z",
     "start_time": "2020-06-17T10:52:11.958712Z"
    }
   },
   "outputs": [
    {
     "data": {
      "text/html": [
       "<div>\n",
       "<style scoped>\n",
       "    .dataframe tbody tr th:only-of-type {\n",
       "        vertical-align: middle;\n",
       "    }\n",
       "\n",
       "    .dataframe tbody tr th {\n",
       "        vertical-align: top;\n",
       "    }\n",
       "\n",
       "    .dataframe thead th {\n",
       "        text-align: right;\n",
       "    }\n",
       "</style>\n",
       "<table border=\"1\" class=\"dataframe\">\n",
       "  <thead>\n",
       "    <tr style=\"text-align: right;\">\n",
       "      <th></th>\n",
       "      <th>Quote</th>\n",
       "      <th>Noise</th>\n",
       "      <th>Max word len</th>\n",
       "    </tr>\n",
       "  </thead>\n",
       "  <tbody>\n",
       "    <tr>\n",
       "      <th>36735</th>\n",
       "      <td>if complete and utter chaos was lightning then hed be the sort to stand on a hilltop in a thunderstorm wearing wet copper armour and shouting all gods are bastards endquote</td>\n",
       "      <td>False</td>\n",
       "      <td>12</td>\n",
       "    </tr>\n",
       "    <tr>\n",
       "      <th>58836</th>\n",
       "      <td>life is a slope as long as youre going up youre always looking towards the top and you feel happy but when you reach it suddenly you can see the road going downhill and death at the end of it all its slow going up and quick going down endquote</td>\n",
       "      <td>False</td>\n",
       "      <td>8</td>\n",
       "    </tr>\n",
       "    <tr>\n",
       "      <th>81522</th>\n",
       "      <td>id heard that if you saw a reaper you saw what you expected to see what you thought the agents of death would look like personally i wanted to see little fuzzy pink bunnies but apparently my subconscious visualized tall scary and skeletal my subconscious and i needed to have a long talk endquote</td>\n",
       "      <td>False</td>\n",
       "      <td>12</td>\n",
       "    </tr>\n",
       "    <tr>\n",
       "      <th>57057</th>\n",
       "      <td>i love you more than songs can say but i cant keep running after yesterday endquote</td>\n",
       "      <td>False</td>\n",
       "      <td>9</td>\n",
       "    </tr>\n",
       "    <tr>\n",
       "      <th>31601</th>\n",
       "      <td>nature and natures laws lay hid in nightgod said let newton be and all was light endquote</td>\n",
       "      <td>False</td>\n",
       "      <td>8</td>\n",
       "    </tr>\n",
       "  </tbody>\n",
       "</table>\n",
       "</div>"
      ],
      "text/plain": [
       "                                                                                                                                                                                                                                                                                                          Quote  \\\n",
       "36735                                                                                                                              if complete and utter chaos was lightning then hed be the sort to stand on a hilltop in a thunderstorm wearing wet copper armour and shouting all gods are bastards endquote   \n",
       "58836                                                       life is a slope as long as youre going up youre always looking towards the top and you feel happy but when you reach it suddenly you can see the road going downhill and death at the end of it all its slow going up and quick going down endquote   \n",
       "81522  id heard that if you saw a reaper you saw what you expected to see what you thought the agents of death would look like personally i wanted to see little fuzzy pink bunnies but apparently my subconscious visualized tall scary and skeletal my subconscious and i needed to have a long talk endquote   \n",
       "57057                                                                                                                                                                                                                       i love you more than songs can say but i cant keep running after yesterday endquote   \n",
       "31601                                                                                                                                                                                                                 nature and natures laws lay hid in nightgod said let newton be and all was light endquote   \n",
       "\n",
       "       Noise  Max word len  \n",
       "36735  False            12  \n",
       "58836  False             8  \n",
       "81522  False            12  \n",
       "57057  False             9  \n",
       "31601  False             8  "
      ]
     },
     "execution_count": 26,
     "metadata": {},
     "output_type": "execute_result"
    }
   ],
   "source": [
    "data.sample(5)"
   ]
  },
  {
   "cell_type": "markdown",
   "metadata": {},
   "source": [
    "# Training"
   ]
  },
  {
   "cell_type": "code",
   "execution_count": 27,
   "metadata": {
    "ExecuteTime": {
     "end_time": "2020-06-17T10:52:12.742242Z",
     "start_time": "2020-06-17T10:52:12.165665Z"
    }
   },
   "outputs": [],
   "source": [
    "vocab = data['Quote'].apply(lambda x: x.split()[0]).values.tolist()"
   ]
  },
  {
   "cell_type": "code",
   "execution_count": 28,
   "metadata": {
    "ExecuteTime": {
     "end_time": "2020-06-17T10:52:35.976111Z",
     "start_time": "2020-06-17T10:52:12.744255Z"
    }
   },
   "outputs": [],
   "source": [
    "n = 4\n",
    "model = defaultdict(lambda: defaultdict(lambda: 0))\n",
    "word_grams = []\n",
    "for i in range(len(data)):\n",
    "    word_grams += list(ngrams(data['Quote'][i].split(), n+1, \n",
    "                              pad_left=True, pad_right=True,  left_pad_symbol='', right_pad_symbol=''))\n",
    "for w in word_grams:\n",
    "    model[w[:-1]][w[-1]] += 1\n",
    "for w1 in model:\n",
    "    total_count = float(sum(model[w1].values()))\n",
    "    for w2 in model[w1]:\n",
    "        model[w1][w2] /= total_count\n",
    "model = dict(model)        "
   ]
  },
  {
   "cell_type": "code",
   "execution_count": 29,
   "metadata": {
    "ExecuteTime": {
     "end_time": "2020-06-17T10:52:35.985053Z",
     "start_time": "2020-06-17T10:52:35.978069Z"
    }
   },
   "outputs": [],
   "source": [
    "q = lambda x : list(ngrams(x.lower().split(), n, pad_left=True, pad_right=False,  left_pad_symbol=''))[-1]"
   ]
  },
  {
   "cell_type": "code",
   "execution_count": 30,
   "metadata": {
    "ExecuteTime": {
     "end_time": "2020-06-17T10:52:36.242542Z",
     "start_time": "2020-06-17T10:52:35.988047Z"
    }
   },
   "outputs": [
    {
     "name": "stdout",
     "output_type": "stream",
     "text": [
      "Me: my\n",
      "('', '', '', 'my')\n",
      "{'goal': 0.004301075268817204, 'greatest': 0.0064516129032258064, 'family': 0.005376344086021506, 'father': 0.04946236559139785, 'arms': 0.002150537634408602, 'most': 0.0032258064516129032, 'wife': 0.008602150537634409, 'folks': 0.001075268817204301, 'success': 0.001075268817204301, 'religion': 0.004301075268817204, 'opinions': 0.001075268817204301, 'favorite': 0.010752688172043012, 'grandmother': 0.005376344086021506, 'grandfather': 0.004301075268817204, 'pessimism': 0.002150537634408602, 'theory': 0.004301075268817204, 'doctor': 0.004301075268817204, 'psychiatrist': 0.001075268817204301, 'best': 0.007526881720430108, 'policies': 0.001075268817204301, 'mother': 0.05591397849462366, 'observation': 0.001075268817204301, 'ideal': 0.001075268817204301, 'heroes': 0.001075268817204301, 'attitude': 0.021505376344086023, 'challenge': 0.001075268817204301, 'body': 0.002150537634408602, 'alma': 0.001075268817204301, 'black': 0.002150537634408602, 'work': 0.001075268817204301, 'mama': 0.002150537634408602, 'role': 0.001075268817204301, 'defenses': 0.001075268817204301, 'husband': 0.001075268817204301, 'wonderful': 0.001075268817204301, 'husbands': 0.001075268817204301, 'motherinlaw': 0.002150537634408602, 'fondest': 0.001075268817204301, 'thanksgiving': 0.001075268817204301, 'better': 0.001075268817204301, 'agility': 0.001075268817204301, 'sport': 0.001075268817204301, 'feet': 0.0032258064516129032, 'own': 0.005376344086021506, 'look': 0.001075268817204301, 'first': 0.00967741935483871, 'future': 0.0032258064516129032, 'music': 0.0032258064516129032, 'advice': 0.005376344086021506, 'philosophy': 0.007526881720430108, 'life': 0.03655913978494624, 'sister': 0.005376344086021506, 'big': 0.002150537634408602, 'heart': 0.02795698924731183, 'dear': 0.008602150537634409, 'parents': 0.01827956989247312, 'school': 0.001075268817204301, 'dad': 0.021505376344086023, 'mornings': 0.001075268817204301, 'happiest': 0.002150537634408602, 'primary': 0.001075268817204301, 'second': 0.001075268817204301, 'teacher': 0.007526881720430108, 'kindergarten': 0.001075268817204301, 'mom': 0.01935483870967742, 'education': 0.004301075268817204, 'name': 0.010752688172043012, 'elder': 0.001075268817204301, 'humanitarian': 0.001075268817204301, 'highschool': 0.001075268817204301, 'brothers': 0.001075268817204301, 'job': 0.004301075268817204, 'grandma': 0.002150537634408602, 'kids': 0.002150537634408602, 'ambition': 0.002150537634408602, 'brother': 0.004301075268817204, 'older': 0.001075268817204301, 'junior': 0.001075268817204301, 'daughter': 0.005376344086021506, 'mothers': 0.002150537634408602, 'very': 0.002150537634408602, 'mum': 0.004301075268817204, 'dads': 0.0032258064516129032, 'mala': 0.001075268817204301, 'degree': 0.001075268817204301, 'smile': 0.002150537634408602, 'cheeks': 0.001075268817204301, 'children': 0.002150537634408602, 'new': 0.001075268817204301, 'clothes': 0.001075268817204301, 'sculptures': 0.001075268817204301, 'moms': 0.002150537634408602, 'eyes': 0.0064516129032258064, 'worst': 0.002150537634408602, 'wedding': 0.001075268817204301, 'style': 0.002150537634408602, 'lasting': 0.001075268817204301, 'natural': 0.001075268817204301, 'experience': 0.004301075268817204, 'label': 0.001075268817204301, 'little': 0.002150537634408602, 'loving': 0.001075268817204301, 'fathers': 0.001075268817204301, 'thing': 0.001075268817204301, 'comedy': 0.001075268817204301, 'solo': 0.001075268817204301, 'grades': 0.001075268817204301, 'optimism': 0.001075268817204301, 'son': 0.0032258064516129032, 'biggest': 0.005376344086021506, 'whole': 0.0064516129032258064, 'favourite': 0.004301075268817204, 'rebellion': 0.001075268817204301, 'purpose': 0.0032258064516129032, 'wish': 0.0032258064516129032, 'god': 0.010752688172043012, 'soul': 0.013978494623655914, 'height': 0.001075268817204301, 'art': 0.004301075268817204, 'aim': 0.0032258064516129032, 'inspiration': 0.001075268817204301, 'recollection': 0.001075268817204301, 'house': 0.0032258064516129032, 'progress': 0.001075268817204301, 'boy': 0.002150537634408602, 'mission': 0.0032258064516129032, 'goals': 0.001075268817204301, 'personal': 0.004301075268817204, 'professional': 0.001075268817204301, 'formula': 0.002150537634408602, 'trade': 0.001075268817204301, 'minds': 0.001075268817204301, 'initial': 0.001075268817204301, 'tastes': 0.002150537634408602, 'fake': 0.001075268817204301, 'hope': 0.005376344086021506, 'one': 0.001075268817204301, 'cia': 0.001075268817204301, 'definition': 0.002150537634408602, 'colors': 0.001075268817204301, 'uncle': 0.002150537634408602, 'studio': 0.001075268817204301, 'take': 0.001075268817204301, 'motto': 0.001075268817204301, 'delivery': 0.001075268817204301, 'friends': 0.004301075268817204, 'intention': 0.001075268817204301, 'deepest': 0.001075268817204301, 'general': 0.001075268817204301, 'readers': 0.001075268817204301, 'agent': 0.001075268817204301, 'character': 0.0032258064516129032, 'denial': 0.001075268817204301, 'confidence': 0.001075268817204301, 'attitudes': 0.001075268817204301, 'task': 0.004301075268817204, 'books': 0.007526881720430108, 'bursting': 0.001075268817204301, 'pen': 0.001075268817204301, 'circumstances': 0.001075268817204301, 'perfect': 0.001075268817204301, 'writing': 0.002150537634408602, 'muse': 0.001075268817204301, 'hearts': 0.001075268817204301, 'foregrounds': 0.001075268817204301, 'aunt': 0.002150537634408602, 'weakness': 0.001075268817204301, 'lips': 0.001075268817204301, 'short': 0.001075268817204301, 'urge': 0.001075268817204301, 'ignorance': 0.001075268817204301, 'political': 0.001075268817204301, 'study': 0.002150537634408602, 'headll': 0.001075268817204301, 'feelings': 0.002150537634408602, 'story': 0.002150537634408602, 'friend': 0.004301075268817204, 'humor': 0.001075268817204301, 'tail': 0.001075268817204301, 'bones': 0.001075268817204301, 'love': 0.021505376344086023, 'bullshit': 0.001075268817204301, 'hands': 0.001075268817204301, 'silences': 0.001075268817204301, 'choice': 0.001075268817204301, 'stomach': 0.002150537634408602, 'discourse': 0.001075268817204301, 'emma': 0.001075268817204301, 'past': 0.0032258064516129032, 'point': 0.004301075268817204, 'time': 0.002150537634408602, 'childhood': 0.002150537634408602, 'phones': 0.001075268817204301, 'dreams': 0.004301075268817204, 'principle': 0.001075268817204301, 'prayer': 0.002150537634408602, 'two': 0.001075268817204301, 'technique': 0.001075268817204301, 'boundaries': 0.001075268817204301, 'fears': 0.001075268817204301, 'wealth': 0.001075268817204301, 'interpretation': 0.001075268817204301, 'spirituality': 0.001075268817204301, 'sponsor': 0.001075268817204301, 'ego': 0.001075268817204301, 'cosmic': 0.001075268817204301, 'dry': 0.001075268817204301, 'search': 0.001075268817204301, 'reflection': 0.001075268817204301, 'highest': 0.001075268817204301, 'line': 0.001075268817204301, 'pursuit': 0.002150537634408602, 'religious': 0.002150537634408602, 'dream': 0.005376344086021506, 'view': 0.001075268817204301, 'lack': 0.001075268817204301, 'faith': 0.007526881720430108, 'mind': 0.0064516129032258064, 'main': 0.001075268817204301, 'potential': 0.001075268817204301, 'encounters': 0.001075268817204301, 'lungs': 0.001075268817204301, 'only': 0.004301075268817204, 'beloved': 0.001075268817204301, 'dearest': 0.004301075268817204, 'good': 0.001075268817204301, 'panties': 0.001075268817204301, 'words': 0.0032258064516129032, 'thoughts': 0.005376344086021506, 'ideas': 0.001075268817204301, 'mate': 0.001075268817204301, 'names': 0.002150537634408602, 'darling': 0.001075268817204301, 'knees': 0.001075268817204301, 'desire': 0.005376344086021506, 'head': 0.004301075268817204, 'ex': 0.001075268817204301, 'concern': 0.001075268817204301, 'lord': 0.001075268817204301, 'people': 0.001075268817204301, 'country': 0.001075268817204301, 'belief': 0.002150537634408602, 'true': 0.002150537634408602, 'reading': 0.002150537634408602, 'fear': 0.001075268817204301, 'statement': 0.001075268817204301, 'girlfriend': 0.002150537634408602, 'personalityunfolding': 0.001075268817204301, 'boyfriends': 0.001075268817204301, 'guess': 0.001075268817204301, 'miracle': 0.001075268817204301, 'former': 0.001075268817204301, 'dog': 0.001075268817204301, 'daddy': 0.001075268817204301, 'nightmares': 0.001075268817204301, 'dearfind': 0.001075268817204301, 'imagination': 0.002150537634408602, 'tongue': 0.002150537634408602, 'bounty': 0.001075268817204301, 'library': 0.001075268817204301, 'rapier': 0.001075268817204301, 'course': 0.001075268817204301, 'alone': 0.001075268817204301, 'fault': 0.001075268817204301, 'turn': 0.001075268817204301, 'candle': 0.001075268817204301, 'mouth': 0.001075268817204301, 'battered': 0.001075268817204301, 'world': 0.002150537634408602, 'nerves': 0.001075268817204301, 'face': 0.002150537634408602, 'brain': 0.002150537634408602, 'heartim': 0.001075268817204301, 'silence': 0.001075268817204301, 'atoms': 0.001075268817204301, 'mistress': 0.001075268817204301, 'papas': 0.001075268817204301, 'nameonce': 0.001075268817204301, 'truelove': 0.001075268817204301, 'vegetable': 0.001075268817204301, 'hunger': 0.001075268817204301, 'depth': 0.002150537634408602, 'ship': 0.001075268817204301, 'loneliness': 0.002150537634408602, 'atheism': 0.001075268817204301, 'five': 0.001075268817204301, 'brave': 0.001075268817204301, 'hopes': 0.001075268817204301, 'opinion': 0.002150537634408602, 'breath': 0.001075268817204301, 'toes': 0.001075268817204301, 'foster': 0.001075268817204301, 'consciousness': 0.001075268817204301, 'interest': 0.001075268817204301, 'pets': 0.001075268817204301, 'beliefs': 0.001075268817204301, 'sanity': 0.001075268817204301, 'situation': 0.001075268817204301, 'poetry': 0.002150537634408602, 'fingers': 0.0032258064516129032, 'lovers': 0.001075268817204301, 'sweat': 0.001075268817204301, 'poems': 0.001075268817204301, 'rotting': 0.001075268817204301, 'great': 0.002150537634408602, 'shoulder': 0.002150537634408602, 'lifemy': 0.001075268817204301, 'lover': 0.001075268817204301, 'expectations': 0.002150537634408602, 'destination': 0.001075268817204301, 'diagnosis': 0.001075268817204301, 'grandpa': 0.002150537634408602, 'death': 0.001075268817204301, 'spirit': 0.001075268817204301, 'happiness': 0.005376344086021506, 'attachment': 0.001075268817204301, 'experiences': 0.001075268817204301, 'sun': 0.001075268817204301, 'young': 0.001075268817204301, 'days': 0.002150537634408602, 'struggles': 0.001075268817204301, 'next': 0.001075268817204301, 'grand': 0.001075268817204301, 'uncurtained': 0.001075268817204301, 'eternal': 0.001075268817204301, 'was': 0.001075268817204301, 'darkest': 0.001075268817204301, 'end': 0.001075268817204301, 'endless': 0.001075268817204301, 'way': 0.001075268817204301, 'muscles': 0.001075268817204301, 'foreparts': 0.001075268817204301, 'shining': 0.001075268817204301, 'bookcase': 0.001075268817204301, 'beard': 0.001075268817204301, 'tendency': 0.001075268817204301, 'capacity': 0.001075268817204301, 'relationship': 0.002150537634408602, 'misery': 0.001075268817204301, 'geekness': 0.001075268817204301, 'powers': 0.001075268817204301, 'ears': 0.001075268817204301, 'pride': 0.001075268817204301, 'sense': 0.001075268817204301, 'inner': 0.001075268817204301, 'certainty': 0.001075268817204301, 'request': 0.001075268817204301, 'child': 0.001075268817204301, 'scars': 0.001075268817204301, 'lie': 0.001075268817204301, 'argument': 0.001075268817204301, 'feeling': 0.001075268817204301, 'spiritual': 0.001075268817204301, 'destiny': 0.001075268817204301, 'grace': 0.001075268817204301, 'actions': 0.001075268817204301, 'prayers': 0.001075268817204301, 'limitations': 0.001075268817204301, 'idea': 0.002150537634408602, 'nature': 0.001075268817204301, 'righteousness': 0.001075268817204301, 'focus': 0.001075268817204301, 'object': 0.001075268817204301, 'teachers': 0.001075268817204301, 'lady': 0.001075268817204301, 'grief': 0.001075268817204301, 'peak': 0.001075268817204301, 'reasons': 0.001075268817204301, 'wallpaper': 0.001075268817204301, 'faceless': 0.001075268817204301, 'flesh': 0.001075268817204301, 'horizon': 0.001075268817204301, 'funeral': 0.001075268817204301, 'behavior': 0.001075268817204301, 'youngest': 0.001075268817204301, 'last': 0.001075268817204301, 'plan': 0.001075268817204301, 'copy': 0.001075268817204301}\n"
     ]
    }
   ],
   "source": [
    "text = str(random.choice(vocab))\n",
    "print('Me:', text)\n",
    "query = q(text)\n",
    "print(query)\n",
    "print(dict(model[query]))"
   ]
  },
  {
   "cell_type": "code",
   "execution_count": 31,
   "metadata": {
    "ExecuteTime": {
     "end_time": "2020-06-17T10:52:36.551966Z",
     "start_time": "2020-06-17T10:52:36.245534Z"
    }
   },
   "outputs": [
    {
     "name": "stdout",
     "output_type": "stream",
     "text": [
      "Me: individuals\n",
      "Inspyrobot: individuals who want to believe that what i do is quite traditional anyway\n"
     ]
    }
   ],
   "source": [
    "text = str(random.choice(vocab))\n",
    "print('Me:', text)\n",
    "sentence_finished = False\n",
    " \n",
    "while not sentence_finished:\n",
    "    r = random.random()\n",
    "    accumulator = .0\n",
    "    if model[q(text)].keys() is None or (len(model[q(text)].keys()) == 1 and list(model[q(text)].keys())[0] == ''):\n",
    "        break\n",
    "    for word in model[q(text)].keys():\n",
    "        accumulator = model[q(text)][word]\n",
    "        if word != 'endquote' and accumulator >= r:\n",
    "            text += ' '+word\n",
    "            break\n",
    "        if word == 'endquote':\n",
    "            sentence_finished = True\n",
    "print('Inspyrobot:', end = ' ')      \n",
    "print(' '.join([t for t in text.split() if t]))"
   ]
  },
  {
   "cell_type": "markdown",
   "metadata": {},
   "source": [
    "# Pickling"
   ]
  },
  {
   "cell_type": "code",
   "execution_count": 32,
   "metadata": {
    "ExecuteTime": {
     "end_time": "2020-06-17T10:52:37.072297Z",
     "start_time": "2020-06-17T10:52:36.557947Z"
    }
   },
   "outputs": [],
   "source": [
    "DIR = 'E:/Models/Inspyrobot'\n",
    "os.mkdir(DIR)"
   ]
  },
  {
   "cell_type": "code",
   "execution_count": 33,
   "metadata": {
    "ExecuteTime": {
     "end_time": "2020-06-17T10:53:00.192777Z",
     "start_time": "2020-06-17T10:52:37.074285Z"
    }
   },
   "outputs": [],
   "source": [
    "with open(f'{DIR}/model.json', 'w') as f:\n",
    "    k = model.keys() \n",
    "    v = model.values() \n",
    "    k1 = [str(i) for i in k]\n",
    "    json.dump(json.dumps(dict(zip(*[k1,v]))),f)     "
   ]
  },
  {
   "cell_type": "code",
   "execution_count": 34,
   "metadata": {
    "ExecuteTime": {
     "end_time": "2020-06-17T10:53:48.304825Z",
     "start_time": "2020-06-17T10:53:00.195739Z"
    }
   },
   "outputs": [],
   "source": [
    "with open(f'{DIR}/model.json', 'r') as f:\n",
    "    data = json.load(f)\n",
    "    dic = json.loads(data)\n",
    "    k = dic.keys() \n",
    "    v = dic.values() \n",
    "    k1 = [eval(i) for i in k] \n",
    "    model =  dict(zip(*[k1,v]))"
   ]
  },
  {
   "cell_type": "code",
   "execution_count": 35,
   "metadata": {
    "ExecuteTime": {
     "end_time": "2020-06-17T10:53:49.195418Z",
     "start_time": "2020-06-17T10:53:48.748614Z"
    }
   },
   "outputs": [],
   "source": [
    "with open(f'{DIR}/vocab.json', 'w') as f:\n",
    "    json.dump(json.dumps(vocab),f)  "
   ]
  },
  {
   "cell_type": "code",
   "execution_count": 36,
   "metadata": {
    "ExecuteTime": {
     "end_time": "2020-06-17T10:53:50.437692Z",
     "start_time": "2020-06-17T10:53:49.198411Z"
    }
   },
   "outputs": [],
   "source": [
    "with open(f'{DIR}/vocab.json', 'r') as f:\n",
    "    vocab = json.loads(json.load(f))"
   ]
  },
  {
   "cell_type": "code",
   "execution_count": 37,
   "metadata": {
    "ExecuteTime": {
     "end_time": "2020-06-17T10:53:50.733786Z",
     "start_time": "2020-06-17T10:53:50.440614Z"
    }
   },
   "outputs": [
    {
     "name": "stdout",
     "output_type": "stream",
     "text": [
      "Me: whoever\n",
      "Inspyrobot: whoever is happy will make others happy too\n"
     ]
    }
   ],
   "source": [
    "text = str(random.choice(vocab))\n",
    "print('Me:', text)\n",
    "sentence_finished = False\n",
    " \n",
    "while not sentence_finished:\n",
    "    r = random.random()\n",
    "    accumulator = .0\n",
    "    if model[q(text)].keys() is None or (len(model[q(text)].keys()) == 1 and list(model[q(text)].keys())[0] == ''):\n",
    "        break\n",
    "    for word in model[q(text)].keys():\n",
    "        accumulator = model[q(text)][word]\n",
    "        if word != 'endquote' and accumulator >= r:\n",
    "            text += ' '+word\n",
    "            break\n",
    "        if word == 'endquote':\n",
    "            sentence_finished = True\n",
    "print('Inspyrobot:', end = ' ')      \n",
    "print(' '.join([t for t in text.split() if t]))"
   ]
  },
  {
   "cell_type": "markdown",
   "metadata": {},
   "source": [
    "# Wrapper Functions"
   ]
  },
  {
   "cell_type": "code",
   "execution_count": 38,
   "metadata": {
    "ExecuteTime": {
     "end_time": "2020-06-17T10:53:52.065983Z",
     "start_time": "2020-06-17T10:53:50.736748Z"
    }
   },
   "outputs": [],
   "source": [
    "import json, random\n",
    "from nltk import ngrams\n",
    "\n",
    "DIR = 'E:/Models/Inspyrobot'\n",
    "n = 4\n",
    "q = lambda x : list(ngrams(x.lower().split(), n, pad_left=True, pad_right=False,  left_pad_symbol=''))[-1]\n",
    "\n",
    "def inspyre(text=''):\n",
    "    with open(f'{DIR}/model.json', 'r') as f:\n",
    "        data = json.load(f)\n",
    "        dic = json.loads(data)\n",
    "        k = dic.keys() \n",
    "        v = dic.values() \n",
    "        k1 = [eval(i) for i in k] \n",
    "        model =  dict(zip(*[k1,v]))\n",
    "    if text == '':\n",
    "        with open(f'{DIR}/vocab.json', 'r') as f:\n",
    "            vocab = json.loads(json.load(f))\n",
    "        text = str(random.choice(vocab))\n",
    "    sentence_finished = False\n",
    "    while not sentence_finished:\n",
    "        r = random.random()\n",
    "        accumulator = .0\n",
    "        if model[q(text)].keys() is None or (len(model[q(text)].keys()) == 1 and list(model[q(text)].keys())[0] == ''):\n",
    "            break\n",
    "        for word in model[q(text)].keys():\n",
    "            accumulator = model[q(text)][word]\n",
    "            if word != 'endquote' and accumulator >= r:\n",
    "                text += ' '+word\n",
    "                break\n",
    "            if word == 'endquote':\n",
    "                sentence_finished = True\n",
    "    print('Inspyrobot:', end = ' ')      \n",
    "    print(' '.join([t for t in text.split() if t]))"
   ]
  },
  {
   "cell_type": "code",
   "execution_count": 39,
   "metadata": {
    "ExecuteTime": {
     "end_time": "2020-06-17T10:54:37.651923Z",
     "start_time": "2020-06-17T10:53:52.070951Z"
    }
   },
   "outputs": [
    {
     "name": "stdout",
     "output_type": "stream",
     "text": [
      "Inspyrobot: the only thing that can save this country\n"
     ]
    }
   ],
   "source": [
    "inspyre()"
   ]
  },
  {
   "cell_type": "code",
   "execution_count": null,
   "metadata": {},
   "outputs": [],
   "source": []
  }
 ],
 "metadata": {
  "kernelspec": {
   "display_name": "Python 3",
   "language": "python",
   "name": "python3"
  },
  "language_info": {
   "codemirror_mode": {
    "name": "ipython",
    "version": 3
   },
   "file_extension": ".py",
   "mimetype": "text/x-python",
   "name": "python",
   "nbconvert_exporter": "python",
   "pygments_lexer": "ipython3",
   "version": "3.7.7"
  },
  "toc": {
   "base_numbering": 1,
   "nav_menu": {},
   "number_sections": true,
   "sideBar": true,
   "skip_h1_title": false,
   "title_cell": "Table of Contents",
   "title_sidebar": "Contents",
   "toc_cell": false,
   "toc_position": {},
   "toc_section_display": true,
   "toc_window_display": false
  },
  "varInspector": {
   "cols": {
    "lenName": 16,
    "lenType": 16,
    "lenVar": 40
   },
   "kernels_config": {
    "python": {
     "delete_cmd_postfix": "",
     "delete_cmd_prefix": "del ",
     "library": "var_list.py",
     "varRefreshCmd": "print(var_dic_list())"
    },
    "r": {
     "delete_cmd_postfix": ") ",
     "delete_cmd_prefix": "rm(",
     "library": "var_list.r",
     "varRefreshCmd": "cat(var_dic_list()) "
    }
   },
   "types_to_exclude": [
    "module",
    "function",
    "builtin_function_or_method",
    "instance",
    "_Feature"
   ],
   "window_display": false
  }
 },
 "nbformat": 4,
 "nbformat_minor": 2
}
