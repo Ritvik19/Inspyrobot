{
 "cells": [
  {
   "cell_type": "markdown",
   "metadata": {},
   "source": [
    "# Libraries"
   ]
  },
  {
   "cell_type": "code",
   "execution_count": 1,
   "metadata": {
    "ExecuteTime": {
     "end_time": "2019-09-28T16:53:59.818053Z",
     "start_time": "2019-09-28T16:53:58.379381Z"
    }
   },
   "outputs": [],
   "source": [
    "import numpy as np\n",
    "import pandas as pd\n",
    "import matplotlib.pyplot as plt"
   ]
  },
  {
   "cell_type": "code",
   "execution_count": 2,
   "metadata": {
    "ExecuteTime": {
     "end_time": "2019-09-28T16:54:01.371625Z",
     "start_time": "2019-09-28T16:53:59.820808Z"
    }
   },
   "outputs": [],
   "source": [
    "import re\n",
    "from nltk import ngrams\n",
    "from collections import defaultdict"
   ]
  },
  {
   "cell_type": "code",
   "execution_count": 3,
   "metadata": {
    "ExecuteTime": {
     "end_time": "2019-09-28T16:54:01.381052Z",
     "start_time": "2019-09-28T16:54:01.376128Z"
    }
   },
   "outputs": [],
   "source": [
    "import random\n",
    "import json\n",
    "import os"
   ]
  },
  {
   "cell_type": "code",
   "execution_count": 4,
   "metadata": {
    "ExecuteTime": {
     "end_time": "2019-09-28T16:54:01.525458Z",
     "start_time": "2019-09-28T16:54:01.384821Z"
    }
   },
   "outputs": [],
   "source": [
    "pd.options.display.max_colwidth = -1"
   ]
  },
  {
   "cell_type": "markdown",
   "metadata": {},
   "source": [
    "# Data"
   ]
  },
  {
   "cell_type": "code",
   "execution_count": 5,
   "metadata": {
    "ExecuteTime": {
     "end_time": "2019-09-28T16:54:02.620275Z",
     "start_time": "2019-09-28T16:54:01.531437Z"
    }
   },
   "outputs": [
    {
     "name": "stdout",
     "output_type": "stream",
     "text": [
      "92970\n"
     ]
    }
   ],
   "source": [
    "data = pd.DataFrame(columns=['Quote'])\n",
    "for folderName, subfolders, filenames in os.walk('E:/Scrapped-Data/Quotes-Goodreads/'):\n",
    "    for filename in filenames:\n",
    "        data = pd.concat([pd.read_csv('E:/Scrapped-Data/Quotes-Goodreads/'+filename), data], axis=0)\n",
    "print(len(data))"
   ]
  },
  {
   "cell_type": "code",
   "execution_count": 6,
   "metadata": {
    "ExecuteTime": {
     "end_time": "2019-09-28T16:54:02.641467Z",
     "start_time": "2019-09-28T16:54:02.622518Z"
    }
   },
   "outputs": [
    {
     "data": {
      "text/html": [
       "<div>\n",
       "<style scoped>\n",
       "    .dataframe tbody tr th:only-of-type {\n",
       "        vertical-align: middle;\n",
       "    }\n",
       "\n",
       "    .dataframe tbody tr th {\n",
       "        vertical-align: top;\n",
       "    }\n",
       "\n",
       "    .dataframe thead th {\n",
       "        text-align: right;\n",
       "    }\n",
       "</style>\n",
       "<table border=\"1\" class=\"dataframe\">\n",
       "  <thead>\n",
       "    <tr style=\"text-align: right;\">\n",
       "      <th></th>\n",
       "      <th>Quote</th>\n",
       "    </tr>\n",
       "  </thead>\n",
       "  <tbody>\n",
       "    <tr>\n",
       "      <td>0</td>\n",
       "      <td>“I love deadlines. I love the whooshing noise they make as they go by.” ― Douglas Adams, The Salmon of Doubt //</td>\n",
       "    </tr>\n",
       "    <tr>\n",
       "      <td>1</td>\n",
       "      <td>“There is no greater agony than bearing an untold story inside you.” ― Maya Angelou, I Know Why the Caged Bird Sings //</td>\n",
       "    </tr>\n",
       "    <tr>\n",
       "      <td>2</td>\n",
       "      <td>“What really knocks me out is a book that, when you're all done reading it, you wish the author that wrote it was a terrific friend of yours and you could call him up on the phone whenever you felt like it. That doesn't happen much, though.” ― J.D. Salinger, The Catcher in the Rye //</td>\n",
       "    </tr>\n",
       "    <tr>\n",
       "      <td>3</td>\n",
       "      <td>“If there's a book that you want to read, but it hasn't been written yet, then you must write it.” ― Toni Morrison</td>\n",
       "    </tr>\n",
       "    <tr>\n",
       "      <td>4</td>\n",
       "      <td>“There is nothing to writing. All you do is sit down at a typewriter and bleed.” ― Ernest Hemingway</td>\n",
       "    </tr>\n",
       "  </tbody>\n",
       "</table>\n",
       "</div>"
      ],
      "text/plain": [
       "                                                                                                                                                                                                                                                                                          Quote\n",
       "0  “I love deadlines. I love the whooshing noise they make as they go by.” ― Douglas Adams, The Salmon of Doubt //                                                                                                                                                                             \n",
       "1  “There is no greater agony than bearing an untold story inside you.” ― Maya Angelou, I Know Why the Caged Bird Sings //                                                                                                                                                                     \n",
       "2  “What really knocks me out is a book that, when you're all done reading it, you wish the author that wrote it was a terrific friend of yours and you could call him up on the phone whenever you felt like it. That doesn't happen much, though.” ― J.D. Salinger, The Catcher in the Rye //\n",
       "3  “If there's a book that you want to read, but it hasn't been written yet, then you must write it.” ― Toni Morrison                                                                                                                                                                          \n",
       "4  “There is nothing to writing. All you do is sit down at a typewriter and bleed.” ― Ernest Hemingway                                                                                                                                                                                         "
      ]
     },
     "execution_count": 6,
     "metadata": {},
     "output_type": "execute_result"
    }
   ],
   "source": [
    "data.head()"
   ]
  },
  {
   "cell_type": "markdown",
   "metadata": {},
   "source": [
    "**Cleaning**"
   ]
  },
  {
   "cell_type": "code",
   "execution_count": 7,
   "metadata": {
    "ExecuteTime": {
     "end_time": "2019-09-28T16:54:02.760284Z",
     "start_time": "2019-09-28T16:54:02.645686Z"
    }
   },
   "outputs": [],
   "source": [
    "def clean1(x):\n",
    "    x = x.split('―')[0].strip()\n",
    "    return x"
   ]
  },
  {
   "cell_type": "code",
   "execution_count": 8,
   "metadata": {
    "ExecuteTime": {
     "end_time": "2019-09-28T16:54:03.347693Z",
     "start_time": "2019-09-28T16:54:02.768302Z"
    }
   },
   "outputs": [
    {
     "name": "stdout",
     "output_type": "stream",
     "text": [
      "73625\n"
     ]
    }
   ],
   "source": [
    "data['Quote'] = data['Quote'].apply(clean1)\n",
    "data.drop_duplicates(inplace=True)\n",
    "data.reset_index(drop=True, inplace=True)\n",
    "print(len(data))"
   ]
  },
  {
   "cell_type": "code",
   "execution_count": 9,
   "metadata": {
    "ExecuteTime": {
     "end_time": "2019-09-28T16:54:03.364645Z",
     "start_time": "2019-09-28T16:54:03.352937Z"
    }
   },
   "outputs": [
    {
     "data": {
      "text/html": [
       "<div>\n",
       "<style scoped>\n",
       "    .dataframe tbody tr th:only-of-type {\n",
       "        vertical-align: middle;\n",
       "    }\n",
       "\n",
       "    .dataframe tbody tr th {\n",
       "        vertical-align: top;\n",
       "    }\n",
       "\n",
       "    .dataframe thead th {\n",
       "        text-align: right;\n",
       "    }\n",
       "</style>\n",
       "<table border=\"1\" class=\"dataframe\">\n",
       "  <thead>\n",
       "    <tr style=\"text-align: right;\">\n",
       "      <th></th>\n",
       "      <th>Quote</th>\n",
       "    </tr>\n",
       "  </thead>\n",
       "  <tbody>\n",
       "    <tr>\n",
       "      <td>0</td>\n",
       "      <td>“I love deadlines. I love the whooshing noise they make as they go by.”</td>\n",
       "    </tr>\n",
       "    <tr>\n",
       "      <td>1</td>\n",
       "      <td>“There is no greater agony than bearing an untold story inside you.”</td>\n",
       "    </tr>\n",
       "    <tr>\n",
       "      <td>2</td>\n",
       "      <td>“What really knocks me out is a book that, when you're all done reading it, you wish the author that wrote it was a terrific friend of yours and you could call him up on the phone whenever you felt like it. That doesn't happen much, though.”</td>\n",
       "    </tr>\n",
       "    <tr>\n",
       "      <td>3</td>\n",
       "      <td>“If there's a book that you want to read, but it hasn't been written yet, then you must write it.”</td>\n",
       "    </tr>\n",
       "    <tr>\n",
       "      <td>4</td>\n",
       "      <td>“There is nothing to writing. All you do is sit down at a typewriter and bleed.”</td>\n",
       "    </tr>\n",
       "  </tbody>\n",
       "</table>\n",
       "</div>"
      ],
      "text/plain": [
       "                                                                                                                                                                                                                                               Quote\n",
       "0  “I love deadlines. I love the whooshing noise they make as they go by.”                                                                                                                                                                          \n",
       "1  “There is no greater agony than bearing an untold story inside you.”                                                                                                                                                                             \n",
       "2  “What really knocks me out is a book that, when you're all done reading it, you wish the author that wrote it was a terrific friend of yours and you could call him up on the phone whenever you felt like it. That doesn't happen much, though.”\n",
       "3  “If there's a book that you want to read, but it hasn't been written yet, then you must write it.”                                                                                                                                               \n",
       "4  “There is nothing to writing. All you do is sit down at a typewriter and bleed.”                                                                                                                                                                 "
      ]
     },
     "execution_count": 9,
     "metadata": {},
     "output_type": "execute_result"
    }
   ],
   "source": [
    "data.head()"
   ]
  },
  {
   "cell_type": "markdown",
   "metadata": {},
   "source": [
    "# More Data"
   ]
  },
  {
   "cell_type": "code",
   "execution_count": 10,
   "metadata": {
    "ExecuteTime": {
     "end_time": "2019-09-28T16:54:03.575456Z",
     "start_time": "2019-09-28T16:54:03.368175Z"
    }
   },
   "outputs": [
    {
     "name": "stdout",
     "output_type": "stream",
     "text": [
      "82205\n"
     ]
    }
   ],
   "source": [
    "for folderName, subfolders, filenames in os.walk('E:/Scrapped-Data/BrainyQuote/'):\n",
    "    for filename in filenames:\n",
    "        data = pd.concat([pd.read_csv('E:/Scrapped-Data/BrainyQuote/'+filename), data], axis=0)\n",
    "print(len(data))"
   ]
  },
  {
   "cell_type": "code",
   "execution_count": 11,
   "metadata": {
    "ExecuteTime": {
     "end_time": "2019-09-28T16:54:03.741954Z",
     "start_time": "2019-09-28T16:54:03.583402Z"
    }
   },
   "outputs": [
    {
     "name": "stdout",
     "output_type": "stream",
     "text": [
      "81924\n"
     ]
    }
   ],
   "source": [
    "data.drop_duplicates(inplace=True)\n",
    "data.reset_index(drop=True, inplace=True)\n",
    "print(len(data))"
   ]
  },
  {
   "cell_type": "markdown",
   "metadata": {},
   "source": [
    "# Some More Data"
   ]
  },
  {
   "cell_type": "code",
   "execution_count": 12,
   "metadata": {
    "ExecuteTime": {
     "end_time": "2019-09-28T16:54:03.782901Z",
     "start_time": "2019-09-28T16:54:03.744915Z"
    }
   },
   "outputs": [],
   "source": [
    "data_ = pd.read_csv('E:/Scrapped-Data/KeepInspiringMe.csv')"
   ]
  },
  {
   "cell_type": "code",
   "execution_count": 13,
   "metadata": {
    "ExecuteTime": {
     "end_time": "2019-09-28T16:54:03.903479Z",
     "start_time": "2019-09-28T16:54:03.786803Z"
    }
   },
   "outputs": [],
   "source": [
    "def clean2(x):\n",
    "    x = str(x).split('–')[0].strip()\n",
    "    return x"
   ]
  },
  {
   "cell_type": "code",
   "execution_count": 14,
   "metadata": {
    "ExecuteTime": {
     "end_time": "2019-09-28T16:54:04.025991Z",
     "start_time": "2019-09-28T16:54:03.908465Z"
    }
   },
   "outputs": [],
   "source": [
    "data_['Quote'] = data_['Quote'].apply(clean2)"
   ]
  },
  {
   "cell_type": "code",
   "execution_count": 15,
   "metadata": {
    "ExecuteTime": {
     "end_time": "2019-09-28T16:54:04.115002Z",
     "start_time": "2019-09-28T16:54:04.029971Z"
    }
   },
   "outputs": [],
   "source": [
    "data = pd.concat([data_, data], axis=0)"
   ]
  },
  {
   "cell_type": "markdown",
   "metadata": {},
   "source": [
    "**Preprocess**"
   ]
  },
  {
   "cell_type": "code",
   "execution_count": 16,
   "metadata": {
    "ExecuteTime": {
     "end_time": "2019-09-28T16:54:11.147624Z",
     "start_time": "2019-09-28T16:54:04.119908Z"
    }
   },
   "outputs": [],
   "source": [
    "data['Quote'] = data['Quote'].apply(lambda x: re.sub(r'\\.+', ' ', x))\n",
    "data['Quote'] = data['Quote'].apply(lambda x: re.sub(r'[^\\w\\s]|_', '', x))\n",
    "data['Quote'] = data['Quote'].apply(lambda x: re.sub(r'\\s+', ' ', x))\n",
    "data['Quote'] = data['Quote'].apply(lambda x: re.sub(r\"(e)?valezwritetag(\\d+)keepinspiringme(\\w+)(\\d+)ezslot(\\d+)\", ' ', x))\n",
    "data['Quote'] = data['Quote'].apply(lambda x: x.strip())\n",
    "data['Quote'] = data['Quote'].apply(lambda x: x.lower())\n",
    "data['Quote'] = data['Quote'].apply(lambda x : x + ' endquote')"
   ]
  },
  {
   "cell_type": "code",
   "execution_count": 17,
   "metadata": {
    "ExecuteTime": {
     "end_time": "2019-09-28T16:54:11.282212Z",
     "start_time": "2019-09-28T16:54:11.150564Z"
    }
   },
   "outputs": [
    {
     "name": "stdout",
     "output_type": "stream",
     "text": [
      "86982\n"
     ]
    }
   ],
   "source": [
    "data.drop_duplicates(inplace=True)\n",
    "data.reset_index(drop=True, inplace=True)\n",
    "print(len(data))"
   ]
  },
  {
   "cell_type": "code",
   "execution_count": 18,
   "metadata": {
    "ExecuteTime": {
     "end_time": "2019-09-28T16:54:11.309111Z",
     "start_time": "2019-09-28T16:54:11.286172Z"
    }
   },
   "outputs": [
    {
     "data": {
      "text/html": [
       "<div>\n",
       "<style scoped>\n",
       "    .dataframe tbody tr th:only-of-type {\n",
       "        vertical-align: middle;\n",
       "    }\n",
       "\n",
       "    .dataframe tbody tr th {\n",
       "        vertical-align: top;\n",
       "    }\n",
       "\n",
       "    .dataframe thead th {\n",
       "        text-align: right;\n",
       "    }\n",
       "</style>\n",
       "<table border=\"1\" class=\"dataframe\">\n",
       "  <thead>\n",
       "    <tr style=\"text-align: right;\">\n",
       "      <th></th>\n",
       "      <th>Quote</th>\n",
       "    </tr>\n",
       "  </thead>\n",
       "  <tbody>\n",
       "    <tr>\n",
       "      <td>14872</td>\n",
       "      <td>if a writer stops observing he is finished experience is communicated by small details intimately observed endquote</td>\n",
       "    </tr>\n",
       "    <tr>\n",
       "      <td>52464</td>\n",
       "      <td>we will scrutinize the ingredients for the food we put in our body but we dont even know what the people we put in our lives are made of endquote</td>\n",
       "    </tr>\n",
       "    <tr>\n",
       "      <td>78469</td>\n",
       "      <td>the search for god is a reversal of the normal mundane worldly order in search for god you revert from what attracts you and swim toward that which is difficult you abandon your comforting and familiar habits with the hope the mere hope that something greater will be offered you in return for what you have given up if we truly knew all the answers in advance as to the meaning of life and the nature of god and the destiny of our souls our belief would not be a leap of faith and it would not be a courageous act of humanity it would just be a prudent insurance policy endquote</td>\n",
       "    </tr>\n",
       "    <tr>\n",
       "      <td>21162</td>\n",
       "      <td>since then your sere majesty and your lordships seek a simple answer i will give it in this manner neither horned nor toothed unless i am convinced by the testimony of the scriptures or by clear reason for i do not trust either in the pope or in councils alone since it is well known that they have often erred and contradicted themselves i am bound by the scriptures i have quoted and my conscience is captive to the word of god i cannot and i will not recant anything since it is neither safe nor right to go against conscience may god help me amen reply to the diet of worms april 18 1521 endquote</td>\n",
       "    </tr>\n",
       "    <tr>\n",
       "      <td>11012</td>\n",
       "      <td>the simplest of simplest things makes me happy i love small gestures and nature in life endquote</td>\n",
       "    </tr>\n",
       "  </tbody>\n",
       "</table>\n",
       "</div>"
      ],
      "text/plain": [
       "                                                                                                                                                                                                                                                                                                                                                                                                                                                                                                                                                                                                                          Quote\n",
       "14872  if a writer stops observing he is finished experience is communicated by small details intimately observed endquote                                                                                                                                                                                                                                                                                                                                                                                                                                                                                                     \n",
       "52464  we will scrutinize the ingredients for the food we put in our body but we dont even know what the people we put in our lives are made of endquote                                                                                                                                                                                                                                                                                                                                                                                                                                                                       \n",
       "78469  the search for god is a reversal of the normal mundane worldly order in search for god you revert from what attracts you and swim toward that which is difficult you abandon your comforting and familiar habits with the hope the mere hope that something greater will be offered you in return for what you have given up if we truly knew all the answers in advance as to the meaning of life and the nature of god and the destiny of our souls our belief would not be a leap of faith and it would not be a courageous act of humanity it would just be a prudent insurance policy endquote                     \n",
       "21162  since then your sere majesty and your lordships seek a simple answer i will give it in this manner neither horned nor toothed unless i am convinced by the testimony of the scriptures or by clear reason for i do not trust either in the pope or in councils alone since it is well known that they have often erred and contradicted themselves i am bound by the scriptures i have quoted and my conscience is captive to the word of god i cannot and i will not recant anything since it is neither safe nor right to go against conscience may god help me amen reply to the diet of worms april 18 1521 endquote\n",
       "11012  the simplest of simplest things makes me happy i love small gestures and nature in life endquote                                                                                                                                                                                                                                                                                                                                                                                                                                                                                                                        "
      ]
     },
     "execution_count": 18,
     "metadata": {},
     "output_type": "execute_result"
    }
   ],
   "source": [
    "data.sample(5)"
   ]
  },
  {
   "cell_type": "markdown",
   "metadata": {},
   "source": [
    "**Noise Removal**"
   ]
  },
  {
   "cell_type": "code",
   "execution_count": 19,
   "metadata": {
    "ExecuteTime": {
     "end_time": "2019-09-28T16:54:11.793949Z",
     "start_time": "2019-09-28T16:54:11.313200Z"
    }
   },
   "outputs": [],
   "source": [
    "data['Noise'] = data['Quote'].apply(lambda x: bool(not re.fullmatch(r'[A-Z a-z 0-9]*', x)))"
   ]
  },
  {
   "cell_type": "code",
   "execution_count": 20,
   "metadata": {
    "ExecuteTime": {
     "end_time": "2019-09-28T16:54:11.810515Z",
     "start_time": "2019-09-28T16:54:11.796931Z"
    }
   },
   "outputs": [],
   "source": [
    "data = data[data['Noise'] == False]"
   ]
  },
  {
   "cell_type": "code",
   "execution_count": 21,
   "metadata": {
    "ExecuteTime": {
     "end_time": "2019-09-28T16:54:12.066897Z",
     "start_time": "2019-09-28T16:54:11.814882Z"
    }
   },
   "outputs": [
    {
     "name": "stdout",
     "output_type": "stream",
     "text": [
      "84815\n"
     ]
    }
   ],
   "source": [
    "data.drop_duplicates(inplace=True)\n",
    "data.reset_index(drop=True, inplace=True)\n",
    "print(len(data))"
   ]
  },
  {
   "cell_type": "code",
   "execution_count": 22,
   "metadata": {
    "ExecuteTime": {
     "end_time": "2019-09-28T16:54:12.087717Z",
     "start_time": "2019-09-28T16:54:12.069970Z"
    }
   },
   "outputs": [
    {
     "data": {
      "text/html": [
       "<div>\n",
       "<style scoped>\n",
       "    .dataframe tbody tr th:only-of-type {\n",
       "        vertical-align: middle;\n",
       "    }\n",
       "\n",
       "    .dataframe tbody tr th {\n",
       "        vertical-align: top;\n",
       "    }\n",
       "\n",
       "    .dataframe thead th {\n",
       "        text-align: right;\n",
       "    }\n",
       "</style>\n",
       "<table border=\"1\" class=\"dataframe\">\n",
       "  <thead>\n",
       "    <tr style=\"text-align: right;\">\n",
       "      <th></th>\n",
       "      <th>Quote</th>\n",
       "      <th>Noise</th>\n",
       "    </tr>\n",
       "  </thead>\n",
       "  <tbody>\n",
       "    <tr>\n",
       "      <td>81286</td>\n",
       "      <td>remember where you came from where youre going and why you created the mess you got yourself into in the first place youre going to die a horrible death remember its all good training and youll enjoy it more if you keep the facts in mind take your dying with some seriousness however laughing on the way to your execution is not generally understood by lessadvanced lifeforms and theyll call you crazy endquote</td>\n",
       "      <td>False</td>\n",
       "    </tr>\n",
       "    <tr>\n",
       "      <td>41908</td>\n",
       "      <td>you will always be fond of me i represent to you all the sins you never had the courage to commit endquote</td>\n",
       "      <td>False</td>\n",
       "    </tr>\n",
       "    <tr>\n",
       "      <td>71194</td>\n",
       "      <td>hope is a flicker a candle flame kept burning by the simple act of breathing endquote</td>\n",
       "      <td>False</td>\n",
       "    </tr>\n",
       "    <tr>\n",
       "      <td>83414</td>\n",
       "      <td>no one reads if someone does read he doesnt understand if he understands he immediately forgets endquote</td>\n",
       "      <td>False</td>\n",
       "    </tr>\n",
       "    <tr>\n",
       "      <td>44089</td>\n",
       "      <td>looks like what drives me crazydont have no effect on youbut im gonna keep on at ittill it drives you crazy too endquote</td>\n",
       "      <td>False</td>\n",
       "    </tr>\n",
       "  </tbody>\n",
       "</table>\n",
       "</div>"
      ],
      "text/plain": [
       "                                                                                                                                                                                                                                                                                                                                                                                                                            Quote  \\\n",
       "81286  remember where you came from where youre going and why you created the mess you got yourself into in the first place youre going to die a horrible death remember its all good training and youll enjoy it more if you keep the facts in mind take your dying with some seriousness however laughing on the way to your execution is not generally understood by lessadvanced lifeforms and theyll call you crazy endquote   \n",
       "41908  you will always be fond of me i represent to you all the sins you never had the courage to commit endquote                                                                                                                                                                                                                                                                                                                   \n",
       "71194  hope is a flicker a candle flame kept burning by the simple act of breathing endquote                                                                                                                                                                                                                                                                                                                                        \n",
       "83414  no one reads if someone does read he doesnt understand if he understands he immediately forgets endquote                                                                                                                                                                                                                                                                                                                     \n",
       "44089  looks like what drives me crazydont have no effect on youbut im gonna keep on at ittill it drives you crazy too endquote                                                                                                                                                                                                                                                                                                     \n",
       "\n",
       "       Noise  \n",
       "81286  False  \n",
       "41908  False  \n",
       "71194  False  \n",
       "83414  False  \n",
       "44089  False  "
      ]
     },
     "execution_count": 22,
     "metadata": {},
     "output_type": "execute_result"
    }
   ],
   "source": [
    "data.sample(5)"
   ]
  },
  {
   "cell_type": "code",
   "execution_count": 23,
   "metadata": {
    "ExecuteTime": {
     "end_time": "2019-09-28T16:54:12.986636Z",
     "start_time": "2019-09-28T16:54:12.098969Z"
    }
   },
   "outputs": [],
   "source": [
    "data['Max word len'] = data['Quote'].apply(lambda x: max(list(map(len, x.split()))))"
   ]
  },
  {
   "cell_type": "code",
   "execution_count": 24,
   "metadata": {
    "ExecuteTime": {
     "end_time": "2019-09-28T16:54:13.008716Z",
     "start_time": "2019-09-28T16:54:12.993538Z"
    }
   },
   "outputs": [],
   "source": [
    "data = data[data['Max word len'] <= 25]"
   ]
  },
  {
   "cell_type": "code",
   "execution_count": 25,
   "metadata": {
    "ExecuteTime": {
     "end_time": "2019-09-28T16:54:13.233541Z",
     "start_time": "2019-09-28T16:54:13.012752Z"
    }
   },
   "outputs": [
    {
     "name": "stdout",
     "output_type": "stream",
     "text": [
      "84755\n"
     ]
    }
   ],
   "source": [
    "data.drop_duplicates(inplace=True)\n",
    "data.reset_index(drop=True, inplace=True)\n",
    "print(len(data))"
   ]
  },
  {
   "cell_type": "code",
   "execution_count": 26,
   "metadata": {
    "ExecuteTime": {
     "end_time": "2019-09-28T16:54:13.255481Z",
     "start_time": "2019-09-28T16:54:13.236536Z"
    }
   },
   "outputs": [
    {
     "data": {
      "text/html": [
       "<div>\n",
       "<style scoped>\n",
       "    .dataframe tbody tr th:only-of-type {\n",
       "        vertical-align: middle;\n",
       "    }\n",
       "\n",
       "    .dataframe tbody tr th {\n",
       "        vertical-align: top;\n",
       "    }\n",
       "\n",
       "    .dataframe thead th {\n",
       "        text-align: right;\n",
       "    }\n",
       "</style>\n",
       "<table border=\"1\" class=\"dataframe\">\n",
       "  <thead>\n",
       "    <tr style=\"text-align: right;\">\n",
       "      <th></th>\n",
       "      <th>Quote</th>\n",
       "      <th>Noise</th>\n",
       "      <th>Max word len</th>\n",
       "    </tr>\n",
       "  </thead>\n",
       "  <tbody>\n",
       "    <tr>\n",
       "      <td>44442</td>\n",
       "      <td>all bad poetry springs from genuine feeling to be natural is to be obvious and to be obvious is to be inartistic endquote</td>\n",
       "      <td>False</td>\n",
       "      <td>10</td>\n",
       "    </tr>\n",
       "    <tr>\n",
       "      <td>20067</td>\n",
       "      <td>being wingless doesnt mean you cant fly it just means you have to invent your wings first the malwatch endquote</td>\n",
       "      <td>False</td>\n",
       "      <td>8</td>\n",
       "    </tr>\n",
       "    <tr>\n",
       "      <td>59568</td>\n",
       "      <td>my grandpa always said asking a question is embarrass for a moment but not asking a question is embarrasing for a life time endquote</td>\n",
       "      <td>False</td>\n",
       "      <td>11</td>\n",
       "    </tr>\n",
       "    <tr>\n",
       "      <td>50587</td>\n",
       "      <td>some people believe that being the loudest in the room makes them look strong it may appear that way to a few uninformed individuals what they dont know is the more they talk the more information they reveal about themselves directly and indirectly they become an easy target and it makes them very vulnerable to attacks do not underestimate the power of silence endquote</td>\n",
       "      <td>False</td>\n",
       "      <td>13</td>\n",
       "    </tr>\n",
       "    <tr>\n",
       "      <td>82209</td>\n",
       "      <td>a heart can be broken but it keep on beating just the same endquote</td>\n",
       "      <td>False</td>\n",
       "      <td>8</td>\n",
       "    </tr>\n",
       "  </tbody>\n",
       "</table>\n",
       "</div>"
      ],
      "text/plain": [
       "                                                                                                                                                                                                                                                                                                                                                                                     Quote  \\\n",
       "44442  all bad poetry springs from genuine feeling to be natural is to be obvious and to be obvious is to be inartistic endquote                                                                                                                                                                                                                                                             \n",
       "20067  being wingless doesnt mean you cant fly it just means you have to invent your wings first the malwatch endquote                                                                                                                                                                                                                                                                       \n",
       "59568  my grandpa always said asking a question is embarrass for a moment but not asking a question is embarrasing for a life time endquote                                                                                                                                                                                                                                                  \n",
       "50587  some people believe that being the loudest in the room makes them look strong it may appear that way to a few uninformed individuals what they dont know is the more they talk the more information they reveal about themselves directly and indirectly they become an easy target and it makes them very vulnerable to attacks do not underestimate the power of silence endquote   \n",
       "82209  a heart can be broken but it keep on beating just the same endquote                                                                                                                                                                                                                                                                                                                   \n",
       "\n",
       "       Noise  Max word len  \n",
       "44442  False  10            \n",
       "20067  False  8             \n",
       "59568  False  11            \n",
       "50587  False  13            \n",
       "82209  False  8             "
      ]
     },
     "execution_count": 26,
     "metadata": {},
     "output_type": "execute_result"
    }
   ],
   "source": [
    "data.sample(5)"
   ]
  },
  {
   "cell_type": "markdown",
   "metadata": {},
   "source": [
    "# Training"
   ]
  },
  {
   "cell_type": "code",
   "execution_count": 27,
   "metadata": {
    "ExecuteTime": {
     "end_time": "2019-09-28T16:54:13.771630Z",
     "start_time": "2019-09-28T16:54:13.260151Z"
    }
   },
   "outputs": [],
   "source": [
    "vocab = data['Quote'].apply(lambda x: x.split()[0]).values.tolist()"
   ]
  },
  {
   "cell_type": "code",
   "execution_count": 28,
   "metadata": {
    "ExecuteTime": {
     "end_time": "2019-09-28T16:54:38.879509Z",
     "start_time": "2019-09-28T16:54:13.774686Z"
    }
   },
   "outputs": [],
   "source": [
    "n = 4\n",
    "model = defaultdict(lambda: defaultdict(lambda: 0))\n",
    "word_grams = []\n",
    "for i in range(len(data)):\n",
    "    word_grams += list(ngrams(data['Quote'][i].split(), n+1, \n",
    "                              pad_left=True, pad_right=True,  left_pad_symbol='', right_pad_symbol=''))\n",
    "for w in word_grams:\n",
    "    model[w[:-1]][w[-1]] += 1\n",
    "for w1 in model:\n",
    "    total_count = float(sum(model[w1].values()))\n",
    "    for w2 in model[w1]:\n",
    "        model[w1][w2] /= total_count\n",
    "model = dict(model)        "
   ]
  },
  {
   "cell_type": "code",
   "execution_count": 29,
   "metadata": {
    "ExecuteTime": {
     "end_time": "2019-09-28T16:54:38.895465Z",
     "start_time": "2019-09-28T16:54:38.883501Z"
    }
   },
   "outputs": [],
   "source": [
    "q = lambda x : list(ngrams(x.lower().split(), n, pad_left=True, pad_right=False,  left_pad_symbol=''))[-1]"
   ]
  },
  {
   "cell_type": "code",
   "execution_count": 30,
   "metadata": {
    "ExecuteTime": {
     "end_time": "2019-09-28T16:54:39.044935Z",
     "start_time": "2019-09-28T16:54:38.901448Z"
    }
   },
   "outputs": [
    {
     "name": "stdout",
     "output_type": "stream",
     "text": [
      "Me: the\n",
      "('', '', '', 'the')\n",
      "{'real': 0.007248396989127405, 'trick': 0.001115137998327293, 'root': 0.0005575689991636465, 'more': 0.021187621968218568, 'deepest': 0.0008363534987454698, 'thankful': 0.00013939224979091162, 'unthankful': 0.00013939224979091162, 'world': 0.022163367716754947, 'way': 0.009478672985781991, 'purpose': 0.007248396989127405, 'public': 0.0009757457485363814, 'thing': 0.0071090047393364926, 'painter': 0.00013939224979091162, 'painting': 0.00013939224979091162, 'only': 0.03972679119040981, 'earth': 0.0027878449958182324, 'artists': 0.00027878449958182325, 'artist': 0.0016727069974909396, 'modern': 0.0005575689991636465, 'great': 0.0059938667410092, 'greater': 0.0018120992472818512, 'role': 0.0008363534987454698, 'job': 0.0012545302481182046, 'true': 0.006969612489545581, 'day': 0.005715082241427377, 'difference': 0.006551435740172846, 'chief': 0.001115137998327293, 'pathway': 0.00027878449958182325, 'quieter': 0.00013939224979091162, 'object': 0.0012545302481182046, 'fundamental': 0.0009757457485363814, 'doer': 0.00013939224979091162, 'authority': 0.00013939224979091162, 'human': 0.004460551993309172, 'future': 0.004321159743518261, 'greatest': 0.017563423473654863, 'best': 0.027181488709227767, 'exploration': 0.00027878449958182325, 'scenery': 0.00013939224979091162, 'cosmos': 0.0005575689991636465, 'function': 0.0013939224979091162, 'most': 0.023557290214664066, 'bond': 0.0004181767493727349, 'memories': 0.00027878449958182325, 'homemaker': 0.00027878449958182325, 'family': 0.0006969612489545581, 'strength': 0.0012545302481182046, 'things': 0.002369668246445498, 'ones': 0.0006969612489545581, 'spirit': 0.002230275996654586, 'master': 0.0006969612489545581, 'gospel': 0.0004181767493727349, 'essence': 0.0030666294954000556, 'man': 0.008224142737663786, 'winds': 0.0005575689991636465, 'diversity': 0.00027878449958182325, 'magic': 0.0005575689991636465, 'land': 0.00027878449958182325, 'fact': 0.004739336492890996, 'constitution': 0.0006969612489545581, 'summer': 0.0005575689991636465, 'quality': 0.0016727069974909396, 'loss': 0.00027878449958182325, 'act': 0.001115137998327293, 'harder': 0.0012545302481182046, 'amount': 0.00013939224979091162, 'universe': 0.00683022023975467, 'list': 0.00013939224979091162, 'beauty': 0.002090883746863674, 'joy': 0.001115137998327293, 'heart': 0.005018120992472818, 'saddest': 0.0016727069974909396, 'opposite': 0.0016727069974909396, 'truth': 0.018957345971563982, 'heights': 0.00013939224979091162, 'three': 0.0013939224979091162, 'goal': 0.0015333147477000278, 'reasons': 0.00027878449958182325, 'time': 0.002648452746027321, 'beginning': 0.001115137998327293, 'inability': 0.00013939224979091162, 'lord': 0.00515751324226373, 'key': 0.00515751324226373, 'biggest': 0.004181767493727348, 'paintings': 0.00013939224979091162, 'mind': 0.004460551993309172, 'ideals': 0.00013939224979091162, 'notion': 0.0009757457485363814, 'reason': 0.005854474491218288, 'reasonable': 0.00013939224979091162, 'pessimist': 0.0004181767493727349, 'word': 0.0027878449958182324, 'longer': 0.0019514914970727628, 'largest': 0.00013939224979091162, 'secret': 0.009478672985781991, 'search': 0.001115137998327293, 'foolish': 0.0005575689991636465, 'happiness': 0.0015333147477000278, 'average': 0.0012545302481182046, 'surest': 0.0008363534987454698, 'digital': 0.00013939224979091162, 'cure': 0.0004181767493727349, 'duty': 0.0005575689991636465, 'first': 0.011848341232227487, 'two': 0.002927237245609144, 'simple': 0.0015333147477000278, 'avoidance': 0.00013939224979091162, 'safe': 0.00013939224979091162, 'road': 0.0030666294954000556, 'less': 0.0012545302481182046, 'trouble': 0.003763590744354614, 'early': 0.00027878449958182325, 'friend': 0.0006969612489545581, 'glory': 0.0013939224979091162, 'rules': 0.00027878449958182325, 'meaning': 0.0012545302481182046, 'question': 0.0032060217451909674, 'beautiful': 0.001115137998327293, 'distance': 0.0012545302481182046, 'successful': 0.0005575689991636465, 'whole': 0.006969612489545581, 'work': 0.0008363534987454698, 'starting': 0.0004181767493727349, 'number': 0.0012545302481182046, 'individual': 0.0008363534987454698, '3': 0.00013939224979091162, 'advantage': 0.0005575689991636465, 'highest': 0.002648452746027321, 'important': 0.0016727069974909396, 'liars': 0.00013939224979091162, 'measure': 0.001115137998327293, 'problem': 0.007805965988291051, 'reward': 0.0004181767493727349, 'glow': 0.00013939224979091162, 'least': 0.0006969612489545581, 'purest': 0.0004181767493727349, 'roots': 0.0004181767493727349, 'teacher': 0.0012545302481182046, 'thoughtful': 0.00013939224979091162, 'actuality': 0.00027878449958182325, 'aim': 0.0019514914970727628, 'antidote': 0.00013939224979091162, 'educated': 0.0005575689991636465, 'energy': 0.0005575689991636465, 'gods': 0.0019514914970727628, 'happy': 0.0004181767493727349, 'ideal': 0.0009757457485363814, 'one': 0.005715082241427377, 'proof': 0.0008363534987454698, 'society': 0.0004181767493727349, 'ultimate': 0.003345413994981879, 'worst': 0.005575689991636465, 'perfecting': 0.00013939224979091162, 'gem': 0.00027878449958182325, 'people': 0.0036241984945637024, 'cautious': 0.00027878449958182325, 'superior': 0.0004181767493727349, 'scholar': 0.00013939224979091162, 'faults': 0.00013939224979091162, 'firm': 0.00013939224979091162, 'wheel': 0.00027878449958182325, 'father': 0.0008363534987454698, 'parents': 0.00027878449958182325, 'will': 0.0013939224979091162, 'truths': 0.0005575689991636465, 'facts': 0.00013939224979091162, 'battle': 0.0005575689991636465, 'choice': 0.0005575689991636465, 'defence': 0.00013939224979091162, 'larger': 0.0004181767493727349, 'womans': 0.00013939224979091162, 'alternate': 0.00013939224979091162, 'basis': 0.0005575689991636465, 'tumultuous': 0.00013939224979091162, 'establishment': 0.00027878449958182325, 'hand': 0.00013939224979091162, 'foundations': 0.00013939224979091162, 'preservation': 0.00027878449958182325, 'value': 0.0016727069974909396, 'army': 0.00013939224979091162, 'foundation': 0.001115137998327293, 'liberty': 0.00027878449958182325, 'propitious': 0.00013939224979091162, 'government': 0.00027878449958182325, 'consciousness': 0.00027878449958182325, 'turning': 0.00027878449958182325, 'founders': 0.00013939224979091162, 'wit': 0.00027878449958182325, 'worship': 0.0004181767493727349, 'art': 0.003345413994981879, 'ancients': 0.00027878449958182325, 'eye': 0.0006969612489545581, 'good': 0.0034848062447727906, 'no': 0.00013939224979091162, 'big': 0.0005575689991636465, 'person': 0.0034848062447727906, 'journey': 0.002369668246445498, 'dream': 0.001115137998327293, 'power': 0.0036241984945637024, 'game': 0.0009757457485363814, 'basketball': 0.00013939224979091162, 'minute': 0.0009757457485363814, 'care': 0.00013939224979091162, 'tree': 0.0006969612489545581, 'dead': 0.002927237245609144, 'laws': 0.0008363534987454698, 'happiest': 0.0005575689991636465, 'policy': 0.00013939224979091162, 'holiest': 0.00027878449958182325, 'white': 0.0004181767493727349, 'price': 0.002369668246445498, 'negro': 0.00013939224979091162, 'medias': 0.00013939224979091162, 'black': 0.00027878449958182325, 'english': 0.0006969612489545581, 'problems': 0.0005575689991636465, 'farther': 0.00013939224979091162, 'inherent': 0.00013939224979091162, 'empires': 0.00013939224979091162, 'body': 0.0009757457485363814, 'hottest': 0.00013939224979091162, 'end': 0.0009757457485363814, 'comic': 0.00013939224979091162, 'unexamined': 0.00027878449958182325, 'nearest': 0.00013939224979091162, 'envious': 0.00013939224979091162, 'fewer': 0.00013939224979091162, 'hour': 0.00027878449958182325, 'shortest': 0.0004181767493727349, 'children': 0.0005575689991636465, 'years': 0.001115137998327293, 'easiest': 0.0012545302481182046, 'seed': 0.00027878449958182325, 'same': 0.0016727069974909396, 'possession': 0.00027878449958182325, 'moment': 0.0036241984945637024, 'doubters': 0.00013939224979091162, 'stillness': 0.00027878449958182325, 'athlete': 0.00013939224979091162, 'knowledge': 0.0036241984945637024, 'secondhand': 0.00013939224979091162, 'objective': 0.00027878449958182325, 'leader': 0.00027878449958182325, 'demon': 0.00027878449958182325, 'united': 0.00013939224979091162, 'ballot': 0.00013939224979091162, 'love': 0.003345413994981879, 'lorax': 0.00013939224979091162, 'principal': 0.0004181767493727349, 'magi': 0.00013939224979091162, 'supreme': 0.0005575689991636465, 'outdoor': 0.00013939224979091162, 'era': 0.00027878449958182325, 'pilgrims': 0.00013939224979091162, 'thanksgiving': 0.00013939224979091162, 'funny': 0.002509060496236409, 'next': 0.001115137998327293, 'past': 0.005296905492054642, 'tongue': 0.0004181767493727349, 'words': 0.0018120992472818512, 'path': 0.0015333147477000278, 'limitation': 0.00013939224979091162, 'softminded': 0.00013939224979091162, 'hope': 0.00013939224979091162, 'moral': 0.0004181767493727349, 'principle': 0.0008363534987454698, 'god': 0.0013939224979091162, 'evidence': 0.0006969612489545581, 'third': 0.0005575689991636465, 'imprint': 0.00013939224979091162, 'trust': 0.00027878449958182325, 'devil': 0.0013939224979091162, 'greatness': 0.0006969612489545581, 'bravest': 0.0005575689991636465, 'snake': 0.00013939224979091162, 'philosophers': 0.0006969612489545581, 'really': 0.001115137998327293, 'habit': 0.0008363534987454698, 'appearance': 0.00013939224979091162, 'ability': 0.002090883746863674, 'light': 0.0018120992472818512, 'tragedy': 0.001115137998327293, 'call': 0.00027878449958182325, 'bitterest': 0.00013939224979091162, 'boughs': 0.00013939224979091162, 'younger': 0.00013939224979091162, 'highlight': 0.00013939224979091162, 'quickest': 0.0009757457485363814, 'searchingout': 0.00013939224979091162, 'well': 0.00027878449958182325, 'final': 0.0006969612489545581, 'creative': 0.0008363534987454698, 'difficulty': 0.00027878449958182325, 'stone': 0.0004181767493727349, 'weak': 0.0005575689991636465, 'last': 0.002090883746863674, 'depth': 0.0008363534987454698, 'resistance': 0.00013939224979091162, 'size': 0.0006969612489545581, 'principles': 0.0006969612489545581, 'meeting': 0.0004181767493727349, 'extent': 0.00027878449958182325, 'relationship': 0.0008363534987454698, 'intense': 0.00013939224979091162, 'emotion': 0.00013939224979091162, 'mediocre': 0.00013939224979091162, 'funniest': 0.00013939224979091162, 'task': 0.001115137998327293, 'fitness': 0.00013939224979091162, 'main': 0.002648452746027321, 'duties': 0.00013939224979091162, 'gates': 0.00013939224979091162, 'smarter': 0.00013939224979091162, 'teachers': 0.00027878449958182325, 'five': 0.00027878449958182325, 'doctrine': 0.00027878449958182325, 'drawing': 0.00013939224979091162, 'sunday': 0.00013939224979091162, 'building': 0.00027878449958182325, 'american': 0.00027878449958182325, 'turner': 0.00013939224979091162, 'processes': 0.00013939224979091162, 'single': 0.0008363534987454698, 'chinese': 0.00027878449958182325, 'medium': 0.00013939224979091162, 'primary': 0.0006969612489545581, 'contrasts': 0.00013939224979091162, 'impending': 0.00013939224979091162, 'drama': 0.00027878449958182325, 'flower': 0.0009757457485363814, 'catch': 0.00013939224979091162, 'numberone': 0.00013939224979091162, 'smile': 0.00027878449958182325, 'very': 0.0030666294954000556, 'viennese': 0.00013939224979091162, 'appreciative': 0.00013939224979091162, 'company': 0.00013939224979091162, 'bat': 0.00013939224979091162, 'parthenon': 0.00013939224979091162, 'oscars': 0.00013939224979091162, 'spotlight': 0.00013939224979091162, 'pilgrim': 0.00013939224979091162, 'irish': 0.00013939224979091162, 'nba': 0.00013939224979091162, 'weaker': 0.00013939224979091162, 'coolest': 0.00013939224979091162, 'sad': 0.004739336492890996, 'rose': 0.00013939224979091162, 'walls': 0.0004181767493727349, 'keenest': 0.00013939224979091162, 'history': 0.0012545302481182046, 'president': 0.0004181767493727349, '80s': 0.00013939224979091162, 'old': 0.0019514914970727628, 'closing': 0.00013939224979091162, 'south': 0.00027878449958182325, 'excursion': 0.00013939224979091162, 'beatles': 0.00013939224979091162, 'indian': 0.00013939224979091162, 'holy': 0.0008363534987454698, 'display': 0.00013939224979091162, 'monarchy': 0.00013939224979091162, 'move': 0.00013939224979091162, 'music': 0.001115137998327293, 'new': 0.0009757457485363814, 'junction': 0.00013939224979091162, 'second': 0.0009757457485363814, 'story': 0.002230275996654586, 'assassination': 0.00013939224979091162, 'hardest': 0.0019514914970727628, 'christian': 0.0018120992472818512, 'attacks': 0.00013939224979091162, 'working': 0.00027878449958182325, 'fault': 0.00027878449958182325, 'british': 0.00027878449958182325, 'hate': 0.00027878449958182325, 'universal': 0.0005575689991636465, 'internet': 0.0006969612489545581, 'travel': 0.00013939224979091162, 'gift': 0.0008363534987454698, 'content': 0.00013939224979091162, 'climate': 0.00013939224979091162, 'ferment': 0.00013939224979091162, 'learner': 0.00013939224979091162, 'science': 0.0016727069974909396, 'upside': 0.00013939224979091162, 'positive': 0.0005575689991636465, 'stereoscopic': 0.00013939224979091162, 'games': 0.00013939224979091162, 'places': 0.00013939224979091162, 'overall': 0.00027878449958182325, 'commonwealth': 0.00013939224979091162, 'influence': 0.00013939224979091162, 'rain': 0.0008363534987454698, 'subtlety': 0.00013939224979091162, 'moon': 0.002230275996654586, 'right': 0.002369668246445498, 'sky': 0.0019514914970727628, 'woods': 0.00013939224979091162, 'butterfly': 0.0004181767493727349, 'garden': 0.0004181767493727349, 'clearest': 0.00027878449958182325, 'amen': 0.00013939224979091162, 'ground': 0.00013939224979091162, 'peacock': 0.00013939224979091162, 'fairest': 0.00013939224979091162, 'sacred': 0.0005575689991636465, 'sun': 0.0027878449958182324, 'natural': 0.00027878449958182325, 'sea': 0.0009757457485363814, 'landscape': 0.00027878449958182325, 'mountains': 0.0005575689991636465, 'physical': 0.0005575689991636465, 'rainbow': 0.00027878449958182325, 'air': 0.00027878449958182325, 'insufferable': 0.00013939224979091162, 'lake': 0.00013939224979091162, 'animal': 0.00027878449958182325, 'soul': 0.004321159743518261, 'law': 0.001115137998327293, 'year': 0.00027878449958182325, 'mystic': 0.0006969612489545581, 'breaking': 0.00013939224979091162, 'trees': 0.00013939224979091162, 'temple': 0.00027878449958182325, 'gross': 0.00013939224979091162, 'skull': 0.00013939224979091162, 'possibility': 0.0004181767493727349, 'psychical': 0.00013939224979091162, 'kingdom': 0.0008363534987454698, 'stars': 0.0013939224979091162, 'japanese': 0.00013939224979091162, 'mistake': 0.0004181767493727349, 'bluebird': 0.00013939224979091162, 'violets': 0.00013939224979091162, 'deviation': 0.00013939224979091162, 'poetry': 0.00027878449958182325, 'willow': 0.00013939224979091162, 'ocean': 0.00027878449958182325, 'idea': 0.003345413994981879, 'salary': 0.00013939224979091162, 'missing': 0.00013939224979091162, 'majority': 0.0006969612489545581, 'cool': 0.00013939224979091162, 'counterfeit': 0.00013939224979091162, 'simplest': 0.00027878449958182325, 'savior': 0.00013939224979091162, 'courage': 0.0009757457485363814, 'analytical': 0.00013939224979091162, 'nature': 0.0012545302481182046, 'diagnosis': 0.00013939224979091162, 'rehabilitation': 0.00013939224979091162, 'view': 0.0005575689991636465, 'groves': 0.00013939224979091162, 'fulness': 0.00013939224979091162, 'musician': 0.00013939224979091162, 'little': 0.0005575689991636465, 'snow': 0.00027878449958182325, 'fall': 0.0005575689991636465, 'hardships': 0.00013939224979091162, 'gunnar': 0.00013939224979091162, 'wise': 0.002230275996654586, 'weeds': 0.00013939224979091162, 'dog': 0.00027878449958182325, 'fear': 0.0016727069974909396, 'bird': 0.0006969612489545581, 'boundaries': 0.00027878449958182325, 'expectations': 0.00027878449958182325, 'struggle': 0.0004181767493727349, 'advance': 0.00027878449958182325, 'life': 0.0032060217451909674, 'higher': 0.0018120992472818512, 'method': 0.00027878449958182325, 'challenge': 0.0009757457485363814, 'essential': 0.0004181767493727349, 'sole': 0.0005575689991636465, 'message': 0.00027878449958182325, 'privilege': 0.00013939224979091162, 'shoe': 0.00013939224979091162, 'monotony': 0.00013939224979091162, 'golden': 0.0005575689991636465, 'basic': 0.001115137998327293, 'personal': 0.00027878449958182325, 'wine': 0.00013939224979091162, 'dearest': 0.00013939224979091162, 'indispensable': 0.00013939224979091162, 'books': 0.0030666294954000556, 'limits': 0.00013939224979091162, 'wright': 0.00013939224979091162, 'undertaking': 0.00013939224979091162, 'authentic': 0.00013939224979091162, 'handicap': 0.00013939224979091162, 'leaders': 0.0004181767493727349, 'dezeens': 0.00013939224979091162, 'hymn': 0.00013939224979091162, 'mtc': 0.00013939224979091162, 'flow': 0.0004181767493727349, 'follow': 0.00013939224979091162, 'reports': 0.00027878449958182325, 'boys': 0.00013939224979091162, 'midwest': 0.00013939224979091162, 'avantgarde': 0.00013939224979091162, 'superfluous': 0.00013939224979091162, 'billionaire': 0.00013939224979091162, 'four': 0.0006969612489545581, 'men': 0.00027878449958182325, 'irs': 0.00013939224979091162, 'middle': 0.00027878449958182325, 'democratic': 0.00013939224979091162, 'townspeople': 0.00027878449958182325, 'musicals': 0.00013939224979091162, 'audience': 0.00013939224979091162, 'prospects': 0.00013939224979091162, 'fascination': 0.00027878449958182325, 'tax': 0.00013939224979091162, 'remarkable': 0.00013939224979091162, 'purely': 0.00027878449958182325, 'attitude': 0.0019514914970727628, 'winners': 0.00013939224979091162, 'abcs': 0.00013939224979091162, 'special': 0.0004181767493727349, 'reactionary': 0.00013939224979091162, 'accounting': 0.00027878449958182325, 'prevailing': 0.00027878449958182325, 'compulsion': 0.00013939224979091162, 'normal': 0.00013939224979091162, 'political': 0.00013939224979091162, 'traditional': 0.00013939224979091162, 'olympic': 0.00013939224979091162, 'senator': 0.00013939224979091162, 'enemies': 0.00027878449958182325, 'novelist': 0.00013939224979091162, 'pilot': 0.00013939224979091162, 'client': 0.00013939224979091162, 'republican': 0.00013939224979091162, 'pool': 0.00013939224979091162, 'money': 0.00027878449958182325, 'jokes': 0.00013939224979091162, 'dignity': 0.00027878449958182325, 'fictionally': 0.00013939224979091162, 'theatre': 0.00013939224979091162, 'place': 0.0012545302481182046, 'scariest': 0.0004181767493727349, 'hard': 0.00027878449958182325, 'pages': 0.00027878449958182325, 'nutritionist': 0.00013939224979091162, 'writing': 0.00027878449958182325, 'kafka': 0.00013939224979091162, 'desire': 0.0009757457485363814, 'pen': 0.0004181767493727349, 'decision': 0.0004181767493727349, 'book': 0.002230275996654586, 'professor': 0.00013939224979091162, 'thoughts': 0.00027878449958182325, 'shame': 0.00027878449958182325, 'imagination': 0.0004181767493727349, 'poet': 0.0019514914970727628, 'author': 0.0005575689991636465, 'other': 0.0016727069974909396, 'beach': 0.00027878449958182325, 'test': 0.0005575689991636465, 'writers': 0.0009757457485363814, 'proper': 0.0008363534987454698, 'recipe': 0.00027878449958182325, 'writer': 0.002090883746863674, 'intensityin': 0.00013939224979091162, 'generalizing': 0.00013939224979091162, 'truest': 0.0005575689991636465, 'irritating': 0.00013939224979091162, 'gotta': 0.00013939224979091162, 'rewrites': 0.00013939224979091162, 'prophets': 0.00013939224979091162, 'text': 0.00013939224979091162, 'fun': 0.00013939224979091162, 'novelists': 0.00013939224979091162, 'discipline': 0.00013939224979091162, 'rest': 0.0006969612489545581, 'statement': 0.00013939224979091162, 'success': 0.0008363534987454698, 'scholarsbald': 0.00013939224979091162, 'better': 0.0004181767493727349, 'theater': 0.00013939224979091162, 'denial': 0.00013939224979091162, 'novel': 0.0006969612489545581, 'experimental': 0.00013939224979091162, 'twentieth': 0.00013939224979091162, 'ear': 0.00013939224979091162, 'bricoleur': 0.00013939224979091162, 'process': 0.0015333147477000278, 'crazy': 0.00013939224979091162, 'famed': 0.00027878449958182325, 'impulse': 0.00013939224979091162, 'pint': 0.00013939224979091162, 'paper': 0.0004181767493727349, 'finder': 0.00013939224979091162, 'scientist': 0.0005575689991636465, 'inkstand': 0.00013939224979091162, 'voice': 0.0009757457485363814, 'orator': 0.00013939224979091162, 'isolated': 0.00027878449958182325, 'subject': 0.00013939224979091162, 'standard': 0.00027878449958182325, 'written': 0.00027878449958182325, 'reality': 0.0006969612489545581, 'stream': 0.00027878449958182325, 'vocation': 0.00013939224979091162, 'emotional': 0.00013939224979091162, 'pale': 0.00013939224979091162, 'making': 0.00013939224979091162, 'hospital': 0.00013939224979091162, 'materials': 0.00013939224979091162, 'mysterious': 0.00013939224979091162, 'experience': 0.00013939224979091162, 'throes': 0.00013939224979091162, 'childhood': 0.00013939224979091162, 'awful': 0.0004181767493727349, 'fiction': 0.00013939224979091162, 'realistic': 0.00013939224979091162, 'scene': 0.00013939224979091162, 'fool': 0.00027878449958182325, 'older': 0.0006969612489545581, 'lotus': 0.00013939224979091162, 'stupid': 0.00013939224979091162, 'small': 0.00013939224979091162, 'wisest': 0.00013939224979091162, 'invariable': 0.00013939224979091162, 'sense': 0.0004181767493727349, 'nail': 0.00013939224979091162, 'worlds': 0.0008363534987454698, 'revolution': 0.00027878449958182325, 'rule': 0.0004181767493727349, 'barrier': 0.00013939224979091162, 'immature': 0.00013939224979091162, 'lessons': 0.00013939224979091162, 'image': 0.00013939224979091162, 'noble': 0.00027878449958182325, 'operation': 0.00013939224979091162, 'ordinary': 0.00027878449958182325, 'mermaid': 0.00013939224979091162, 'fates': 0.00013939224979091162, 'pleasures': 0.00013939224979091162, 'use': 0.00013939224979091162, 'source': 0.0005575689991636465, 'topic': 0.00013939224979091162, 'tests': 0.00013939224979091162, 'youth': 0.00013939224979091162, 'wives': 0.00013939224979091162, 'ethos': 0.00027878449958182325, 'brightest': 0.00027878449958182325, 'closer': 0.0005575689991636465, 'failure': 0.00027878449958182325, 'compassionate': 0.00013939224979091162, 'fox': 0.00027878449958182325, 'shaod': 0.00013939224979091162, 'maid': 0.00013939224979091162, 'intelligent': 0.00013939224979091162, 'slave': 0.00027878449958182325, 'night': 0.0015333147477000278, 'smaller': 0.00013939224979091162, 'brillant': 0.00013939224979091162, 'line': 0.0006969612489545581, 'intriguing': 0.00013939224979091162, 'perfection': 0.00013939224979091162, 'grass': 0.00027878449958182325, 'rights': 0.00027878449958182325, 'knowing': 0.00013939224979091162, 'delight': 0.00013939224979091162, 'scepticism': 0.00013939224979091162, 'confidence': 0.00027878449958182325, 'absolute': 0.00013939224979091162, 'vaunted': 0.00013939224979091162, 'ending': 0.00013939224979091162, 'results': 0.00013939224979091162, 'wisdom': 0.0009757457485363814, 'waters': 0.00013939224979091162, 'testimony': 0.00013939224979091162, 'theist': 0.00013939224979091162, 'messaging': 0.00013939224979091162, 'ramayanas': 0.00013939224979091162, 'authenticity': 0.00027878449958182325, 'intellect': 0.00013939224979091162, 'ashes': 0.00013939224979091162, 'sanskrit': 0.00013939224979091162, 'poets': 0.0005575689991636465, 'wilderness': 0.00013939224979091162, 'socalled': 0.0005575689991636465, 'opiumeater': 0.00013939224979091162, 'emptiness': 0.00013939224979091162, 'faster': 0.00027878449958182325, 'start': 0.00027878449958182325, 'hearts': 0.00027878449958182325, 'milieu': 0.00027878449958182325, 'possibilities': 0.00013939224979091162, 'woodcutters': 0.00013939224979091162, 'mercy': 0.00013939224979091162, 'instruments': 0.00013939224979091162, 'sponge': 0.00013939224979091162, 'bible': 0.0015333147477000278, 'forceps': 0.00013939224979091162, 'highminded': 0.00013939224979091162, 'tyrant': 0.00013939224979091162, 'color': 0.00013939224979091162, 'irony': 0.0006969612489545581, 'presocratic': 0.00027878449958182325, 'unqualified': 0.00027878449958182325, 'conflict': 0.0004181767493727349, 'significance': 0.00013939224979091162, 'contemporary': 0.00013939224979091162, 'treacherous': 0.00013939224979091162, 'seeker': 0.00027878449958182325, 'happening': 0.00013939224979091162, 'laughter': 0.00027878449958182325, 'wounded': 0.00013939224979091162, 'naked': 0.00013939224979091162, 'bittersweet': 0.00013939224979091162, 'devils': 0.0004181767493727349, 'hidden': 0.00027878449958182325, 'perfect': 0.0006969612489545581, 'struggles': 0.00013939224979091162, 'ego': 0.0006969612489545581, 'church': 0.0013939224979091162, 'stories': 0.0004181767493727349, 'child': 0.0004181767493727349, 'free': 0.00027878449958182325, 'point': 0.0016727069974909396, 'fruit': 0.00013939224979091162, 'dimwits': 0.00013939224979091162, 'squeeky': 0.00013939224979091162, 'friendship': 0.00013939224979091162, 'contract': 0.00013939224979091162, 'terrible': 0.0004181767493727349, 'toxic': 0.00013939224979091162, 'memory': 0.0004181767493727349, 'scientific': 0.0005575689991636465, 'nasty': 0.00013939224979091162, 'language': 0.001115137998327293, 'buddha': 0.00027878449958182325, 'planet': 0.0004181767493727349, 'business': 0.0006969612489545581, 'blame': 0.00013939224979091162, 'plain': 0.00027878449958182325, 'answers': 0.00013939224979091162, 'clash': 0.00013939224979091162, 'cruelest': 0.00027878449958182325, 'poor': 0.0008363534987454698, 'thirst': 0.00013939224979091162, 'joke': 0.00013939224979091162, 'mediastenographers': 0.00013939224979091162, 'religious': 0.0005575689991636465, 'selfcongratulatory': 0.00013939224979091162, 'darkest': 0.0004181767493727349, 'dreams': 0.0005575689991636465, 'strong': 0.0004181767493727349, 'theistic': 0.00013939224979091162, 'media': 0.0004181767493727349, 'cold': 0.00027878449958182325, 'illusion': 0.00027878449958182325, 'whispering': 0.00013939224979091162, 'nostalgia': 0.00013939224979091162, 'liturgy': 0.00013939224979091162, 'capacity': 0.0005575689991636465, 'striving': 0.00013939224979091162, 'agreement': 0.00013939224979091162, 'amorous': 0.00027878449958182325, 'fishhook': 0.00013939224979091162, 'trial': 0.00013939224979091162, 'mistakes': 0.00027878449958182325, 'flimsy': 0.00013939224979091162, 'timeless': 0.00013939224979091162, 'strongest': 0.0006969612489545581, 'cost': 0.0006969612489545581, 'moving': 0.00013939224979091162, 'tired': 0.00013939224979091162, 'lyf': 0.00013939224979091162, 'common': 0.0006969612489545581, 'frailty': 0.00013939224979091162, 'finished': 0.00013939224979091162, 'busiest': 0.00013939224979091162, 'strangeness': 0.00013939224979091162, 'degree': 0.0005575689991636465, 'part': 0.00013939224979091162, 'clock': 0.0006969612489545581, 'car': 0.00013939224979091162, 'youthful': 0.00013939224979091162, 'concept': 0.0005575689991636465, 'lives': 0.00013939224979091162, 'hours': 0.00027878449958182325, 'humans': 0.00013939224979091162, 'days': 0.0006969612489545581, 'river': 0.0004181767493727349, 'physician': 0.00013939224979091162, 'thought': 0.0012545302481182046, 'huge': 0.00013939224979091162, 'woman': 0.0006969612489545581, 'telephonewhen': 0.00013939224979091162, 'calendar': 0.00027878449958182325, 'candle': 0.00013939224979091162, 'hopi': 0.00013939224979091162, 'steward': 0.00013939224979091162, 'feeling': 0.0006969612489545581, 'full': 0.00027878449958182325, 'unreality': 0.00013939224979091162, 'sand': 0.00013939224979091162, 'passage': 0.0004181767493727349, 'tiny': 0.00013939224979091162, 'unchangingsunswept': 0.00013939224979091162, 'creation': 0.0004181767493727349, 'tremendous': 0.00013939224979091162, 'passing': 0.00027878449958182325, 'city': 0.0004181767493727349, 'inertia': 0.00013939224979091162, 'smoke': 0.00013939224979091162, 'present': 0.001115137998327293, 'gnomonss': 0.00013939224979091162, 'guide': 0.00027878449958182325, 'schoolroom': 0.00013939224979091162, 'diaries': 0.00013939224979091162, 'dusty': 0.00013939224979091162, 'treasure': 0.00013939224979091162, 'prison': 0.00013939224979091162, 'smart': 0.00013939224979091162, 'elementary': 0.00013939224979091162, 'moments': 0.00027878449958182325, 'atoms': 0.0004181767493727349, 'major': 0.0005575689991636465, 'phenomenon': 0.00027878449958182325, 'arrow': 0.00027878449958182325, 'offender': 0.00013939224979091162, 'wave': 0.00013939224979091162, 'alchemy': 0.00013939224979091162, 'minotaur': 0.00027878449958182325, 'courthouse': 0.00013939224979091162, 'entropy': 0.00013939224979091162, 'tuning': 0.00013939224979091162, 'pleasure': 0.0006969612489545581, 'dreamer': 0.00013939224979091162, 'giftbe': 0.00013939224979091162, 'phone': 0.00013939224979091162, 'formula': 0.0004181767493727349, 'rhythms': 0.00013939224979091162, 'iced': 0.00013939224979091162, 'certainty': 0.0004181767493727349, 'wind': 0.0004181767493727349, 'realization': 0.00027878449958182325, 'manner': 0.00013939224979091162, 'objection': 0.00013939224979091162, 'photos': 0.00013939224979091162, 'pursuit': 0.0015333147477000278, 'tuesday': 0.00013939224979091162, 'speed': 0.0004181767493727349, 'scarcest': 0.00013939224979091162, 'oceans': 0.00013939224979091162, 'instant': 0.00013939224979091162, 'historian': 0.00013939224979091162, 'latin': 0.00027878449958182325, 'strata': 0.00013939224979091162, 'vibrant': 0.00013939224979091162, 'stainedglass': 0.00013939224979091162, 'monster': 0.00027878449958182325, 'fate': 0.0004181767493727349, 'distinction': 0.00013939224979091162, 'calling': 0.00027878449958182325, 'sports': 0.00013939224979091162, 'prove': 0.00013939224979091162, 'potential': 0.0004181767493727349, 'thermometer': 0.00013939224979091162, 'level': 0.0004181767493727349, 'victim': 0.00013939224979091162, 'merit': 0.00013939224979091162, 'roughest': 0.00013939224979091162, 'bottom': 0.0004181767493727349, 'backbone': 0.00013939224979091162, 'comfort': 0.0004181767493727349, 'empowered': 0.00013939224979091162, 'french': 0.00027878449958182325, 'logic': 0.00027878449958182325, 'elegance': 0.00027878449958182325, 'condition': 0.00013939224979091162, 'fishing': 0.00013939224979091162, 'disempowered': 0.00013939224979091162, 'grandest': 0.00013939224979091162, 'nobleminded': 0.00013939224979091162, 'futility': 0.00013939224979091162, 'concern': 0.00027878449958182325, 'thrust': 0.00013939224979091162, 'lesson': 0.0006969612489545581, 'ladder': 0.00013939224979091162, 'sure': 0.00013939224979091162, 'tower': 0.00013939224979091162, 'presence': 0.0008363534987454698, 'prince': 0.0005575689991636465, 'quest': 0.00013939224979091162, 'sprint': 0.00013939224979091162, 'library': 0.0016727069974909396, 'downfall': 0.00027878449958182325, 'self': 0.0004181767493727349, 'timelessness': 0.00013939224979091162, 'phrase': 0.0005575689991636465, 'obstacle': 0.00013939224979091162, 'blessings': 0.00027878449958182325, 'popular': 0.00013939224979091162, 'change': 0.00027878449958182325, 'darkness': 0.0008363534987454698, 'environment': 0.00013939224979091162, 'measuring': 0.00013939224979091162, 'emptiest': 0.00013939224979091162, 'questions': 0.0004181767493727349, 'curtain': 0.00013939224979091162, 'celebration': 0.00013939224979091162, 'fourth': 0.00013939224979091162, 'fifth': 0.00013939224979091162, 'hit': 0.00013939224979091162, 'haters': 0.00013939224979091162, 'top': 0.00027878449958182325, 'taste': 0.0005575689991636465, 'sweet': 0.00013939224979091162, 'requisite': 0.00013939224979091162, 'mirrors': 0.00013939224979091162, 'record': 0.00013939224979091162, 'adherent': 0.00013939224979091162, 'skill': 0.00013939224979091162, 'definition': 0.0004181767493727349, 'dosomethings': 0.00013939224979091162, 'overlooked': 0.00013939224979091162, 'deeper': 0.0004181767493727349, 'honor': 0.00013939224979091162, 'priviledges': 0.00013939224979091162, 'resting': 0.00013939224979091162, 'spiritual': 0.001115137998327293, 'spiritualization': 0.00013939224979091162, 'soil': 0.0004181767493727349, 'dripping': 0.00013939224979091162, 'symbol': 0.00013939224979091162, 'queen': 0.00013939224979091162, 'death': 0.001115137998327293, 'material': 0.00027878449958182325, 'danger': 0.00027878449958182325, 'gut': 0.00013939224979091162, 'christians': 0.00013939224979091162, 'saviour': 0.00013939224979091162, 'faith': 0.0005575689991636465, 'tao': 0.00013939224979091162, 'practice': 0.0005575689991636465, 'constant': 0.00027878449958182325, 'egocentric': 0.00013939224979091162, 'freshness': 0.00013939224979091162, 'prophet': 0.00013939224979091162, 'position': 0.00027878449958182325, 'views': 0.00013939224979091162, 'force': 0.00013939224979091162, 'tantric': 0.00013939224979091162, 'incarnation': 0.00013939224979091162, 'powerful': 0.0004181767493727349, 'guru': 0.00027878449958182325, 'willingness': 0.00027878449958182325, 'images': 0.00013939224979091162, 'verbal': 0.00013939224979091162, 'effort': 0.00027878449958182325, 'unique': 0.00013939224979091162, 'physique': 0.00013939224979091162, 'aspirant': 0.00013939224979091162, 'reflection': 0.00013939224979091162, 'speculative': 0.00013939224979091162, 'argument': 0.00027878449958182325, 'gaps': 0.00013939224979091162, 'brain': 0.0004181767493727349, 'mozart': 0.00013939224979091162, 'geographical': 0.00013939224979091162, 'fundamentalists': 0.00013939224979091162, 'disciples': 0.00013939224979091162, 'connection': 0.00013939224979091162, 'oneness': 0.00013939224979091162, 'culture': 0.00027878449958182325, 'forms': 0.00013939224979091162, 'crucified': 0.00013939224979091162, 'saints': 0.00027878449958182325, 'echo': 0.00013939224979091162, 'ears': 0.00013939224979091162, 'monk': 0.00013939224979091162, 'krishna': 0.00013939224979091162, 'highway': 0.00027878449958182325, 'mother': 0.00013939224979091162, 'peace': 0.0005575689991636465, 'enemy': 0.0006969612489545581, 'signs': 0.00027878449958182325, 'bad': 0.0004181767493727349, 'parallel': 0.00013939224979091162, 'messenger': 0.00013939224979091162, 'tenacious': 0.00013939224979091162, 'paramount': 0.00013939224979091162, 'enemys': 0.00013939224979091162, 'solution': 0.00027878449958182325, 'seeds': 0.00013939224979091162, 'birth': 0.00027878449958182325, 'conventional': 0.00027878449958182325, 'metal': 0.00013939224979091162, 'eyes': 0.0008363534987454698, 'abyss': 0.00013939224979091162, 'truly': 0.0004181767493727349, 'initial': 0.00013939224979091162, 'male': 0.00027878449958182325, 'cup': 0.00027878449958182325, 'completion': 0.00013939224979091162, 'unification': 0.00013939224979091162, 'verge': 0.00013939224979091162, 'false': 0.00027878449958182325, 'operative': 0.00013939224979091162, 'enlightened': 0.00013939224979091162, 'meanest': 0.00013939224979091162, 'division': 0.00013939224979091162, 'chronic': 0.00013939224979091162, 'monks': 0.00013939224979091162, 'divinity': 0.00027878449958182325, 'intimate': 0.00013939224979091162, 'wayto': 0.00013939224979091162, 'mirror': 0.00013939224979091162, 'cosmic': 0.00013939224979091162, 'ether': 0.00013939224979091162, 'psychotherapists': 0.00013939224979091162, 'intensity': 0.00013939224979091162, 'castles': 0.00013939224979091162, 'societal': 0.00013939224979091162, 'knower': 0.00013939224979091162, 'understanding': 0.00013939224979091162, 'seven': 0.00013939224979091162, 'total': 0.00013939224979091162, 'bounties': 0.00013939224979091162, 'downside': 0.00013939224979091162, 'invisible': 0.00013939224979091162, 'bright': 0.00013939224979091162, 'following': 0.00027878449958182325, 'copenhagen': 0.00013939224979091162, 'presidential': 0.00013939224979091162, 'known': 0.00027878449958182325, 'labours': 0.00013939224979091162, 'mentally': 0.00013939224979091162, 'theory': 0.00027878449958182325, 'reappearance': 0.00013939224979091162, 'fossil': 0.00013939224979091162, 'curious': 0.00013939224979091162, 'split': 0.00013939224979091162, 'alternative': 0.00013939224979091162, 'significant': 0.00013939224979091162, 'european': 0.00013939224979091162, 'assumption': 0.00013939224979091162, 'ufo': 0.00013939224979091162, 'tendency': 0.00027878449958182325, 'apollo': 0.00013939224979091162, 'maxims': 0.00013939224979091162, 'stubborn': 0.00013939224979091162, 'study': 0.0005575689991636465, 'sheer': 0.00013939224979091162, 'ideas': 0.0004181767493727349, 'apex': 0.00013939224979091162, 'prediction': 0.00013939224979091162, 'conclusion': 0.00013939224979091162, 'surpluses': 0.00013939224979091162, 'neural': 0.00013939224979091162, 'tv': 0.00013939224979091162, 'laboratory': 0.00013939224979091162, 'ongoing': 0.00013939224979091162, 'plural': 0.00013939224979091162, 'traumatized': 0.00013939224979091162, 'landed': 0.00013939224979091162, 'lifetime': 0.00013939224979091162, 'command': 0.00013939224979091162, 'humble': 0.00027878449958182325, 'controversy': 0.00013939224979091162, 'near': 0.00013939224979091162, 'wellbeing': 0.00013939224979091162, 'aspirations': 0.00013939224979091162, 'creator': 0.0005575689991636465, 'ideology': 0.00013939224979091162, 'element': 0.0004181767493727349, 'steam': 0.00013939224979091162, 'himalayas': 0.00013939224979091162, 'myth': 0.00027878449958182325, 'denier': 0.00013939224979091162, 'void': 0.00013939224979091162, 'propensity': 0.00013939224979091162, 'features': 0.00013939224979091162, 'complexity': 0.00027878449958182325, 'information': 0.0004181767493727349, 'limit': 0.00027878449958182325, 'crime': 0.00013939224979091162, 'paranormal': 0.00013939224979091162, 'phaenomena': 0.00013939224979091162, 'definitive': 0.00013939224979091162, 'increase': 0.00013939224979091162, 'others': 0.00027878449958182325, 'formal': 0.00013939224979091162, 'classification': 0.00013939224979091162, 'belief': 0.001115137998327293, 'ruinous': 0.00013939224979091162, 'positivists': 0.00013939224979091162, 'tape': 0.00013939224979091162, 'population': 0.00013939224979091162, 'turmoil': 0.00013939224979091162, 'salient': 0.00013939224979091162, 'sciences': 0.00013939224979091162, 'exaltation': 0.00027878449958182325, 'mere': 0.00013939224979091162, 'mission': 0.00027878449958182325, 'bogdanov': 0.00013939224979091162, 'heroes': 0.00027878449958182325, 'absence': 0.0009757457485363814, 'biologically': 0.00013939224979091162, 'w': 0.00013939224979091162, 'answer': 0.0004181767493727349, 'underlying': 0.00013939224979091162, 'algorithms': 0.00013939224979091162, 'fourteen': 0.00013939224979091162, 'counsel': 0.00013939224979091162, 'need': 0.00027878449958182325, 'cultural': 0.00013939224979091162, 'shorter': 0.00013939224979091162, 'munduruku': 0.00013939224979091162, 'owner': 0.00013939224979091162, 'progressive': 0.00013939224979091162, 'chain': 0.00027878449958182325, 'sign': 0.00027878449958182325, 'optimist': 0.00013939224979091162, 'classic': 0.00013939224979091162, 'deep': 0.00027878449958182325, 'cerebral': 0.00013939224979091162, 'hanbalite': 0.00013939224979091162, 'proponents': 0.00013939224979091162, 'genetic': 0.00013939224979091162, 'historical': 0.00013939224979091162, 'geometry': 0.00027878449958182325, 'insane': 0.00013939224979091162, 'prohibition': 0.00013939224979091162, 'promises': 0.00013939224979091162, 'soviets': 0.00013939224979091162, 'dqn': 0.00013939224979091162, 'exact': 0.00013939224979091162, 'omegas': 0.00013939224979091162, 'tapestry': 0.00013939224979091162, 'elements': 0.00013939224979091162, 'aliensthey': 0.00013939224979091162, 'octopuses': 0.00013939224979091162, 'matter': 0.00013939224979091162, 'intention': 0.0004181767493727349, 'scientists': 0.00013939224979091162, 'software': 0.00013939224979091162, 'smartest': 0.00027878449958182325, 'letter': 0.00027878449958182325, 'door': 0.0006969612489545581, 'tune': 0.00013939224979091162, 'cord': 0.00013939224979091162, 'entire': 0.0009757457485363814, 'want': 0.00013939224979091162, 'fuse': 0.00013939224979091162, 'engine': 0.00013939224979091162, 'battered': 0.00013939224979091162, 'morning': 0.0009757457485363814, 'guy': 0.00013939224979091162, 'seeking': 0.00013939224979091162, 'paradox': 0.0005575689991636465, 'rom': 0.00013939224979091162, 'unhappiest': 0.00027878449958182325, 'cycle': 0.00013939224979091162, 'weakness': 0.00013939224979091162, 'insanity': 0.00013939224979091162, 'curves': 0.00013939224979091162, 'divorce': 0.00013939224979091162, 'unexpected': 0.00013939224979091162, 'momentwhen': 0.00013939224979091162, 'sweatshirt': 0.00013939224979091162, 'multicolored': 0.00013939224979091162, 'northern': 0.00013939224979091162, 'workings': 0.00013939224979091162, 'busy': 0.00013939224979091162, 'house': 0.0006969612489545581, 'course': 0.0005575689991636465, 'vampire': 0.00027878449958182325, 'slowest': 0.00013939224979091162, 'blood': 0.0004181767493727349, 'scent': 0.00013939224979091162, 'howard': 0.00013939224979091162, 'reader': 0.00013939224979091162, 'motel': 0.00013939224979091162, 'school': 0.00013939224979091162, 'spring': 0.00013939224979091162, 'wish': 0.00027878449958182325, 'san': 0.00013939224979091162, 'easy': 0.00027878449958182325, 'legitimate': 0.00013939224979091162, 'philosophy': 0.0009757457485363814, 'merest': 0.00013939224979091162, 'capitalist': 0.00013939224979091162, 'savage': 0.00013939224979091162, 'takehome': 0.00013939224979091162, 'catholic': 0.00027878449958182325, 'figures': 0.00013939224979091162, 'religion': 0.00013939224979091162, 'scriptures': 0.00013939224979091162, 'unknown': 0.00027878449958182325, 'rabbit': 0.00013939224979091162, 'doctrinal': 0.00013939224979091162, 'tempter': 0.00013939224979091162, 'scripture': 0.00027878449958182325, 'anatomy': 0.00013939224979091162, 'yen': 0.00013939224979091162, 'maker': 0.00013939224979091162, 'believer': 0.00013939224979091162, 'destiny': 0.00027878449958182325, 'divine': 0.0008363534987454698, 'hindus': 0.00013939224979091162, 'reformer': 0.00013939224979091162, 'healing': 0.0004181767493727349, 'quran': 0.00027878449958182325, 'princes': 0.00013939224979091162, 'doctors': 0.00013939224979091162, 'rash': 0.00013939224979091162, 'imported': 0.00013939224979091162, 'typical': 0.00013939224979091162, 'parent': 0.00013939224979091162, 'priests': 0.00013939224979091162, 'westboro': 0.00013939224979091162, 'atheism': 0.00013939224979091162, 'living': 0.0005575689991636465, 'tezuman': 0.00013939224979091162, 'australian': 0.00013939224979091162, 'ancestors': 0.00013939224979091162, 'official': 0.00013939224979091162, 'existence': 0.00013939224979091162, 'lies': 0.00013939224979091162, 'pope': 0.00027878449958182325, 'mathematicians': 0.00013939224979091162, 'melancholy': 0.00013939224979091162, 'religionist': 0.00013939224979091162, 'supernatural': 0.00013939224979091162, 'shadowmaker': 0.00013939224979091162, 'agony': 0.00013939224979091162, 'country': 0.0004181767493727349, 'oldtimereligion': 0.00013939224979091162, 'haggadah': 0.00013939224979091162, 'religionists': 0.00013939224979091162, 'fremen': 0.00013939224979091162, 'teachings': 0.00027878449958182325, 'baby': 0.00027878449958182325, 'wicked': 0.00027878449958182325, 'disobedience': 0.00013939224979091162, 'reformation': 0.00013939224979091162, 'realm': 0.00013939224979091162, 'servant': 0.00013939224979091162, 'abiding': 0.00013939224979091162, 'sight': 0.00013939224979091162, 'orgasm': 0.00013939224979091162, 'ruin': 0.00013939224979091162, 'quintessential': 0.00013939224979091162, 'neocons': 0.00013939224979091162, 'fervor': 0.00013939224979091162, 'institutions': 0.00027878449958182325, 'sound': 0.00027878449958182325, 'prayer': 0.00013939224979091162, 'padres': 0.00013939224979091162, 'clothes': 0.00027878449958182325, 'september': 0.00013939224979091162, 'extreme': 0.00013939224979091162, 'assumptions': 0.00013939224979091162, 'maxim': 0.00013939224979091162, 'needle': 0.00013939224979091162, 'masses': 0.00027878449958182325, 'mystical': 0.00013939224979091162, 'outer': 0.00027878449958182325, 'contrast': 0.00027878449958182325, 'religions': 0.00013939224979091162, 'purity': 0.00027878449958182325, 'bank': 0.00013939224979091162, 'girl': 0.00027878449958182325, 'weather': 0.00013939224979091162, 'snag': 0.00013939224979091162, 'aching': 0.00013939224979091162, 'manlier': 0.00013939224979091162, 'protagonist': 0.00013939224979091162, 'fights': 0.00013939224979091162, 'vast': 0.00027878449958182325, 'girls': 0.00013939224979091162, 'betty': 0.00013939224979091162, 'clerk': 0.00013939224979091162, 'women': 0.0004181767493727349, 'teaching': 0.00027878449958182325, 'kiss': 0.0004181767493727349, 'engineers': 0.00013939224979091162, 'audenkallman': 0.00013939224979091162, 'red': 0.00013939224979091162, 'lamb': 0.00027878449958182325, 'pieces': 0.00013939224979091162, 'gender': 0.00013939224979091162, 'partition': 0.00013939224979091162, 'name': 0.00027878449958182325, 'romantic': 0.00013939224979091162, 'virgins': 0.00013939224979091162, 'covert': 0.00013939224979091162, 'week': 0.00013939224979091162, 'daily': 0.0004181767493727349, 'computer': 0.0004181767493727349, 'relationships': 0.00013939224979091162, 'sooner': 0.00027878449958182325, 'surface': 0.00013939224979091162, 'connections': 0.0004181767493727349, 'space': 0.00013939224979091162, '2': 0.00027878449958182325, 'smell': 0.00027878449958182325, 'fallout': 0.00013939224979091162, 'circle': 0.00027878449958182325, 'paradoxical': 0.00013939224979091162, 'marks': 0.00027878449958182325, 'statistics': 0.00013939224979091162, 'boy': 0.0005575689991636465, 'loneliest': 0.00013939224979091162, 'wound': 0.00013939224979091162, 'nicest': 0.00013939224979091162, 'town': 0.00013939224979091162, 'silence': 0.0005575689991636465, 'meek': 0.00013939224979091162, 'darker': 0.00027878449958182325, 'unreal': 0.00013939224979091162, 'helpful': 0.00013939224979091162, 'ships': 0.00013939224979091162, 'spell': 0.00013939224979091162, 'scar': 0.00013939224979091162, 'brick': 0.00013939224979091162, 'creatures': 0.00027878449958182325, 'nitrogen': 0.00013939224979091162, 'finest': 0.0004181767493727349, 'unfed': 0.00013939224979091162, 'impossible': 0.00027878449958182325, 'mark': 0.00027878449958182325, 'sunlight': 0.00013939224979091162, 'grand': 0.00027878449958182325, 'voicethere': 0.00013939224979091162, 'bhagavad': 0.00013939224979091162, 'journeyone': 0.00013939224979091162, 'tides': 0.00013939224979091162, 'breezes': 0.00013939224979091162, 'uses': 0.00013939224979091162, 'bridge': 0.00013939224979091162, 'typeeveryone': 0.00013939224979091162, 'quiet': 0.00013939224979091162, 'layersi': 0.00013939224979091162, 'abandoned': 0.00013939224979091162, 'rainy': 0.00013939224979091162, 'goodmorrowi': 0.00013939224979091162, 'many': 0.00013939224979091162, 'young': 0.0009757457485363814, 'worstthing': 0.00013939224979091162, 'season': 0.00013939224979091162, 'silent': 0.0008363534987454698, 'war': 0.00013939224979091162, 'ridera': 0.00013939224979091162, 'profoundest': 0.00013939224979091162, 'childrens': 0.00013939224979091162, 'coming': 0.00013939224979091162, 'inmost': 0.00013939224979091162, 'bustle': 0.00013939224979091162, 'ambitions': 0.00013939224979091162, 'jewelthere': 0.00013939224979091162, 'characters': 0.0004181767493727349, 'listenersis': 0.00013939224979091162, 'phantom': 0.00013939224979091162, 'quitterwhen': 0.00013939224979091162, 'eyeit': 0.00013939224979091162, 'exceeding': 0.00013939224979091162, 'fountains': 0.00013939224979091162, 'poem': 0.0006969612489545581, 'press': 0.00013939224979091162, 'budstands': 0.00013939224979091162, 'horses': 0.00013939224979091162, 'song': 0.00013939224979091162, 'flames': 0.00013939224979091162, 'busybody': 0.00013939224979091162, 'assignment': 0.00013939224979091162, 'prettiest': 0.00027878449958182325, 'apache': 0.00013939224979091162, 'ogre': 0.00013939224979091162, 'pekes': 0.00013939224979091162, 'pure': 0.0004181767493727349, 'moonand': 0.00013939224979091162, 'awakeningi': 0.00013939224979091162, 'graves': 0.00013939224979091162, 'wet': 0.00013939224979091162, 'dreamfencekittens': 0.00013939224979091162, 'masters': 0.00013939224979091162, 'poetis': 0.00013939224979091162, 'campus': 0.00013939224979091162, 'muffled': 0.00013939224979091162, 'kind': 0.0005575689991636465, 'vagabondgive': 0.00013939224979091162, 'ballpoint': 0.00013939224979091162, 'southwind': 0.00013939224979091162, 'princessjumped': 0.00013939224979091162, 'gentle': 0.00013939224979091162, 'onewho': 0.00013939224979091162, 'flightlook': 0.00013939224979091162, 'bed': 0.00013939224979091162, 'taxiwhen': 0.00013939224979091162, 'mimicry': 0.00013939224979091162, 'collective': 0.00013939224979091162, 'fishermans': 0.00013939224979091162, 'yard': 0.00013939224979091162, 'forest': 0.00013939224979091162, 'dark': 0.0004181767493727349, 'storms': 0.00013939224979091162, 'waves': 0.00013939224979091162, 'long': 0.0004181767493727349, 'skies': 0.00013939224979091162, 'touch': 0.00027878449958182325, 'surge': 0.00013939224979091162, 'sweetness': 0.00013939224979091162, 'triflerdeaths': 0.00013939224979091162, 'everlasting': 0.00013939224979091162, 'subtleties': 0.00013939224979091162, 'talked': 0.00013939224979091162, 'worm': 0.00013939224979091162, 'plot': 0.00013939224979091162, 'pressuremaybe': 0.00013939224979091162, 'artistic': 0.00013939224979091162, 'mercythe': 0.00013939224979091162, 'smallest': 0.0004181767493727349, 'flame': 0.00013939224979091162, 'menu': 0.00013939224979091162, 'evil': 0.0005575689991636465, 'pianokeys': 0.00013939224979091162, 'state': 0.0004181767493727349, 'inner': 0.0005575689991636465, 'wealth': 0.00013939224979091162, 'philosopher': 0.0004181767493727349, 'longing': 0.00013939224979091162, 'map': 0.00013939224979091162, 'rarest': 0.00013939224979091162, 'premise': 0.00013939224979091162, 'discovery': 0.00027878449958182325, 'wild': 0.00013939224979091162, 'square': 0.00013939224979091162, 'stronger': 0.00027878449958182325, 'creed': 0.00013939224979091162, 'serpent': 0.00013939224979091162, 'student': 0.00013939224979091162, 'symbolism': 0.00013939224979091162, 'illness': 0.00013939224979091162, 'rider': 0.00013939224979091162, 'perfectly': 0.00013939224979091162, 'stalker': 0.00013939224979091162, 'supply': 0.00013939224979091162, 'logical': 0.00013939224979091162, 'ruling': 0.00013939224979091162, 'debate': 0.00013939224979091162, 'realworld': 0.00013939224979091162, 'complexities': 0.00027878449958182325, 'priest': 0.00013939224979091162, 'rich': 0.00013939224979091162, 'necessity': 0.00013939224979091162, 'intellectual': 0.00013939224979091162, 'safest': 0.0004181767493727349, 'zipper': 0.00013939224979091162, 'disease': 0.00013939224979091162, 'spectacle': 0.00013939224979091162, 'mythology': 0.00013939224979091162, 'ways': 0.00027878449958182325, 'tombstone': 0.00013939224979091162, 'spread': 0.00027878449958182325, 'exclusive': 0.00013939224979091162, 'cinema': 0.00013939224979091162, 'warrior': 0.0005575689991636465, 'vivid': 0.00013939224979091162, 'ramdomness': 0.00013939224979091162, 'satyr': 0.00013939224979091162, 'maturity': 0.00013939224979091162, 'progress': 0.00027878449958182325, 'theological': 0.00013939224979091162, 'slope': 0.00013939224979091162, 'encyclopediathe': 0.00013939224979091162, 'summers': 0.00013939224979091162, 'western': 0.00027878449958182325, 'pity': 0.00013939224979091162, 'philosophic': 0.00027878449958182325, 'development': 0.00013939224979091162, 'freedom': 0.00027878449958182325, 'selfish': 0.00027878449958182325, 'fundament': 0.00013939224979091162, 'cause': 0.00027878449958182325, 'cynic': 0.00013939224979091162, 'evolution': 0.00013939224979091162, 'darkening': 0.00013939224979091162, 'unity': 0.00013939224979091162, 'primitive': 0.00013939224979091162, 'negotiations': 0.00013939224979091162, 'sweetly': 0.00013939224979091162, 'fruth': 0.00013939224979091162, 'boundary': 0.00013939224979091162, 'narrowest': 0.00013939224979091162, 'duration': 0.00013939224979091162, 'oligarchs': 0.00013939224979091162, 'economic': 0.00013939224979091162, 'crowns': 0.00013939224979091162, 'thunderground': 0.00013939224979091162, 'discontent': 0.00013939224979091162, 'here': 0.00013939224979091162, 'lust': 0.00027878449958182325, 'realisation': 0.00013939224979091162, 'face': 0.0006969612489545581, 'madder': 0.00013939224979091162, 'gratitude': 0.00013939224979091162, 'jedi': 0.00013939224979091162, 'sundial': 0.00013939224979091162, 'victory': 0.00013939224979091162, 'slogans': 0.00013939224979091162, 'subjects': 0.00013939224979091162, 'lion': 0.00013939224979091162, 'desires': 0.00013939224979091162, 'international': 0.00013939224979091162, 'inescapable': 0.00013939224979091162, 'perspection': 0.00013939224979091162, 'efforts': 0.00027878449958182325, 'wealthiest': 0.00013939224979091162, 'commonality': 0.00013939224979091162, 'blocks': 0.00013939224979091162, 'reoccurring': 0.00013939224979091162, 'glitter': 0.00027878449958182325, 'newness': 0.00013939224979091162, 'lower': 0.00027878449958182325, 'emotions': 0.00027878449958182325, 'motto': 0.00013939224979091162, 'smooth': 0.00013939224979091162, 'statue': 0.00013939224979091162, 'trail': 0.00013939224979091162, '40': 0.00013939224979091162, 'decisionmaking': 0.00027878449958182325, 'quote': 0.00013939224979091162, 'moth': 0.00013939224979091162, 'reformers': 0.00013939224979091162, 'dots': 0.00013939224979091162, 'ripple': 0.00027878449958182325, 'side': 0.00013939224979091162, 'lick': 0.00013939224979091162, 'imperfection': 0.00013939224979091162, 'quotes': 0.00013939224979091162, 'moonlight': 0.00013939224979091162, 'skin': 0.00013939224979091162, 'teamaster': 0.00013939224979091162, 'colors': 0.00013939224979091162, 'coast': 0.00013939224979091162, 'mourning': 0.00013939224979091162, 'soft': 0.00013939224979091162, 'disadvantage': 0.00013939224979091162, 'scottish': 0.00013939224979091162, 'distant': 0.00013939224979091162, 'deer': 0.00013939224979091162, 'letters': 0.00013939224979091162, 'above': 0.00013939224979091162, 'currency': 0.0004181767493727349, 'sunrise': 0.00013939224979091162, 'opinions': 0.00013939224979091162, 'toughest': 0.00013939224979091162, 'blooming': 0.00013939224979091162, 'painbreached': 0.00013939224979091162, 'noise': 0.00013939224979091162, 'promise': 0.0006969612489545581, 'spiking': 0.00013939224979091162, 'currents': 0.00013939224979091162, 'honeymoon': 0.00013939224979091162, 'lilac': 0.00013939224979091162, 'different': 0.00013939224979091162, 'psychology': 0.00013939224979091162, 'demons': 0.00013939224979091162, 'biology': 0.00013939224979091162, 'effectof': 0.00013939224979091162, 'mystifying': 0.00013939224979091162, 'fleeting': 0.00013939224979091162, 'unwavering': 0.00027878449958182325, 'evolutionary': 0.00013939224979091162, 'train': 0.00027878449958182325, 'differencebetween': 0.00013939224979091162, 'warmth': 0.00013939224979091162, 'wood': 0.00013939224979091162, 'oldest': 0.0004181767493727349, 'superpower': 0.00013939224979091162, 'longest': 0.00013939224979091162, 'prepared': 0.00013939224979091162, 'pain': 0.0004181767493727349, 'sweetest': 0.00027878449958182325, 'ugliest': 0.00013939224979091162, 'situation': 0.00013939224979091162, 'stranger': 0.00013939224979091162, 'i': 0.0004181767493727349, 'pillow': 0.00013939224979091162, 'volume': 0.00013939224979091162, 'aroma': 0.00013939224979091162, 'damage': 0.00013939224979091162, 'tattoo': 0.00013939224979091162, 'queens': 0.00013939224979091162, 'court': 0.00013939224979091162, 'acceptance': 0.00013939224979091162, 'center': 0.00027878449958182325, 'fiercest': 0.00013939224979091162, 'eskimo': 0.00013939224979091162, 'room': 0.0005575689991636465, 'faculty': 0.00027878449958182325, 'strategic': 0.00013939224979091162, 'ink': 0.00013939224979091162, 'suns': 0.00013939224979091162, 'anticipation': 0.00013939224979091162, 'mass': 0.00027878449958182325, 'laughing': 0.00013939224979091162, 'camera': 0.00013939224979091162, 'choices': 0.0005575689991636465, 'buddhists': 0.00013939224979091162, 'behavior': 0.00013939224979091162, 'cradle': 0.00013939224979091162, 'friends': 0.00013939224979091162, 'shortness': 0.00013939224979091162, 'times': 0.0005575689991636465, 'ties': 0.00013939224979091162, 'span': 0.00013939224979091162, 'clear': 0.00013939224979091162, 'wakingi': 0.00013939224979091162, 'continuous': 0.00013939224979091162, 'overman': 0.00013939224979091162, 'strongminded': 0.00013939224979091162, 'splendid': 0.00013939224979091162, 'scary': 0.00013939224979091162, 'wishbone': 0.00013939224979091162, 'christmas': 0.0004181767493727349, 'crack': 0.00013939224979091162, 'worker': 0.00013939224979091162, 'uncertainties': 0.00013939224979091162, 'circumstances': 0.00013939224979091162, 'details': 0.00013939224979091162, '4': 0.00013939224979091162, 'intuitive': 0.00013939224979091162, 'harmony': 0.00013939224979091162, 'importance': 0.00027878449958182325, 'arteries': 0.00013939224979091162, 'physics': 0.00013939224979091162, 'abandoneddid': 0.00013939224979091162, 'spoken': 0.00013939224979091162, 'system': 0.00027878449958182325, 'symptoms': 0.00013939224979091162, 'issues': 0.00013939224979091162, 'gaiety': 0.00013939224979091162, 'goodness': 0.00013939224979091162, 'dealing': 0.00013939224979091162, 'rancid': 0.00013939224979091162, 'advancement': 0.00013939224979091162, 'relation': 0.00027878449958182325, 'acquisition': 0.0004181767493727349, 'booksthe': 0.00013939224979091162, 'dilemma': 0.00013939224979091162, 'sum': 0.00027878449958182325, 'offer': 0.00013939224979091162, 'compartmentalization': 0.00013939224979091162, 'excitable': 0.00013939224979091162, 'range': 0.00013939224979091162, 'genius': 0.00027878449958182325, 'meditative': 0.00013939224979091162, 'doorstep': 0.00013939224979091162, 'obvious': 0.0004181767493727349, 'useful': 0.00013939224979091162, 'selfrevealing': 0.00013939224979091162, 'motive': 0.00027878449958182325, 'postgrad': 0.00013939224979091162, 'spaces': 0.00013939224979091162, 'distinctive': 0.00013939224979091162, 'worn': 0.00013939224979091162, 'insatiable': 0.00013939224979091162, 'ordering': 0.00013939224979091162, 'noah': 0.00013939224979091162, 'tens': 0.00013939224979091162, 'industrial': 0.00013939224979091162, '3cs': 0.00013939224979091162, 'relevant': 0.00013939224979091162, 'pressures': 0.00027878449958182325, 'vedanta': 0.00013939224979091162, 'learned': 0.00013939224979091162, 'instruction': 0.0004181767493727349, 'perfume': 0.00013939224979091162, 'dignities': 0.00013939224979091162, 'narrow': 0.00013939224979091162, 'architecture': 0.00013939224979091162, 'arrogant': 0.00013939224979091162, 'utopia': 0.00013939224979091162, 'autonomy': 0.00013939224979091162, 'horror': 0.00013939224979091162, 'status': 0.00013939224979091162, 'ninety': 0.00013939224979091162, 'worldly': 0.00013939224979091162, 'hallmarks': 0.00013939224979091162, 'sin': 0.00013939224979091162, 'freman': 0.00013939224979091162, 'period': 0.00013939224979091162, 'group': 0.00013939224979091162, 'individuals': 0.00013939224979091162, 'oppressor': 0.00013939224979091162, 'architect': 0.00027878449958182325, 'lawmakers': 0.00013939224979091162, 'afflicted': 0.00013939224979091162, 'rejection': 0.00013939224979091162, 'instability': 0.00013939224979091162, 'difficulties': 0.00013939224979091162, 'actions': 0.00013939224979091162, 'widespread': 0.00013939224979091162, 'peoples': 0.00013939224979091162, 'commencement': 0.00013939224979091162, 'methodical': 0.00013939224979091162, 'earlier': 0.00013939224979091162, 'winning': 0.00013939224979091162, 'clearer': 0.00013939224979091162, 'sodomy': 0.00013939224979091162, 'creature': 0.00013939224979091162, 'storm': 0.0004181767493727349, 'jump': 0.00013939224979091162, 'coward': 0.00013939224979091162, 'elimination': 0.00013939224979091162, 'conception': 0.00013939224979091162, 'penalty': 0.00013939224979091162, 'wide': 0.00013939224979091162, 'tricky': 0.00013939224979091162, 'tide': 0.00013939224979091162, 'yorubas': 0.00013939224979091162, 'mandarins': 0.00013939224979091162, 'roads': 0.00013939224979091162, 'whirlwind': 0.00013939224979091162, 'anguish': 0.00013939224979091162, 'focal': 0.00013939224979091162, '7': 0.00027878449958182325, 'radiance': 0.00013939224979091162, 'starry': 0.00013939224979091162, 'sick': 0.00013939224979091162, 'now': 0.00013939224979091162, 'energetic': 0.00013939224979091162, 'blind': 0.00013939224979091162, 'wings': 0.00013939224979091162, 'redemption': 0.00013939224979091162, 'fishermen': 0.00013939224979091162, 'tears': 0.00027878449958182325, 'arc': 0.00013939224979091162, 'further': 0.00027878449958182325, 'deeds': 0.00013939224979091162, 'caged': 0.00013939224979091162, 'adventure': 0.00013939224979091162, 'seas': 0.00013939224979091162, 'amazing': 0.00027878449958182325, 'opinion': 0.00013939224979091162, 'nights': 0.00027878449958182325, 'graveyard': 0.00013939224979091162, 'fallen': 0.00013939224979091162, 'shell': 0.00013939224979091162, 'ugly': 0.00013939224979091162, 'decisions': 0.00013939224979091162, 'atheist': 0.00013939224979091162, 'dictionary': 0.00013939224979091162, 'summit': 0.00013939224979091162, 'nourishment': 0.00013939224979091162, 'home': 0.0005575689991636465, 'race': 0.00013939224979091162, 'grounds': 0.00013939224979091162, 'whales': 0.00013939224979091162, 'advice': 0.00013939224979091162, 'probability': 0.00013939224979091162, 'firmest': 0.00013939224979091162, 'muse': 0.00013939224979091162, 'systematic': 0.00013939224979091162, 'restless': 0.00013939224979091162, 'tension': 0.00013939224979091162, 'greenest': 0.00013939224979091162, 'ball': 0.00013939224979091162, 'brave': 0.00013939224979091162, 'excitement': 0.00013939224979091162, 'satisfactionsof': 0.00013939224979091162, 'urge': 0.00013939224979091162, 'short': 0.00013939224979091162, 'stationary': 0.00013939224979091162, 'philosophies': 0.00013939224979091162, 'effects': 0.00027878449958182325, 'erruption': 0.00013939224979091162, 'mist': 0.00013939224979091162, 'horizon': 0.00013939224979091162, 'movie': 0.00013939224979091162, 'nobel': 0.00013939224979091162, 'legend': 0.00013939224979091162, 'resistant': 0.00013939224979091162, 'inclination': 0.00013939224979091162, 'stunning': 0.00013939224979091162, 'shipwrecked': 0.00013939224979091162, 'philosophical': 0.00013939224979091162, 'cultures': 0.00013939224979091162, 'you': 0.00027878449958182325, 'vision': 0.00013939224979091162, 'keeper': 0.00013939224979091162, 'insecurity': 0.00013939224979091162, 'narrower': 0.00013939224979091162, 'destruction': 0.00013939224979091162, 'evilness': 0.00013939224979091162, 'widest': 0.00013939224979091162, 'omnidoxy': 0.00013939224979091162, 'colonel': 0.00013939224979091162, 'covers': 0.00013939224979091162, 'council': 0.00013939224979091162, 'caterpillar': 0.00013939224979091162, 'nuclear': 0.00027878449958182325, 'play': 0.00013939224979091162, 'coat': 0.00013939224979091162, 'staircase': 0.00013939224979091162, 'hitchhikers': 0.00013939224979091162, 'nice': 0.00013939224979091162, 'miracle': 0.00013939224979091162, 'leading': 0.00013939224979091162, 'lack': 0.00027878449958182325, 'attempt': 0.00013939224979091162, 'magician': 0.00013939224979091162, 'length': 0.00013939224979091162, 'shts': 0.00013939224979091162, 'princess': 0.00013939224979091162, 'food': 0.00013939224979091162, 'swiss': 0.00013939224979091162, 'idealist': 0.00013939224979091162, 'integrity': 0.00013939224979091162, 'hitch': 0.00013939224979091162, 'inhabitants': 0.00013939224979091162, 'lampshade': 0.00013939224979091162, 'champagne': 0.00013939224979091162, 'powers': 0.00013939224979091162, 'illinformed': 0.00013939224979091162, 'wolf': 0.00013939224979091162, 'lustful': 0.00013939224979091162, 'feelings': 0.00013939224979091162, 'fourteenth': 0.00013939224979091162, 'monstrous': 0.00013939224979091162, 'gifts': 0.00013939224979091162, 'voyagerwe': 0.00013939224979091162, 'stranded': 0.00013939224979091162, 'victorian': 0.00013939224979091162, 'visions': 0.00013939224979091162, 'lovers': 0.00013939224979091162, 'cake': 0.00013939224979091162, 'lyrics': 0.00027878449958182325, 'blacker': 0.00013939224979091162, 'thinnest': 0.00027878449958182325, 'incremental': 0.00013939224979091162, 'gardenif': 0.00013939224979091162, 'maskwe': 0.00013939224979091162, 'suffering': 0.00027878449958182325, 'posterstheyre': 0.00013939224979091162, 'breath': 0.00013939224979091162, 'evangelium': 0.00013939224979091162, 'cross': 0.0004181767493727349, 'monument': 0.00013939224979091162, 'freed': 0.00013939224979091162, 'arch': 0.00027878449958182325, 'blue': 0.00013939224979091162, 'grocery': 0.00027878449958182325, 'crucial': 0.00027878449958182325, 'grace': 0.0004181767493727349, 'azath': 0.00013939224979091162, 'pretty': 0.00013939224979091162, 'crowning': 0.00013939224979091162, 'smartphone': 0.00013939224979091162, 'negation': 0.00013939224979091162, 'bitterness': 0.00013939224979091162, 'midsummer': 0.00013939224979091162, 'u': 0.00013939224979091162, 'green': 0.00013939224979091162, 'puritans': 0.00013939224979091162, 'amusements': 0.00013939224979091162, 'subsistence': 0.00013939224979091162, 'sage': 0.00013939224979091162, 'materialistic': 0.00013939224979091162, 'lived': 0.00013939224979091162, 'accomplishments': 0.00013939224979091162, 'fullness': 0.00013939224979091162, 'peak': 0.00013939224979091162, 't': 0.00013939224979091162, 'ethereal': 0.00013939224979091162, 'opportunity': 0.00027878449958182325, 'generally': 0.00013939224979091162, 'jollity': 0.00013939224979091162, 'pupil': 0.00013939224979091162, 'proud': 0.00013939224979091162, 'event': 0.00013939224979091162, 'nurse': 0.00013939224979091162, 'wizard': 0.00013939224979091162, 'sorrow': 0.00027878449958182325, 'worse': 0.00013939224979091162, 'vibrations': 0.00013939224979091162, 'sorrows': 0.00013939224979091162, 'hypothesis': 0.00013939224979091162, 'unconditional': 0.00013939224979091162, 'reasoning': 0.00013939224979091162, 'commandment': 0.00013939224979091162, 'fragility': 0.00013939224979091162, 'tenure': 0.00013939224979091162, 'faithful': 0.00013939224979091162, 'id': 0.00013939224979091162, 'nativity': 0.00013939224979091162, 'character': 0.00013939224979091162, 'steadfast': 0.00013939224979091162, 'generality': 0.00013939224979091162, 'shield': 0.00013939224979091162, 'boss': 0.00013939224979091162, 'being': 0.00013939224979091162, 'perplexity': 0.00013939224979091162, 'forgiveness': 0.00027878449958182325, 'grandeur': 0.00013939224979091162, 'matters': 0.00013939224979091162, 'crisis': 0.00013939224979091162, 'promised': 0.00013939224979091162, 'organist': 0.00013939224979091162, 'portraits': 0.00013939224979091162, 'core': 0.00013939224979091162, 'yogi': 0.00013939224979091162, 'finger': 0.00013939224979091162, 'substance': 0.00013939224979091162, 'neanderthals': 0.00013939224979091162, 'mighty': 0.00013939224979091162, 'visionless': 0.00013939224979091162, 'ithere': 0.00013939224979091162, 'simplicity': 0.00013939224979091162, 'loosh': 0.00013939224979091162, 'ancient': 0.00013939224979091162, 'heavenly': 0.00013939224979091162, 'miracles': 0.00013939224979091162, 'meme': 0.00013939224979091162, 'insistence': 0.00013939224979091162, 'doing': 0.00013939224979091162, 'vermin': 0.00013939224979091162, 'response': 0.00013939224979091162, 'conflicting': 0.00013939224979091162, 'risk': 0.00013939224979091162, 'back': 0.00013939224979091162, 'conservative': 0.00013939224979091162, 'complement': 0.00013939224979091162, 'historians': 0.00013939224979091162, 'righteousness': 0.00013939224979091162, 'destructive': 0.00013939224979091162, 'approval': 0.00013939224979091162, 'eternity': 0.00013939224979091162, 'sovereign': 0.00013939224979091162, 'sincerity': 0.00013939224979091162, 'lines': 0.00013939224979091162, 'high': 0.00013939224979091162, 'guitarist': 0.00013939224979091162, 'righteous': 0.00013939224979091162, 'pit': 0.00013939224979091162, 'brevity': 0.00013939224979091162, 'origin': 0.00013939224979091162, 'sins': 0.00013939224979091162, 'turbulent': 0.00013939224979091162, 'limitations': 0.00013939224979091162, 'holly': 0.00013939224979091162, 'extremists': 0.00013939224979091162, 'advantages': 0.00013939224979091162, 'learning': 0.00013939224979091162, 'education': 0.0004181767493727349, 'direction': 0.00013939224979091162, 'gardener': 0.00013939224979091162, 'rearing': 0.00013939224979091162, 'humanities': 0.00013939224979091162, 'village': 0.00013939224979091162, 'nation': 0.00013939224979091162, 'bullet': 0.00013939224979091162, 'sophists': 0.00013939224979091162, 'eagle': 0.00013939224979091162, 'educational': 0.0004181767493727349, 'generational': 0.00013939224979091162, 'analysis': 0.00013939224979091162, 'combined': 0.00013939224979091162, 'forward': 0.00013939224979091162, 'values': 0.00013939224979091162, 'g': 0.00013939224979091162, 'industrialized': 0.00013939224979091162, 'poorly': 0.00013939224979091162, 'educators': 0.00013939224979091162, 'aspects': 0.00013939224979091162, 'grain': 0.00013939224979091162, 'craving': 0.00013939224979091162, 'authorities': 0.00013939224979091162, 'secretary': 0.00013939224979091162, 'framers': 0.00013939224979091162, 'topics': 0.00013939224979091162, 'starvation': 0.00013939224979091162, 'murder': 0.00013939224979091162, 'biological': 0.00013939224979091162, 'agenda': 0.00013939224979091162, 'open': 0.00013939224979091162, 'probable': 0.00013939224979091162, 'students': 0.00013939224979091162, 'radical': 0.00013939224979091162, 'actual': 0.00013939224979091162, 'responsive': 0.00013939224979091162, 'acquiring': 0.00013939224979091162, 'worth': 0.00027878449958182325, 'burden': 0.00013939224979091162, 'heaviness': 0.00013939224979091162, 'phoenix': 0.00013939224979091162, 'cries': 0.00013939224979091162, 'theology': 0.00013939224979091162, 'rapt': 0.00013939224979091162, 'flesh': 0.00027878449958182325, 'cemetery': 0.00013939224979091162, 'worms': 0.00013939224979091162, 'dying': 0.00013939224979091162, 'fish': 0.00013939224979091162, 'steel': 0.00013939224979091162, 'wages': 0.00013939224979091162, 'bombs': 0.00013939224979091162, 'trigger': 0.00013939224979091162, 'sensation': 0.00013939224979091162, 'diseased': 0.00013939224979091162, 'field': 0.00013939224979091162, 'bulletproof': 0.00013939224979091162, 'chorus': 0.00013939224979091162, 'angel': 0.00027878449958182325, 'lucky': 0.00013939224979091162, 'calla': 0.00013939224979091162, 'thin': 0.00013939224979091162, 'guillotine': 0.00027878449958182325, 'painful': 0.00013939224979091162, 'fame': 0.00013939224979091162, 'reaper': 0.00013939224979091162, 'sharp': 0.00013939224979091162, 'overweight': 0.00013939224979091162, 'grave': 0.00013939224979091162, 'scribbled': 0.00013939224979091162, 'conversation': 0.00013939224979091162, 'lapse': 0.00013939224979091162, 'menopause': 0.00013939224979091162, 'planets': 0.00013939224979091162, 'morgue': 0.00013939224979091162, 'bodys': 0.00013939224979091162, 'crickets': 0.00013939224979091162, 'ferocity': 0.00013939224979091162, 'type': 0.00013939224979091162, 'chanting': 0.00013939224979091162, 'misfortune': 0.00013939224979091162, 'plane': 0.00013939224979091162, 'barrow': 0.00013939224979091162, 'deaths': 0.00013939224979091162, 'desert': 0.00013939224979091162, 'odd': 0.00013939224979091162, 'reading': 0.00027878449958182325, 'classroom': 0.00013939224979091162, 'stupidity': 0.00013939224979091162, 'unread': 0.00013939224979091162, 'paperback': 0.00013939224979091162, 'shelf': 0.00013939224979091162, 'buying': 0.00013939224979091162, 'prefect': 0.00013939224979091162, 'contents': 0.00013939224979091162, 'bookshop': 0.00013939224979091162, 'feel': 0.00013939224979091162, 'dirtiest': 0.00013939224979091162, 'imaginary': 0.00013939224979091162, 'wonderful': 0.00013939224979091162, 'airport': 0.00013939224979091162, 'perception': 0.00013939224979091162, 'servants': 0.00013939224979091162, 'feet': 0.00013939224979091162, 'venerable': 0.00013939224979091162, 'spirits': 0.00013939224979091162, 'waltz': 0.00013939224979091162, 'potion': 0.00013939224979091162, 'evils': 0.00013939224979091162, 'ereading': 0.00013939224979091162, 'flickering': 0.00013939224979091162, 'allatians': 0.00013939224979091162, 'thrill': 0.00013939224979091162, 'approach': 0.00013939224979091162, 'title': 0.00013939224979091162, 'result': 0.00013939224979091162, 'frontiers': 0.00013939224979091162}\n"
     ]
    }
   ],
   "source": [
    "text = str(random.choice(vocab))\n",
    "print('Me:', text)\n",
    "query = q(text)\n",
    "print(query)\n",
    "print(dict(model[query]))"
   ]
  },
  {
   "cell_type": "code",
   "execution_count": 31,
   "metadata": {
    "ExecuteTime": {
     "end_time": "2019-09-28T16:54:39.213444Z",
     "start_time": "2019-09-28T16:54:39.082796Z"
    }
   },
   "outputs": [
    {
     "name": "stdout",
     "output_type": "stream",
     "text": [
      "Me: sometimes\n",
      "Inspyrobot: sometimes we need to remind ourselves that thankfulness is indeed a virtue\n"
     ]
    }
   ],
   "source": [
    "text = str(random.choice(vocab))\n",
    "print('Me:', text)\n",
    "sentence_finished = False\n",
    " \n",
    "while not sentence_finished:\n",
    "    r = random.random()\n",
    "    accumulator = .0\n",
    "    if model[q(text)].keys() is None or (len(model[q(text)].keys()) == 1 and list(model[q(text)].keys())[0] == ''):\n",
    "        break\n",
    "    for word in model[q(text)].keys():\n",
    "        accumulator = model[q(text)][word]\n",
    "        if word != 'endquote' and accumulator >= r:\n",
    "            text += ' '+word\n",
    "            break\n",
    "        if word == 'endquote':\n",
    "            sentence_finished = True\n",
    "print('Inspyrobot:', end = ' ')      \n",
    "print(' '.join([t for t in text.split() if t]))"
   ]
  },
  {
   "cell_type": "markdown",
   "metadata": {},
   "source": [
    "# Pickling"
   ]
  },
  {
   "cell_type": "code",
   "execution_count": 32,
   "metadata": {
    "ExecuteTime": {
     "end_time": "2019-09-28T16:54:39.323793Z",
     "start_time": "2019-09-28T16:54:39.216439Z"
    }
   },
   "outputs": [],
   "source": [
    "DIR = 'E:/Models/Inspyrobot-Probabilistic-v4'\n",
    "os.mkdir(DIR)"
   ]
  },
  {
   "cell_type": "code",
   "execution_count": 33,
   "metadata": {
    "ExecuteTime": {
     "end_time": "2019-09-28T16:55:00.198390Z",
     "start_time": "2019-09-28T16:54:39.328765Z"
    }
   },
   "outputs": [],
   "source": [
    "with open(f'{DIR}/model.json', 'w') as f:\n",
    "    k = model.keys() \n",
    "    v = model.values() \n",
    "    k1 = [str(i) for i in k]\n",
    "    json.dump(json.dumps(dict(zip(*[k1,v]))),f)     "
   ]
  },
  {
   "cell_type": "code",
   "execution_count": 34,
   "metadata": {
    "ExecuteTime": {
     "end_time": "2019-09-28T16:56:08.162607Z",
     "start_time": "2019-09-28T16:55:00.202380Z"
    }
   },
   "outputs": [],
   "source": [
    "with open(f'{DIR}/model.json', 'r') as f:\n",
    "    data = json.load(f)\n",
    "    dic = json.loads(data)\n",
    "    k = dic.keys() \n",
    "    v = dic.values() \n",
    "    k1 = [eval(i) for i in k] \n",
    "    model =  dict(zip(*[k1,v]))"
   ]
  },
  {
   "cell_type": "code",
   "execution_count": 35,
   "metadata": {
    "ExecuteTime": {
     "end_time": "2019-09-28T16:56:08.220447Z",
     "start_time": "2019-09-28T16:56:08.165201Z"
    }
   },
   "outputs": [],
   "source": [
    "with open(f'{DIR}/vocab.json', 'w') as f:\n",
    "    json.dump(json.dumps(vocab),f)  "
   ]
  },
  {
   "cell_type": "code",
   "execution_count": 36,
   "metadata": {
    "ExecuteTime": {
     "end_time": "2019-09-28T16:56:08.428176Z",
     "start_time": "2019-09-28T16:56:08.224361Z"
    }
   },
   "outputs": [],
   "source": [
    "with open(f'{DIR}/vocab.json', 'r') as f:\n",
    "    vocab = json.loads(json.load(f))"
   ]
  },
  {
   "cell_type": "code",
   "execution_count": 37,
   "metadata": {
    "ExecuteTime": {
     "end_time": "2019-09-28T16:56:08.556343Z",
     "start_time": "2019-09-28T16:56:08.431119Z"
    }
   },
   "outputs": [
    {
     "name": "stdout",
     "output_type": "stream",
     "text": [
      "Me: when\n",
      "Inspyrobot: when we are young and then spend the rest of your life\n"
     ]
    }
   ],
   "source": [
    "text = str(random.choice(vocab))\n",
    "print('Me:', text)\n",
    "sentence_finished = False\n",
    " \n",
    "while not sentence_finished:\n",
    "    r = random.random()\n",
    "    accumulator = .0\n",
    "    if model[q(text)].keys() is None or (len(model[q(text)].keys()) == 1 and list(model[q(text)].keys())[0] == ''):\n",
    "        break\n",
    "    for word in model[q(text)].keys():\n",
    "        accumulator = model[q(text)][word]\n",
    "        if word != 'endquote' and accumulator >= r:\n",
    "            text += ' '+word\n",
    "            break\n",
    "        if word == 'endquote':\n",
    "            sentence_finished = True\n",
    "print('Inspyrobot:', end = ' ')      \n",
    "print(' '.join([t for t in text.split() if t]))"
   ]
  },
  {
   "cell_type": "markdown",
   "metadata": {},
   "source": [
    "# Wrapper Functions"
   ]
  },
  {
   "cell_type": "code",
   "execution_count": 38,
   "metadata": {
    "ExecuteTime": {
     "end_time": "2019-09-28T16:56:08.781736Z",
     "start_time": "2019-09-28T16:56:08.565285Z"
    }
   },
   "outputs": [],
   "source": [
    "import json, random\n",
    "from nltk import ngrams\n",
    "\n",
    "DIR = 'E:/Models/Inspyrobot-Probabilistic-v4'\n",
    "n = 4\n",
    "q = lambda x : list(ngrams(x.lower().split(), n, pad_left=True, pad_right=False,  left_pad_symbol=''))[-1]\n",
    "\n",
    "def inspyre(text=''):\n",
    "    with open(f'{DIR}/model.json', 'r') as f:\n",
    "        data = json.load(f)\n",
    "        dic = json.loads(data)\n",
    "        k = dic.keys() \n",
    "        v = dic.values() \n",
    "        k1 = [eval(i) for i in k] \n",
    "        model =  dict(zip(*[k1,v]))\n",
    "    if text == '':\n",
    "        with open(f'{DIR}/vocab.json', 'r') as f:\n",
    "            vocab = json.loads(json.load(f))\n",
    "        text = str(random.choice(vocab))\n",
    "    sentence_finished = False\n",
    "    while not sentence_finished:\n",
    "        r = random.random()\n",
    "        accumulator = .0\n",
    "        if model[q(text)].keys() is None or (len(model[q(text)].keys()) == 1 and list(model[q(text)].keys())[0] == ''):\n",
    "            break\n",
    "        for word in model[q(text)].keys():\n",
    "            accumulator = model[q(text)][word]\n",
    "            if word != 'endquote' and accumulator >= r:\n",
    "                text += ' '+word\n",
    "                break\n",
    "            if word == 'endquote':\n",
    "                sentence_finished = True\n",
    "    print('Inspyrobot:', end = ' ')      \n",
    "    print(' '.join([t for t in text.split() if t]))"
   ]
  },
  {
   "cell_type": "code",
   "execution_count": 39,
   "metadata": {
    "ExecuteTime": {
     "end_time": "2019-09-28T16:57:24.158640Z",
     "start_time": "2019-09-28T16:56:08.784674Z"
    }
   },
   "outputs": [
    {
     "name": "stdout",
     "output_type": "stream",
     "text": [
      "Inspyrobot: I dont think that the industry agreed with me but ive always had a bit of a romantic to a fault its led me to some great things and also some sad things its made me a better person\n"
     ]
    }
   ],
   "source": [
    "inspyre()"
   ]
  },
  {
   "cell_type": "code",
   "execution_count": null,
   "metadata": {},
   "outputs": [],
   "source": []
  }
 ],
 "metadata": {
  "kernelspec": {
   "display_name": "Python 3",
   "language": "python",
   "name": "python3"
  },
  "language_info": {
   "codemirror_mode": {
    "name": "ipython",
    "version": 3
   },
   "file_extension": ".py",
   "mimetype": "text/x-python",
   "name": "python",
   "nbconvert_exporter": "python",
   "pygments_lexer": "ipython3",
   "version": "3.7.3"
  },
  "toc": {
   "base_numbering": 1,
   "nav_menu": {},
   "number_sections": true,
   "sideBar": true,
   "skip_h1_title": false,
   "title_cell": "Table of Contents",
   "title_sidebar": "Contents",
   "toc_cell": false,
   "toc_position": {},
   "toc_section_display": true,
   "toc_window_display": false
  },
  "varInspector": {
   "cols": {
    "lenName": 16,
    "lenType": 16,
    "lenVar": 40
   },
   "kernels_config": {
    "python": {
     "delete_cmd_postfix": "",
     "delete_cmd_prefix": "del ",
     "library": "var_list.py",
     "varRefreshCmd": "print(var_dic_list())"
    },
    "r": {
     "delete_cmd_postfix": ") ",
     "delete_cmd_prefix": "rm(",
     "library": "var_list.r",
     "varRefreshCmd": "cat(var_dic_list()) "
    }
   },
   "types_to_exclude": [
    "module",
    "function",
    "builtin_function_or_method",
    "instance",
    "_Feature"
   ],
   "window_display": false
  }
 },
 "nbformat": 4,
 "nbformat_minor": 2
}
