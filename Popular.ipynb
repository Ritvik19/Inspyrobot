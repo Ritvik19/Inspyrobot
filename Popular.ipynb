{
 "cells": [
  {
   "cell_type": "markdown",
   "metadata": {},
   "source": [
    "# Libraries"
   ]
  },
  {
   "cell_type": "code",
   "execution_count": 1,
   "metadata": {
    "ExecuteTime": {
     "end_time": "2019-09-22T06:09:09.505601Z",
     "start_time": "2019-09-22T06:09:07.294513Z"
    }
   },
   "outputs": [],
   "source": [
    "import numpy as np\n",
    "import pandas as pd"
   ]
  },
  {
   "cell_type": "code",
   "execution_count": 2,
   "metadata": {
    "ExecuteTime": {
     "end_time": "2019-09-22T06:09:51.086156Z",
     "start_time": "2019-09-22T06:09:09.512422Z"
    }
   },
   "outputs": [
    {
     "name": "stderr",
     "output_type": "stream",
     "text": [
      "Using TensorFlow backend.\n"
     ]
    }
   ],
   "source": [
    "from nltk.tokenize import word_tokenize\n",
    "from keras.preprocessing.text import Tokenizer\n",
    "from keras.utils import to_categorical"
   ]
  },
  {
   "cell_type": "code",
   "execution_count": 3,
   "metadata": {
    "ExecuteTime": {
     "end_time": "2019-09-22T06:09:51.263892Z",
     "start_time": "2019-09-22T06:09:51.091005Z"
    }
   },
   "outputs": [],
   "source": [
    "from sklearn.naive_bayes import MultinomialNB"
   ]
  },
  {
   "cell_type": "code",
   "execution_count": 4,
   "metadata": {
    "ExecuteTime": {
     "end_time": "2019-09-22T06:09:51.337414Z",
     "start_time": "2019-09-22T06:09:51.269799Z"
    }
   },
   "outputs": [],
   "source": [
    "from keras.models import Sequential\n",
    "from keras.layers import Dense, LSTM, Embedding\n",
    "from keras.callbacks import EarlyStopping, ModelCheckpoint"
   ]
  },
  {
   "cell_type": "code",
   "execution_count": 5,
   "metadata": {
    "ExecuteTime": {
     "end_time": "2019-09-22T06:09:51.527959Z",
     "start_time": "2019-09-22T06:09:51.341485Z"
    }
   },
   "outputs": [],
   "source": [
    "import pickle"
   ]
  },
  {
   "cell_type": "code",
   "execution_count": 6,
   "metadata": {
    "ExecuteTime": {
     "end_time": "2019-09-22T06:09:51.727382Z",
     "start_time": "2019-09-22T06:09:51.532967Z"
    }
   },
   "outputs": [],
   "source": [
    "pd.options.display.max_colwidth = -1"
   ]
  },
  {
   "cell_type": "markdown",
   "metadata": {},
   "source": [
    "# Data"
   ]
  },
  {
   "cell_type": "code",
   "execution_count": 7,
   "metadata": {
    "ExecuteTime": {
     "end_time": "2019-09-22T06:09:51.951799Z",
     "start_time": "2019-09-22T06:09:51.731858Z"
    }
   },
   "outputs": [],
   "source": [
    "data = pd.read_csv('E:/Scrapped-Data/Quotes-Goodreads/Popular.csv')"
   ]
  },
  {
   "cell_type": "code",
   "execution_count": 8,
   "metadata": {
    "ExecuteTime": {
     "end_time": "2019-09-22T06:09:52.143258Z",
     "start_time": "2019-09-22T06:09:51.955296Z"
    }
   },
   "outputs": [
    {
     "data": {
      "text/html": [
       "<div>\n",
       "<style scoped>\n",
       "    .dataframe tbody tr th:only-of-type {\n",
       "        vertical-align: middle;\n",
       "    }\n",
       "\n",
       "    .dataframe tbody tr th {\n",
       "        vertical-align: top;\n",
       "    }\n",
       "\n",
       "    .dataframe thead th {\n",
       "        text-align: right;\n",
       "    }\n",
       "</style>\n",
       "<table border=\"1\" class=\"dataframe\">\n",
       "  <thead>\n",
       "    <tr style=\"text-align: right;\">\n",
       "      <th></th>\n",
       "      <th>Quote</th>\n",
       "    </tr>\n",
       "  </thead>\n",
       "  <tbody>\n",
       "    <tr>\n",
       "      <td>0</td>\n",
       "      <td>“Don't cry because it's over, smile because it happened.” ― Dr. Seuss</td>\n",
       "    </tr>\n",
       "    <tr>\n",
       "      <td>1</td>\n",
       "      <td>“I'm selfish, impatient and a little insecure. I make mistakes, I am out of control and at times hard to handle. But if you can't handle me at my worst, then you sure as hell don't deserve me at my best.” ― Marilyn Monroe</td>\n",
       "    </tr>\n",
       "    <tr>\n",
       "      <td>2</td>\n",
       "      <td>“Be yourself; everyone else is already taken.” ― Oscar Wilde</td>\n",
       "    </tr>\n",
       "    <tr>\n",
       "      <td>3</td>\n",
       "      <td>“Two things are infinite: the universe and human stupidity; and I'm not sure about the universe.” ― Albert Einstein</td>\n",
       "    </tr>\n",
       "    <tr>\n",
       "      <td>4</td>\n",
       "      <td>“So many books, so little time.” ― Frank Zappa</td>\n",
       "    </tr>\n",
       "    <tr>\n",
       "      <td>...</td>\n",
       "      <td>...</td>\n",
       "    </tr>\n",
       "    <tr>\n",
       "      <td>2995</td>\n",
       "      <td>“What can you do to promote world peace? Go home and love your family.” ― Mother Teresa</td>\n",
       "    </tr>\n",
       "    <tr>\n",
       "      <td>2996</td>\n",
       "      <td>“. . . when it comes down to it, that’s what life is all about: showing up for the people you love, again and again, until you can’t show up anymore.” ― Rebecca Walker, Baby Love: Choosing Motherhood After a Lifetime of Ambivalence //</td>\n",
       "    </tr>\n",
       "    <tr>\n",
       "      <td>2997</td>\n",
       "      <td>“Just tell me how to be different in a way that makes sense.” ― Stephen Chbosky, The Perks of Being a Wallflower //</td>\n",
       "    </tr>\n",
       "    <tr>\n",
       "      <td>2998</td>\n",
       "      <td>“sometimes you don't need a goal in life, you don't need to know the big picture. you just need to know what you're going to do next!” ― Sophie Kinsella, The Undomestic Goddess //</td>\n",
       "    </tr>\n",
       "    <tr>\n",
       "      <td>2999</td>\n",
       "      <td>“Listen to them, the children of the night. What music they make!” ― Bram Stoker</td>\n",
       "    </tr>\n",
       "  </tbody>\n",
       "</table>\n",
       "<p>3000 rows × 1 columns</p>\n",
       "</div>"
      ],
      "text/plain": [
       "                                                                                                                                                                                                                                           Quote\n",
       "0     “Don't cry because it's over, smile because it happened.” ― Dr. Seuss                                                                                                                                                                     \n",
       "1     “I'm selfish, impatient and a little insecure. I make mistakes, I am out of control and at times hard to handle. But if you can't handle me at my worst, then you sure as hell don't deserve me at my best.” ― Marilyn Monroe             \n",
       "2     “Be yourself; everyone else is already taken.” ― Oscar Wilde                                                                                                                                                                              \n",
       "3     “Two things are infinite: the universe and human stupidity; and I'm not sure about the universe.” ― Albert Einstein                                                                                                                       \n",
       "4     “So many books, so little time.” ― Frank Zappa                                                                                                                                                                                            \n",
       "...                                              ...                                                                                                                                                                                            \n",
       "2995  “What can you do to promote world peace? Go home and love your family.” ― Mother Teresa                                                                                                                                                   \n",
       "2996  “. . . when it comes down to it, that’s what life is all about: showing up for the people you love, again and again, until you can’t show up anymore.” ― Rebecca Walker, Baby Love: Choosing Motherhood After a Lifetime of Ambivalence //\n",
       "2997  “Just tell me how to be different in a way that makes sense.” ― Stephen Chbosky, The Perks of Being a Wallflower //                                                                                                                       \n",
       "2998  “sometimes you don't need a goal in life, you don't need to know the big picture. you just need to know what you're going to do next!” ― Sophie Kinsella, The Undomestic Goddess //                                                       \n",
       "2999  “Listen to them, the children of the night. What music they make!” ― Bram Stoker                                                                                                                                                          \n",
       "\n",
       "[3000 rows x 1 columns]"
      ]
     },
     "execution_count": 8,
     "metadata": {},
     "output_type": "execute_result"
    }
   ],
   "source": [
    "data"
   ]
  },
  {
   "cell_type": "markdown",
   "metadata": {},
   "source": [
    "# Cleaning"
   ]
  },
  {
   "cell_type": "code",
   "execution_count": 9,
   "metadata": {
    "ExecuteTime": {
     "end_time": "2019-09-22T06:09:52.380624Z",
     "start_time": "2019-09-22T06:09:52.146250Z"
    }
   },
   "outputs": [],
   "source": [
    "def clean(x):\n",
    "    x = x.split('―')[0]\n",
    "    x = x[1:-2]\n",
    "    return x+ ' endquote'"
   ]
  },
  {
   "cell_type": "code",
   "execution_count": 10,
   "metadata": {
    "ExecuteTime": {
     "end_time": "2019-09-22T06:09:52.587104Z",
     "start_time": "2019-09-22T06:09:52.384772Z"
    }
   },
   "outputs": [],
   "source": [
    "data['Quote'] = data['Quote'].apply(clean)"
   ]
  },
  {
   "cell_type": "code",
   "execution_count": 11,
   "metadata": {
    "ExecuteTime": {
     "end_time": "2019-09-22T06:09:52.829489Z",
     "start_time": "2019-09-22T06:09:52.591060Z"
    }
   },
   "outputs": [
    {
     "data": {
      "text/html": [
       "<div>\n",
       "<style scoped>\n",
       "    .dataframe tbody tr th:only-of-type {\n",
       "        vertical-align: middle;\n",
       "    }\n",
       "\n",
       "    .dataframe tbody tr th {\n",
       "        vertical-align: top;\n",
       "    }\n",
       "\n",
       "    .dataframe thead th {\n",
       "        text-align: right;\n",
       "    }\n",
       "</style>\n",
       "<table border=\"1\" class=\"dataframe\">\n",
       "  <thead>\n",
       "    <tr style=\"text-align: right;\">\n",
       "      <th></th>\n",
       "      <th>Quote</th>\n",
       "    </tr>\n",
       "  </thead>\n",
       "  <tbody>\n",
       "    <tr>\n",
       "      <td>0</td>\n",
       "      <td>Don't cry because it's over, smile because it happened. endquote</td>\n",
       "    </tr>\n",
       "    <tr>\n",
       "      <td>1</td>\n",
       "      <td>I'm selfish, impatient and a little insecure. I make mistakes, I am out of control and at times hard to handle. But if you can't handle me at my worst, then you sure as hell don't deserve me at my best. endquote</td>\n",
       "    </tr>\n",
       "    <tr>\n",
       "      <td>2</td>\n",
       "      <td>Be yourself; everyone else is already taken. endquote</td>\n",
       "    </tr>\n",
       "    <tr>\n",
       "      <td>3</td>\n",
       "      <td>Two things are infinite: the universe and human stupidity; and I'm not sure about the universe. endquote</td>\n",
       "    </tr>\n",
       "    <tr>\n",
       "      <td>4</td>\n",
       "      <td>So many books, so little time. endquote</td>\n",
       "    </tr>\n",
       "    <tr>\n",
       "      <td>...</td>\n",
       "      <td>...</td>\n",
       "    </tr>\n",
       "    <tr>\n",
       "      <td>2995</td>\n",
       "      <td>What can you do to promote world peace? Go home and love your family. endquote</td>\n",
       "    </tr>\n",
       "    <tr>\n",
       "      <td>2996</td>\n",
       "      <td>. . . when it comes down to it, that’s what life is all about: showing up for the people you love, again and again, until you can’t show up anymore. endquote</td>\n",
       "    </tr>\n",
       "    <tr>\n",
       "      <td>2997</td>\n",
       "      <td>Just tell me how to be different in a way that makes sense. endquote</td>\n",
       "    </tr>\n",
       "    <tr>\n",
       "      <td>2998</td>\n",
       "      <td>sometimes you don't need a goal in life, you don't need to know the big picture. you just need to know what you're going to do next! endquote</td>\n",
       "    </tr>\n",
       "    <tr>\n",
       "      <td>2999</td>\n",
       "      <td>Listen to them, the children of the night. What music they make! endquote</td>\n",
       "    </tr>\n",
       "  </tbody>\n",
       "</table>\n",
       "<p>3000 rows × 1 columns</p>\n",
       "</div>"
      ],
      "text/plain": [
       "                                                                                                                                                                                                                    Quote\n",
       "0     Don't cry because it's over, smile because it happened. endquote                                                                                                                                                   \n",
       "1     I'm selfish, impatient and a little insecure. I make mistakes, I am out of control and at times hard to handle. But if you can't handle me at my worst, then you sure as hell don't deserve me at my best. endquote\n",
       "2     Be yourself; everyone else is already taken. endquote                                                                                                                                                              \n",
       "3     Two things are infinite: the universe and human stupidity; and I'm not sure about the universe. endquote                                                                                                           \n",
       "4     So many books, so little time. endquote                                                                                                                                                                            \n",
       "...                                       ...                                                                                                                                                                            \n",
       "2995  What can you do to promote world peace? Go home and love your family. endquote                                                                                                                                     \n",
       "2996  . . . when it comes down to it, that’s what life is all about: showing up for the people you love, again and again, until you can’t show up anymore. endquote                                                      \n",
       "2997  Just tell me how to be different in a way that makes sense. endquote                                                                                                                                               \n",
       "2998  sometimes you don't need a goal in life, you don't need to know the big picture. you just need to know what you're going to do next! endquote                                                                      \n",
       "2999  Listen to them, the children of the night. What music they make! endquote                                                                                                                                          \n",
       "\n",
       "[3000 rows x 1 columns]"
      ]
     },
     "execution_count": 11,
     "metadata": {},
     "output_type": "execute_result"
    }
   ],
   "source": [
    "data"
   ]
  },
  {
   "cell_type": "markdown",
   "metadata": {},
   "source": [
    "# Preprocessing"
   ]
  },
  {
   "cell_type": "code",
   "execution_count": 12,
   "metadata": {
    "ExecuteTime": {
     "end_time": "2019-09-22T06:09:55.471360Z",
     "start_time": "2019-09-22T06:09:52.834473Z"
    }
   },
   "outputs": [],
   "source": [
    "tokens = word_tokenize('\\n'.join(data['Quote']))"
   ]
  },
  {
   "cell_type": "code",
   "execution_count": 13,
   "metadata": {
    "ExecuteTime": {
     "end_time": "2019-09-22T06:09:55.718701Z",
     "start_time": "2019-09-22T06:09:55.480337Z"
    }
   },
   "outputs": [],
   "source": [
    "train_len = 4+1\n",
    "text_sequences = []\n",
    "for i in range(train_len, len(tokens)+1):\n",
    "    seq = tokens[i-train_len:i]\n",
    "    text_sequences.append(seq)    "
   ]
  },
  {
   "cell_type": "code",
   "execution_count": 14,
   "metadata": {
    "ExecuteTime": {
     "end_time": "2019-09-22T06:09:57.210711Z",
     "start_time": "2019-09-22T06:09:55.723734Z"
    }
   },
   "outputs": [],
   "source": [
    "tokenizer = Tokenizer()\n",
    "tokenizer.fit_on_texts(text_sequences)"
   ]
  },
  {
   "cell_type": "code",
   "execution_count": 15,
   "metadata": {
    "ExecuteTime": {
     "end_time": "2019-09-22T06:09:57.221681Z",
     "start_time": "2019-09-22T06:09:57.213703Z"
    }
   },
   "outputs": [
    {
     "name": "stdout",
     "output_type": "stream",
     "text": [
      "8539\n"
     ]
    }
   ],
   "source": [
    "vocabulary_size = len(tokenizer.index_word)+1\n",
    "print(vocabulary_size)"
   ]
  },
  {
   "cell_type": "code",
   "execution_count": 16,
   "metadata": {
    "ExecuteTime": {
     "end_time": "2019-09-22T06:09:58.615003Z",
     "start_time": "2019-09-22T06:09:57.224673Z"
    }
   },
   "outputs": [],
   "source": [
    "sequences = tokenizer.texts_to_sequences(text_sequences)\n",
    "sequences = np.array(sequences)"
   ]
  },
  {
   "cell_type": "code",
   "execution_count": 17,
   "metadata": {
    "ExecuteTime": {
     "end_time": "2019-09-22T06:09:58.628936Z",
     "start_time": "2019-09-22T06:09:58.619944Z"
    }
   },
   "outputs": [],
   "source": [
    "X = sequences[:, :-1]\n",
    "y = sequences[:, -1]\n",
    "# y = to_categorical(y, num_classes=vocabulary_size)\n",
    "\n",
    "sequence_len = train_len-1"
   ]
  },
  {
   "cell_type": "markdown",
   "metadata": {},
   "source": [
    "# Training"
   ]
  },
  {
   "cell_type": "code",
   "execution_count": 18,
   "metadata": {
    "ExecuteTime": {
     "end_time": "2019-09-22T06:09:59.578413Z",
     "start_time": "2019-09-22T06:09:58.633911Z"
    }
   },
   "outputs": [
    {
     "ename": "ZeroDivisionError",
     "evalue": "division by zero",
     "output_type": "error",
     "traceback": [
      "\u001b[1;31m---------------------------------------------------------------------------\u001b[0m",
      "\u001b[1;31mZeroDivisionError\u001b[0m                         Traceback (most recent call last)",
      "\u001b[1;32m<ipython-input-18-e718ec8a2226>\u001b[0m in \u001b[0;36m<module>\u001b[1;34m\u001b[0m\n\u001b[0;32m      1\u001b[0m \u001b[0mmodel\u001b[0m \u001b[1;33m=\u001b[0m \u001b[0mMultinomialNB\u001b[0m\u001b[1;33m(\u001b[0m\u001b[1;33m)\u001b[0m\u001b[1;33m\u001b[0m\u001b[1;33m\u001b[0m\u001b[0m\n\u001b[0;32m      2\u001b[0m \u001b[1;31m# model.fit(X,y)\u001b[0m\u001b[1;33m\u001b[0m\u001b[1;33m\u001b[0m\u001b[1;33m\u001b[0m\u001b[0m\n\u001b[1;32m----> 3\u001b[1;33m \u001b[1;36m1\u001b[0m\u001b[1;33m/\u001b[0m\u001b[1;36m0\u001b[0m\u001b[1;33m\u001b[0m\u001b[1;33m\u001b[0m\u001b[0m\n\u001b[0m",
      "\u001b[1;31mZeroDivisionError\u001b[0m: division by zero"
     ]
    }
   ],
   "source": [
    "model = MultinomialNB()\n",
    "# model.fit(X,y)\n",
    "1/0"
   ]
  },
  {
   "cell_type": "code",
   "execution_count": 19,
   "metadata": {
    "ExecuteTime": {
     "end_time": "2019-09-22T06:13:27.397468Z",
     "start_time": "2019-09-22T06:10:20.990283Z"
    }
   },
   "outputs": [
    {
     "data": {
      "text/plain": [
       "MultinomialNB(alpha=1.0, class_prior=None, fit_prior=True)"
      ]
     },
     "execution_count": 19,
     "metadata": {},
     "output_type": "execute_result"
    }
   ],
   "source": [
    "model.fit(X, y)"
   ]
  },
  {
   "cell_type": "code",
   "execution_count": null,
   "metadata": {
    "ExecuteTime": {
     "start_time": "2019-09-22T06:23:39.498Z"
    }
   },
   "outputs": [],
   "source": [
    "model.score(X,y)"
   ]
  },
  {
   "cell_type": "code",
   "execution_count": null,
   "metadata": {
    "ExecuteTime": {
     "end_time": "2019-09-22T06:09:59.607305Z",
     "start_time": "2019-09-22T06:09:07.430Z"
    }
   },
   "outputs": [],
   "source": [
    "es = EarlyStopping(monitor='loss', mode='min', verbose=1)\n",
    "filepath = \"model.h5\"\n",
    "ckpt = ModelCheckpoint(filepath, monitor='loss', verbose=1, save_best_only=True, mode='min')\n",
    "\n",
    "def build_network():\n",
    "    model = Sequential()\n",
    "    model.add(Embedding(vocabulary_size, 128, input_length=sequence_len))\n",
    "    model.add(LSTM(1024, dropout=0.2, recurrent_dropout=0.2))\n",
    "    model.add(Dense(32, activation='relu'))\n",
    "    model.add(Dense(vocabulary_size, activation='softmax'))\n",
    "    model.compile(loss='categorical_crossentropy', optimizer='adam', metrics=['accuracy'])\n",
    "    model.summary()\n",
    "    return model"
   ]
  },
  {
   "cell_type": "code",
   "execution_count": null,
   "metadata": {
    "ExecuteTime": {
     "end_time": "2019-09-22T06:09:59.610957Z",
     "start_time": "2019-09-22T06:09:07.436Z"
    }
   },
   "outputs": [],
   "source": [
    "model = build_network()"
   ]
  },
  {
   "cell_type": "code",
   "execution_count": null,
   "metadata": {
    "ExecuteTime": {
     "end_time": "2019-09-22T06:09:59.613344Z",
     "start_time": "2019-09-22T06:09:07.442Z"
    }
   },
   "outputs": [],
   "source": [
    "model.fit(X, y, validation_split=0.3, epochs=500, callbacks=[es, ckpt])"
   ]
  },
  {
   "cell_type": "markdown",
   "metadata": {},
   "source": [
    "from keras.models import load_model\n",
    "new_model = load_model(\"model.h5\")"
   ]
  }
 ],
 "metadata": {
  "kernelspec": {
   "display_name": "Python 3",
   "language": "python",
   "name": "python3"
  },
  "language_info": {
   "codemirror_mode": {
    "name": "ipython",
    "version": 3
   },
   "file_extension": ".py",
   "mimetype": "text/x-python",
   "name": "python",
   "nbconvert_exporter": "python",
   "pygments_lexer": "ipython3",
   "version": "3.7.3"
  },
  "toc": {
   "base_numbering": 1,
   "nav_menu": {},
   "number_sections": true,
   "sideBar": true,
   "skip_h1_title": false,
   "title_cell": "Table of Contents",
   "title_sidebar": "Contents",
   "toc_cell": false,
   "toc_position": {},
   "toc_section_display": true,
   "toc_window_display": false
  },
  "varInspector": {
   "cols": {
    "lenName": 16,
    "lenType": 16,
    "lenVar": 40
   },
   "kernels_config": {
    "python": {
     "delete_cmd_postfix": "",
     "delete_cmd_prefix": "del ",
     "library": "var_list.py",
     "varRefreshCmd": "print(var_dic_list())"
    },
    "r": {
     "delete_cmd_postfix": ") ",
     "delete_cmd_prefix": "rm(",
     "library": "var_list.r",
     "varRefreshCmd": "cat(var_dic_list()) "
    }
   },
   "types_to_exclude": [
    "module",
    "function",
    "builtin_function_or_method",
    "instance",
    "_Feature"
   ],
   "window_display": false
  }
 },
 "nbformat": 4,
 "nbformat_minor": 2
}
