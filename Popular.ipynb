{
 "cells": [
  {
   "cell_type": "markdown",
   "metadata": {},
   "source": [
    "# Libraries"
   ]
  },
  {
   "cell_type": "code",
   "execution_count": 1,
   "metadata": {
    "ExecuteTime": {
     "end_time": "2019-09-21T13:33:21.828973Z",
     "start_time": "2019-09-21T13:33:13.978298Z"
    }
   },
   "outputs": [],
   "source": [
    "import numpy as np\n",
    "import pandas as pd"
   ]
  },
  {
   "cell_type": "code",
   "execution_count": 2,
   "metadata": {
    "ExecuteTime": {
     "end_time": "2019-09-21T13:34:22.446489Z",
     "start_time": "2019-09-21T13:33:21.839953Z"
    }
   },
   "outputs": [
    {
     "name": "stderr",
     "output_type": "stream",
     "text": [
      "Using TensorFlow backend.\n"
     ]
    }
   ],
   "source": [
    "from nltk.tokenize import word_tokenize\n",
    "from keras.preprocessing.text import Tokenizer"
   ]
  },
  {
   "cell_type": "code",
   "execution_count": 3,
   "metadata": {
    "ExecuteTime": {
     "end_time": "2019-09-21T13:34:22.477451Z",
     "start_time": "2019-09-21T13:34:22.461357Z"
    }
   },
   "outputs": [],
   "source": [
    "from keras.utils import to_categorical"
   ]
  },
  {
   "cell_type": "code",
   "execution_count": 4,
   "metadata": {
    "ExecuteTime": {
     "end_time": "2019-09-21T13:34:22.730361Z",
     "start_time": "2019-09-21T13:34:22.493275Z"
    }
   },
   "outputs": [],
   "source": [
    "from keras.models import Sequential\n",
    "from keras.layers import Dense, LSTM, Embedding\n",
    "from keras.callbacks import EarlyStopping, ModelCheckpoint"
   ]
  },
  {
   "cell_type": "code",
   "execution_count": 5,
   "metadata": {
    "ExecuteTime": {
     "end_time": "2019-09-21T13:34:22.937615Z",
     "start_time": "2019-09-21T13:34:22.743324Z"
    }
   },
   "outputs": [],
   "source": [
    "import pickle"
   ]
  },
  {
   "cell_type": "code",
   "execution_count": 6,
   "metadata": {
    "ExecuteTime": {
     "end_time": "2019-09-21T13:34:23.209644Z",
     "start_time": "2019-09-21T13:34:22.951584Z"
    }
   },
   "outputs": [],
   "source": [
    "pd.options.display.max_colwidth = -1"
   ]
  },
  {
   "cell_type": "markdown",
   "metadata": {},
   "source": [
    "# Data"
   ]
  },
  {
   "cell_type": "code",
   "execution_count": 7,
   "metadata": {
    "ExecuteTime": {
     "end_time": "2019-09-21T13:34:23.795016Z",
     "start_time": "2019-09-21T13:34:23.219605Z"
    }
   },
   "outputs": [],
   "source": [
    "data = pd.read_csv('E:/Scrapped-Data/Quotes-Goodreads/Popular.csv')"
   ]
  },
  {
   "cell_type": "code",
   "execution_count": 8,
   "metadata": {
    "ExecuteTime": {
     "end_time": "2019-09-21T13:34:24.302990Z",
     "start_time": "2019-09-21T13:34:23.801999Z"
    }
   },
   "outputs": [
    {
     "data": {
      "text/html": [
       "<div>\n",
       "<style scoped>\n",
       "    .dataframe tbody tr th:only-of-type {\n",
       "        vertical-align: middle;\n",
       "    }\n",
       "\n",
       "    .dataframe tbody tr th {\n",
       "        vertical-align: top;\n",
       "    }\n",
       "\n",
       "    .dataframe thead th {\n",
       "        text-align: right;\n",
       "    }\n",
       "</style>\n",
       "<table border=\"1\" class=\"dataframe\">\n",
       "  <thead>\n",
       "    <tr style=\"text-align: right;\">\n",
       "      <th></th>\n",
       "      <th>Quote</th>\n",
       "    </tr>\n",
       "  </thead>\n",
       "  <tbody>\n",
       "    <tr>\n",
       "      <td>0</td>\n",
       "      <td>“Don't cry because it's over, smile because it happened.” ― Dr. Seuss</td>\n",
       "    </tr>\n",
       "    <tr>\n",
       "      <td>1</td>\n",
       "      <td>“I'm selfish, impatient and a little insecure. I make mistakes, I am out of control and at times hard to handle. But if you can't handle me at my worst, then you sure as hell don't deserve me at my best.” ― Marilyn Monroe</td>\n",
       "    </tr>\n",
       "    <tr>\n",
       "      <td>2</td>\n",
       "      <td>“Be yourself; everyone else is already taken.” ― Oscar Wilde</td>\n",
       "    </tr>\n",
       "    <tr>\n",
       "      <td>3</td>\n",
       "      <td>“Two things are infinite: the universe and human stupidity; and I'm not sure about the universe.” ― Albert Einstein</td>\n",
       "    </tr>\n",
       "    <tr>\n",
       "      <td>4</td>\n",
       "      <td>“So many books, so little time.” ― Frank Zappa</td>\n",
       "    </tr>\n",
       "    <tr>\n",
       "      <td>...</td>\n",
       "      <td>...</td>\n",
       "    </tr>\n",
       "    <tr>\n",
       "      <td>2995</td>\n",
       "      <td>“What can you do to promote world peace? Go home and love your family.” ― Mother Teresa</td>\n",
       "    </tr>\n",
       "    <tr>\n",
       "      <td>2996</td>\n",
       "      <td>“. . . when it comes down to it, that’s what life is all about: showing up for the people you love, again and again, until you can’t show up anymore.” ― Rebecca Walker, Baby Love: Choosing Motherhood After a Lifetime of Ambivalence //</td>\n",
       "    </tr>\n",
       "    <tr>\n",
       "      <td>2997</td>\n",
       "      <td>“Just tell me how to be different in a way that makes sense.” ― Stephen Chbosky, The Perks of Being a Wallflower //</td>\n",
       "    </tr>\n",
       "    <tr>\n",
       "      <td>2998</td>\n",
       "      <td>“sometimes you don't need a goal in life, you don't need to know the big picture. you just need to know what you're going to do next!” ― Sophie Kinsella, The Undomestic Goddess //</td>\n",
       "    </tr>\n",
       "    <tr>\n",
       "      <td>2999</td>\n",
       "      <td>“Listen to them, the children of the night. What music they make!” ― Bram Stoker</td>\n",
       "    </tr>\n",
       "  </tbody>\n",
       "</table>\n",
       "<p>3000 rows × 1 columns</p>\n",
       "</div>"
      ],
      "text/plain": [
       "                                                                                                                                                                                                                                           Quote\n",
       "0     “Don't cry because it's over, smile because it happened.” ― Dr. Seuss                                                                                                                                                                     \n",
       "1     “I'm selfish, impatient and a little insecure. I make mistakes, I am out of control and at times hard to handle. But if you can't handle me at my worst, then you sure as hell don't deserve me at my best.” ― Marilyn Monroe             \n",
       "2     “Be yourself; everyone else is already taken.” ― Oscar Wilde                                                                                                                                                                              \n",
       "3     “Two things are infinite: the universe and human stupidity; and I'm not sure about the universe.” ― Albert Einstein                                                                                                                       \n",
       "4     “So many books, so little time.” ― Frank Zappa                                                                                                                                                                                            \n",
       "...                                              ...                                                                                                                                                                                            \n",
       "2995  “What can you do to promote world peace? Go home and love your family.” ― Mother Teresa                                                                                                                                                   \n",
       "2996  “. . . when it comes down to it, that’s what life is all about: showing up for the people you love, again and again, until you can’t show up anymore.” ― Rebecca Walker, Baby Love: Choosing Motherhood After a Lifetime of Ambivalence //\n",
       "2997  “Just tell me how to be different in a way that makes sense.” ― Stephen Chbosky, The Perks of Being a Wallflower //                                                                                                                       \n",
       "2998  “sometimes you don't need a goal in life, you don't need to know the big picture. you just need to know what you're going to do next!” ― Sophie Kinsella, The Undomestic Goddess //                                                       \n",
       "2999  “Listen to them, the children of the night. What music they make!” ― Bram Stoker                                                                                                                                                          \n",
       "\n",
       "[3000 rows x 1 columns]"
      ]
     },
     "execution_count": 8,
     "metadata": {},
     "output_type": "execute_result"
    }
   ],
   "source": [
    "data"
   ]
  },
  {
   "cell_type": "markdown",
   "metadata": {},
   "source": [
    "# Cleaning"
   ]
  },
  {
   "cell_type": "code",
   "execution_count": 9,
   "metadata": {
    "ExecuteTime": {
     "end_time": "2019-09-21T13:34:24.366384Z",
     "start_time": "2019-09-21T13:34:24.308724Z"
    }
   },
   "outputs": [],
   "source": [
    "def clean(x):\n",
    "    x = x.split('―')[0]\n",
    "    x = x[1:-2]\n",
    "    return x+ ' endquote'"
   ]
  },
  {
   "cell_type": "code",
   "execution_count": 10,
   "metadata": {
    "ExecuteTime": {
     "end_time": "2019-09-21T13:34:24.710778Z",
     "start_time": "2019-09-21T13:34:24.369501Z"
    }
   },
   "outputs": [],
   "source": [
    "data['Quote'] = data['Quote'].apply(clean)"
   ]
  },
  {
   "cell_type": "code",
   "execution_count": 11,
   "metadata": {
    "ExecuteTime": {
     "end_time": "2019-09-21T13:34:24.891489Z",
     "start_time": "2019-09-21T13:34:24.720756Z"
    }
   },
   "outputs": [
    {
     "data": {
      "text/html": [
       "<div>\n",
       "<style scoped>\n",
       "    .dataframe tbody tr th:only-of-type {\n",
       "        vertical-align: middle;\n",
       "    }\n",
       "\n",
       "    .dataframe tbody tr th {\n",
       "        vertical-align: top;\n",
       "    }\n",
       "\n",
       "    .dataframe thead th {\n",
       "        text-align: right;\n",
       "    }\n",
       "</style>\n",
       "<table border=\"1\" class=\"dataframe\">\n",
       "  <thead>\n",
       "    <tr style=\"text-align: right;\">\n",
       "      <th></th>\n",
       "      <th>Quote</th>\n",
       "    </tr>\n",
       "  </thead>\n",
       "  <tbody>\n",
       "    <tr>\n",
       "      <td>0</td>\n",
       "      <td>Don't cry because it's over, smile because it happened. endquote</td>\n",
       "    </tr>\n",
       "    <tr>\n",
       "      <td>1</td>\n",
       "      <td>I'm selfish, impatient and a little insecure. I make mistakes, I am out of control and at times hard to handle. But if you can't handle me at my worst, then you sure as hell don't deserve me at my best. endquote</td>\n",
       "    </tr>\n",
       "    <tr>\n",
       "      <td>2</td>\n",
       "      <td>Be yourself; everyone else is already taken. endquote</td>\n",
       "    </tr>\n",
       "    <tr>\n",
       "      <td>3</td>\n",
       "      <td>Two things are infinite: the universe and human stupidity; and I'm not sure about the universe. endquote</td>\n",
       "    </tr>\n",
       "    <tr>\n",
       "      <td>4</td>\n",
       "      <td>So many books, so little time. endquote</td>\n",
       "    </tr>\n",
       "    <tr>\n",
       "      <td>...</td>\n",
       "      <td>...</td>\n",
       "    </tr>\n",
       "    <tr>\n",
       "      <td>2995</td>\n",
       "      <td>What can you do to promote world peace? Go home and love your family. endquote</td>\n",
       "    </tr>\n",
       "    <tr>\n",
       "      <td>2996</td>\n",
       "      <td>. . . when it comes down to it, that’s what life is all about: showing up for the people you love, again and again, until you can’t show up anymore. endquote</td>\n",
       "    </tr>\n",
       "    <tr>\n",
       "      <td>2997</td>\n",
       "      <td>Just tell me how to be different in a way that makes sense. endquote</td>\n",
       "    </tr>\n",
       "    <tr>\n",
       "      <td>2998</td>\n",
       "      <td>sometimes you don't need a goal in life, you don't need to know the big picture. you just need to know what you're going to do next! endquote</td>\n",
       "    </tr>\n",
       "    <tr>\n",
       "      <td>2999</td>\n",
       "      <td>Listen to them, the children of the night. What music they make! endquote</td>\n",
       "    </tr>\n",
       "  </tbody>\n",
       "</table>\n",
       "<p>3000 rows × 1 columns</p>\n",
       "</div>"
      ],
      "text/plain": [
       "                                                                                                                                                                                                                    Quote\n",
       "0     Don't cry because it's over, smile because it happened. endquote                                                                                                                                                   \n",
       "1     I'm selfish, impatient and a little insecure. I make mistakes, I am out of control and at times hard to handle. But if you can't handle me at my worst, then you sure as hell don't deserve me at my best. endquote\n",
       "2     Be yourself; everyone else is already taken. endquote                                                                                                                                                              \n",
       "3     Two things are infinite: the universe and human stupidity; and I'm not sure about the universe. endquote                                                                                                           \n",
       "4     So many books, so little time. endquote                                                                                                                                                                            \n",
       "...                                       ...                                                                                                                                                                            \n",
       "2995  What can you do to promote world peace? Go home and love your family. endquote                                                                                                                                     \n",
       "2996  . . . when it comes down to it, that’s what life is all about: showing up for the people you love, again and again, until you can’t show up anymore. endquote                                                      \n",
       "2997  Just tell me how to be different in a way that makes sense. endquote                                                                                                                                               \n",
       "2998  sometimes you don't need a goal in life, you don't need to know the big picture. you just need to know what you're going to do next! endquote                                                                      \n",
       "2999  Listen to them, the children of the night. What music they make! endquote                                                                                                                                          \n",
       "\n",
       "[3000 rows x 1 columns]"
      ]
     },
     "execution_count": 11,
     "metadata": {},
     "output_type": "execute_result"
    }
   ],
   "source": [
    "data"
   ]
  },
  {
   "cell_type": "markdown",
   "metadata": {},
   "source": [
    "# Preprocessing"
   ]
  },
  {
   "cell_type": "code",
   "execution_count": 12,
   "metadata": {
    "ExecuteTime": {
     "end_time": "2019-09-21T13:34:26.936860Z",
     "start_time": "2019-09-21T13:34:24.900325Z"
    }
   },
   "outputs": [],
   "source": [
    "tokens = word_tokenize('\\n'.join(data['Quote']))"
   ]
  },
  {
   "cell_type": "code",
   "execution_count": 13,
   "metadata": {
    "ExecuteTime": {
     "end_time": "2019-09-21T13:34:27.117865Z",
     "start_time": "2019-09-21T13:34:26.939858Z"
    }
   },
   "outputs": [],
   "source": [
    "train_len = 4+1\n",
    "text_sequences = []\n",
    "for i in range(train_len, len(tokens)+1):\n",
    "    seq = tokens[i-train_len:i]\n",
    "    text_sequences.append(seq)    "
   ]
  },
  {
   "cell_type": "code",
   "execution_count": 14,
   "metadata": {
    "ExecuteTime": {
     "end_time": "2019-09-21T13:34:28.435429Z",
     "start_time": "2019-09-21T13:34:27.119756Z"
    }
   },
   "outputs": [],
   "source": [
    "tokenizer = Tokenizer()\n",
    "tokenizer.fit_on_texts(text_sequences)"
   ]
  },
  {
   "cell_type": "code",
   "execution_count": 15,
   "metadata": {
    "ExecuteTime": {
     "end_time": "2019-09-21T13:34:28.448454Z",
     "start_time": "2019-09-21T13:34:28.439446Z"
    }
   },
   "outputs": [
    {
     "name": "stdout",
     "output_type": "stream",
     "text": [
      "8539\n"
     ]
    }
   ],
   "source": [
    "vocabulary_size = len(tokenizer.index_word)+1\n",
    "print(vocabulary_size)"
   ]
  },
  {
   "cell_type": "code",
   "execution_count": 16,
   "metadata": {
    "ExecuteTime": {
     "end_time": "2019-09-21T13:34:29.441170Z",
     "start_time": "2019-09-21T13:34:28.451932Z"
    }
   },
   "outputs": [],
   "source": [
    "sequences = tokenizer.texts_to_sequences(text_sequences)\n",
    "sequences = np.array(sequences)"
   ]
  },
  {
   "cell_type": "code",
   "execution_count": 17,
   "metadata": {
    "ExecuteTime": {
     "end_time": "2019-09-21T13:34:29.745789Z",
     "start_time": "2019-09-21T13:34:29.444039Z"
    }
   },
   "outputs": [],
   "source": [
    "X = sequences[:, :-1]\n",
    "y = sequences[:, -1]\n",
    "y = to_categorical(y, num_classes=vocabulary_size)\n",
    "\n",
    "sequence_len = train_len-1"
   ]
  },
  {
   "cell_type": "markdown",
   "metadata": {},
   "source": [
    "# Training"
   ]
  },
  {
   "cell_type": "code",
   "execution_count": 21,
   "metadata": {
    "ExecuteTime": {
     "end_time": "2019-09-21T13:34:48.790421Z",
     "start_time": "2019-09-21T13:34:48.779478Z"
    }
   },
   "outputs": [],
   "source": [
    "es = EarlyStopping(monitor='loss', mode='min', verbose=1)\n",
    "filepath = \"model.h5\"\n",
    "ckpt = ModelCheckpoint(filepath, monitor='loss', verbose=1, save_best_only=True, mode='min')\n",
    "\n",
    "def build_network():\n",
    "    model = Sequential()\n",
    "    model.add(Embedding(vocabulary_size, 128, input_length=sequence_len))\n",
    "    model.add(LSTM(1024, dropout=0.2, recurrent_dropout=0.2))\n",
    "    model.add(Dense(32, activation='relu'))\n",
    "    model.add(Dense(vocabulary_size, activation='softmax'))\n",
    "    model.compile(loss='categorical_crossentropy', optimizer='adam', metrics=['accuracy'])\n",
    "    model.summary()\n",
    "    return model"
   ]
  },
  {
   "cell_type": "code",
   "execution_count": 22,
   "metadata": {
    "ExecuteTime": {
     "end_time": "2019-09-21T13:34:53.324345Z",
     "start_time": "2019-09-21T13:34:49.471590Z"
    }
   },
   "outputs": [
    {
     "name": "stdout",
     "output_type": "stream",
     "text": [
      "_________________________________________________________________\n",
      "Layer (type)                 Output Shape              Param #   \n",
      "=================================================================\n",
      "embedding_2 (Embedding)      (None, 4, 128)            1092992   \n",
      "_________________________________________________________________\n",
      "lstm_2 (LSTM)                (None, 1024)              4722688   \n",
      "_________________________________________________________________\n",
      "dense_3 (Dense)              (None, 32)                32800     \n",
      "_________________________________________________________________\n",
      "dense_4 (Dense)              (None, 8539)              281787    \n",
      "=================================================================\n",
      "Total params: 6,130,267\n",
      "Trainable params: 6,130,267\n",
      "Non-trainable params: 0\n",
      "_________________________________________________________________\n"
     ]
    }
   ],
   "source": [
    "model = build_network()"
   ]
  },
  {
   "cell_type": "code",
   "execution_count": null,
   "metadata": {
    "ExecuteTime": {
     "start_time": "2019-09-21T13:34:49.743Z"
    }
   },
   "outputs": [
    {
     "name": "stdout",
     "output_type": "stream",
     "text": [
      "WARNING:tensorflow:From D:\\Users\\Ritvik\\Anaconda3\\envs\\datascience\\lib\\site-packages\\tensorflow\\python\\ops\\math_ops.py:3066: to_int32 (from tensorflow.python.ops.math_ops) is deprecated and will be removed in a future version.\n",
      "Instructions for updating:\n",
      "Use tf.cast instead.\n",
      "Train on 76888 samples, validate on 32953 samples\n",
      "Epoch 1/500\n",
      "76888/76888 [==============================] - 629s 8ms/step - loss: 6.1032 - acc: 0.0790 - val_loss: 5.9714 - val_acc: 0.1058\n",
      "\n",
      "Epoch 00001: loss improved from inf to 6.10318, saving model to model.h5\n",
      "Epoch 2/500\n",
      "76888/76888 [==============================] - 632s 8ms/step - loss: 5.4685 - acc: 0.1269 - val_loss: 5.7602 - val_acc: 0.1352\n",
      "\n",
      "Epoch 00002: loss improved from 6.10318 to 5.46849, saving model to model.h5\n",
      "Epoch 3/500\n",
      "76888/76888 [==============================] - 519s 7ms/step - loss: 5.0995 - acc: 0.1525 - val_loss: 5.7065 - val_acc: 0.1498\n",
      "\n",
      "Epoch 00003: loss improved from 5.46849 to 5.09949, saving model to model.h5\n",
      "Epoch 4/500\n",
      "76888/76888 [==============================] - 505s 7ms/step - loss: 4.8642 - acc: 0.1678 - val_loss: 5.7117 - val_acc: 0.1470\n",
      "\n",
      "Epoch 00004: loss improved from 5.09949 to 4.86418, saving model to model.h5\n",
      "Epoch 5/500\n",
      "76888/76888 [==============================] - 504s 7ms/step - loss: 4.6797 - acc: 0.1825 - val_loss: 5.7393 - val_acc: 0.1530\n",
      "\n",
      "Epoch 00005: loss improved from 4.86418 to 4.67969, saving model to model.h5\n",
      "Epoch 6/500\n",
      "76888/76888 [==============================] - 495s 6ms/step - loss: 4.5193 - acc: 0.1974 - val_loss: 5.7985 - val_acc: 0.1546\n",
      "\n",
      "Epoch 00006: loss improved from 4.67969 to 4.51927, saving model to model.h5\n",
      "Epoch 7/500\n",
      "76888/76888 [==============================] - 498s 6ms/step - loss: 4.3671 - acc: 0.2111 - val_loss: 5.8617 - val_acc: 0.1554\n",
      "\n",
      "Epoch 00007: loss improved from 4.51927 to 4.36715, saving model to model.h5\n",
      "Epoch 8/500\n",
      "76888/76888 [==============================] - 492s 6ms/step - loss: 4.2155 - acc: 0.2236 - val_loss: 5.9480 - val_acc: 0.1531\n",
      "\n",
      "Epoch 00008: loss improved from 4.36715 to 4.21545, saving model to model.h5\n",
      "Epoch 9/500\n",
      "76888/76888 [==============================] - 507s 7ms/step - loss: 4.0727 - acc: 0.2387 - val_loss: 6.0308 - val_acc: 0.1533\n",
      "\n",
      "Epoch 00009: loss improved from 4.21545 to 4.07267, saving model to model.h5\n",
      "Epoch 10/500\n",
      "76888/76888 [==============================] - 652s 8ms/step - loss: 3.9384 - acc: 0.2531 - val_loss: 6.1274 - val_acc: 0.1530\n",
      "\n",
      "Epoch 00010: loss improved from 4.07267 to 3.93838, saving model to model.h5\n",
      "Epoch 11/500\n",
      "76888/76888 [==============================] - 697s 9ms/step - loss: 3.8076 - acc: 0.2677 - val_loss: 6.2311 - val_acc: 0.1517\n",
      "\n",
      "Epoch 00011: loss improved from 3.93838 to 3.80759, saving model to model.h5\n",
      "Epoch 12/500\n",
      "76888/76888 [==============================] - 735s 10ms/step - loss: 3.6825 - acc: 0.2816 - val_loss: 6.3527 - val_acc: 0.1486\n",
      "\n",
      "Epoch 00012: loss improved from 3.80759 to 3.68253, saving model to model.h5\n",
      "Epoch 13/500\n",
      "76888/76888 [==============================] - 722s 9ms/step - loss: 3.5643 - acc: 0.2957 - val_loss: 6.4279 - val_acc: 0.1454\n",
      "\n",
      "Epoch 00013: loss improved from 3.68253 to 3.56434, saving model to model.h5\n",
      "Epoch 14/500\n",
      "76888/76888 [==============================] - 722s 9ms/step - loss: 3.4586 - acc: 0.3084 - val_loss: 6.5280 - val_acc: 0.1444\n",
      "\n",
      "Epoch 00014: loss improved from 3.56434 to 3.45855, saving model to model.h5\n",
      "Epoch 15/500\n",
      "76888/76888 [==============================] - 664s 9ms/step - loss: 3.3584 - acc: 0.3225 - val_loss: 6.5945 - val_acc: 0.1441\n",
      "\n",
      "Epoch 00015: loss improved from 3.45855 to 3.35840, saving model to model.h5\n",
      "Epoch 16/500\n",
      "76888/76888 [==============================] - 605s 8ms/step - loss: 3.2632 - acc: 0.3348 - val_loss: 6.7015 - val_acc: 0.1372\n",
      "\n",
      "Epoch 00016: loss improved from 3.35840 to 3.26325, saving model to model.h5\n",
      "Epoch 17/500\n",
      "   32/76888 [..............................] - ETA: 1:17:43 - loss: 3.9906 - acc: 0.2188"
     ]
    },
    {
     "name": "stderr",
     "output_type": "stream",
     "text": [
      "D:\\Users\\Ritvik\\Anaconda3\\envs\\datascience\\lib\\site-packages\\keras\\callbacks.py:122: UserWarning: Method on_batch_end() is slow compared to the batch update (0.479749). Check your callbacks.\n",
      "  % delta_t_median)\n"
     ]
    },
    {
     "name": "stdout",
     "output_type": "stream",
     "text": [
      "76888/76888 [==============================] - 648s 8ms/step - loss: 3.1749 - acc: 0.3458 - val_loss: 6.8106 - val_acc: 0.1349\n",
      "\n",
      "Epoch 00017: loss improved from 3.26325 to 3.17493, saving model to model.h5\n",
      "Epoch 18/500\n",
      "76888/76888 [==============================] - 645s 8ms/step - loss: 3.0951 - acc: 0.3582 - val_loss: 6.9045 - val_acc: 0.1343\n",
      "\n",
      "Epoch 00018: loss improved from 3.17493 to 3.09506, saving model to model.h5\n",
      "Epoch 19/500\n",
      "76888/76888 [==============================] - 648s 8ms/step - loss: 3.0207 - acc: 0.3688 - val_loss: 6.9879 - val_acc: 0.1356\n",
      "\n",
      "Epoch 00019: loss improved from 3.09506 to 3.02070, saving model to model.h5\n",
      "Epoch 20/500\n",
      "76888/76888 [==============================] - 697s 9ms/step - loss: 2.9466 - acc: 0.3789 - val_loss: 7.0989 - val_acc: 0.1286\n",
      "\n",
      "Epoch 00020: loss improved from 3.02070 to 2.94656, saving model to model.h5\n",
      "Epoch 21/500\n",
      "76888/76888 [==============================] - 711s 9ms/step - loss: 2.8873 - acc: 0.3867 - val_loss: 7.1566 - val_acc: 0.1292\n",
      "\n",
      "Epoch 00021: loss improved from 2.94656 to 2.88735, saving model to model.h5\n",
      "Epoch 22/500\n",
      "76888/76888 [==============================] - 686s 9ms/step - loss: 2.8208 - acc: 0.3976 - val_loss: 7.2124 - val_acc: 0.1289\n",
      "\n",
      "Epoch 00022: loss improved from 2.88735 to 2.82075, saving model to model.h5\n",
      "Epoch 23/500\n",
      "76888/76888 [==============================] - 676s 9ms/step - loss: 2.7665 - acc: 0.4045 - val_loss: 7.2824 - val_acc: 0.1275\n",
      "\n",
      "Epoch 00023: loss improved from 2.82075 to 2.76651, saving model to model.h5\n",
      "Epoch 24/500\n",
      "76888/76888 [==============================] - 682s 9ms/step - loss: 2.7127 - acc: 0.4119 - val_loss: 7.3382 - val_acc: 0.1245\n",
      "\n",
      "Epoch 00024: loss improved from 2.76651 to 2.71266, saving model to model.h5\n",
      "Epoch 25/500\n",
      "49312/76888 [==================>...........] - ETA: 5:48 - loss: 2.6150 - acc: 0.4283"
     ]
    }
   ],
   "source": [
    "model.fit(X, y, validation_split=0.3, epochs=500, callbacks=[es, ckpt])"
   ]
  },
  {
   "cell_type": "markdown",
   "metadata": {},
   "source": [
    "from keras.models import load_model\n",
    "new_model = load_model(\"model.h5\")"
   ]
  }
 ],
 "metadata": {
  "kernelspec": {
   "display_name": "Python 3",
   "language": "python",
   "name": "python3"
  },
  "language_info": {
   "codemirror_mode": {
    "name": "ipython",
    "version": 3
   },
   "file_extension": ".py",
   "mimetype": "text/x-python",
   "name": "python",
   "nbconvert_exporter": "python",
   "pygments_lexer": "ipython3",
   "version": "3.7.3"
  },
  "toc": {
   "base_numbering": 1,
   "nav_menu": {},
   "number_sections": true,
   "sideBar": true,
   "skip_h1_title": false,
   "title_cell": "Table of Contents",
   "title_sidebar": "Contents",
   "toc_cell": false,
   "toc_position": {},
   "toc_section_display": true,
   "toc_window_display": false
  },
  "varInspector": {
   "cols": {
    "lenName": 16,
    "lenType": 16,
    "lenVar": 40
   },
   "kernels_config": {
    "python": {
     "delete_cmd_postfix": "",
     "delete_cmd_prefix": "del ",
     "library": "var_list.py",
     "varRefreshCmd": "print(var_dic_list())"
    },
    "r": {
     "delete_cmd_postfix": ") ",
     "delete_cmd_prefix": "rm(",
     "library": "var_list.r",
     "varRefreshCmd": "cat(var_dic_list()) "
    }
   },
   "types_to_exclude": [
    "module",
    "function",
    "builtin_function_or_method",
    "instance",
    "_Feature"
   ],
   "window_display": false
  }
 },
 "nbformat": 4,
 "nbformat_minor": 2
}
