{
 "cells": [
  {
   "cell_type": "markdown",
   "metadata": {},
   "source": [
    "# Libraries"
   ]
  },
  {
   "cell_type": "code",
   "execution_count": 1,
   "metadata": {
    "ExecuteTime": {
     "end_time": "2019-09-23T13:33:00.296334Z",
     "start_time": "2019-09-23T13:32:59.419953Z"
    }
   },
   "outputs": [],
   "source": [
    "import numpy as np\n",
    "import pandas as pd"
   ]
  },
  {
   "cell_type": "code",
   "execution_count": 2,
   "metadata": {
    "ExecuteTime": {
     "end_time": "2019-09-23T13:33:01.469609Z",
     "start_time": "2019-09-23T13:33:00.298338Z"
    }
   },
   "outputs": [],
   "source": [
    "import re\n",
    "from nltk import ngrams\n",
    "from collections import defaultdict"
   ]
  },
  {
   "cell_type": "code",
   "execution_count": 3,
   "metadata": {
    "ExecuteTime": {
     "end_time": "2019-09-23T13:33:01.479551Z",
     "start_time": "2019-09-23T13:33:01.473569Z"
    }
   },
   "outputs": [],
   "source": [
    "import random\n",
    "import json\n",
    "import os"
   ]
  },
  {
   "cell_type": "code",
   "execution_count": 4,
   "metadata": {
    "ExecuteTime": {
     "end_time": "2019-09-23T13:33:01.588198Z",
     "start_time": "2019-09-23T13:33:01.482544Z"
    }
   },
   "outputs": [],
   "source": [
    "pd.options.display.max_colwidth = -1"
   ]
  },
  {
   "cell_type": "markdown",
   "metadata": {},
   "source": [
    "# Data"
   ]
  },
  {
   "cell_type": "code",
   "execution_count": 5,
   "metadata": {
    "ExecuteTime": {
     "end_time": "2019-09-23T13:33:02.500025Z",
     "start_time": "2019-09-23T13:33:01.592184Z"
    }
   },
   "outputs": [
    {
     "name": "stdout",
     "output_type": "stream",
     "text": [
      "92970\n"
     ]
    }
   ],
   "source": [
    "data = pd.DataFrame(columns=['Quote'])\n",
    "for folderName, subfolders, filenames in os.walk('E:/Scrapped-Data/Quotes-Goodreads/'):\n",
    "    for filename in filenames:\n",
    "        data = pd.concat([pd.read_csv('E:/Scrapped-Data/Quotes-Goodreads/'+filename), data], axis=0)\n",
    "print(len(data))"
   ]
  },
  {
   "cell_type": "code",
   "execution_count": 6,
   "metadata": {
    "ExecuteTime": {
     "end_time": "2019-09-23T13:33:02.536928Z",
     "start_time": "2019-09-23T13:33:02.502020Z"
    }
   },
   "outputs": [
    {
     "data": {
      "text/html": [
       "<div>\n",
       "<style scoped>\n",
       "    .dataframe tbody tr th:only-of-type {\n",
       "        vertical-align: middle;\n",
       "    }\n",
       "\n",
       "    .dataframe tbody tr th {\n",
       "        vertical-align: top;\n",
       "    }\n",
       "\n",
       "    .dataframe thead th {\n",
       "        text-align: right;\n",
       "    }\n",
       "</style>\n",
       "<table border=\"1\" class=\"dataframe\">\n",
       "  <thead>\n",
       "    <tr style=\"text-align: right;\">\n",
       "      <th></th>\n",
       "      <th>Quote</th>\n",
       "    </tr>\n",
       "  </thead>\n",
       "  <tbody>\n",
       "    <tr>\n",
       "      <td>0</td>\n",
       "      <td>“I love deadlines. I love the whooshing noise they make as they go by.” ― Douglas Adams, The Salmon of Doubt //</td>\n",
       "    </tr>\n",
       "    <tr>\n",
       "      <td>1</td>\n",
       "      <td>“There is no greater agony than bearing an untold story inside you.” ― Maya Angelou, I Know Why the Caged Bird Sings //</td>\n",
       "    </tr>\n",
       "    <tr>\n",
       "      <td>2</td>\n",
       "      <td>“What really knocks me out is a book that, when you're all done reading it, you wish the author that wrote it was a terrific friend of yours and you could call him up on the phone whenever you felt like it. That doesn't happen much, though.” ― J.D. Salinger, The Catcher in the Rye //</td>\n",
       "    </tr>\n",
       "    <tr>\n",
       "      <td>3</td>\n",
       "      <td>“If there's a book that you want to read, but it hasn't been written yet, then you must write it.” ― Toni Morrison</td>\n",
       "    </tr>\n",
       "    <tr>\n",
       "      <td>4</td>\n",
       "      <td>“There is nothing to writing. All you do is sit down at a typewriter and bleed.” ― Ernest Hemingway</td>\n",
       "    </tr>\n",
       "  </tbody>\n",
       "</table>\n",
       "</div>"
      ],
      "text/plain": [
       "                                                                                                                                                                                                                                                                                          Quote\n",
       "0  “I love deadlines. I love the whooshing noise they make as they go by.” ― Douglas Adams, The Salmon of Doubt //                                                                                                                                                                             \n",
       "1  “There is no greater agony than bearing an untold story inside you.” ― Maya Angelou, I Know Why the Caged Bird Sings //                                                                                                                                                                     \n",
       "2  “What really knocks me out is a book that, when you're all done reading it, you wish the author that wrote it was a terrific friend of yours and you could call him up on the phone whenever you felt like it. That doesn't happen much, though.” ― J.D. Salinger, The Catcher in the Rye //\n",
       "3  “If there's a book that you want to read, but it hasn't been written yet, then you must write it.” ― Toni Morrison                                                                                                                                                                          \n",
       "4  “There is nothing to writing. All you do is sit down at a typewriter and bleed.” ― Ernest Hemingway                                                                                                                                                                                         "
      ]
     },
     "execution_count": 6,
     "metadata": {},
     "output_type": "execute_result"
    }
   ],
   "source": [
    "data.head()"
   ]
  },
  {
   "cell_type": "markdown",
   "metadata": {},
   "source": [
    "**Cleaning**"
   ]
  },
  {
   "cell_type": "code",
   "execution_count": 7,
   "metadata": {
    "ExecuteTime": {
     "end_time": "2019-09-23T13:33:02.632012Z",
     "start_time": "2019-09-23T13:33:02.540917Z"
    }
   },
   "outputs": [],
   "source": [
    "def clean(x):\n",
    "    x = x.split('―')[0]\n",
    "    x = x[1:-2]\n",
    "    return x"
   ]
  },
  {
   "cell_type": "code",
   "execution_count": 8,
   "metadata": {
    "ExecuteTime": {
     "end_time": "2019-09-23T13:33:03.151770Z",
     "start_time": "2019-09-23T13:33:02.633926Z"
    }
   },
   "outputs": [
    {
     "name": "stdout",
     "output_type": "stream",
     "text": [
      "73624\n"
     ]
    }
   ],
   "source": [
    "data['Quote'] = data['Quote'].apply(clean)\n",
    "data.drop_duplicates(inplace=True)\n",
    "data.reset_index(drop=True, inplace=True)\n",
    "print(len(data))"
   ]
  },
  {
   "cell_type": "code",
   "execution_count": 9,
   "metadata": {
    "ExecuteTime": {
     "end_time": "2019-09-23T13:33:03.165731Z",
     "start_time": "2019-09-23T13:33:03.153763Z"
    }
   },
   "outputs": [
    {
     "data": {
      "text/html": [
       "<div>\n",
       "<style scoped>\n",
       "    .dataframe tbody tr th:only-of-type {\n",
       "        vertical-align: middle;\n",
       "    }\n",
       "\n",
       "    .dataframe tbody tr th {\n",
       "        vertical-align: top;\n",
       "    }\n",
       "\n",
       "    .dataframe thead th {\n",
       "        text-align: right;\n",
       "    }\n",
       "</style>\n",
       "<table border=\"1\" class=\"dataframe\">\n",
       "  <thead>\n",
       "    <tr style=\"text-align: right;\">\n",
       "      <th></th>\n",
       "      <th>Quote</th>\n",
       "    </tr>\n",
       "  </thead>\n",
       "  <tbody>\n",
       "    <tr>\n",
       "      <td>0</td>\n",
       "      <td>I love deadlines. I love the whooshing noise they make as they go by.</td>\n",
       "    </tr>\n",
       "    <tr>\n",
       "      <td>1</td>\n",
       "      <td>There is no greater agony than bearing an untold story inside you.</td>\n",
       "    </tr>\n",
       "    <tr>\n",
       "      <td>2</td>\n",
       "      <td>What really knocks me out is a book that, when you're all done reading it, you wish the author that wrote it was a terrific friend of yours and you could call him up on the phone whenever you felt like it. That doesn't happen much, though.</td>\n",
       "    </tr>\n",
       "    <tr>\n",
       "      <td>3</td>\n",
       "      <td>If there's a book that you want to read, but it hasn't been written yet, then you must write it.</td>\n",
       "    </tr>\n",
       "    <tr>\n",
       "      <td>4</td>\n",
       "      <td>There is nothing to writing. All you do is sit down at a typewriter and bleed.</td>\n",
       "    </tr>\n",
       "  </tbody>\n",
       "</table>\n",
       "</div>"
      ],
      "text/plain": [
       "                                                                                                                                                                                                                                             Quote\n",
       "0  I love deadlines. I love the whooshing noise they make as they go by.                                                                                                                                                                          \n",
       "1  There is no greater agony than bearing an untold story inside you.                                                                                                                                                                             \n",
       "2  What really knocks me out is a book that, when you're all done reading it, you wish the author that wrote it was a terrific friend of yours and you could call him up on the phone whenever you felt like it. That doesn't happen much, though.\n",
       "3  If there's a book that you want to read, but it hasn't been written yet, then you must write it.                                                                                                                                               \n",
       "4  There is nothing to writing. All you do is sit down at a typewriter and bleed.                                                                                                                                                                 "
      ]
     },
     "execution_count": 9,
     "metadata": {},
     "output_type": "execute_result"
    }
   ],
   "source": [
    "data.head()"
   ]
  },
  {
   "cell_type": "markdown",
   "metadata": {},
   "source": [
    "# More Data"
   ]
  },
  {
   "cell_type": "code",
   "execution_count": 10,
   "metadata": {
    "ExecuteTime": {
     "end_time": "2019-09-23T13:33:03.377101Z",
     "start_time": "2019-09-23T13:33:03.168723Z"
    }
   },
   "outputs": [
    {
     "name": "stdout",
     "output_type": "stream",
     "text": [
      "82204\n"
     ]
    }
   ],
   "source": [
    "for folderName, subfolders, filenames in os.walk('E:/Scrapped-Data/BrainyQuote/'):\n",
    "    for filename in filenames:\n",
    "        data = pd.concat([pd.read_csv('E:/Scrapped-Data/BrainyQuote/'+filename), data], axis=0)\n",
    "print(len(data))"
   ]
  },
  {
   "cell_type": "code",
   "execution_count": 11,
   "metadata": {
    "ExecuteTime": {
     "end_time": "2019-09-23T13:33:03.486807Z",
     "start_time": "2019-09-23T13:33:03.381091Z"
    }
   },
   "outputs": [
    {
     "name": "stdout",
     "output_type": "stream",
     "text": [
      "81722\n"
     ]
    }
   ],
   "source": [
    "data.drop_duplicates(inplace=True)\n",
    "data.reset_index(drop=True, inplace=True)\n",
    "print(len(data))"
   ]
  },
  {
   "cell_type": "markdown",
   "metadata": {},
   "source": [
    "**Preprocess**"
   ]
  },
  {
   "cell_type": "code",
   "execution_count": 12,
   "metadata": {
    "ExecuteTime": {
     "end_time": "2019-09-23T13:33:04.734559Z",
     "start_time": "2019-09-23T13:33:03.489805Z"
    }
   },
   "outputs": [],
   "source": [
    "data['Quote'] = data['Quote'].apply(lambda x: re.sub(r'[^\\w\\s]|_', '', x))\n",
    "data['Quote'] = data['Quote'].apply(lambda x : x + ' endquote')"
   ]
  },
  {
   "cell_type": "code",
   "execution_count": 13,
   "metadata": {
    "ExecuteTime": {
     "end_time": "2019-09-23T13:33:04.855149Z",
     "start_time": "2019-09-23T13:33:04.741451Z"
    }
   },
   "outputs": [
    {
     "name": "stdout",
     "output_type": "stream",
     "text": [
      "81577\n"
     ]
    }
   ],
   "source": [
    "data.drop_duplicates(inplace=True)\n",
    "data.reset_index(drop=True, inplace=True)\n",
    "print(len(data))"
   ]
  },
  {
   "cell_type": "markdown",
   "metadata": {},
   "source": [
    "# Training"
   ]
  },
  {
   "cell_type": "code",
   "execution_count": 14,
   "metadata": {
    "ExecuteTime": {
     "end_time": "2019-09-23T13:33:05.221179Z",
     "start_time": "2019-09-23T13:33:04.860133Z"
    }
   },
   "outputs": [],
   "source": [
    "vocab = data['Quote'].apply(lambda x: x.split()[0]).values.tolist()"
   ]
  },
  {
   "cell_type": "code",
   "execution_count": 15,
   "metadata": {
    "ExecuteTime": {
     "end_time": "2019-09-23T13:33:22.095025Z",
     "start_time": "2019-09-23T13:33:05.223163Z"
    }
   },
   "outputs": [],
   "source": [
    "n = 4\n",
    "model = defaultdict(lambda: defaultdict(lambda: 0))\n",
    "word_grams = []\n",
    "for i in range(len(data)):\n",
    "    word_grams += list(ngrams(data['Quote'][i].lower().split(), n+1, \n",
    "                              pad_left=True, pad_right=True,  left_pad_symbol='', right_pad_symbol=''))\n",
    "for w in word_grams:\n",
    "    model[w[:-1]][w[-1]] += 1\n",
    "for w1 in model:\n",
    "    total_count = float(sum(model[w1].values()))\n",
    "    for w2 in model[w1]:\n",
    "        model[w1][w2] /= total_count\n",
    "model = dict(model)        "
   ]
  },
  {
   "cell_type": "code",
   "execution_count": 16,
   "metadata": {
    "ExecuteTime": {
     "end_time": "2019-09-23T13:33:22.102008Z",
     "start_time": "2019-09-23T13:33:22.097019Z"
    }
   },
   "outputs": [],
   "source": [
    "q = lambda x : list(ngrams(x.lower().split(), n, pad_left=True, pad_right=False,  left_pad_symbol=''))[-1]"
   ]
  },
  {
   "cell_type": "code",
   "execution_count": 17,
   "metadata": {
    "ExecuteTime": {
     "end_time": "2019-09-23T13:33:22.233791Z",
     "start_time": "2019-09-23T13:33:22.104998Z"
    }
   },
   "outputs": [
    {
     "name": "stdout",
     "output_type": "stream",
     "text": [
      "Me: Leonard\n",
      "('', '', '', 'leonard')\n",
      "{'asks': 1.0}\n"
     ]
    }
   ],
   "source": [
    "text = str(random.choice(vocab))\n",
    "print('Me:', text)\n",
    "query = q(text)\n",
    "print(query)\n",
    "print(dict(model[query]))"
   ]
  },
  {
   "cell_type": "code",
   "execution_count": 18,
   "metadata": {
    "ExecuteTime": {
     "end_time": "2019-09-23T13:33:22.340537Z",
     "start_time": "2019-09-23T13:33:22.236783Z"
    }
   },
   "outputs": [
    {
     "name": "stdout",
     "output_type": "stream",
     "text": [
      "Me: Take\n",
      "Inspyrobot: Take away paradox from the thinker and you have a group of new guys every year\n"
     ]
    }
   ],
   "source": [
    "text = str(random.choice(vocab))\n",
    "print('Me:', text)\n",
    "sentence_finished = False\n",
    " \n",
    "while not sentence_finished:\n",
    "    r = random.random()\n",
    "    accumulator = .0\n",
    "    if model[q(text)].keys() is None or (len(model[q(text)].keys()) == 1 and list(model[q(text)].keys())[0] == ''):\n",
    "        break\n",
    "    for word in model[q(text)].keys():\n",
    "        accumulator = model[q(text)][word]\n",
    "        if word != 'endquote' and accumulator >= r:\n",
    "            text += ' '+word\n",
    "            break\n",
    "        if word == 'endquote':\n",
    "            sentence_finished = True\n",
    "print('Inspyrobot:', end = ' ')      \n",
    "print(' '.join([t for t in text.split() if t]))"
   ]
  },
  {
   "cell_type": "markdown",
   "metadata": {},
   "source": [
    "# Pickling"
   ]
  },
  {
   "cell_type": "code",
   "execution_count": 19,
   "metadata": {
    "ExecuteTime": {
     "end_time": "2019-09-23T13:33:39.418202Z",
     "start_time": "2019-09-23T13:33:22.343500Z"
    }
   },
   "outputs": [],
   "source": [
    "with open('E:/Models/Inspyrobot-Probabilistic-v2/model.json', 'w') as f:\n",
    "    k = model.keys() \n",
    "    v = model.values() \n",
    "    k1 = [str(i) for i in k]\n",
    "    json.dump(json.dumps(dict(zip(*[k1,v]))),f)     "
   ]
  },
  {
   "cell_type": "code",
   "execution_count": 20,
   "metadata": {
    "ExecuteTime": {
     "end_time": "2019-09-23T13:34:24.117078Z",
     "start_time": "2019-09-23T13:33:39.427213Z"
    }
   },
   "outputs": [],
   "source": [
    "with open('E:/Models/Inspyrobot-Probabilistic-v2/model.json', 'r') as f:\n",
    "    data = json.load(f)\n",
    "    dic = json.loads(data)\n",
    "    k = dic.keys() \n",
    "    v = dic.values() \n",
    "    k1 = [eval(i) for i in k] \n",
    "    model =  dict(zip(*[k1,v]))"
   ]
  },
  {
   "cell_type": "code",
   "execution_count": 21,
   "metadata": {
    "ExecuteTime": {
     "end_time": "2019-09-23T13:34:24.416407Z",
     "start_time": "2019-09-23T13:34:24.175288Z"
    }
   },
   "outputs": [],
   "source": [
    "with open('E:/Models/Inspyrobot-Probabilistic-v2/vocab.json', 'w') as f:\n",
    "    json.dump(json.dumps(vocab),f)  "
   ]
  },
  {
   "cell_type": "code",
   "execution_count": 22,
   "metadata": {
    "ExecuteTime": {
     "end_time": "2019-09-23T13:34:24.476174Z",
     "start_time": "2019-09-23T13:34:24.418311Z"
    }
   },
   "outputs": [],
   "source": [
    "with open('E:/Models/Inspyrobot-Probabilistic-v2/vocab.json', 'r') as f:\n",
    "    vocab = json.loads(json.load(f))"
   ]
  },
  {
   "cell_type": "code",
   "execution_count": 23,
   "metadata": {
    "ExecuteTime": {
     "end_time": "2019-09-23T13:34:24.570975Z",
     "start_time": "2019-09-23T13:34:24.479148Z"
    }
   },
   "outputs": [
    {
     "name": "stdout",
     "output_type": "stream",
     "text": [
      "Me: Patience\n",
      "Inspyrobot: Patience is a virtue for who knows its time\n"
     ]
    }
   ],
   "source": [
    "text = str(random.choice(vocab))\n",
    "print('Me:', text)\n",
    "sentence_finished = False\n",
    " \n",
    "while not sentence_finished:\n",
    "    r = random.random()\n",
    "    accumulator = .0\n",
    "    if model[q(text)].keys() is None or (len(model[q(text)].keys()) == 1 and list(model[q(text)].keys())[0] == ''):\n",
    "        break\n",
    "    for word in model[q(text)].keys():\n",
    "        accumulator = model[q(text)][word]\n",
    "        if word != 'endquote' and accumulator >= r:\n",
    "            text += ' '+word\n",
    "            break\n",
    "        if word == 'endquote':\n",
    "            sentence_finished = True\n",
    "print('Inspyrobot:', end = ' ')      \n",
    "print(' '.join([t for t in text.split() if t]))"
   ]
  },
  {
   "cell_type": "markdown",
   "metadata": {},
   "source": [
    "# Wrapper Functions"
   ]
  },
  {
   "cell_type": "code",
   "execution_count": 1,
   "metadata": {
    "ExecuteTime": {
     "end_time": "2019-09-23T13:35:19.972022Z",
     "start_time": "2019-09-23T13:35:05.726104Z"
    }
   },
   "outputs": [],
   "source": [
    "import json, random\n",
    "from nltk import ngrams\n",
    "\n",
    "n = 4\n",
    "q = lambda x : list(ngrams(x.lower().split(), n, pad_left=True, pad_right=False,  left_pad_symbol=''))[-1]\n",
    "\n",
    "def inspyre(text=''):\n",
    "    with open('E:/Models/Inspyrobot-Probabilistic-v2/model.json', 'r') as f:\n",
    "        data = json.load(f)\n",
    "        dic = json.loads(data)\n",
    "        k = dic.keys() \n",
    "        v = dic.values() \n",
    "        k1 = [eval(i) for i in k] \n",
    "        model =  dict(zip(*[k1,v]))\n",
    "    if text == '':\n",
    "        with open('E:/Models/Inspyrobot-Probabilistic-v2/vocab.json', 'r') as f:\n",
    "            vocab = json.loads(json.load(f))\n",
    "        text = str(random.choice(vocab))\n",
    "    sentence_finished = False\n",
    "    while not sentence_finished:\n",
    "        r = random.random()\n",
    "        accumulator = .0\n",
    "        if model[q(text)].keys() is None or (len(model[q(text)].keys()) == 1 and list(model[q(text)].keys())[0] == ''):\n",
    "            break\n",
    "        for word in model[q(text)].keys():\n",
    "            accumulator = model[q(text)][word]\n",
    "            if word != 'endquote' and accumulator >= r:\n",
    "                text += ' '+word\n",
    "                break\n",
    "            if word == 'endquote':\n",
    "                sentence_finished = True\n",
    "    print('Inspyrobot:', end = ' ')      \n",
    "    print(' '.join([t for t in text.split() if t]))"
   ]
  },
  {
   "cell_type": "code",
   "execution_count": 3,
   "metadata": {
    "ExecuteTime": {
     "end_time": "2019-09-23T13:37:12.177002Z",
     "start_time": "2019-09-23T13:36:28.872240Z"
    }
   },
   "outputs": [
    {
     "name": "stdout",
     "output_type": "stream",
     "text": [
      "Inspyrobot: And i thought about how all that mattered in all entirety and all i wanted and all i could see anything being worth anything for was being a writer\n"
     ]
    }
   ],
   "source": [
    "inspyre()"
   ]
  },
  {
   "cell_type": "code",
   "execution_count": null,
   "metadata": {},
   "outputs": [],
   "source": []
  }
 ],
 "metadata": {
  "kernelspec": {
   "display_name": "Python 3",
   "language": "python",
   "name": "python3"
  },
  "toc": {
   "base_numbering": 1,
   "nav_menu": {},
   "number_sections": true,
   "sideBar": true,
   "skip_h1_title": false,
   "title_cell": "Table of Contents",
   "title_sidebar": "Contents",
   "toc_cell": false,
   "toc_position": {},
   "toc_section_display": true,
   "toc_window_display": false
  },
  "varInspector": {
   "cols": {
    "lenName": 16,
    "lenType": 16,
    "lenVar": 40
   },
   "kernels_config": {
    "python": {
     "delete_cmd_postfix": "",
     "delete_cmd_prefix": "del ",
     "library": "var_list.py",
     "varRefreshCmd": "print(var_dic_list())"
    },
    "r": {
     "delete_cmd_postfix": ") ",
     "delete_cmd_prefix": "rm(",
     "library": "var_list.r",
     "varRefreshCmd": "cat(var_dic_list()) "
    }
   },
   "types_to_exclude": [
    "module",
    "function",
    "builtin_function_or_method",
    "instance",
    "_Feature"
   ],
   "window_display": false
  }
 },
 "nbformat": 4,
 "nbformat_minor": 2
}
