{
 "cells": [
  {
   "cell_type": "markdown",
   "metadata": {},
   "source": [
    "# Libraries"
   ]
  },
  {
   "cell_type": "code",
   "execution_count": 1,
   "metadata": {
    "ExecuteTime": {
     "end_time": "2019-09-23T17:30:51.016216Z",
     "start_time": "2019-09-23T17:30:49.666766Z"
    }
   },
   "outputs": [],
   "source": [
    "import numpy as np\n",
    "import pandas as pd"
   ]
  },
  {
   "cell_type": "code",
   "execution_count": 2,
   "metadata": {
    "ExecuteTime": {
     "end_time": "2019-09-23T17:30:52.567936Z",
     "start_time": "2019-09-23T17:30:51.021261Z"
    }
   },
   "outputs": [],
   "source": [
    "from nltk import ngrams\n",
    "from collections import defaultdict"
   ]
  },
  {
   "cell_type": "code",
   "execution_count": 3,
   "metadata": {
    "ExecuteTime": {
     "end_time": "2019-09-23T17:30:52.580846Z",
     "start_time": "2019-09-23T17:30:52.571869Z"
    }
   },
   "outputs": [],
   "source": [
    "import random\n",
    "import json\n",
    "import os"
   ]
  },
  {
   "cell_type": "code",
   "execution_count": 4,
   "metadata": {
    "ExecuteTime": {
     "end_time": "2019-09-23T17:30:52.959666Z",
     "start_time": "2019-09-23T17:30:52.585941Z"
    }
   },
   "outputs": [],
   "source": [
    "pd.options.display.max_colwidth = -1"
   ]
  },
  {
   "cell_type": "markdown",
   "metadata": {},
   "source": [
    "# Data"
   ]
  },
  {
   "cell_type": "code",
   "execution_count": 5,
   "metadata": {
    "ExecuteTime": {
     "end_time": "2019-09-23T17:30:54.616761Z",
     "start_time": "2019-09-23T17:30:52.963486Z"
    }
   },
   "outputs": [
    {
     "name": "stdout",
     "output_type": "stream",
     "text": [
      "92970\n"
     ]
    }
   ],
   "source": [
    "data = pd.DataFrame(columns=['Quote'])\n",
    "for folderName, subfolders, filenames in os.walk('E:/Scrapped-Data/Quotes-Goodreads/'):\n",
    "    for filename in filenames:\n",
    "        data = pd.concat([pd.read_csv('E:/Scrapped-Data/Quotes-Goodreads/'+filename), data], axis=0)\n",
    "print(len(data))"
   ]
  },
  {
   "cell_type": "code",
   "execution_count": 6,
   "metadata": {
    "ExecuteTime": {
     "end_time": "2019-09-23T17:30:55.762690Z",
     "start_time": "2019-09-23T17:30:54.621128Z"
    }
   },
   "outputs": [
    {
     "data": {
      "text/html": [
       "<div>\n",
       "<style scoped>\n",
       "    .dataframe tbody tr th:only-of-type {\n",
       "        vertical-align: middle;\n",
       "    }\n",
       "\n",
       "    .dataframe tbody tr th {\n",
       "        vertical-align: top;\n",
       "    }\n",
       "\n",
       "    .dataframe thead th {\n",
       "        text-align: right;\n",
       "    }\n",
       "</style>\n",
       "<table border=\"1\" class=\"dataframe\">\n",
       "  <thead>\n",
       "    <tr style=\"text-align: right;\">\n",
       "      <th></th>\n",
       "      <th>Quote</th>\n",
       "    </tr>\n",
       "  </thead>\n",
       "  <tbody>\n",
       "    <tr>\n",
       "      <td>0</td>\n",
       "      <td>“I love deadlines. I love the whooshing noise they make as they go by.” ― Douglas Adams, The Salmon of Doubt //</td>\n",
       "    </tr>\n",
       "    <tr>\n",
       "      <td>1</td>\n",
       "      <td>“There is no greater agony than bearing an untold story inside you.” ― Maya Angelou, I Know Why the Caged Bird Sings //</td>\n",
       "    </tr>\n",
       "    <tr>\n",
       "      <td>2</td>\n",
       "      <td>“What really knocks me out is a book that, when you're all done reading it, you wish the author that wrote it was a terrific friend of yours and you could call him up on the phone whenever you felt like it. That doesn't happen much, though.” ― J.D. Salinger, The Catcher in the Rye //</td>\n",
       "    </tr>\n",
       "    <tr>\n",
       "      <td>3</td>\n",
       "      <td>“If there's a book that you want to read, but it hasn't been written yet, then you must write it.” ― Toni Morrison</td>\n",
       "    </tr>\n",
       "    <tr>\n",
       "      <td>4</td>\n",
       "      <td>“There is nothing to writing. All you do is sit down at a typewriter and bleed.” ― Ernest Hemingway</td>\n",
       "    </tr>\n",
       "  </tbody>\n",
       "</table>\n",
       "</div>"
      ],
      "text/plain": [
       "                                                                                                                                                                                                                                                                                          Quote\n",
       "0  “I love deadlines. I love the whooshing noise they make as they go by.” ― Douglas Adams, The Salmon of Doubt //                                                                                                                                                                             \n",
       "1  “There is no greater agony than bearing an untold story inside you.” ― Maya Angelou, I Know Why the Caged Bird Sings //                                                                                                                                                                     \n",
       "2  “What really knocks me out is a book that, when you're all done reading it, you wish the author that wrote it was a terrific friend of yours and you could call him up on the phone whenever you felt like it. That doesn't happen much, though.” ― J.D. Salinger, The Catcher in the Rye //\n",
       "3  “If there's a book that you want to read, but it hasn't been written yet, then you must write it.” ― Toni Morrison                                                                                                                                                                          \n",
       "4  “There is nothing to writing. All you do is sit down at a typewriter and bleed.” ― Ernest Hemingway                                                                                                                                                                                         "
      ]
     },
     "execution_count": 6,
     "metadata": {},
     "output_type": "execute_result"
    }
   ],
   "source": [
    "data.head()"
   ]
  },
  {
   "cell_type": "markdown",
   "metadata": {},
   "source": [
    "# Cleaning"
   ]
  },
  {
   "cell_type": "code",
   "execution_count": 7,
   "metadata": {
    "ExecuteTime": {
     "end_time": "2019-09-23T17:30:55.874096Z",
     "start_time": "2019-09-23T17:30:55.771448Z"
    }
   },
   "outputs": [],
   "source": [
    "def clean(x):\n",
    "    x = x.split('―')[0]\n",
    "    x = x[1:-2]\n",
    "    return x+ ' endquote'"
   ]
  },
  {
   "cell_type": "code",
   "execution_count": 8,
   "metadata": {
    "ExecuteTime": {
     "end_time": "2019-09-23T17:30:56.679560Z",
     "start_time": "2019-09-23T17:30:55.880189Z"
    }
   },
   "outputs": [
    {
     "name": "stdout",
     "output_type": "stream",
     "text": [
      "73624\n"
     ]
    }
   ],
   "source": [
    "data['Quote'] = data['Quote'].apply(clean)\n",
    "data.drop_duplicates(inplace=True)\n",
    "data.reset_index(drop=True, inplace=True)\n",
    "print(len(data))"
   ]
  },
  {
   "cell_type": "code",
   "execution_count": 9,
   "metadata": {
    "ExecuteTime": {
     "end_time": "2019-09-23T17:30:56.734011Z",
     "start_time": "2019-09-23T17:30:56.693640Z"
    }
   },
   "outputs": [
    {
     "data": {
      "text/html": [
       "<div>\n",
       "<style scoped>\n",
       "    .dataframe tbody tr th:only-of-type {\n",
       "        vertical-align: middle;\n",
       "    }\n",
       "\n",
       "    .dataframe tbody tr th {\n",
       "        vertical-align: top;\n",
       "    }\n",
       "\n",
       "    .dataframe thead th {\n",
       "        text-align: right;\n",
       "    }\n",
       "</style>\n",
       "<table border=\"1\" class=\"dataframe\">\n",
       "  <thead>\n",
       "    <tr style=\"text-align: right;\">\n",
       "      <th></th>\n",
       "      <th>Quote</th>\n",
       "    </tr>\n",
       "  </thead>\n",
       "  <tbody>\n",
       "    <tr>\n",
       "      <td>0</td>\n",
       "      <td>I love deadlines. I love the whooshing noise they make as they go by. endquote</td>\n",
       "    </tr>\n",
       "    <tr>\n",
       "      <td>1</td>\n",
       "      <td>There is no greater agony than bearing an untold story inside you. endquote</td>\n",
       "    </tr>\n",
       "    <tr>\n",
       "      <td>2</td>\n",
       "      <td>What really knocks me out is a book that, when you're all done reading it, you wish the author that wrote it was a terrific friend of yours and you could call him up on the phone whenever you felt like it. That doesn't happen much, though. endquote</td>\n",
       "    </tr>\n",
       "    <tr>\n",
       "      <td>3</td>\n",
       "      <td>If there's a book that you want to read, but it hasn't been written yet, then you must write it. endquote</td>\n",
       "    </tr>\n",
       "    <tr>\n",
       "      <td>4</td>\n",
       "      <td>There is nothing to writing. All you do is sit down at a typewriter and bleed. endquote</td>\n",
       "    </tr>\n",
       "  </tbody>\n",
       "</table>\n",
       "</div>"
      ],
      "text/plain": [
       "                                                                                                                                                                                                                                                      Quote\n",
       "0  I love deadlines. I love the whooshing noise they make as they go by. endquote                                                                                                                                                                          \n",
       "1  There is no greater agony than bearing an untold story inside you. endquote                                                                                                                                                                             \n",
       "2  What really knocks me out is a book that, when you're all done reading it, you wish the author that wrote it was a terrific friend of yours and you could call him up on the phone whenever you felt like it. That doesn't happen much, though. endquote\n",
       "3  If there's a book that you want to read, but it hasn't been written yet, then you must write it. endquote                                                                                                                                               \n",
       "4  There is nothing to writing. All you do is sit down at a typewriter and bleed. endquote                                                                                                                                                                 "
      ]
     },
     "execution_count": 9,
     "metadata": {},
     "output_type": "execute_result"
    }
   ],
   "source": [
    "data.head()"
   ]
  },
  {
   "cell_type": "markdown",
   "metadata": {},
   "source": [
    "# Training"
   ]
  },
  {
   "cell_type": "code",
   "execution_count": 10,
   "metadata": {
    "ExecuteTime": {
     "end_time": "2019-09-23T17:30:57.700522Z",
     "start_time": "2019-09-23T17:30:56.738478Z"
    }
   },
   "outputs": [],
   "source": [
    "vocab = data['Quote'].apply(lambda x: x.split()[0]).values.tolist()"
   ]
  },
  {
   "cell_type": "code",
   "execution_count": 11,
   "metadata": {
    "ExecuteTime": {
     "end_time": "2019-09-23T17:32:06.895186Z",
     "start_time": "2019-09-23T17:30:57.702452Z"
    }
   },
   "outputs": [],
   "source": [
    "n = 4\n",
    "model = defaultdict(lambda: defaultdict(lambda: 0))\n",
    "word_grams = []\n",
    "for i in range(len(data)):\n",
    "    word_grams += list(ngrams(data['Quote'][i].lower().split(), n+1, \n",
    "                              pad_left=True, pad_right=True,  left_pad_symbol='', right_pad_symbol=''))\n",
    "for w in word_grams:\n",
    "    model[w[:-1]][w[-1]] += 1\n",
    "for w1 in model:\n",
    "    total_count = float(sum(model[w1].values()))\n",
    "    for w2 in model[w1]:\n",
    "        model[w1][w2] /= total_count\n",
    "model = dict(model)        "
   ]
  },
  {
   "cell_type": "code",
   "execution_count": 12,
   "metadata": {
    "ExecuteTime": {
     "end_time": "2019-09-23T17:32:07.795845Z",
     "start_time": "2019-09-23T17:32:07.418533Z"
    }
   },
   "outputs": [],
   "source": [
    "q = lambda x : list(ngrams(x.lower().split(), n, pad_left=True, pad_right=False,  left_pad_symbol=''))[-1]"
   ]
  },
  {
   "cell_type": "code",
   "execution_count": 13,
   "metadata": {
    "ExecuteTime": {
     "end_time": "2019-09-23T17:32:10.374005Z",
     "start_time": "2019-09-23T17:32:07.798759Z"
    }
   },
   "outputs": [
    {
     "name": "stdout",
     "output_type": "stream",
     "text": [
      "('', '', \"don't\", 'cry')\n",
      "{'mommy.\"': 0.3333333333333333, 'because': 0.3333333333333333, 'over': 0.3333333333333333}\n"
     ]
    }
   ],
   "source": [
    "query = \"Don't cry\"\n",
    "query = q(query)\n",
    "print(query)\n",
    "print(dict(model[query]))"
   ]
  },
  {
   "cell_type": "code",
   "execution_count": 14,
   "metadata": {
    "ExecuteTime": {
     "end_time": "2019-09-23T17:32:11.497573Z",
     "start_time": "2019-09-23T17:32:10.385970Z"
    }
   },
   "outputs": [
    {
     "name": "stdout",
     "output_type": "stream",
     "text": [
      "Me: I\n",
      "Inspyrobot: I love you too, i wanted to say with as much hurtful sarcasm as i could muster, but she hadn't seen me, and i kept quiet. i did love her, of course, but mostly just because loving your mother is mandatory, not because she's someone i think i'd like very much if i met her walking down the street. which she wouldn't be anyway; walking is for poor people\n"
     ]
    }
   ],
   "source": [
    "text = str(random.choice(vocab))\n",
    "print('Me:', text)\n",
    "sentence_finished = False\n",
    " \n",
    "while not sentence_finished:\n",
    "    r = random.random()\n",
    "    accumulator = .0\n",
    "    if len(model[q(text)].keys()) == 0:\n",
    "        break\n",
    "    for word in model[q(text)].keys():\n",
    "        accumulator = model[q(text)][word]\n",
    "        if accumulator >= r and word != 'endquote':\n",
    "            text += ' '+word\n",
    "            break\n",
    "        if word == 'endquote':\n",
    "            sentence_finished = True\n",
    "print('Inspyrobot:', end = ' ')      \n",
    "print(' '.join([t for t in text.split() if t]))"
   ]
  },
  {
   "cell_type": "markdown",
   "metadata": {},
   "source": [
    "# Pickling"
   ]
  },
  {
   "cell_type": "code",
   "execution_count": 15,
   "metadata": {
    "ExecuteTime": {
     "end_time": "2019-09-23T17:32:14.302460Z",
     "start_time": "2019-09-23T17:32:11.505952Z"
    }
   },
   "outputs": [],
   "source": [
    "DIR = 'E:/Models/Inspyrobot-Probabilistic-v1'\n",
    "os.mkdir(DIR)"
   ]
  },
  {
   "cell_type": "code",
   "execution_count": 16,
   "metadata": {
    "ExecuteTime": {
     "end_time": "2019-09-23T17:33:23.856556Z",
     "start_time": "2019-09-23T17:32:14.309475Z"
    }
   },
   "outputs": [],
   "source": [
    "with open(f'{DIR}/model.json', 'w') as f:\n",
    "    k = model.keys() \n",
    "    v = model.values() \n",
    "    k1 = [str(i) for i in k]\n",
    "    json.dump(json.dumps(dict(zip(*[k1,v]))),f)     "
   ]
  },
  {
   "cell_type": "code",
   "execution_count": 17,
   "metadata": {
    "ExecuteTime": {
     "end_time": "2019-09-23T17:34:41.042557Z",
     "start_time": "2019-09-23T17:33:25.124325Z"
    }
   },
   "outputs": [],
   "source": [
    "with open(f'{DIR}/model.json', 'r') as f:\n",
    "    data = json.load(f)\n",
    "    dic = json.loads(data)\n",
    "    k = dic.keys() \n",
    "    v = dic.values() \n",
    "    k1 = [eval(i) for i in k] \n",
    "    model =  dict(zip(*[k1,v]))"
   ]
  },
  {
   "cell_type": "code",
   "execution_count": 18,
   "metadata": {
    "ExecuteTime": {
     "end_time": "2019-09-23T17:34:43.223842Z",
     "start_time": "2019-09-23T17:34:41.868806Z"
    }
   },
   "outputs": [],
   "source": [
    "with open(f'{DIR}/vocab.json', 'w') as f:\n",
    "    json.dump(json.dumps(vocab),f)  "
   ]
  },
  {
   "cell_type": "code",
   "execution_count": 19,
   "metadata": {
    "ExecuteTime": {
     "end_time": "2019-09-23T17:34:43.402072Z",
     "start_time": "2019-09-23T17:34:43.233723Z"
    }
   },
   "outputs": [],
   "source": [
    "with open(f'{DIR}/vocab.json', 'r') as f:\n",
    "    vocab = json.loads(json.load(f))"
   ]
  },
  {
   "cell_type": "code",
   "execution_count": 20,
   "metadata": {
    "ExecuteTime": {
     "end_time": "2019-09-23T17:34:43.892084Z",
     "start_time": "2019-09-23T17:34:43.403978Z"
    }
   },
   "outputs": [
    {
     "name": "stdout",
     "output_type": "stream",
     "text": [
      "Me: Never\n",
      "Inspyrobot: Never let your sense of morals prevent you from doing what is right.\n"
     ]
    }
   ],
   "source": [
    "text = str(random.choice(vocab))\n",
    "print('Me:', text)\n",
    "sentence_finished = False\n",
    " \n",
    "while not sentence_finished:\n",
    "    r = random.random()\n",
    "    accumulator = .0\n",
    "    if len(model[q(text)].keys()) == 0:\n",
    "        break\n",
    "    for word in model[q(text)].keys():\n",
    "        accumulator = model[q(text)][word]\n",
    "        if accumulator >= r and word != 'endquote':\n",
    "            text += ' '+word\n",
    "            break\n",
    "        if word == 'endquote':\n",
    "            sentence_finished = True\n",
    "print('Inspyrobot:', end = ' ')      \n",
    "print(' '.join([t for t in text.split() if t]))"
   ]
  },
  {
   "cell_type": "markdown",
   "metadata": {},
   "source": [
    "# Wrapper Functions"
   ]
  },
  {
   "cell_type": "code",
   "execution_count": 21,
   "metadata": {
    "ExecuteTime": {
     "end_time": "2019-09-23T17:34:44.447667Z",
     "start_time": "2019-09-23T17:34:43.901014Z"
    }
   },
   "outputs": [],
   "source": [
    "import json, random\n",
    "from nltk import ngrams\n",
    "\n",
    "DIR = 'E:/Models/Inspyrobot-Probabilistic-v1's\n",
    "n = 4\n",
    "q = lambda x : list(ngrams(x.lower().split(), n, pad_left=True, pad_right=False,  left_pad_symbol=''))[-1]\n",
    "\n",
    "def inspyre(text=''):\n",
    "    with open(f'{DIR}/model.json', 'r') as f:\n",
    "        data = json.load(f)\n",
    "        dic = json.loads(data)\n",
    "        k = dic.keys() \n",
    "        v = dic.values() \n",
    "        k1 = [eval(i) for i in k] \n",
    "        model =  dict(zip(*[k1,v]))\n",
    "    if text == '':\n",
    "        with open(f'{DIR}/vocab.json', 'r') as f:\n",
    "            vocab = json.loads(json.load(f))\n",
    "        text = str(random.choice(vocab))\n",
    "    sentence_finished = False    \n",
    "    while not sentence_finished:\n",
    "        r = random.random()\n",
    "        accumulator = .0\n",
    "        if len(model[q(text)].keys()) == 0:\n",
    "            break\n",
    "        for word in model[q(text)].keys():\n",
    "            accumulator = model[q(text)][word]\n",
    "            if accumulator >= r and word != 'endquote':\n",
    "                text += ' '+word\n",
    "                break\n",
    "            if word == 'endquote':\n",
    "                sentence_finished = True\n",
    "    print('Inspyrobot:', end = ' ')      \n",
    "    print(' '.join([t for t in text.split() if t]))"
   ]
  },
  {
   "cell_type": "code",
   "execution_count": 22,
   "metadata": {
    "ExecuteTime": {
     "end_time": "2019-09-23T17:35:28.921939Z",
     "start_time": "2019-09-23T17:34:44.647957Z"
    }
   },
   "outputs": [
    {
     "name": "stdout",
     "output_type": "stream",
     "text": [
      "Inspyrobot: I'm not a writer. ernest hemingway was a writer. i just have a vivid imagination and type 90 wpm.\n"
     ]
    }
   ],
   "source": [
    "inspyre(\"I'm\")"
   ]
  },
  {
   "cell_type": "code",
   "execution_count": null,
   "metadata": {},
   "outputs": [],
   "source": []
  }
 ],
 "metadata": {
  "kernelspec": {
   "display_name": "Python 3",
   "language": "python",
   "name": "python3"
  },
  "language_info": {
   "codemirror_mode": {
    "name": "ipython",
    "version": 3
   },
   "file_extension": ".py",
   "mimetype": "text/x-python",
   "name": "python",
   "nbconvert_exporter": "python",
   "pygments_lexer": "ipython3",
   "version": "3.7.3"
  },
  "toc": {
   "base_numbering": 1,
   "nav_menu": {},
   "number_sections": true,
   "sideBar": true,
   "skip_h1_title": false,
   "title_cell": "Table of Contents",
   "title_sidebar": "Contents",
   "toc_cell": false,
   "toc_position": {},
   "toc_section_display": true,
   "toc_window_display": false
  },
  "varInspector": {
   "cols": {
    "lenName": 16,
    "lenType": 16,
    "lenVar": 40
   },
   "kernels_config": {
    "python": {
     "delete_cmd_postfix": "",
     "delete_cmd_prefix": "del ",
     "library": "var_list.py",
     "varRefreshCmd": "print(var_dic_list())"
    },
    "r": {
     "delete_cmd_postfix": ") ",
     "delete_cmd_prefix": "rm(",
     "library": "var_list.r",
     "varRefreshCmd": "cat(var_dic_list()) "
    }
   },
   "types_to_exclude": [
    "module",
    "function",
    "builtin_function_or_method",
    "instance",
    "_Feature"
   ],
   "window_display": false
  }
 },
 "nbformat": 4,
 "nbformat_minor": 2
}
